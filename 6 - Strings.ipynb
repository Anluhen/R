{
 "cells": [
  {
   "cell_type": "code",
   "execution_count": 1,
   "id": "cfb4fa1b",
   "metadata": {},
   "outputs": [
    {
     "data": {
      "text/html": [
       "'Invista 30% do seu salário'"
      ],
      "text/latex": [
       "'Invista 30\\% do seu salário'"
      ],
      "text/markdown": [
       "'Invista 30% do seu salário'"
      ],
      "text/plain": [
       "[1] \"Invista 30% do seu salário\""
      ]
     },
     "metadata": {},
     "output_type": "display_data"
    }
   ],
   "source": [
    "#Isto é uma string\n",
    "\n",
    "\"Invista 30% do seu salário\""
   ]
  },
  {
   "cell_type": "code",
   "execution_count": 2,
   "id": "916c9d8a",
   "metadata": {},
   "outputs": [
    {
     "data": {
      "text/html": [
       "'Invista 30% do seu salário'"
      ],
      "text/latex": [
       "'Invista 30\\% do seu salário'"
      ],
      "text/markdown": [
       "'Invista 30% do seu salário'"
      ],
      "text/plain": [
       "[1] \"Invista 30% do seu salário\""
      ]
     },
     "metadata": {},
     "output_type": "display_data"
    }
   ],
   "source": [
    "dica_invest <- \"Invista 30% do seu salário\"\n",
    "dica_invest"
   ]
  },
  {
   "cell_type": "code",
   "execution_count": 3,
   "id": "795e11bb",
   "metadata": {},
   "outputs": [
    {
     "data": {
      "text/html": [
       "'character'"
      ],
      "text/latex": [
       "'character'"
      ],
      "text/markdown": [
       "'character'"
      ],
      "text/plain": [
       "[1] \"character\""
      ]
     },
     "metadata": {},
     "output_type": "display_data"
    }
   ],
   "source": [
    "class(dica_invest)"
   ]
  },
  {
   "cell_type": "code",
   "execution_count": 4,
   "id": "7ec28b30",
   "metadata": {},
   "outputs": [
    {
     "data": {
      "text/html": [
       "1"
      ],
      "text/latex": [
       "1"
      ],
      "text/markdown": [
       "1"
      ],
      "text/plain": [
       "[1] 1"
      ]
     },
     "metadata": {},
     "output_type": "display_data"
    }
   ],
   "source": [
    "length(dica_invest)"
   ]
  },
  {
   "cell_type": "code",
   "execution_count": 6,
   "id": "150fdc45",
   "metadata": {},
   "outputs": [
    {
     "data": {
      "text/html": [
       "<ol>\n",
       "\t<li><ol class=list-inline>\n",
       "\t<li>'Invista'</li>\n",
       "\t<li>'30%'</li>\n",
       "\t<li>'do'</li>\n",
       "\t<li>'seu'</li>\n",
       "\t<li>'salário'</li>\n",
       "</ol>\n",
       "</li>\n",
       "</ol>\n"
      ],
      "text/latex": [
       "\\begin{enumerate}\n",
       "\\item \\begin{enumerate*}\n",
       "\\item 'Invista'\n",
       "\\item '30\\%'\n",
       "\\item 'do'\n",
       "\\item 'seu'\n",
       "\\item 'salário'\n",
       "\\end{enumerate*}\n",
       "\n",
       "\\end{enumerate}\n"
      ],
      "text/markdown": [
       "1. 1. 'Invista'\n",
       "2. '30%'\n",
       "3. 'do'\n",
       "4. 'seu'\n",
       "5. 'salário'\n",
       "\n",
       "\n",
       "\n",
       "\n",
       "\n"
      ],
      "text/plain": [
       "[[1]]\n",
       "[1] \"Invista\" \"30%\"     \"do\"      \"seu\"     \"salário\"\n"
      ]
     },
     "metadata": {},
     "output_type": "display_data"
    }
   ],
   "source": [
    "strsplit(dica_invest, \" \")"
   ]
  },
  {
   "cell_type": "code",
   "execution_count": 7,
   "id": "e8375bca",
   "metadata": {},
   "outputs": [
    {
     "data": {
      "text/html": [
       "<ol class=list-inline>\n",
       "\t<li>'Invista'</li>\n",
       "\t<li>'30%'</li>\n",
       "\t<li>'do'</li>\n",
       "\t<li>'seu'</li>\n",
       "\t<li>'salário'</li>\n",
       "</ol>\n"
      ],
      "text/latex": [
       "\\begin{enumerate*}\n",
       "\\item 'Invista'\n",
       "\\item '30\\%'\n",
       "\\item 'do'\n",
       "\\item 'seu'\n",
       "\\item 'salário'\n",
       "\\end{enumerate*}\n"
      ],
      "text/markdown": [
       "1. 'Invista'\n",
       "2. '30%'\n",
       "3. 'do'\n",
       "4. 'seu'\n",
       "5. 'salário'\n",
       "\n",
       "\n"
      ],
      "text/plain": [
       "[1] \"Invista\" \"30%\"     \"do\"      \"seu\"     \"salário\""
      ]
     },
     "metadata": {},
     "output_type": "display_data"
    }
   ],
   "source": [
    "unlist(strsplit(dica_invest, \" \"))"
   ]
  },
  {
   "cell_type": "code",
   "execution_count": 8,
   "id": "1a4dd725",
   "metadata": {},
   "outputs": [
    {
     "data": {
      "text/html": [
       "5"
      ],
      "text/latex": [
       "5"
      ],
      "text/markdown": [
       "5"
      ],
      "text/plain": [
       "[1] 5"
      ]
     },
     "metadata": {},
     "output_type": "display_data"
    }
   ],
   "source": [
    "length(unlist(strsplit(dica_invest, \" \")))"
   ]
  },
  {
   "cell_type": "code",
   "execution_count": 9,
   "id": "abafd0f5",
   "metadata": {},
   "outputs": [
    {
     "data": {
      "text/html": [
       "1"
      ],
      "text/latex": [
       "1"
      ],
      "text/markdown": [
       "1"
      ],
      "text/plain": [
       "[1] 1"
      ]
     },
     "metadata": {},
     "output_type": "display_data"
    }
   ],
   "source": [
    "length(strsplit(dica_invest, \" \"))"
   ]
  },
  {
   "cell_type": "code",
   "execution_count": 12,
   "id": "a9cc2342",
   "metadata": {},
   "outputs": [
    {
     "name": "stdout",
     "output_type": "stream",
     "text": [
      "[1] 51\n"
     ]
    }
   ],
   "source": [
    "#Contando o numero de caracteres\n",
    "letras <- nchar(\"O melhor amido da vida e o tempo, ele diz a verdade\")\n",
    "\n",
    "print(letras)"
   ]
  },
  {
   "cell_type": "code",
   "execution_count": 13,
   "id": "726d255c",
   "metadata": {},
   "outputs": [
    {
     "data": {
      "text/html": [
       "<ol class=list-inline>\n",
       "\t<li>'Um'</li>\n",
       "\t<li>'Dois'</li>\n",
       "\t<li>'Italia'</li>\n",
       "</ol>\n"
      ],
      "text/latex": [
       "\\begin{enumerate*}\n",
       "\\item 'Um'\n",
       "\\item 'Dois'\n",
       "\\item 'Italia'\n",
       "\\end{enumerate*}\n"
      ],
      "text/markdown": [
       "1. 'Um'\n",
       "2. 'Dois'\n",
       "3. 'Italia'\n",
       "\n",
       "\n"
      ],
      "text/plain": [
       "[1] \"Um\"     \"Dois\"   \"Italia\""
      ]
     },
     "metadata": {},
     "output_type": "display_data"
    }
   ],
   "source": [
    "#vetor de caracteres\n",
    "\n",
    "string_vector <- c(\"Um\", \"Dois\", \"Italia\")\n",
    "string_vector"
   ]
  },
  {
   "cell_type": "code",
   "execution_count": 14,
   "id": "7ca8c2ca",
   "metadata": {},
   "outputs": [
    {
     "name": "stdout",
     "output_type": "stream",
     "text": [
      "[1] \"Life always finds a way\"\n",
      "[1] \"Life-always-finds a way\"\n",
      "[1] \"Lifealwaysfinds a way\"\n"
     ]
    }
   ],
   "source": [
    "#Formatando o seu print com a função Paste\n",
    "\n",
    "s1 <- \"Life\"\n",
    "s2 <- \"always\"\n",
    "s3 <- \"finds a way\"\n",
    "\n",
    "print(paste(s1,s2,s3))\n",
    "print(paste(s1,s2,s3, sep = \"-\"))\n",
    "print(paste(s1,s2,s3, sep = \"\", collapse = \"\"))\n"
   ]
  },
  {
   "cell_type": "code",
   "execution_count": 15,
   "id": "988f894f",
   "metadata": {},
   "outputs": [
    {
     "data": {
      "text/html": [
       "'NÃO POUPEI DESPESAS'"
      ],
      "text/latex": [
       "'NÃO POUPEI DESPESAS'"
      ],
      "text/markdown": [
       "'NÃO POUPEI DESPESAS'"
      ],
      "text/plain": [
       "[1] \"NÃO POUPEI DESPESAS\""
      ]
     },
     "metadata": {},
     "output_type": "display_data"
    },
    {
     "data": {
      "text/html": [
       "'não poupei despesas'"
      ],
      "text/latex": [
       "'não poupei despesas'"
      ],
      "text/markdown": [
       "'não poupei despesas'"
      ],
      "text/plain": [
       "[1] \"não poupei despesas\""
      ]
     },
     "metadata": {},
     "output_type": "display_data"
    }
   ],
   "source": [
    "#Maiusculas e minúsculas\n",
    "case <- \"Não poupei despesas\"\n",
    "\n",
    "toupper(case)\n",
    "tolower(case)"
   ]
  },
  {
   "cell_type": "code",
   "execution_count": 16,
   "id": "035ebaa8",
   "metadata": {},
   "outputs": [
    {
     "data": {
      "text/html": [
       "'poupei'"
      ],
      "text/latex": [
       "'poupei'"
      ],
      "text/markdown": [
       "'poupei'"
      ],
      "text/plain": [
       "[1] \"poupei\""
      ]
     },
     "metadata": {},
     "output_type": "display_data"
    }
   ],
   "source": [
    "substring(case,5,10)"
   ]
  },
  {
   "cell_type": "code",
   "execution_count": null,
   "id": "455c4f68",
   "metadata": {},
   "outputs": [],
   "source": []
  }
 ],
 "metadata": {
  "kernelspec": {
   "display_name": "R",
   "language": "R",
   "name": "ir"
  },
  "language_info": {
   "codemirror_mode": "r",
   "file_extension": ".r",
   "mimetype": "text/x-r-source",
   "name": "R",
   "pygments_lexer": "r",
   "version": "3.6.1"
  }
 },
 "nbformat": 4,
 "nbformat_minor": 5
}
