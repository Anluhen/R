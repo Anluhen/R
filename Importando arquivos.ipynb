{
 "cells": [
  {
   "cell_type": "code",
   "execution_count": 1,
   "id": "6edafb83",
   "metadata": {},
   "outputs": [
    {
     "data": {
      "text/html": [
       "'C:/Users/andre/Google Drive/Work/OMNP/R'"
      ],
      "text/latex": [
       "'C:/Users/andre/Google Drive/Work/OMNP/R'"
      ],
      "text/markdown": [
       "'C:/Users/andre/Google Drive/Work/OMNP/R'"
      ],
      "text/plain": [
       "[1] \"C:/Users/andre/Google Drive/Work/OMNP/R\""
      ]
     },
     "metadata": {},
     "output_type": "display_data"
    }
   ],
   "source": [
    "#Mostra o diretorio atual\n",
    "getwd()"
   ]
  },
  {
   "cell_type": "code",
   "execution_count": 3,
   "id": "7b5b7160",
   "metadata": {},
   "outputs": [],
   "source": [
    "setwd(\"C:/Users/andre/Google Drive/Work/OMNP/R/Dados\")"
   ]
  },
  {
   "cell_type": "code",
   "execution_count": 4,
   "id": "e22dff45",
   "metadata": {},
   "outputs": [
    {
     "data": {
      "text/html": [
       "'C:/Users/andre/Google Drive/Work/OMNP/R/Dados'"
      ],
      "text/latex": [
       "'C:/Users/andre/Google Drive/Work/OMNP/R/Dados'"
      ],
      "text/markdown": [
       "'C:/Users/andre/Google Drive/Work/OMNP/R/Dados'"
      ],
      "text/plain": [
       "[1] \"C:/Users/andre/Google Drive/Work/OMNP/R/Dados\""
      ]
     },
     "metadata": {},
     "output_type": "display_data"
    }
   ],
   "source": [
    "getwd()"
   ]
  },
  {
   "cell_type": "code",
   "execution_count": 7,
   "id": "a3d74877",
   "metadata": {},
   "outputs": [],
   "source": [
    "#Importando CSV\n",
    "\n",
    "base_dados <- read.table(\"eurusd_h1.csv\", header = T, sep = \";\")"
   ]
  },
  {
   "cell_type": "code",
   "execution_count": 8,
   "id": "ac9fa64d",
   "metadata": {},
   "outputs": [
    {
     "data": {
      "text/html": [
       "<table>\n",
       "<thead><tr><th scope=col>Date</th><th scope=col>Open</th><th scope=col>High</th><th scope=col>Low</th><th scope=col>Close</th></tr></thead>\n",
       "<tbody>\n",
       "\t<tr><td>01/01/2015 00:00</td><td>1.20969         </td><td>1.20976         </td><td>1.20969         </td><td>1.20976         </td></tr>\n",
       "\t<tr><td>02/01/2015 00:00</td><td>1.21038         </td><td>1.21073         </td><td>1.20999         </td><td>1.21014         </td></tr>\n",
       "\t<tr><td>02/01/2015 01:00</td><td>1.21015         </td><td>1.21020         </td><td>1.20783         </td><td>1.20869         </td></tr>\n",
       "\t<tr><td>02/01/2015 02:00</td><td>1.20871         </td><td>1.20890         </td><td>1.20668         </td><td>1.20674         </td></tr>\n",
       "\t<tr><td>02/01/2015 03:00</td><td>1.20675         </td><td>1.20723         </td><td>1.20519         </td><td>1.20670         </td></tr>\n",
       "\t<tr><td>02/01/2015 04:00</td><td>1.20670         </td><td>1.20687         </td><td>1.20476         </td><td>1.20588         </td></tr>\n",
       "</tbody>\n",
       "</table>\n"
      ],
      "text/latex": [
       "\\begin{tabular}{r|lllll}\n",
       " Date & Open & High & Low & Close\\\\\n",
       "\\hline\n",
       "\t 01/01/2015 00:00 & 1.20969          & 1.20976          & 1.20969          & 1.20976         \\\\\n",
       "\t 02/01/2015 00:00 & 1.21038          & 1.21073          & 1.20999          & 1.21014         \\\\\n",
       "\t 02/01/2015 01:00 & 1.21015          & 1.21020          & 1.20783          & 1.20869         \\\\\n",
       "\t 02/01/2015 02:00 & 1.20871          & 1.20890          & 1.20668          & 1.20674         \\\\\n",
       "\t 02/01/2015 03:00 & 1.20675          & 1.20723          & 1.20519          & 1.20670         \\\\\n",
       "\t 02/01/2015 04:00 & 1.20670          & 1.20687          & 1.20476          & 1.20588         \\\\\n",
       "\\end{tabular}\n"
      ],
      "text/markdown": [
       "\n",
       "| Date | Open | High | Low | Close |\n",
       "|---|---|---|---|---|\n",
       "| 01/01/2015 00:00 | 1.20969          | 1.20976          | 1.20969          | 1.20976          |\n",
       "| 02/01/2015 00:00 | 1.21038          | 1.21073          | 1.20999          | 1.21014          |\n",
       "| 02/01/2015 01:00 | 1.21015          | 1.21020          | 1.20783          | 1.20869          |\n",
       "| 02/01/2015 02:00 | 1.20871          | 1.20890          | 1.20668          | 1.20674          |\n",
       "| 02/01/2015 03:00 | 1.20675          | 1.20723          | 1.20519          | 1.20670          |\n",
       "| 02/01/2015 04:00 | 1.20670          | 1.20687          | 1.20476          | 1.20588          |\n",
       "\n"
      ],
      "text/plain": [
       "  Date             Open    High    Low     Close  \n",
       "1 01/01/2015 00:00 1.20969 1.20976 1.20969 1.20976\n",
       "2 02/01/2015 00:00 1.21038 1.21073 1.20999 1.21014\n",
       "3 02/01/2015 01:00 1.21015 1.21020 1.20783 1.20869\n",
       "4 02/01/2015 02:00 1.20871 1.20890 1.20668 1.20674\n",
       "5 02/01/2015 03:00 1.20675 1.20723 1.20519 1.20670\n",
       "6 02/01/2015 04:00 1.20670 1.20687 1.20476 1.20588"
      ]
     },
     "metadata": {},
     "output_type": "display_data"
    }
   ],
   "source": [
    "head(base_dados)"
   ]
  },
  {
   "cell_type": "code",
   "execution_count": 9,
   "id": "24563d24",
   "metadata": {},
   "outputs": [
    {
     "data": {
      "text/html": [
       "<ol class=list-inline>\n",
       "\t<li>22245</li>\n",
       "\t<li>5</li>\n",
       "</ol>\n"
      ],
      "text/latex": [
       "\\begin{enumerate*}\n",
       "\\item 22245\n",
       "\\item 5\n",
       "\\end{enumerate*}\n"
      ],
      "text/markdown": [
       "1. 22245\n",
       "2. 5\n",
       "\n",
       "\n"
      ],
      "text/plain": [
       "[1] 22245     5"
      ]
     },
     "metadata": {},
     "output_type": "display_data"
    }
   ],
   "source": [
    "dim(base_dados)"
   ]
  },
  {
   "cell_type": "code",
   "execution_count": 10,
   "id": "d14106bb",
   "metadata": {},
   "outputs": [],
   "source": [
    "base_dados2 <- read.csv2(\"eurusd_h1.csv\")"
   ]
  },
  {
   "cell_type": "code",
   "execution_count": 11,
   "id": "fd0e8ad3",
   "metadata": {},
   "outputs": [
    {
     "data": {
      "text/html": [
       "<table>\n",
       "<thead><tr><th scope=col>Date</th><th scope=col>Open</th><th scope=col>High</th><th scope=col>Low</th><th scope=col>Close</th></tr></thead>\n",
       "<tbody>\n",
       "\t<tr><td>01/01/2015 00:00</td><td>1.20969         </td><td>1.20976         </td><td>1.20969         </td><td>1.20976         </td></tr>\n",
       "\t<tr><td>02/01/2015 00:00</td><td>1.21038         </td><td>1.21073         </td><td>1.20999         </td><td>1.21014         </td></tr>\n",
       "\t<tr><td>02/01/2015 01:00</td><td>1.21015         </td><td>1.2102          </td><td>1.20783         </td><td>1.20869         </td></tr>\n",
       "\t<tr><td>02/01/2015 02:00</td><td>1.20871         </td><td>1.2089          </td><td>1.20668         </td><td>1.20674         </td></tr>\n",
       "\t<tr><td>02/01/2015 03:00</td><td>1.20675         </td><td>1.20723         </td><td>1.20519         </td><td>1.2067          </td></tr>\n",
       "\t<tr><td>02/01/2015 04:00</td><td>1.2067          </td><td>1.20687         </td><td>1.20476         </td><td>1.20588         </td></tr>\n",
       "</tbody>\n",
       "</table>\n"
      ],
      "text/latex": [
       "\\begin{tabular}{r|lllll}\n",
       " Date & Open & High & Low & Close\\\\\n",
       "\\hline\n",
       "\t 01/01/2015 00:00 & 1.20969          & 1.20976          & 1.20969          & 1.20976         \\\\\n",
       "\t 02/01/2015 00:00 & 1.21038          & 1.21073          & 1.20999          & 1.21014         \\\\\n",
       "\t 02/01/2015 01:00 & 1.21015          & 1.2102           & 1.20783          & 1.20869         \\\\\n",
       "\t 02/01/2015 02:00 & 1.20871          & 1.2089           & 1.20668          & 1.20674         \\\\\n",
       "\t 02/01/2015 03:00 & 1.20675          & 1.20723          & 1.20519          & 1.2067          \\\\\n",
       "\t 02/01/2015 04:00 & 1.2067           & 1.20687          & 1.20476          & 1.20588         \\\\\n",
       "\\end{tabular}\n"
      ],
      "text/markdown": [
       "\n",
       "| Date | Open | High | Low | Close |\n",
       "|---|---|---|---|---|\n",
       "| 01/01/2015 00:00 | 1.20969          | 1.20976          | 1.20969          | 1.20976          |\n",
       "| 02/01/2015 00:00 | 1.21038          | 1.21073          | 1.20999          | 1.21014          |\n",
       "| 02/01/2015 01:00 | 1.21015          | 1.2102           | 1.20783          | 1.20869          |\n",
       "| 02/01/2015 02:00 | 1.20871          | 1.2089           | 1.20668          | 1.20674          |\n",
       "| 02/01/2015 03:00 | 1.20675          | 1.20723          | 1.20519          | 1.2067           |\n",
       "| 02/01/2015 04:00 | 1.2067           | 1.20687          | 1.20476          | 1.20588          |\n",
       "\n"
      ],
      "text/plain": [
       "  Date             Open    High    Low     Close  \n",
       "1 01/01/2015 00:00 1.20969 1.20976 1.20969 1.20976\n",
       "2 02/01/2015 00:00 1.21038 1.21073 1.20999 1.21014\n",
       "3 02/01/2015 01:00 1.21015 1.2102  1.20783 1.20869\n",
       "4 02/01/2015 02:00 1.20871 1.2089  1.20668 1.20674\n",
       "5 02/01/2015 03:00 1.20675 1.20723 1.20519 1.2067 \n",
       "6 02/01/2015 04:00 1.2067  1.20687 1.20476 1.20588"
      ]
     },
     "metadata": {},
     "output_type": "display_data"
    }
   ],
   "source": [
    "head(base_dados2)"
   ]
  },
  {
   "cell_type": "code",
   "execution_count": 12,
   "id": "c9d8e94a",
   "metadata": {},
   "outputs": [
    {
     "name": "stdout",
     "output_type": "stream",
     "text": [
      "'data.frame':\t22245 obs. of  5 variables:\n",
      " $ Date : Factor w/ 22245 levels \"01/01/2015 00:00\",..: 1 673 674 675 676 677 678 679 680 681 ...\n",
      " $ Open : Factor w/ 12002 levels \"1.03558\",\"1.03692\",..: 10680 10685 10683 10675 10637 10636 10619 10614 10605 10602 ...\n",
      " $ High : Factor w/ 11956 levels \"1.03702\",\"1.03789\",..: 10610 10616 10612 10600 10563 10554 10541 10534 10521 10525 ...\n",
      " $ Low  : Factor w/ 11934 levels \"1.03403\",\"1.03523\",..: 10614 10617 10606 10581 10551 10541 10555 10544 10538 10543 ...\n",
      " $ Close: Factor w/ 11975 levels \"1.03562\",\"1.03696\",..: 10618 10621 10613 10578 10577 10559 10554 10546 10543 10551 ...\n"
     ]
    }
   ],
   "source": [
    "str(base_dados2)"
   ]
  },
  {
   "cell_type": "code",
   "execution_count": 13,
   "id": "a6ebf833",
   "metadata": {},
   "outputs": [],
   "source": [
    "base_dados2[,2] <- as.numeric(base_dados2[,2])"
   ]
  },
  {
   "cell_type": "code",
   "execution_count": 14,
   "id": "c7afce83",
   "metadata": {},
   "outputs": [
    {
     "name": "stdout",
     "output_type": "stream",
     "text": [
      "'data.frame':\t22245 obs. of  5 variables:\n",
      " $ Date : Factor w/ 22245 levels \"01/01/2015 00:00\",..: 1 673 674 675 676 677 678 679 680 681 ...\n",
      " $ Open : num  10680 10685 10683 10675 10637 ...\n",
      " $ High : Factor w/ 11956 levels \"1.03702\",\"1.03789\",..: 10610 10616 10612 10600 10563 10554 10541 10534 10521 10525 ...\n",
      " $ Low  : Factor w/ 11934 levels \"1.03403\",\"1.03523\",..: 10614 10617 10606 10581 10551 10541 10555 10544 10538 10543 ...\n",
      " $ Close: Factor w/ 11975 levels \"1.03562\",\"1.03696\",..: 10618 10621 10613 10578 10577 10559 10554 10546 10543 10551 ...\n"
     ]
    }
   ],
   "source": [
    "str(base_dados2)"
   ]
  },
  {
   "cell_type": "code",
   "execution_count": 15,
   "id": "5b8c788b",
   "metadata": {},
   "outputs": [],
   "source": [
    "base_dados3 <- read.csv2(\"eurusd_h1.csv\", dec = \".\")"
   ]
  },
  {
   "cell_type": "code",
   "execution_count": 16,
   "id": "694ada46",
   "metadata": {},
   "outputs": [
    {
     "name": "stdout",
     "output_type": "stream",
     "text": [
      "'data.frame':\t22245 obs. of  5 variables:\n",
      " $ Date : Factor w/ 22245 levels \"01/01/2015 00:00\",..: 1 673 674 675 676 677 678 679 680 681 ...\n",
      " $ Open : num  1.21 1.21 1.21 1.21 1.21 ...\n",
      " $ High : num  1.21 1.21 1.21 1.21 1.21 ...\n",
      " $ Low  : num  1.21 1.21 1.21 1.21 1.21 ...\n",
      " $ Close: num  1.21 1.21 1.21 1.21 1.21 ...\n"
     ]
    }
   ],
   "source": [
    "str(base_dados3)"
   ]
  },
  {
   "cell_type": "code",
   "execution_count": 18,
   "id": "5823d991",
   "metadata": {},
   "outputs": [
    {
     "data": {
      "image/png": "[encoded data removed]",
      "text/plain": [
       "plot without title"
      ]
     },
     "metadata": {},
     "output_type": "display_data"
    }
   ],
   "source": [
    "plot(base_dados3$Close, type = \"l\")"
   ]
  },
  {
   "cell_type": "code",
   "execution_count": 19,
   "id": "bad7de60",
   "metadata": {},
   "outputs": [],
   "source": [
    "#Importando TXT\n",
    "\n",
    "base_dados3 <- read.csv2(\"eurusd_h1.txt\", sep = \"|\", dec = \".\")"
   ]
  },
  {
   "cell_type": "code",
   "execution_count": 20,
   "id": "c6a38dd5",
   "metadata": {},
   "outputs": [
    {
     "name": "stdout",
     "output_type": "stream",
     "text": [
      "'data.frame':\t22245 obs. of  5 variables:\n",
      " $ Date : Factor w/ 22245 levels \"01/01/2015 00:00\",..: 1 673 674 675 676 677 678 679 680 681 ...\n",
      " $ Open : num  1.21 1.21 1.21 1.21 1.21 ...\n",
      " $ High : num  1.21 1.21 1.21 1.21 1.21 ...\n",
      " $ Low  : num  1.21 1.21 1.21 1.21 1.21 ...\n",
      " $ Close: num  1.21 1.21 1.21 1.21 1.21 ...\n"
     ]
    }
   ],
   "source": [
    "str(base_dados3)"
   ]
  },
  {
   "cell_type": "code",
   "execution_count": null,
   "id": "40f93402",
   "metadata": {},
   "outputs": [],
   "source": []
  }
 ],
 "metadata": {
  "kernelspec": {
   "display_name": "R",
   "language": "R",
   "name": "ir"
  },
  "language_info": {
   "codemirror_mode": "r",
   "file_extension": ".r",
   "mimetype": "text/x-r-source",
   "name": "R",
   "pygments_lexer": "r",
   "version": "3.6.1"
  }
 },
 "nbformat": 4,
 "nbformat_minor": 5
}
