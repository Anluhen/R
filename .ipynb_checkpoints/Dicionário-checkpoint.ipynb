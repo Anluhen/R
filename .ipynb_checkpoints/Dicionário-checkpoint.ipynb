{
 "cells": [
  {
   "cell_type": "code",
   "execution_count": 1,
   "id": "e89a76ea",
   "metadata": {},
   "outputs": [],
   "source": [
    "#Dicionários\n",
    "#Principal função mapear elementos com o tipo par chave:valor\n",
    "\n",
    "#Por exemplo, suas transacoes de cartao de credito sao armazenadas desta fora pelos bancos"
   ]
  },
  {
   "cell_type": "code",
   "execution_count": 3,
   "id": "8dfff783",
   "metadata": {},
   "outputs": [
    {
     "data": {
      "text/html": [
       "<dl class=dl-horizontal>\n",
       "\t<dt>Roma</dt>\n",
       "\t\t<dd>'Vaticano'</dd>\n",
       "\t<dt>Italia</dt>\n",
       "\t\t<dd>'Roma'</dd>\n",
       "\t<dt>Irlanda</dt>\n",
       "\t\t<dd>'2020'</dd>\n",
       "</dl>\n"
      ],
      "text/latex": [
       "\\begin{description*}\n",
       "\\item[Roma] 'Vaticano'\n",
       "\\item[Italia] 'Roma'\n",
       "\\item[Irlanda] '2020'\n",
       "\\end{description*}\n"
      ],
      "text/markdown": [
       "Roma\n",
       ":   'Vaticano'Italia\n",
       ":   'Roma'Irlanda\n",
       ":   '2020'\n",
       "\n"
      ],
      "text/plain": [
       "      Roma     Italia    Irlanda \n",
       "\"Vaticano\"     \"Roma\"     \"2020\" "
      ]
     },
     "metadata": {},
     "output_type": "display_data"
    }
   ],
   "source": [
    "#Como criar um dicionario?\n",
    "\n",
    "#Passos iniciais\n",
    "assign_hash <- Vectorize(assign, vectorize.args = c(\"x\",\"value\"))\n",
    "get_hash <- Vectorize(get, vectorize.args = \"x\")\n",
    "exists_hash <- Vectorize(exists, vectorize.args = \"x\")\n",
    "\n",
    "#Chaves e valor\n",
    "chaves <- c(\"Roma\", \"Italia\", \"Irlanda\")\n",
    "valores <- c(\"Vaticano\", \"Roma\", 2020)\n",
    "\n",
    "#Inicialização hash\n",
    "hash <- new.env(hash = T, parent = emptyenv(), size = 100L)\n",
    "#assign values to keys\n",
    "assign_hash(chaves, valores, hash)"
   ]
  },
  {
   "cell_type": "code",
   "execution_count": 4,
   "id": "4ccfa83f",
   "metadata": {},
   "outputs": [
    {
     "data": {
      "text/html": [
       "'environment'"
      ],
      "text/latex": [
       "'environment'"
      ],
      "text/markdown": [
       "'environment'"
      ],
      "text/plain": [
       "[1] \"environment\""
      ]
     },
     "metadata": {},
     "output_type": "display_data"
    }
   ],
   "source": [
    "class(hash)"
   ]
  },
  {
   "cell_type": "code",
   "execution_count": 5,
   "id": "2d6c5d7f",
   "metadata": {},
   "outputs": [
    {
     "data": {
      "text/html": [
       "<dl class=dl-horizontal>\n",
       "\t<dt>Roma</dt>\n",
       "\t\t<dd>'Vaticano'</dd>\n",
       "\t<dt>Irlanda</dt>\n",
       "\t\t<dd>'2020'</dd>\n",
       "</dl>\n"
      ],
      "text/latex": [
       "\\begin{description*}\n",
       "\\item[Roma] 'Vaticano'\n",
       "\\item[Irlanda] '2020'\n",
       "\\end{description*}\n"
      ],
      "text/markdown": [
       "Roma\n",
       ":   'Vaticano'Irlanda\n",
       ":   '2020'\n",
       "\n"
      ],
      "text/plain": [
       "      Roma    Irlanda \n",
       "\"Vaticano\"     \"2020\" "
      ]
     },
     "metadata": {},
     "output_type": "display_data"
    }
   ],
   "source": [
    "#Como acessar elementos de um dicionario?\n",
    "\n",
    "get_hash(c(\"Roma\", \"Irlanda\"), hash)"
   ]
  },
  {
   "cell_type": "code",
   "execution_count": 7,
   "id": "920dac95",
   "metadata": {},
   "outputs": [
    {
     "data": {
      "text/html": [
       "<dl class=dl-horizontal>\n",
       "\t<dt>Irlanda</dt>\n",
       "\t\t<dd>'2020'</dd>\n",
       "\t<dt>Italia</dt>\n",
       "\t\t<dd>'Roma'</dd>\n",
       "\t<dt>Roma</dt>\n",
       "\t\t<dd>'Vaticano'</dd>\n",
       "</dl>\n"
      ],
      "text/latex": [
       "\\begin{description*}\n",
       "\\item[Irlanda] '2020'\n",
       "\\item[Italia] 'Roma'\n",
       "\\item[Roma] 'Vaticano'\n",
       "\\end{description*}\n"
      ],
      "text/markdown": [
       "Irlanda\n",
       ":   '2020'Italia\n",
       ":   'Roma'Roma\n",
       ":   'Vaticano'\n",
       "\n"
      ],
      "text/plain": [
       "   Irlanda     Italia       Roma \n",
       "    \"2020\"     \"Roma\" \"Vaticano\" "
      ]
     },
     "metadata": {},
     "output_type": "display_data"
    }
   ],
   "source": [
    "get_hash(ls(hash), hash)"
   ]
  },
  {
   "cell_type": "code",
   "execution_count": 9,
   "id": "c9c3bf75",
   "metadata": {},
   "outputs": [
    {
     "data": {
      "text/html": [
       "'Roma'"
      ],
      "text/latex": [
       "'Roma'"
      ],
      "text/markdown": [
       "'Roma'"
      ],
      "text/plain": [
       "[1] \"Roma\""
      ]
     },
     "metadata": {},
     "output_type": "display_data"
    }
   ],
   "source": [
    "hash[[\"Italia\"]]"
   ]
  },
  {
   "cell_type": "code",
   "execution_count": 10,
   "id": "8d5f1845",
   "metadata": {},
   "outputs": [
    {
     "data": {
      "text/html": [
       "<dl class=dl-horizontal>\n",
       "\t<dt>Irlanda</dt>\n",
       "\t\t<dd>'2020'</dd>\n",
       "\t<dt>Italia</dt>\n",
       "\t\t<dd>'Roma'</dd>\n",
       "\t<dt>Oi</dt>\n",
       "\t\t<dd>'2019'</dd>\n",
       "\t<dt>Roma</dt>\n",
       "\t\t<dd>'Vaticano'</dd>\n",
       "</dl>\n"
      ],
      "text/latex": [
       "\\begin{description*}\n",
       "\\item[Irlanda] '2020'\n",
       "\\item[Italia] 'Roma'\n",
       "\\item[Oi] '2019'\n",
       "\\item[Roma] 'Vaticano'\n",
       "\\end{description*}\n"
      ],
      "text/markdown": [
       "Irlanda\n",
       ":   '2020'Italia\n",
       ":   'Roma'Oi\n",
       ":   '2019'Roma\n",
       ":   'Vaticano'\n",
       "\n"
      ],
      "text/plain": [
       "   Irlanda     Italia         Oi       Roma \n",
       "    \"2020\"     \"Roma\"     \"2019\" \"Vaticano\" "
      ]
     },
     "metadata": {},
     "output_type": "display_data"
    }
   ],
   "source": [
    "#Como alterar um valor?\n",
    "\n",
    "hash[[\"Oi\"]] <- 2019\n",
    "get_hash(ls(hash), hash)"
   ]
  },
  {
   "cell_type": "code",
   "execution_count": 11,
   "id": "8ea89161",
   "metadata": {},
   "outputs": [],
   "source": [
    "#R adiciona em ordem alfabética as novas chaves"
   ]
  },
  {
   "cell_type": "code",
   "execution_count": 12,
   "id": "36af3b12",
   "metadata": {},
   "outputs": [
    {
     "data": {
      "text/html": [
       "<dl class=dl-horizontal>\n",
       "\t<dt>Irlanda</dt>\n",
       "\t\t<dd>TRUE</dd>\n",
       "\t<dt>nothere</dt>\n",
       "\t\t<dd>FALSE</dd>\n",
       "</dl>\n"
      ],
      "text/latex": [
       "\\begin{description*}\n",
       "\\item[Irlanda] TRUE\n",
       "\\item[nothere] FALSE\n",
       "\\end{description*}\n"
      ],
      "text/markdown": [
       "Irlanda\n",
       ":   TRUEnothere\n",
       ":   FALSE\n",
       "\n"
      ],
      "text/plain": [
       "Irlanda nothere \n",
       "   TRUE   FALSE "
      ]
     },
     "metadata": {},
     "output_type": "display_data"
    }
   ],
   "source": [
    "#Como saber s eum elemento existe?\n",
    "\n",
    "exists_hash(c(\"Irlanda\", \"nothere\"),hash)"
   ]
  },
  {
   "cell_type": "code",
   "execution_count": null,
   "id": "29c8fbb0",
   "metadata": {},
   "outputs": [],
   "source": []
  }
 ],
 "metadata": {
  "kernelspec": {
   "display_name": "R",
   "language": "R",
   "name": "ir"
  },
  "language_info": {
   "codemirror_mode": "r",
   "file_extension": ".r",
   "mimetype": "text/x-r-source",
   "name": "R",
   "pygments_lexer": "r",
   "version": "3.6.1"
  }
 },
 "nbformat": 4,
 "nbformat_minor": 5
}
