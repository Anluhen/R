{
 "cells": [
  {
   "cell_type": "code",
   "execution_count": 1,
   "id": "000a87b6",
   "metadata": {},
   "outputs": [],
   "source": [
    "#Minha primeira matriz\n",
    "\n",
    "matriz_1 <- matrix(c(2010,2011,2012,2013,2014,2015,2017,2018,2019), nrow=3, ncol=3, byrow = T)"
   ]
  },
  {
   "cell_type": "code",
   "execution_count": 2,
   "id": "5ef27aa8",
   "metadata": {},
   "outputs": [
    {
     "data": {
      "text/html": [
       "<table>\n",
       "<tbody>\n",
       "\t<tr><td>2010</td><td>2011</td><td>2012</td></tr>\n",
       "\t<tr><td>2013</td><td>2014</td><td>2015</td></tr>\n",
       "\t<tr><td>2017</td><td>2018</td><td>2019</td></tr>\n",
       "</tbody>\n",
       "</table>\n"
      ],
      "text/latex": [
       "\\begin{tabular}{lll}\n",
       "\t 2010 & 2011 & 2012\\\\\n",
       "\t 2013 & 2014 & 2015\\\\\n",
       "\t 2017 & 2018 & 2019\\\\\n",
       "\\end{tabular}\n"
      ],
      "text/markdown": [
       "\n",
       "| 2010 | 2011 | 2012 |\n",
       "| 2013 | 2014 | 2015 |\n",
       "| 2017 | 2018 | 2019 |\n",
       "\n"
      ],
      "text/plain": [
       "     [,1] [,2] [,3]\n",
       "[1,] 2010 2011 2012\n",
       "[2,] 2013 2014 2015\n",
       "[3,] 2017 2018 2019"
      ]
     },
     "metadata": {},
     "output_type": "display_data"
    }
   ],
   "source": [
    "matriz_1"
   ]
  },
  {
   "cell_type": "code",
   "execution_count": 3,
   "id": "e9d18e4b",
   "metadata": {},
   "outputs": [
    {
     "data": {
      "text/html": [
       "<table>\n",
       "<tbody>\n",
       "\t<tr><td>2010</td><td>2013</td><td>2017</td></tr>\n",
       "\t<tr><td>2011</td><td>2014</td><td>2018</td></tr>\n",
       "\t<tr><td>2012</td><td>2015</td><td>2019</td></tr>\n",
       "</tbody>\n",
       "</table>\n"
      ],
      "text/latex": [
       "\\begin{tabular}{lll}\n",
       "\t 2010 & 2013 & 2017\\\\\n",
       "\t 2011 & 2014 & 2018\\\\\n",
       "\t 2012 & 2015 & 2019\\\\\n",
       "\\end{tabular}\n"
      ],
      "text/markdown": [
       "\n",
       "| 2010 | 2013 | 2017 |\n",
       "| 2011 | 2014 | 2018 |\n",
       "| 2012 | 2015 | 2019 |\n",
       "\n"
      ],
      "text/plain": [
       "     [,1] [,2] [,3]\n",
       "[1,] 2010 2013 2017\n",
       "[2,] 2011 2014 2018\n",
       "[3,] 2012 2015 2019"
      ]
     },
     "metadata": {},
     "output_type": "display_data"
    }
   ],
   "source": [
    "matriz_2 <- matrix(c(2010,2011,2012,2013,2014,2015,2017,2018,2019), nrow=3, ncol=3, byrow = F)\n",
    "matriz_2"
   ]
  },
  {
   "cell_type": "code",
   "execution_count": 4,
   "id": "20069360",
   "metadata": {},
   "outputs": [
    {
     "data": {
      "text/html": [
       "<ol class=list-inline>\n",
       "\t<li>3</li>\n",
       "\t<li>3</li>\n",
       "</ol>\n"
      ],
      "text/latex": [
       "\\begin{enumerate*}\n",
       "\\item 3\n",
       "\\item 3\n",
       "\\end{enumerate*}\n"
      ],
      "text/markdown": [
       "1. 3\n",
       "2. 3\n",
       "\n",
       "\n"
      ],
      "text/plain": [
       "[1] 3 3"
      ]
     },
     "metadata": {},
     "output_type": "display_data"
    }
   ],
   "source": [
    "dim(matriz_2)"
   ]
  },
  {
   "cell_type": "code",
   "execution_count": 5,
   "id": "65079b11",
   "metadata": {},
   "outputs": [
    {
     "data": {
      "text/html": [
       "2013"
      ],
      "text/latex": [
       "2013"
      ],
      "text/markdown": [
       "2013"
      ],
      "text/plain": [
       "[1] 2013"
      ]
     },
     "metadata": {},
     "output_type": "display_data"
    },
    {
     "data": {
      "text/html": [
       "2013"
      ],
      "text/latex": [
       "2013"
      ],
      "text/markdown": [
       "2013"
      ],
      "text/plain": [
       "[1] 2013"
      ]
     },
     "metadata": {},
     "output_type": "display_data"
    }
   ],
   "source": [
    "matriz_2[1,2]\n",
    "\n",
    "matriz_2[4]"
   ]
  },
  {
   "cell_type": "code",
   "execution_count": 6,
   "id": "9e0430f7",
   "metadata": {},
   "outputs": [
    {
     "data": {
      "text/html": [
       "<ol class=list-inline>\n",
       "\t<li>2010</li>\n",
       "\t<li>2013</li>\n",
       "\t<li>2017</li>\n",
       "</ol>\n"
      ],
      "text/latex": [
       "\\begin{enumerate*}\n",
       "\\item 2010\n",
       "\\item 2013\n",
       "\\item 2017\n",
       "\\end{enumerate*}\n"
      ],
      "text/markdown": [
       "1. 2010\n",
       "2. 2013\n",
       "3. 2017\n",
       "\n",
       "\n"
      ],
      "text/plain": [
       "[1] 2010 2013 2017"
      ]
     },
     "metadata": {},
     "output_type": "display_data"
    }
   ],
   "source": [
    "matriz_2[1,]"
   ]
  },
  {
   "cell_type": "code",
   "execution_count": 7,
   "id": "86c7ce86",
   "metadata": {},
   "outputs": [
    {
     "data": {
      "text/html": [
       "<ol class=list-inline>\n",
       "\t<li>2010</li>\n",
       "\t<li>2011</li>\n",
       "\t<li>2012</li>\n",
       "</ol>\n"
      ],
      "text/latex": [
       "\\begin{enumerate*}\n",
       "\\item 2010\n",
       "\\item 2011\n",
       "\\item 2012\n",
       "\\end{enumerate*}\n"
      ],
      "text/markdown": [
       "1. 2010\n",
       "2. 2011\n",
       "3. 2012\n",
       "\n",
       "\n"
      ],
      "text/plain": [
       "[1] 2010 2011 2012"
      ]
     },
     "metadata": {},
     "output_type": "display_data"
    }
   ],
   "source": [
    "matriz_2[,1]"
   ]
  },
  {
   "cell_type": "code",
   "execution_count": 8,
   "id": "a83e79bc",
   "metadata": {},
   "outputs": [
    {
     "data": {
      "text/html": [
       "<table>\n",
       "<tbody>\n",
       "\t<tr><td>2010</td><td>2017</td></tr>\n",
       "\t<tr><td>2011</td><td>2018</td></tr>\n",
       "\t<tr><td>2012</td><td>2019</td></tr>\n",
       "</tbody>\n",
       "</table>\n"
      ],
      "text/latex": [
       "\\begin{tabular}{ll}\n",
       "\t 2010 & 2017\\\\\n",
       "\t 2011 & 2018\\\\\n",
       "\t 2012 & 2019\\\\\n",
       "\\end{tabular}\n"
      ],
      "text/markdown": [
       "\n",
       "| 2010 | 2017 |\n",
       "| 2011 | 2018 |\n",
       "| 2012 | 2019 |\n",
       "\n"
      ],
      "text/plain": [
       "     [,1] [,2]\n",
       "[1,] 2010 2017\n",
       "[2,] 2011 2018\n",
       "[3,] 2012 2019"
      ]
     },
     "metadata": {},
     "output_type": "display_data"
    },
    {
     "data": {
      "text/html": [
       "<table>\n",
       "<tbody>\n",
       "\t<tr><td>2010</td><td>2013</td><td>2017</td></tr>\n",
       "\t<tr><td>2011</td><td>2014</td><td>2018</td></tr>\n",
       "</tbody>\n",
       "</table>\n"
      ],
      "text/latex": [
       "\\begin{tabular}{lll}\n",
       "\t 2010 & 2013 & 2017\\\\\n",
       "\t 2011 & 2014 & 2018\\\\\n",
       "\\end{tabular}\n"
      ],
      "text/markdown": [
       "\n",
       "| 2010 | 2013 | 2017 |\n",
       "| 2011 | 2014 | 2018 |\n",
       "\n"
      ],
      "text/plain": [
       "     [,1] [,2] [,3]\n",
       "[1,] 2010 2013 2017\n",
       "[2,] 2011 2014 2018"
      ]
     },
     "metadata": {},
     "output_type": "display_data"
    }
   ],
   "source": [
    "matriz_2[, c(1,3)]\n",
    "\n",
    "matriz_2[c(1,2),]"
   ]
  },
  {
   "cell_type": "code",
   "execution_count": 9,
   "id": "9ef8bc4e",
   "metadata": {},
   "outputs": [
    {
     "data": {
      "text/html": [
       "<table>\n",
       "<tbody>\n",
       "\t<tr><td>2010</td><td>2013</td><td>2017</td></tr>\n",
       "\t<tr><td>2011</td><td>2014</td><td>2018</td></tr>\n",
       "\t<tr><td>2012</td><td>2015</td><td>2019</td></tr>\n",
       "\t<tr><td>  10</td><td>  11</td><td>  12</td></tr>\n",
       "</tbody>\n",
       "</table>\n"
      ],
      "text/latex": [
       "\\begin{tabular}{lll}\n",
       "\t 2010 & 2013 & 2017\\\\\n",
       "\t 2011 & 2014 & 2018\\\\\n",
       "\t 2012 & 2015 & 2019\\\\\n",
       "\t   10 &   11 &   12\\\\\n",
       "\\end{tabular}\n"
      ],
      "text/markdown": [
       "\n",
       "| 2010 | 2013 | 2017 |\n",
       "| 2011 | 2014 | 2018 |\n",
       "| 2012 | 2015 | 2019 |\n",
       "|   10 |   11 |   12 |\n",
       "\n"
      ],
      "text/plain": [
       "     [,1] [,2] [,3]\n",
       "[1,] 2010 2013 2017\n",
       "[2,] 2011 2014 2018\n",
       "[3,] 2012 2015 2019\n",
       "[4,]   10   11   12"
      ]
     },
     "metadata": {},
     "output_type": "display_data"
    }
   ],
   "source": [
    "matriz_2 <- rbind(matriz_2, c(10,11,12))\n",
    "\n",
    "matriz_2"
   ]
  },
  {
   "cell_type": "code",
   "execution_count": 12,
   "id": "75c7eca8",
   "metadata": {},
   "outputs": [
    {
     "name": "stderr",
     "output_type": "stream",
     "text": [
      "Warning message in cbind(matriz_2, c(10, 1112, 13)):\n",
      "\"number of rows of result is not a multiple of vector length (arg 2)\""
     ]
    },
    {
     "data": {
      "text/html": [
       "<table>\n",
       "<tbody>\n",
       "\t<tr><td>2010</td><td>2013</td><td>2017</td><td>  10</td><td>10  </td><td>  10</td></tr>\n",
       "\t<tr><td>2011</td><td>2014</td><td>2018</td><td>1112</td><td>11  </td><td>1112</td></tr>\n",
       "\t<tr><td>2012</td><td>2015</td><td>2019</td><td>  13</td><td>12  </td><td>  13</td></tr>\n",
       "\t<tr><td>  10</td><td>  11</td><td>  12</td><td>  10</td><td>13  </td><td>  10</td></tr>\n",
       "</tbody>\n",
       "</table>\n"
      ],
      "text/latex": [
       "\\begin{tabular}{llllll}\n",
       "\t 2010 & 2013 & 2017 &   10 & 10   &   10\\\\\n",
       "\t 2011 & 2014 & 2018 & 1112 & 11   & 1112\\\\\n",
       "\t 2012 & 2015 & 2019 &   13 & 12   &   13\\\\\n",
       "\t   10 &   11 &   12 &   10 & 13   &   10\\\\\n",
       "\\end{tabular}\n"
      ],
      "text/markdown": [
       "\n",
       "| 2010 | 2013 | 2017 |   10 | 10   |   10 |\n",
       "| 2011 | 2014 | 2018 | 1112 | 11   | 1112 |\n",
       "| 2012 | 2015 | 2019 |   13 | 12   |   13 |\n",
       "|   10 |   11 |   12 |   10 | 13   |   10 |\n",
       "\n"
      ],
      "text/plain": [
       "     [,1] [,2] [,3] [,4] [,5] [,6]\n",
       "[1,] 2010 2013 2017   10 10     10\n",
       "[2,] 2011 2014 2018 1112 11   1112\n",
       "[3,] 2012 2015 2019   13 12     13\n",
       "[4,]   10   11   12   10 13     10"
      ]
     },
     "metadata": {},
     "output_type": "display_data"
    }
   ],
   "source": [
    "matriz_2 <- cbind(matriz_2, c(10,11,12,13))\n",
    "\n",
    "matriz_2"
   ]
  },
  {
   "cell_type": "code",
   "execution_count": 14,
   "id": "4299b158",
   "metadata": {},
   "outputs": [
    {
     "data": {
      "text/html": [
       "<table>\n",
       "<tbody>\n",
       "\t<tr><td>4020</td><td>4026</td><td>4034</td><td>  20</td><td>20  </td><td>  20</td></tr>\n",
       "\t<tr><td>4022</td><td>4028</td><td>4036</td><td>2224</td><td>22  </td><td>2224</td></tr>\n",
       "\t<tr><td>4024</td><td>4030</td><td>4038</td><td>  26</td><td>24  </td><td>  26</td></tr>\n",
       "\t<tr><td>  20</td><td>  22</td><td>  24</td><td>  20</td><td>26  </td><td>  20</td></tr>\n",
       "</tbody>\n",
       "</table>\n"
      ],
      "text/latex": [
       "\\begin{tabular}{llllll}\n",
       "\t 4020 & 4026 & 4034 &   20 & 20   &   20\\\\\n",
       "\t 4022 & 4028 & 4036 & 2224 & 22   & 2224\\\\\n",
       "\t 4024 & 4030 & 4038 &   26 & 24   &   26\\\\\n",
       "\t   20 &   22 &   24 &   20 & 26   &   20\\\\\n",
       "\\end{tabular}\n"
      ],
      "text/markdown": [
       "\n",
       "| 4020 | 4026 | 4034 |   20 | 20   |   20 |\n",
       "| 4022 | 4028 | 4036 | 2224 | 22   | 2224 |\n",
       "| 4024 | 4030 | 4038 |   26 | 24   |   26 |\n",
       "|   20 |   22 |   24 |   20 | 26   |   20 |\n",
       "\n"
      ],
      "text/plain": [
       "     [,1] [,2] [,3] [,4] [,5] [,6]\n",
       "[1,] 4020 4026 4034   20 20     20\n",
       "[2,] 4022 4028 4036 2224 22   2224\n",
       "[3,] 4024 4030 4038   26 24     26\n",
       "[4,]   20   22   24   20 26     20"
      ]
     },
     "metadata": {},
     "output_type": "display_data"
    }
   ],
   "source": [
    "matriz_3 <- matriz_2*2\n",
    "\n",
    "matriz_3"
   ]
  },
  {
   "cell_type": "code",
   "execution_count": 15,
   "id": "437a046f",
   "metadata": {},
   "outputs": [
    {
     "data": {
      "text/html": [
       "<table>\n",
       "<tbody>\n",
       "\t<tr><td>65</td><td>43</td></tr>\n",
       "\t<tr><td>42</td><td>15</td></tr>\n",
       "\t<tr><td>20</td><td>78</td></tr>\n",
       "\t<tr><td>25</td><td> 8</td></tr>\n",
       "</tbody>\n",
       "</table>\n"
      ],
      "text/latex": [
       "\\begin{tabular}{ll}\n",
       "\t 65 & 43\\\\\n",
       "\t 42 & 15\\\\\n",
       "\t 20 & 78\\\\\n",
       "\t 25 &  8\\\\\n",
       "\\end{tabular}\n"
      ],
      "text/markdown": [
       "\n",
       "| 65 | 43 |\n",
       "| 42 | 15 |\n",
       "| 20 | 78 |\n",
       "| 25 |  8 |\n",
       "\n"
      ],
      "text/plain": [
       "     [,1] [,2]\n",
       "[1,] 65   43  \n",
       "[2,] 42   15  \n",
       "[3,] 20   78  \n",
       "[4,] 25    8  "
      ]
     },
     "metadata": {},
     "output_type": "display_data"
    }
   ],
   "source": [
    "# Dar nomes as linhas e colunas de uma matriz\n",
    "\n",
    "pesquisa <- matrix(c(65, 42, 20, 25, 43, 15, 78, 8), nrow=4)\n",
    "\n",
    "pesquisa"
   ]
  },
  {
   "cell_type": "code",
   "execution_count": 16,
   "id": "c9756f62",
   "metadata": {},
   "outputs": [
    {
     "data": {
      "text/plain": [
       "NULL"
      ]
     },
     "metadata": {},
     "output_type": "display_data"
    }
   ],
   "source": [
    "dimnames(pesquisa)"
   ]
  },
  {
   "cell_type": "code",
   "execution_count": 17,
   "id": "e3c8d2d2",
   "metadata": {},
   "outputs": [],
   "source": [
    "dimnames(pesquisa) <- list(c(\"P1\", \"P2\", \"P3\", \"P4\"), c(\"Pergunta1\", \"Pergunta2\"))"
   ]
  },
  {
   "cell_type": "code",
   "execution_count": 18,
   "id": "2f1f1b41",
   "metadata": {},
   "outputs": [
    {
     "data": {
      "text/html": [
       "<table>\n",
       "<thead><tr><th></th><th scope=col>Pergunta1</th><th scope=col>Pergunta2</th></tr></thead>\n",
       "<tbody>\n",
       "\t<tr><th scope=row>P1</th><td>65</td><td>43</td></tr>\n",
       "\t<tr><th scope=row>P2</th><td>42</td><td>15</td></tr>\n",
       "\t<tr><th scope=row>P3</th><td>20</td><td>78</td></tr>\n",
       "\t<tr><th scope=row>P4</th><td>25</td><td> 8</td></tr>\n",
       "</tbody>\n",
       "</table>\n"
      ],
      "text/latex": [
       "\\begin{tabular}{r|ll}\n",
       "  & Pergunta1 & Pergunta2\\\\\n",
       "\\hline\n",
       "\tP1 & 65 & 43\\\\\n",
       "\tP2 & 42 & 15\\\\\n",
       "\tP3 & 20 & 78\\\\\n",
       "\tP4 & 25 &  8\\\\\n",
       "\\end{tabular}\n"
      ],
      "text/markdown": [
       "\n",
       "| <!--/--> | Pergunta1 | Pergunta2 |\n",
       "|---|---|---|\n",
       "| P1 | 65 | 43 |\n",
       "| P2 | 42 | 15 |\n",
       "| P3 | 20 | 78 |\n",
       "| P4 | 25 |  8 |\n",
       "\n"
      ],
      "text/plain": [
       "   Pergunta1 Pergunta2\n",
       "P1 65        43       \n",
       "P2 42        15       \n",
       "P3 20        78       \n",
       "P4 25         8       "
      ]
     },
     "metadata": {},
     "output_type": "display_data"
    }
   ],
   "source": [
    "pesquisa"
   ]
  },
  {
   "cell_type": "code",
   "execution_count": 22,
   "id": "6cd79ce7",
   "metadata": {},
   "outputs": [
    {
     "data": {
      "text/html": [
       "78"
      ],
      "text/latex": [
       "78"
      ],
      "text/markdown": [
       "78"
      ],
      "text/plain": [
       "[1] 78"
      ]
     },
     "metadata": {},
     "output_type": "display_data"
    }
   ],
   "source": [
    "pesquisa[\"P3\", \"Pergunta2\"]"
   ]
  },
  {
   "cell_type": "code",
   "execution_count": 23,
   "id": "b947cd7d",
   "metadata": {},
   "outputs": [
    {
     "data": {
      "image/png": "[encoded data removed]",
      "text/plain": [
       "plot without title"
      ]
     },
     "metadata": {},
     "output_type": "display_data"
    }
   ],
   "source": [
    "plot(pesquisa, col = \"red\")"
   ]
  },
  {
   "cell_type": "code",
   "execution_count": 24,
   "id": "7cca84de",
   "metadata": {},
   "outputs": [
    {
     "data": {
      "text/html": [
       "<table>\n",
       "<tbody>\n",
       "\t<tr><td>0</td><td>0</td><td>0</td><td>0</td><td>0</td><td>0</td><td>0</td><td>0</td><td>0</td><td>0</td><td>0</td><td>0</td><td>0</td><td>0</td><td>0</td></tr>\n",
       "\t<tr><td>0</td><td>0</td><td>0</td><td>0</td><td>0</td><td>0</td><td>0</td><td>0</td><td>0</td><td>0</td><td>0</td><td>0</td><td>0</td><td>0</td><td>0</td></tr>\n",
       "\t<tr><td>0</td><td>0</td><td>0</td><td>0</td><td>0</td><td>0</td><td>0</td><td>0</td><td>0</td><td>0</td><td>0</td><td>0</td><td>0</td><td>0</td><td>0</td></tr>\n",
       "\t<tr><td>0</td><td>0</td><td>0</td><td>0</td><td>0</td><td>0</td><td>0</td><td>0</td><td>0</td><td>0</td><td>0</td><td>0</td><td>0</td><td>0</td><td>0</td></tr>\n",
       "\t<tr><td>0</td><td>0</td><td>0</td><td>0</td><td>0</td><td>0</td><td>0</td><td>0</td><td>0</td><td>0</td><td>0</td><td>0</td><td>0</td><td>0</td><td>0</td></tr>\n",
       "\t<tr><td>0</td><td>0</td><td>0</td><td>0</td><td>0</td><td>0</td><td>0</td><td>0</td><td>0</td><td>0</td><td>0</td><td>0</td><td>0</td><td>0</td><td>0</td></tr>\n",
       "\t<tr><td>0</td><td>0</td><td>0</td><td>0</td><td>0</td><td>0</td><td>0</td><td>0</td><td>0</td><td>0</td><td>0</td><td>0</td><td>0</td><td>0</td><td>0</td></tr>\n",
       "\t<tr><td>0</td><td>0</td><td>0</td><td>0</td><td>0</td><td>0</td><td>0</td><td>0</td><td>0</td><td>0</td><td>0</td><td>0</td><td>0</td><td>0</td><td>0</td></tr>\n",
       "\t<tr><td>0</td><td>0</td><td>0</td><td>0</td><td>0</td><td>0</td><td>0</td><td>0</td><td>0</td><td>0</td><td>0</td><td>0</td><td>0</td><td>0</td><td>0</td></tr>\n",
       "\t<tr><td>0</td><td>0</td><td>0</td><td>0</td><td>0</td><td>0</td><td>0</td><td>0</td><td>0</td><td>0</td><td>0</td><td>0</td><td>0</td><td>0</td><td>0</td></tr>\n",
       "</tbody>\n",
       "</table>\n"
      ],
      "text/latex": [
       "\\begin{tabular}{lllllllllllllll}\n",
       "\t 0 & 0 & 0 & 0 & 0 & 0 & 0 & 0 & 0 & 0 & 0 & 0 & 0 & 0 & 0\\\\\n",
       "\t 0 & 0 & 0 & 0 & 0 & 0 & 0 & 0 & 0 & 0 & 0 & 0 & 0 & 0 & 0\\\\\n",
       "\t 0 & 0 & 0 & 0 & 0 & 0 & 0 & 0 & 0 & 0 & 0 & 0 & 0 & 0 & 0\\\\\n",
       "\t 0 & 0 & 0 & 0 & 0 & 0 & 0 & 0 & 0 & 0 & 0 & 0 & 0 & 0 & 0\\\\\n",
       "\t 0 & 0 & 0 & 0 & 0 & 0 & 0 & 0 & 0 & 0 & 0 & 0 & 0 & 0 & 0\\\\\n",
       "\t 0 & 0 & 0 & 0 & 0 & 0 & 0 & 0 & 0 & 0 & 0 & 0 & 0 & 0 & 0\\\\\n",
       "\t 0 & 0 & 0 & 0 & 0 & 0 & 0 & 0 & 0 & 0 & 0 & 0 & 0 & 0 & 0\\\\\n",
       "\t 0 & 0 & 0 & 0 & 0 & 0 & 0 & 0 & 0 & 0 & 0 & 0 & 0 & 0 & 0\\\\\n",
       "\t 0 & 0 & 0 & 0 & 0 & 0 & 0 & 0 & 0 & 0 & 0 & 0 & 0 & 0 & 0\\\\\n",
       "\t 0 & 0 & 0 & 0 & 0 & 0 & 0 & 0 & 0 & 0 & 0 & 0 & 0 & 0 & 0\\\\\n",
       "\\end{tabular}\n"
      ],
      "text/markdown": [
       "\n",
       "| 0 | 0 | 0 | 0 | 0 | 0 | 0 | 0 | 0 | 0 | 0 | 0 | 0 | 0 | 0 |\n",
       "| 0 | 0 | 0 | 0 | 0 | 0 | 0 | 0 | 0 | 0 | 0 | 0 | 0 | 0 | 0 |\n",
       "| 0 | 0 | 0 | 0 | 0 | 0 | 0 | 0 | 0 | 0 | 0 | 0 | 0 | 0 | 0 |\n",
       "| 0 | 0 | 0 | 0 | 0 | 0 | 0 | 0 | 0 | 0 | 0 | 0 | 0 | 0 | 0 |\n",
       "| 0 | 0 | 0 | 0 | 0 | 0 | 0 | 0 | 0 | 0 | 0 | 0 | 0 | 0 | 0 |\n",
       "| 0 | 0 | 0 | 0 | 0 | 0 | 0 | 0 | 0 | 0 | 0 | 0 | 0 | 0 | 0 |\n",
       "| 0 | 0 | 0 | 0 | 0 | 0 | 0 | 0 | 0 | 0 | 0 | 0 | 0 | 0 | 0 |\n",
       "| 0 | 0 | 0 | 0 | 0 | 0 | 0 | 0 | 0 | 0 | 0 | 0 | 0 | 0 | 0 |\n",
       "| 0 | 0 | 0 | 0 | 0 | 0 | 0 | 0 | 0 | 0 | 0 | 0 | 0 | 0 | 0 |\n",
       "| 0 | 0 | 0 | 0 | 0 | 0 | 0 | 0 | 0 | 0 | 0 | 0 | 0 | 0 | 0 |\n",
       "\n"
      ],
      "text/plain": [
       "      [,1] [,2] [,3] [,4] [,5] [,6] [,7] [,8] [,9] [,10] [,11] [,12] [,13]\n",
       " [1,] 0    0    0    0    0    0    0    0    0    0     0     0     0    \n",
       " [2,] 0    0    0    0    0    0    0    0    0    0     0     0     0    \n",
       " [3,] 0    0    0    0    0    0    0    0    0    0     0     0     0    \n",
       " [4,] 0    0    0    0    0    0    0    0    0    0     0     0     0    \n",
       " [5,] 0    0    0    0    0    0    0    0    0    0     0     0     0    \n",
       " [6,] 0    0    0    0    0    0    0    0    0    0     0     0     0    \n",
       " [7,] 0    0    0    0    0    0    0    0    0    0     0     0     0    \n",
       " [8,] 0    0    0    0    0    0    0    0    0    0     0     0     0    \n",
       " [9,] 0    0    0    0    0    0    0    0    0    0     0     0     0    \n",
       "[10,] 0    0    0    0    0    0    0    0    0    0     0     0     0    \n",
       "      [,14] [,15]\n",
       " [1,] 0     0    \n",
       " [2,] 0     0    \n",
       " [3,] 0     0    \n",
       " [4,] 0     0    \n",
       " [5,] 0     0    \n",
       " [6,] 0     0    \n",
       " [7,] 0     0    \n",
       " [8,] 0     0    \n",
       " [9,] 0     0    \n",
       "[10,] 0     0    "
      ]
     },
     "metadata": {},
     "output_type": "display_data"
    }
   ],
   "source": [
    "zeros <- matrix(0, 10, 15)\n",
    "\n",
    "zeros"
   ]
  },
  {
   "cell_type": "code",
   "execution_count": null,
   "id": "bae2584e",
   "metadata": {},
   "outputs": [],
   "source": []
  }
 ],
 "metadata": {
  "kernelspec": {
   "display_name": "R",
   "language": "R",
   "name": "ir"
  },
  "language_info": {
   "codemirror_mode": "r",
   "file_extension": ".r",
   "mimetype": "text/x-r-source",
   "name": "R",
   "pygments_lexer": "r",
   "version": "3.6.1"
  }
 },
 "nbformat": 4,
 "nbformat_minor": 5
}
