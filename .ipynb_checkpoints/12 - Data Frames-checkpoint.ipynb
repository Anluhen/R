{
 "cells": [
  {
   "cell_type": "code",
   "execution_count": 1,
   "id": "dc823adc",
   "metadata": {},
   "outputs": [
    {
     "data": {
      "text/html": [
       "<table>\n",
       "<thead><tr><th scope=col>v1</th><th scope=col>v2</th><th scope=col>v3</th></tr></thead>\n",
       "<tbody>\n",
       "\t<tr><td>1958</td><td>1   </td><td>  10</td></tr>\n",
       "\t<tr><td>1962</td><td>1   </td><td> 100</td></tr>\n",
       "\t<tr><td>1970</td><td>2   </td><td>1000</td></tr>\n",
       "\t<tr><td>1994</td><td>3   </td><td>   5</td></tr>\n",
       "\t<tr><td>2002</td><td>5   </td><td>  25</td></tr>\n",
       "</tbody>\n",
       "</table>\n"
      ],
      "text/latex": [
       "\\begin{tabular}{r|lll}\n",
       " v1 & v2 & v3\\\\\n",
       "\\hline\n",
       "\t 1958 & 1    &   10\\\\\n",
       "\t 1962 & 1    &  100\\\\\n",
       "\t 1970 & 2    & 1000\\\\\n",
       "\t 1994 & 3    &    5\\\\\n",
       "\t 2002 & 5    &   25\\\\\n",
       "\\end{tabular}\n"
      ],
      "text/markdown": [
       "\n",
       "| v1 | v2 | v3 |\n",
       "|---|---|---|\n",
       "| 1958 | 1    |   10 |\n",
       "| 1962 | 1    |  100 |\n",
       "| 1970 | 2    | 1000 |\n",
       "| 1994 | 3    |    5 |\n",
       "| 2002 | 5    |   25 |\n",
       "\n"
      ],
      "text/plain": [
       "  v1   v2 v3  \n",
       "1 1958 1    10\n",
       "2 1962 1   100\n",
       "3 1970 2  1000\n",
       "4 1994 3     5\n",
       "5 2002 5    25"
      ]
     },
     "metadata": {},
     "output_type": "display_data"
    }
   ],
   "source": [
    "#Criando o seu data frame\n",
    "\n",
    "v1 <- c(1958, 1962, 1970, 1994, 2002)\n",
    "v2 <- c(1,1,2,3,5)\n",
    "v3 <- c(10,100,1000,5,25)\n",
    "\n",
    "df <- data.frame(v1, v2, v3)\n",
    "\n",
    "df"
   ]
  },
  {
   "cell_type": "code",
   "execution_count": 2,
   "id": "c82ec4a4",
   "metadata": {},
   "outputs": [
    {
     "data": {
      "text/html": [
       "<ol class=list-inline>\n",
       "\t<li>1958</li>\n",
       "\t<li>1962</li>\n",
       "\t<li>1970</li>\n",
       "\t<li>1994</li>\n",
       "\t<li>2002</li>\n",
       "</ol>\n"
      ],
      "text/latex": [
       "\\begin{enumerate*}\n",
       "\\item 1958\n",
       "\\item 1962\n",
       "\\item 1970\n",
       "\\item 1994\n",
       "\\item 2002\n",
       "\\end{enumerate*}\n"
      ],
      "text/markdown": [
       "1. 1958\n",
       "2. 1962\n",
       "3. 1970\n",
       "4. 1994\n",
       "5. 2002\n",
       "\n",
       "\n"
      ],
      "text/plain": [
       "[1] 1958 1962 1970 1994 2002"
      ]
     },
     "metadata": {},
     "output_type": "display_data"
    }
   ],
   "source": [
    "#Como ler os dados do data frame?\n",
    "\n",
    "df$v1"
   ]
  },
  {
   "cell_type": "code",
   "execution_count": 3,
   "id": "0f926f53",
   "metadata": {},
   "outputs": [
    {
     "data": {
      "text/html": [
       "<table>\n",
       "<thead><tr><th scope=col>v1</th></tr></thead>\n",
       "<tbody>\n",
       "\t<tr><td>1958</td></tr>\n",
       "\t<tr><td>1962</td></tr>\n",
       "\t<tr><td>1970</td></tr>\n",
       "\t<tr><td>1994</td></tr>\n",
       "\t<tr><td>2002</td></tr>\n",
       "</tbody>\n",
       "</table>\n"
      ],
      "text/latex": [
       "\\begin{tabular}{r|l}\n",
       " v1\\\\\n",
       "\\hline\n",
       "\t 1958\\\\\n",
       "\t 1962\\\\\n",
       "\t 1970\\\\\n",
       "\t 1994\\\\\n",
       "\t 2002\\\\\n",
       "\\end{tabular}\n"
      ],
      "text/markdown": [
       "\n",
       "| v1 |\n",
       "|---|\n",
       "| 1958 |\n",
       "| 1962 |\n",
       "| 1970 |\n",
       "| 1994 |\n",
       "| 2002 |\n",
       "\n"
      ],
      "text/plain": [
       "  v1  \n",
       "1 1958\n",
       "2 1962\n",
       "3 1970\n",
       "4 1994\n",
       "5 2002"
      ]
     },
     "metadata": {},
     "output_type": "display_data"
    }
   ],
   "source": [
    "df[1]"
   ]
  },
  {
   "cell_type": "code",
   "execution_count": 4,
   "id": "c0e38a3c",
   "metadata": {},
   "outputs": [
    {
     "data": {
      "text/html": [
       "<table>\n",
       "<thead><tr><th scope=col>v1</th></tr></thead>\n",
       "<tbody>\n",
       "\t<tr><td>1958</td></tr>\n",
       "\t<tr><td>1962</td></tr>\n",
       "\t<tr><td>1970</td></tr>\n",
       "\t<tr><td>1994</td></tr>\n",
       "\t<tr><td>2002</td></tr>\n",
       "</tbody>\n",
       "</table>\n"
      ],
      "text/latex": [
       "\\begin{tabular}{r|l}\n",
       " v1\\\\\n",
       "\\hline\n",
       "\t 1958\\\\\n",
       "\t 1962\\\\\n",
       "\t 1970\\\\\n",
       "\t 1994\\\\\n",
       "\t 2002\\\\\n",
       "\\end{tabular}\n"
      ],
      "text/markdown": [
       "\n",
       "| v1 |\n",
       "|---|\n",
       "| 1958 |\n",
       "| 1962 |\n",
       "| 1970 |\n",
       "| 1994 |\n",
       "| 2002 |\n",
       "\n"
      ],
      "text/plain": [
       "  v1  \n",
       "1 1958\n",
       "2 1962\n",
       "3 1970\n",
       "4 1994\n",
       "5 2002"
      ]
     },
     "metadata": {},
     "output_type": "display_data"
    }
   ],
   "source": [
    " df[\"v1\"]"
   ]
  },
  {
   "cell_type": "code",
   "execution_count": 5,
   "id": "bd1197a7",
   "metadata": {},
   "outputs": [
    {
     "data": {
      "text/html": [
       "<table>\n",
       "<thead><tr><th scope=col>v1</th><th scope=col>v2</th><th scope=col>v3</th></tr></thead>\n",
       "<tbody>\n",
       "\t<tr><td>1958</td><td>1   </td><td>10  </td></tr>\n",
       "</tbody>\n",
       "</table>\n"
      ],
      "text/latex": [
       "\\begin{tabular}{r|lll}\n",
       " v1 & v2 & v3\\\\\n",
       "\\hline\n",
       "\t 1958 & 1    & 10  \\\\\n",
       "\\end{tabular}\n"
      ],
      "text/markdown": [
       "\n",
       "| v1 | v2 | v3 |\n",
       "|---|---|---|\n",
       "| 1958 | 1    | 10   |\n",
       "\n"
      ],
      "text/plain": [
       "  v1   v2 v3\n",
       "1 1958 1  10"
      ]
     },
     "metadata": {},
     "output_type": "display_data"
    }
   ],
   "source": [
    "#Acessando as linhas\n",
    "\n",
    "df[1,]"
   ]
  },
  {
   "cell_type": "code",
   "execution_count": 6,
   "id": "ab1184a4",
   "metadata": {},
   "outputs": [
    {
     "data": {
      "text/html": [
       "100"
      ],
      "text/latex": [
       "100"
      ],
      "text/markdown": [
       "100"
      ],
      "text/plain": [
       "[1] 100"
      ]
     },
     "metadata": {},
     "output_type": "display_data"
    }
   ],
   "source": [
    "df[2,3]"
   ]
  },
  {
   "cell_type": "code",
   "execution_count": 7,
   "id": "355a8932",
   "metadata": {},
   "outputs": [
    {
     "data": {
      "text/html": [
       "<table>\n",
       "<thead><tr><th></th><th scope=col>mpg</th><th scope=col>cyl</th><th scope=col>disp</th><th scope=col>hp</th><th scope=col>drat</th><th scope=col>wt</th><th scope=col>qsec</th><th scope=col>vs</th><th scope=col>am</th><th scope=col>gear</th><th scope=col>carb</th></tr></thead>\n",
       "<tbody>\n",
       "\t<tr><th scope=row>Mazda RX4</th><td>21.0 </td><td>6    </td><td>160.0</td><td>110  </td><td>3.90 </td><td>2.620</td><td>16.46</td><td>0    </td><td>1    </td><td>4    </td><td>4    </td></tr>\n",
       "\t<tr><th scope=row>Mazda RX4 Wag</th><td>21.0 </td><td>6    </td><td>160.0</td><td>110  </td><td>3.90 </td><td>2.875</td><td>17.02</td><td>0    </td><td>1    </td><td>4    </td><td>4    </td></tr>\n",
       "\t<tr><th scope=row>Datsun 710</th><td>22.8 </td><td>4    </td><td>108.0</td><td> 93  </td><td>3.85 </td><td>2.320</td><td>18.61</td><td>1    </td><td>1    </td><td>4    </td><td>1    </td></tr>\n",
       "\t<tr><th scope=row>Hornet 4 Drive</th><td>21.4 </td><td>6    </td><td>258.0</td><td>110  </td><td>3.08 </td><td>3.215</td><td>19.44</td><td>1    </td><td>0    </td><td>3    </td><td>1    </td></tr>\n",
       "\t<tr><th scope=row>Hornet Sportabout</th><td>18.7 </td><td>8    </td><td>360.0</td><td>175  </td><td>3.15 </td><td>3.440</td><td>17.02</td><td>0    </td><td>0    </td><td>3    </td><td>2    </td></tr>\n",
       "\t<tr><th scope=row>Valiant</th><td>18.1 </td><td>6    </td><td>225.0</td><td>105  </td><td>2.76 </td><td>3.460</td><td>20.22</td><td>1    </td><td>0    </td><td>3    </td><td>1    </td></tr>\n",
       "\t<tr><th scope=row>Duster 360</th><td>14.3 </td><td>8    </td><td>360.0</td><td>245  </td><td>3.21 </td><td>3.570</td><td>15.84</td><td>0    </td><td>0    </td><td>3    </td><td>4    </td></tr>\n",
       "\t<tr><th scope=row>Merc 240D</th><td>24.4 </td><td>4    </td><td>146.7</td><td> 62  </td><td>3.69 </td><td>3.190</td><td>20.00</td><td>1    </td><td>0    </td><td>4    </td><td>2    </td></tr>\n",
       "\t<tr><th scope=row>Merc 230</th><td>22.8 </td><td>4    </td><td>140.8</td><td> 95  </td><td>3.92 </td><td>3.150</td><td>22.90</td><td>1    </td><td>0    </td><td>4    </td><td>2    </td></tr>\n",
       "\t<tr><th scope=row>Merc 280</th><td>19.2 </td><td>6    </td><td>167.6</td><td>123  </td><td>3.92 </td><td>3.440</td><td>18.30</td><td>1    </td><td>0    </td><td>4    </td><td>4    </td></tr>\n",
       "\t<tr><th scope=row>Merc 280C</th><td>17.8 </td><td>6    </td><td>167.6</td><td>123  </td><td>3.92 </td><td>3.440</td><td>18.90</td><td>1    </td><td>0    </td><td>4    </td><td>4    </td></tr>\n",
       "\t<tr><th scope=row>Merc 450SE</th><td>16.4 </td><td>8    </td><td>275.8</td><td>180  </td><td>3.07 </td><td>4.070</td><td>17.40</td><td>0    </td><td>0    </td><td>3    </td><td>3    </td></tr>\n",
       "\t<tr><th scope=row>Merc 450SL</th><td>17.3 </td><td>8    </td><td>275.8</td><td>180  </td><td>3.07 </td><td>3.730</td><td>17.60</td><td>0    </td><td>0    </td><td>3    </td><td>3    </td></tr>\n",
       "\t<tr><th scope=row>Merc 450SLC</th><td>15.2 </td><td>8    </td><td>275.8</td><td>180  </td><td>3.07 </td><td>3.780</td><td>18.00</td><td>0    </td><td>0    </td><td>3    </td><td>3    </td></tr>\n",
       "\t<tr><th scope=row>Cadillac Fleetwood</th><td>10.4 </td><td>8    </td><td>472.0</td><td>205  </td><td>2.93 </td><td>5.250</td><td>17.98</td><td>0    </td><td>0    </td><td>3    </td><td>4    </td></tr>\n",
       "\t<tr><th scope=row>Lincoln Continental</th><td>10.4 </td><td>8    </td><td>460.0</td><td>215  </td><td>3.00 </td><td>5.424</td><td>17.82</td><td>0    </td><td>0    </td><td>3    </td><td>4    </td></tr>\n",
       "\t<tr><th scope=row>Chrysler Imperial</th><td>14.7 </td><td>8    </td><td>440.0</td><td>230  </td><td>3.23 </td><td>5.345</td><td>17.42</td><td>0    </td><td>0    </td><td>3    </td><td>4    </td></tr>\n",
       "\t<tr><th scope=row>Fiat 128</th><td>32.4 </td><td>4    </td><td> 78.7</td><td> 66  </td><td>4.08 </td><td>2.200</td><td>19.47</td><td>1    </td><td>1    </td><td>4    </td><td>1    </td></tr>\n",
       "\t<tr><th scope=row>Honda Civic</th><td>30.4 </td><td>4    </td><td> 75.7</td><td> 52  </td><td>4.93 </td><td>1.615</td><td>18.52</td><td>1    </td><td>1    </td><td>4    </td><td>2    </td></tr>\n",
       "\t<tr><th scope=row>Toyota Corolla</th><td>33.9 </td><td>4    </td><td> 71.1</td><td> 65  </td><td>4.22 </td><td>1.835</td><td>19.90</td><td>1    </td><td>1    </td><td>4    </td><td>1    </td></tr>\n",
       "\t<tr><th scope=row>Toyota Corona</th><td>21.5 </td><td>4    </td><td>120.1</td><td> 97  </td><td>3.70 </td><td>2.465</td><td>20.01</td><td>1    </td><td>0    </td><td>3    </td><td>1    </td></tr>\n",
       "\t<tr><th scope=row>Dodge Challenger</th><td>15.5 </td><td>8    </td><td>318.0</td><td>150  </td><td>2.76 </td><td>3.520</td><td>16.87</td><td>0    </td><td>0    </td><td>3    </td><td>2    </td></tr>\n",
       "\t<tr><th scope=row>AMC Javelin</th><td>15.2 </td><td>8    </td><td>304.0</td><td>150  </td><td>3.15 </td><td>3.435</td><td>17.30</td><td>0    </td><td>0    </td><td>3    </td><td>2    </td></tr>\n",
       "\t<tr><th scope=row>Camaro Z28</th><td>13.3 </td><td>8    </td><td>350.0</td><td>245  </td><td>3.73 </td><td>3.840</td><td>15.41</td><td>0    </td><td>0    </td><td>3    </td><td>4    </td></tr>\n",
       "\t<tr><th scope=row>Pontiac Firebird</th><td>19.2 </td><td>8    </td><td>400.0</td><td>175  </td><td>3.08 </td><td>3.845</td><td>17.05</td><td>0    </td><td>0    </td><td>3    </td><td>2    </td></tr>\n",
       "\t<tr><th scope=row>Fiat X1-9</th><td>27.3 </td><td>4    </td><td> 79.0</td><td> 66  </td><td>4.08 </td><td>1.935</td><td>18.90</td><td>1    </td><td>1    </td><td>4    </td><td>1    </td></tr>\n",
       "\t<tr><th scope=row>Porsche 914-2</th><td>26.0 </td><td>4    </td><td>120.3</td><td> 91  </td><td>4.43 </td><td>2.140</td><td>16.70</td><td>0    </td><td>1    </td><td>5    </td><td>2    </td></tr>\n",
       "\t<tr><th scope=row>Lotus Europa</th><td>30.4 </td><td>4    </td><td> 95.1</td><td>113  </td><td>3.77 </td><td>1.513</td><td>16.90</td><td>1    </td><td>1    </td><td>5    </td><td>2    </td></tr>\n",
       "\t<tr><th scope=row>Ford Pantera L</th><td>15.8 </td><td>8    </td><td>351.0</td><td>264  </td><td>4.22 </td><td>3.170</td><td>14.50</td><td>0    </td><td>1    </td><td>5    </td><td>4    </td></tr>\n",
       "\t<tr><th scope=row>Ferrari Dino</th><td>19.7 </td><td>6    </td><td>145.0</td><td>175  </td><td>3.62 </td><td>2.770</td><td>15.50</td><td>0    </td><td>1    </td><td>5    </td><td>6    </td></tr>\n",
       "\t<tr><th scope=row>Maserati Bora</th><td>15.0 </td><td>8    </td><td>301.0</td><td>335  </td><td>3.54 </td><td>3.570</td><td>14.60</td><td>0    </td><td>1    </td><td>5    </td><td>8    </td></tr>\n",
       "\t<tr><th scope=row>Volvo 142E</th><td>21.4 </td><td>4    </td><td>121.0</td><td>109  </td><td>4.11 </td><td>2.780</td><td>18.60</td><td>1    </td><td>1    </td><td>4    </td><td>2    </td></tr>\n",
       "</tbody>\n",
       "</table>\n"
      ],
      "text/latex": [
       "\\begin{tabular}{r|lllllllllll}\n",
       "  & mpg & cyl & disp & hp & drat & wt & qsec & vs & am & gear & carb\\\\\n",
       "\\hline\n",
       "\tMazda RX4 & 21.0  & 6     & 160.0 & 110   & 3.90  & 2.620 & 16.46 & 0     & 1     & 4     & 4    \\\\\n",
       "\tMazda RX4 Wag & 21.0  & 6     & 160.0 & 110   & 3.90  & 2.875 & 17.02 & 0     & 1     & 4     & 4    \\\\\n",
       "\tDatsun 710 & 22.8  & 4     & 108.0 &  93   & 3.85  & 2.320 & 18.61 & 1     & 1     & 4     & 1    \\\\\n",
       "\tHornet 4 Drive & 21.4  & 6     & 258.0 & 110   & 3.08  & 3.215 & 19.44 & 1     & 0     & 3     & 1    \\\\\n",
       "\tHornet Sportabout & 18.7  & 8     & 360.0 & 175   & 3.15  & 3.440 & 17.02 & 0     & 0     & 3     & 2    \\\\\n",
       "\tValiant & 18.1  & 6     & 225.0 & 105   & 2.76  & 3.460 & 20.22 & 1     & 0     & 3     & 1    \\\\\n",
       "\tDuster 360 & 14.3  & 8     & 360.0 & 245   & 3.21  & 3.570 & 15.84 & 0     & 0     & 3     & 4    \\\\\n",
       "\tMerc 240D & 24.4  & 4     & 146.7 &  62   & 3.69  & 3.190 & 20.00 & 1     & 0     & 4     & 2    \\\\\n",
       "\tMerc 230 & 22.8  & 4     & 140.8 &  95   & 3.92  & 3.150 & 22.90 & 1     & 0     & 4     & 2    \\\\\n",
       "\tMerc 280 & 19.2  & 6     & 167.6 & 123   & 3.92  & 3.440 & 18.30 & 1     & 0     & 4     & 4    \\\\\n",
       "\tMerc 280C & 17.8  & 6     & 167.6 & 123   & 3.92  & 3.440 & 18.90 & 1     & 0     & 4     & 4    \\\\\n",
       "\tMerc 450SE & 16.4  & 8     & 275.8 & 180   & 3.07  & 4.070 & 17.40 & 0     & 0     & 3     & 3    \\\\\n",
       "\tMerc 450SL & 17.3  & 8     & 275.8 & 180   & 3.07  & 3.730 & 17.60 & 0     & 0     & 3     & 3    \\\\\n",
       "\tMerc 450SLC & 15.2  & 8     & 275.8 & 180   & 3.07  & 3.780 & 18.00 & 0     & 0     & 3     & 3    \\\\\n",
       "\tCadillac Fleetwood & 10.4  & 8     & 472.0 & 205   & 2.93  & 5.250 & 17.98 & 0     & 0     & 3     & 4    \\\\\n",
       "\tLincoln Continental & 10.4  & 8     & 460.0 & 215   & 3.00  & 5.424 & 17.82 & 0     & 0     & 3     & 4    \\\\\n",
       "\tChrysler Imperial & 14.7  & 8     & 440.0 & 230   & 3.23  & 5.345 & 17.42 & 0     & 0     & 3     & 4    \\\\\n",
       "\tFiat 128 & 32.4  & 4     &  78.7 &  66   & 4.08  & 2.200 & 19.47 & 1     & 1     & 4     & 1    \\\\\n",
       "\tHonda Civic & 30.4  & 4     &  75.7 &  52   & 4.93  & 1.615 & 18.52 & 1     & 1     & 4     & 2    \\\\\n",
       "\tToyota Corolla & 33.9  & 4     &  71.1 &  65   & 4.22  & 1.835 & 19.90 & 1     & 1     & 4     & 1    \\\\\n",
       "\tToyota Corona & 21.5  & 4     & 120.1 &  97   & 3.70  & 2.465 & 20.01 & 1     & 0     & 3     & 1    \\\\\n",
       "\tDodge Challenger & 15.5  & 8     & 318.0 & 150   & 2.76  & 3.520 & 16.87 & 0     & 0     & 3     & 2    \\\\\n",
       "\tAMC Javelin & 15.2  & 8     & 304.0 & 150   & 3.15  & 3.435 & 17.30 & 0     & 0     & 3     & 2    \\\\\n",
       "\tCamaro Z28 & 13.3  & 8     & 350.0 & 245   & 3.73  & 3.840 & 15.41 & 0     & 0     & 3     & 4    \\\\\n",
       "\tPontiac Firebird & 19.2  & 8     & 400.0 & 175   & 3.08  & 3.845 & 17.05 & 0     & 0     & 3     & 2    \\\\\n",
       "\tFiat X1-9 & 27.3  & 4     &  79.0 &  66   & 4.08  & 1.935 & 18.90 & 1     & 1     & 4     & 1    \\\\\n",
       "\tPorsche 914-2 & 26.0  & 4     & 120.3 &  91   & 4.43  & 2.140 & 16.70 & 0     & 1     & 5     & 2    \\\\\n",
       "\tLotus Europa & 30.4  & 4     &  95.1 & 113   & 3.77  & 1.513 & 16.90 & 1     & 1     & 5     & 2    \\\\\n",
       "\tFord Pantera L & 15.8  & 8     & 351.0 & 264   & 4.22  & 3.170 & 14.50 & 0     & 1     & 5     & 4    \\\\\n",
       "\tFerrari Dino & 19.7  & 6     & 145.0 & 175   & 3.62  & 2.770 & 15.50 & 0     & 1     & 5     & 6    \\\\\n",
       "\tMaserati Bora & 15.0  & 8     & 301.0 & 335   & 3.54  & 3.570 & 14.60 & 0     & 1     & 5     & 8    \\\\\n",
       "\tVolvo 142E & 21.4  & 4     & 121.0 & 109   & 4.11  & 2.780 & 18.60 & 1     & 1     & 4     & 2    \\\\\n",
       "\\end{tabular}\n"
      ],
      "text/markdown": [
       "\n",
       "| <!--/--> | mpg | cyl | disp | hp | drat | wt | qsec | vs | am | gear | carb |\n",
       "|---|---|---|---|---|---|---|---|---|---|---|---|\n",
       "| Mazda RX4 | 21.0  | 6     | 160.0 | 110   | 3.90  | 2.620 | 16.46 | 0     | 1     | 4     | 4     |\n",
       "| Mazda RX4 Wag | 21.0  | 6     | 160.0 | 110   | 3.90  | 2.875 | 17.02 | 0     | 1     | 4     | 4     |\n",
       "| Datsun 710 | 22.8  | 4     | 108.0 |  93   | 3.85  | 2.320 | 18.61 | 1     | 1     | 4     | 1     |\n",
       "| Hornet 4 Drive | 21.4  | 6     | 258.0 | 110   | 3.08  | 3.215 | 19.44 | 1     | 0     | 3     | 1     |\n",
       "| Hornet Sportabout | 18.7  | 8     | 360.0 | 175   | 3.15  | 3.440 | 17.02 | 0     | 0     | 3     | 2     |\n",
       "| Valiant | 18.1  | 6     | 225.0 | 105   | 2.76  | 3.460 | 20.22 | 1     | 0     | 3     | 1     |\n",
       "| Duster 360 | 14.3  | 8     | 360.0 | 245   | 3.21  | 3.570 | 15.84 | 0     | 0     | 3     | 4     |\n",
       "| Merc 240D | 24.4  | 4     | 146.7 |  62   | 3.69  | 3.190 | 20.00 | 1     | 0     | 4     | 2     |\n",
       "| Merc 230 | 22.8  | 4     | 140.8 |  95   | 3.92  | 3.150 | 22.90 | 1     | 0     | 4     | 2     |\n",
       "| Merc 280 | 19.2  | 6     | 167.6 | 123   | 3.92  | 3.440 | 18.30 | 1     | 0     | 4     | 4     |\n",
       "| Merc 280C | 17.8  | 6     | 167.6 | 123   | 3.92  | 3.440 | 18.90 | 1     | 0     | 4     | 4     |\n",
       "| Merc 450SE | 16.4  | 8     | 275.8 | 180   | 3.07  | 4.070 | 17.40 | 0     | 0     | 3     | 3     |\n",
       "| Merc 450SL | 17.3  | 8     | 275.8 | 180   | 3.07  | 3.730 | 17.60 | 0     | 0     | 3     | 3     |\n",
       "| Merc 450SLC | 15.2  | 8     | 275.8 | 180   | 3.07  | 3.780 | 18.00 | 0     | 0     | 3     | 3     |\n",
       "| Cadillac Fleetwood | 10.4  | 8     | 472.0 | 205   | 2.93  | 5.250 | 17.98 | 0     | 0     | 3     | 4     |\n",
       "| Lincoln Continental | 10.4  | 8     | 460.0 | 215   | 3.00  | 5.424 | 17.82 | 0     | 0     | 3     | 4     |\n",
       "| Chrysler Imperial | 14.7  | 8     | 440.0 | 230   | 3.23  | 5.345 | 17.42 | 0     | 0     | 3     | 4     |\n",
       "| Fiat 128 | 32.4  | 4     |  78.7 |  66   | 4.08  | 2.200 | 19.47 | 1     | 1     | 4     | 1     |\n",
       "| Honda Civic | 30.4  | 4     |  75.7 |  52   | 4.93  | 1.615 | 18.52 | 1     | 1     | 4     | 2     |\n",
       "| Toyota Corolla | 33.9  | 4     |  71.1 |  65   | 4.22  | 1.835 | 19.90 | 1     | 1     | 4     | 1     |\n",
       "| Toyota Corona | 21.5  | 4     | 120.1 |  97   | 3.70  | 2.465 | 20.01 | 1     | 0     | 3     | 1     |\n",
       "| Dodge Challenger | 15.5  | 8     | 318.0 | 150   | 2.76  | 3.520 | 16.87 | 0     | 0     | 3     | 2     |\n",
       "| AMC Javelin | 15.2  | 8     | 304.0 | 150   | 3.15  | 3.435 | 17.30 | 0     | 0     | 3     | 2     |\n",
       "| Camaro Z28 | 13.3  | 8     | 350.0 | 245   | 3.73  | 3.840 | 15.41 | 0     | 0     | 3     | 4     |\n",
       "| Pontiac Firebird | 19.2  | 8     | 400.0 | 175   | 3.08  | 3.845 | 17.05 | 0     | 0     | 3     | 2     |\n",
       "| Fiat X1-9 | 27.3  | 4     |  79.0 |  66   | 4.08  | 1.935 | 18.90 | 1     | 1     | 4     | 1     |\n",
       "| Porsche 914-2 | 26.0  | 4     | 120.3 |  91   | 4.43  | 2.140 | 16.70 | 0     | 1     | 5     | 2     |\n",
       "| Lotus Europa | 30.4  | 4     |  95.1 | 113   | 3.77  | 1.513 | 16.90 | 1     | 1     | 5     | 2     |\n",
       "| Ford Pantera L | 15.8  | 8     | 351.0 | 264   | 4.22  | 3.170 | 14.50 | 0     | 1     | 5     | 4     |\n",
       "| Ferrari Dino | 19.7  | 6     | 145.0 | 175   | 3.62  | 2.770 | 15.50 | 0     | 1     | 5     | 6     |\n",
       "| Maserati Bora | 15.0  | 8     | 301.0 | 335   | 3.54  | 3.570 | 14.60 | 0     | 1     | 5     | 8     |\n",
       "| Volvo 142E | 21.4  | 4     | 121.0 | 109   | 4.11  | 2.780 | 18.60 | 1     | 1     | 4     | 2     |\n",
       "\n"
      ],
      "text/plain": [
       "                    mpg  cyl disp  hp  drat wt    qsec  vs am gear carb\n",
       "Mazda RX4           21.0 6   160.0 110 3.90 2.620 16.46 0  1  4    4   \n",
       "Mazda RX4 Wag       21.0 6   160.0 110 3.90 2.875 17.02 0  1  4    4   \n",
       "Datsun 710          22.8 4   108.0  93 3.85 2.320 18.61 1  1  4    1   \n",
       "Hornet 4 Drive      21.4 6   258.0 110 3.08 3.215 19.44 1  0  3    1   \n",
       "Hornet Sportabout   18.7 8   360.0 175 3.15 3.440 17.02 0  0  3    2   \n",
       "Valiant             18.1 6   225.0 105 2.76 3.460 20.22 1  0  3    1   \n",
       "Duster 360          14.3 8   360.0 245 3.21 3.570 15.84 0  0  3    4   \n",
       "Merc 240D           24.4 4   146.7  62 3.69 3.190 20.00 1  0  4    2   \n",
       "Merc 230            22.8 4   140.8  95 3.92 3.150 22.90 1  0  4    2   \n",
       "Merc 280            19.2 6   167.6 123 3.92 3.440 18.30 1  0  4    4   \n",
       "Merc 280C           17.8 6   167.6 123 3.92 3.440 18.90 1  0  4    4   \n",
       "Merc 450SE          16.4 8   275.8 180 3.07 4.070 17.40 0  0  3    3   \n",
       "Merc 450SL          17.3 8   275.8 180 3.07 3.730 17.60 0  0  3    3   \n",
       "Merc 450SLC         15.2 8   275.8 180 3.07 3.780 18.00 0  0  3    3   \n",
       "Cadillac Fleetwood  10.4 8   472.0 205 2.93 5.250 17.98 0  0  3    4   \n",
       "Lincoln Continental 10.4 8   460.0 215 3.00 5.424 17.82 0  0  3    4   \n",
       "Chrysler Imperial   14.7 8   440.0 230 3.23 5.345 17.42 0  0  3    4   \n",
       "Fiat 128            32.4 4    78.7  66 4.08 2.200 19.47 1  1  4    1   \n",
       "Honda Civic         30.4 4    75.7  52 4.93 1.615 18.52 1  1  4    2   \n",
       "Toyota Corolla      33.9 4    71.1  65 4.22 1.835 19.90 1  1  4    1   \n",
       "Toyota Corona       21.5 4   120.1  97 3.70 2.465 20.01 1  0  3    1   \n",
       "Dodge Challenger    15.5 8   318.0 150 2.76 3.520 16.87 0  0  3    2   \n",
       "AMC Javelin         15.2 8   304.0 150 3.15 3.435 17.30 0  0  3    2   \n",
       "Camaro Z28          13.3 8   350.0 245 3.73 3.840 15.41 0  0  3    4   \n",
       "Pontiac Firebird    19.2 8   400.0 175 3.08 3.845 17.05 0  0  3    2   \n",
       "Fiat X1-9           27.3 4    79.0  66 4.08 1.935 18.90 1  1  4    1   \n",
       "Porsche 914-2       26.0 4   120.3  91 4.43 2.140 16.70 0  1  5    2   \n",
       "Lotus Europa        30.4 4    95.1 113 3.77 1.513 16.90 1  1  5    2   \n",
       "Ford Pantera L      15.8 8   351.0 264 4.22 3.170 14.50 0  1  5    4   \n",
       "Ferrari Dino        19.7 6   145.0 175 3.62 2.770 15.50 0  1  5    6   \n",
       "Maserati Bora       15.0 8   301.0 335 3.54 3.570 14.60 0  1  5    8   \n",
       "Volvo 142E          21.4 4   121.0 109 4.11 2.780 18.60 1  1  4    2   "
      ]
     },
     "metadata": {},
     "output_type": "display_data"
    }
   ],
   "source": [
    "mtcars"
   ]
  },
  {
   "cell_type": "code",
   "execution_count": 10,
   "id": "6e965b54",
   "metadata": {},
   "outputs": [
    {
     "data": {
      "text/html": [
       "<table>\n",
       "<thead><tr><th></th><th scope=col>mpg</th><th scope=col>cyl</th><th scope=col>disp</th><th scope=col>hp</th><th scope=col>drat</th><th scope=col>wt</th><th scope=col>qsec</th><th scope=col>vs</th><th scope=col>am</th><th scope=col>gear</th><th scope=col>carb</th></tr></thead>\n",
       "<tbody>\n",
       "\t<tr><th scope=row>Mazda RX4</th><td>21.0 </td><td>6    </td><td>160  </td><td>110  </td><td>3.90 </td><td>2.620</td><td>16.46</td><td>0    </td><td>1    </td><td>4    </td><td>4    </td></tr>\n",
       "\t<tr><th scope=row>Mazda RX4 Wag</th><td>21.0 </td><td>6    </td><td>160  </td><td>110  </td><td>3.90 </td><td>2.875</td><td>17.02</td><td>0    </td><td>1    </td><td>4    </td><td>4    </td></tr>\n",
       "\t<tr><th scope=row>Datsun 710</th><td>22.8 </td><td>4    </td><td>108  </td><td> 93  </td><td>3.85 </td><td>2.320</td><td>18.61</td><td>1    </td><td>1    </td><td>4    </td><td>1    </td></tr>\n",
       "</tbody>\n",
       "</table>\n"
      ],
      "text/latex": [
       "\\begin{tabular}{r|lllllllllll}\n",
       "  & mpg & cyl & disp & hp & drat & wt & qsec & vs & am & gear & carb\\\\\n",
       "\\hline\n",
       "\tMazda RX4 & 21.0  & 6     & 160   & 110   & 3.90  & 2.620 & 16.46 & 0     & 1     & 4     & 4    \\\\\n",
       "\tMazda RX4 Wag & 21.0  & 6     & 160   & 110   & 3.90  & 2.875 & 17.02 & 0     & 1     & 4     & 4    \\\\\n",
       "\tDatsun 710 & 22.8  & 4     & 108   &  93   & 3.85  & 2.320 & 18.61 & 1     & 1     & 4     & 1    \\\\\n",
       "\\end{tabular}\n"
      ],
      "text/markdown": [
       "\n",
       "| <!--/--> | mpg | cyl | disp | hp | drat | wt | qsec | vs | am | gear | carb |\n",
       "|---|---|---|---|---|---|---|---|---|---|---|---|\n",
       "| Mazda RX4 | 21.0  | 6     | 160   | 110   | 3.90  | 2.620 | 16.46 | 0     | 1     | 4     | 4     |\n",
       "| Mazda RX4 Wag | 21.0  | 6     | 160   | 110   | 3.90  | 2.875 | 17.02 | 0     | 1     | 4     | 4     |\n",
       "| Datsun 710 | 22.8  | 4     | 108   |  93   | 3.85  | 2.320 | 18.61 | 1     | 1     | 4     | 1     |\n",
       "\n"
      ],
      "text/plain": [
       "              mpg  cyl disp hp  drat wt    qsec  vs am gear carb\n",
       "Mazda RX4     21.0 6   160  110 3.90 2.620 16.46 0  1  4    4   \n",
       "Mazda RX4 Wag 21.0 6   160  110 3.90 2.875 17.02 0  1  4    4   \n",
       "Datsun 710    22.8 4   108   93 3.85 2.320 18.61 1  1  4    1   "
      ]
     },
     "metadata": {},
     "output_type": "display_data"
    }
   ],
   "source": [
    "head(mtcars, 3)"
   ]
  },
  {
   "cell_type": "code",
   "execution_count": 9,
   "id": "7ae30c68",
   "metadata": {},
   "outputs": [
    {
     "data": {
      "text/html": [
       "<table>\n",
       "<thead><tr><th></th><th scope=col>mpg</th><th scope=col>cyl</th><th scope=col>disp</th><th scope=col>hp</th><th scope=col>drat</th><th scope=col>wt</th><th scope=col>qsec</th><th scope=col>vs</th><th scope=col>am</th><th scope=col>gear</th><th scope=col>carb</th></tr></thead>\n",
       "<tbody>\n",
       "\t<tr><th scope=row>Porsche 914-2</th><td>26.0 </td><td>4    </td><td>120.3</td><td> 91  </td><td>4.43 </td><td>2.140</td><td>16.7 </td><td>0    </td><td>1    </td><td>5    </td><td>2    </td></tr>\n",
       "\t<tr><th scope=row>Lotus Europa</th><td>30.4 </td><td>4    </td><td> 95.1</td><td>113  </td><td>3.77 </td><td>1.513</td><td>16.9 </td><td>1    </td><td>1    </td><td>5    </td><td>2    </td></tr>\n",
       "\t<tr><th scope=row>Ford Pantera L</th><td>15.8 </td><td>8    </td><td>351.0</td><td>264  </td><td>4.22 </td><td>3.170</td><td>14.5 </td><td>0    </td><td>1    </td><td>5    </td><td>4    </td></tr>\n",
       "\t<tr><th scope=row>Ferrari Dino</th><td>19.7 </td><td>6    </td><td>145.0</td><td>175  </td><td>3.62 </td><td>2.770</td><td>15.5 </td><td>0    </td><td>1    </td><td>5    </td><td>6    </td></tr>\n",
       "\t<tr><th scope=row>Maserati Bora</th><td>15.0 </td><td>8    </td><td>301.0</td><td>335  </td><td>3.54 </td><td>3.570</td><td>14.6 </td><td>0    </td><td>1    </td><td>5    </td><td>8    </td></tr>\n",
       "\t<tr><th scope=row>Volvo 142E</th><td>21.4 </td><td>4    </td><td>121.0</td><td>109  </td><td>4.11 </td><td>2.780</td><td>18.6 </td><td>1    </td><td>1    </td><td>4    </td><td>2    </td></tr>\n",
       "</tbody>\n",
       "</table>\n"
      ],
      "text/latex": [
       "\\begin{tabular}{r|lllllllllll}\n",
       "  & mpg & cyl & disp & hp & drat & wt & qsec & vs & am & gear & carb\\\\\n",
       "\\hline\n",
       "\tPorsche 914-2 & 26.0  & 4     & 120.3 &  91   & 4.43  & 2.140 & 16.7  & 0     & 1     & 5     & 2    \\\\\n",
       "\tLotus Europa & 30.4  & 4     &  95.1 & 113   & 3.77  & 1.513 & 16.9  & 1     & 1     & 5     & 2    \\\\\n",
       "\tFord Pantera L & 15.8  & 8     & 351.0 & 264   & 4.22  & 3.170 & 14.5  & 0     & 1     & 5     & 4    \\\\\n",
       "\tFerrari Dino & 19.7  & 6     & 145.0 & 175   & 3.62  & 2.770 & 15.5  & 0     & 1     & 5     & 6    \\\\\n",
       "\tMaserati Bora & 15.0  & 8     & 301.0 & 335   & 3.54  & 3.570 & 14.6  & 0     & 1     & 5     & 8    \\\\\n",
       "\tVolvo 142E & 21.4  & 4     & 121.0 & 109   & 4.11  & 2.780 & 18.6  & 1     & 1     & 4     & 2    \\\\\n",
       "\\end{tabular}\n"
      ],
      "text/markdown": [
       "\n",
       "| <!--/--> | mpg | cyl | disp | hp | drat | wt | qsec | vs | am | gear | carb |\n",
       "|---|---|---|---|---|---|---|---|---|---|---|---|\n",
       "| Porsche 914-2 | 26.0  | 4     | 120.3 |  91   | 4.43  | 2.140 | 16.7  | 0     | 1     | 5     | 2     |\n",
       "| Lotus Europa | 30.4  | 4     |  95.1 | 113   | 3.77  | 1.513 | 16.9  | 1     | 1     | 5     | 2     |\n",
       "| Ford Pantera L | 15.8  | 8     | 351.0 | 264   | 4.22  | 3.170 | 14.5  | 0     | 1     | 5     | 4     |\n",
       "| Ferrari Dino | 19.7  | 6     | 145.0 | 175   | 3.62  | 2.770 | 15.5  | 0     | 1     | 5     | 6     |\n",
       "| Maserati Bora | 15.0  | 8     | 301.0 | 335   | 3.54  | 3.570 | 14.6  | 0     | 1     | 5     | 8     |\n",
       "| Volvo 142E | 21.4  | 4     | 121.0 | 109   | 4.11  | 2.780 | 18.6  | 1     | 1     | 4     | 2     |\n",
       "\n"
      ],
      "text/plain": [
       "               mpg  cyl disp  hp  drat wt    qsec vs am gear carb\n",
       "Porsche 914-2  26.0 4   120.3  91 4.43 2.140 16.7 0  1  5    2   \n",
       "Lotus Europa   30.4 4    95.1 113 3.77 1.513 16.9 1  1  5    2   \n",
       "Ford Pantera L 15.8 8   351.0 264 4.22 3.170 14.5 0  1  5    4   \n",
       "Ferrari Dino   19.7 6   145.0 175 3.62 2.770 15.5 0  1  5    6   \n",
       "Maserati Bora  15.0 8   301.0 335 3.54 3.570 14.6 0  1  5    8   \n",
       "Volvo 142E     21.4 4   121.0 109 4.11 2.780 18.6 1  1  4    2   "
      ]
     },
     "metadata": {},
     "output_type": "display_data"
    }
   ],
   "source": [
    "tail(mtcars)"
   ]
  },
  {
   "cell_type": "code",
   "execution_count": 11,
   "id": "c080866b",
   "metadata": {},
   "outputs": [
    {
     "data": {
      "text/html": [
       "<ol class=list-inline>\n",
       "\t<li>'mpg'</li>\n",
       "\t<li>'cyl'</li>\n",
       "\t<li>'disp'</li>\n",
       "\t<li>'hp'</li>\n",
       "\t<li>'drat'</li>\n",
       "\t<li>'wt'</li>\n",
       "\t<li>'qsec'</li>\n",
       "\t<li>'vs'</li>\n",
       "\t<li>'am'</li>\n",
       "\t<li>'gear'</li>\n",
       "\t<li>'carb'</li>\n",
       "</ol>\n"
      ],
      "text/latex": [
       "\\begin{enumerate*}\n",
       "\\item 'mpg'\n",
       "\\item 'cyl'\n",
       "\\item 'disp'\n",
       "\\item 'hp'\n",
       "\\item 'drat'\n",
       "\\item 'wt'\n",
       "\\item 'qsec'\n",
       "\\item 'vs'\n",
       "\\item 'am'\n",
       "\\item 'gear'\n",
       "\\item 'carb'\n",
       "\\end{enumerate*}\n"
      ],
      "text/markdown": [
       "1. 'mpg'\n",
       "2. 'cyl'\n",
       "3. 'disp'\n",
       "4. 'hp'\n",
       "5. 'drat'\n",
       "6. 'wt'\n",
       "7. 'qsec'\n",
       "8. 'vs'\n",
       "9. 'am'\n",
       "10. 'gear'\n",
       "11. 'carb'\n",
       "\n",
       "\n"
      ],
      "text/plain": [
       " [1] \"mpg\"  \"cyl\"  \"disp\" \"hp\"   \"drat\" \"wt\"   \"qsec\" \"vs\"   \"am\"   \"gear\"\n",
       "[11] \"carb\""
      ]
     },
     "metadata": {},
     "output_type": "display_data"
    }
   ],
   "source": [
    "names(mtcars)"
   ]
  },
  {
   "cell_type": "code",
   "execution_count": 13,
   "id": "26d03c2d",
   "metadata": {},
   "outputs": [
    {
     "name": "stdout",
     "output_type": "stream",
     "text": [
      "'data.frame':\t32 obs. of  11 variables:\n",
      " $ mpg : num  21 21 22.8 21.4 18.7 18.1 14.3 24.4 22.8 19.2 ...\n",
      " $ cyl : num  6 6 4 6 8 6 8 4 4 6 ...\n",
      " $ disp: num  160 160 108 258 360 ...\n",
      " $ hp  : num  110 110 93 110 175 105 245 62 95 123 ...\n",
      " $ drat: num  3.9 3.9 3.85 3.08 3.15 2.76 3.21 3.69 3.92 3.92 ...\n",
      " $ wt  : num  2.62 2.88 2.32 3.21 3.44 ...\n",
      " $ qsec: num  16.5 17 18.6 19.4 17 ...\n",
      " $ vs  : num  0 0 1 1 0 1 0 1 1 1 ...\n",
      " $ am  : num  1 1 1 0 0 0 0 0 0 0 ...\n",
      " $ gear: num  4 4 4 3 3 3 3 4 4 4 ...\n",
      " $ carb: num  4 4 1 1 2 1 4 2 2 4 ...\n"
     ]
    }
   ],
   "source": [
    "str(mtcars)"
   ]
  },
  {
   "cell_type": "code",
   "execution_count": 14,
   "id": "40ebd4fb",
   "metadata": {},
   "outputs": [
    {
     "data": {
      "text/html": [
       "32"
      ],
      "text/latex": [
       "32"
      ],
      "text/markdown": [
       "32"
      ],
      "text/plain": [
       "[1] 32"
      ]
     },
     "metadata": {},
     "output_type": "display_data"
    },
    {
     "data": {
      "text/html": [
       "11"
      ],
      "text/latex": [
       "11"
      ],
      "text/markdown": [
       "11"
      ],
      "text/plain": [
       "[1] 11"
      ]
     },
     "metadata": {},
     "output_type": "display_data"
    },
    {
     "data": {
      "text/html": [
       "<ol class=list-inline>\n",
       "\t<li>32</li>\n",
       "\t<li>11</li>\n",
       "</ol>\n"
      ],
      "text/latex": [
       "\\begin{enumerate*}\n",
       "\\item 32\n",
       "\\item 11\n",
       "\\end{enumerate*}\n"
      ],
      "text/markdown": [
       "1. 32\n",
       "2. 11\n",
       "\n",
       "\n"
      ],
      "text/plain": [
       "[1] 32 11"
      ]
     },
     "metadata": {},
     "output_type": "display_data"
    }
   ],
   "source": [
    "nrow(mtcars)\n",
    "\n",
    "ncol(mtcars)\n",
    "\n",
    "dim(mtcars)"
   ]
  },
  {
   "cell_type": "code",
   "execution_count": 15,
   "id": "82645224",
   "metadata": {},
   "outputs": [],
   "source": [
    "#Selecionando apenas algumas colunas\n",
    "\n",
    "subset <- mtcars[c(\"mpg\", \"cyl\")]"
   ]
  },
  {
   "cell_type": "code",
   "execution_count": 16,
   "id": "9a76c416",
   "metadata": {},
   "outputs": [
    {
     "data": {
      "text/html": [
       "<table>\n",
       "<thead><tr><th></th><th scope=col>mpg</th><th scope=col>cyl</th></tr></thead>\n",
       "<tbody>\n",
       "\t<tr><th scope=row>Mazda RX4</th><td>21.0</td><td>6   </td></tr>\n",
       "\t<tr><th scope=row>Mazda RX4 Wag</th><td>21.0</td><td>6   </td></tr>\n",
       "\t<tr><th scope=row>Datsun 710</th><td>22.8</td><td>4   </td></tr>\n",
       "\t<tr><th scope=row>Hornet 4 Drive</th><td>21.4</td><td>6   </td></tr>\n",
       "\t<tr><th scope=row>Hornet Sportabout</th><td>18.7</td><td>8   </td></tr>\n",
       "\t<tr><th scope=row>Valiant</th><td>18.1</td><td>6   </td></tr>\n",
       "</tbody>\n",
       "</table>\n"
      ],
      "text/latex": [
       "\\begin{tabular}{r|ll}\n",
       "  & mpg & cyl\\\\\n",
       "\\hline\n",
       "\tMazda RX4 & 21.0 & 6   \\\\\n",
       "\tMazda RX4 Wag & 21.0 & 6   \\\\\n",
       "\tDatsun 710 & 22.8 & 4   \\\\\n",
       "\tHornet 4 Drive & 21.4 & 6   \\\\\n",
       "\tHornet Sportabout & 18.7 & 8   \\\\\n",
       "\tValiant & 18.1 & 6   \\\\\n",
       "\\end{tabular}\n"
      ],
      "text/markdown": [
       "\n",
       "| <!--/--> | mpg | cyl |\n",
       "|---|---|---|\n",
       "| Mazda RX4 | 21.0 | 6    |\n",
       "| Mazda RX4 Wag | 21.0 | 6    |\n",
       "| Datsun 710 | 22.8 | 4    |\n",
       "| Hornet 4 Drive | 21.4 | 6    |\n",
       "| Hornet Sportabout | 18.7 | 8    |\n",
       "| Valiant | 18.1 | 6    |\n",
       "\n"
      ],
      "text/plain": [
       "                  mpg  cyl\n",
       "Mazda RX4         21.0 6  \n",
       "Mazda RX4 Wag     21.0 6  \n",
       "Datsun 710        22.8 4  \n",
       "Hornet 4 Drive    21.4 6  \n",
       "Hornet Sportabout 18.7 8  \n",
       "Valiant           18.1 6  "
      ]
     },
     "metadata": {},
     "output_type": "display_data"
    }
   ],
   "source": [
    "head(subset)"
   ]
  },
  {
   "cell_type": "code",
   "execution_count": 17,
   "id": "699d2b78",
   "metadata": {},
   "outputs": [
    {
     "data": {
      "text/html": [
       "<table>\n",
       "<thead><tr><th></th><th scope=col>mpg</th><th scope=col>cyl</th><th scope=col>disp</th><th scope=col>hp</th><th scope=col>drat</th><th scope=col>wt</th><th scope=col>qsec</th><th scope=col>vs</th><th scope=col>am</th><th scope=col>gear</th><th scope=col>carb</th></tr></thead>\n",
       "<tbody>\n",
       "\t<tr><th scope=row>Hornet Sportabout</th><td>18.7 </td><td>8    </td><td>360.0</td><td>175  </td><td>3.15 </td><td>3.44 </td><td>17.02</td><td>0    </td><td>0    </td><td>3    </td><td>2    </td></tr>\n",
       "\t<tr><th scope=row>Merc 240D</th><td>24.4 </td><td>4    </td><td>146.7</td><td> 62  </td><td>3.69 </td><td>3.19 </td><td>20.00</td><td>1    </td><td>0    </td><td>4    </td><td>2    </td></tr>\n",
       "</tbody>\n",
       "</table>\n"
      ],
      "text/latex": [
       "\\begin{tabular}{r|lllllllllll}\n",
       "  & mpg & cyl & disp & hp & drat & wt & qsec & vs & am & gear & carb\\\\\n",
       "\\hline\n",
       "\tHornet Sportabout & 18.7  & 8     & 360.0 & 175   & 3.15  & 3.44  & 17.02 & 0     & 0     & 3     & 2    \\\\\n",
       "\tMerc 240D & 24.4  & 4     & 146.7 &  62   & 3.69  & 3.19  & 20.00 & 1     & 0     & 4     & 2    \\\\\n",
       "\\end{tabular}\n"
      ],
      "text/markdown": [
       "\n",
       "| <!--/--> | mpg | cyl | disp | hp | drat | wt | qsec | vs | am | gear | carb |\n",
       "|---|---|---|---|---|---|---|---|---|---|---|---|\n",
       "| Hornet Sportabout | 18.7  | 8     | 360.0 | 175   | 3.15  | 3.44  | 17.02 | 0     | 0     | 3     | 2     |\n",
       "| Merc 240D | 24.4  | 4     | 146.7 |  62   | 3.69  | 3.19  | 20.00 | 1     | 0     | 4     | 2     |\n",
       "\n"
      ],
      "text/plain": [
       "                  mpg  cyl disp  hp  drat wt   qsec  vs am gear carb\n",
       "Hornet Sportabout 18.7 8   360.0 175 3.15 3.44 17.02 0  0  3    2   \n",
       "Merc 240D         24.4 4   146.7  62 3.69 3.19 20.00 1  0  4    2   "
      ]
     },
     "metadata": {},
     "output_type": "display_data"
    }
   ],
   "source": [
    "subset_rows <- mtcars[c(5, 8),]\n",
    "\n",
    "head(subset_rows)"
   ]
  },
  {
   "cell_type": "code",
   "execution_count": 20,
   "id": "f627b90d",
   "metadata": {},
   "outputs": [
    {
     "data": {
      "text/html": [
       "<table>\n",
       "<thead><tr><th></th><th scope=col>mpg</th><th scope=col>hp</th></tr></thead>\n",
       "<tbody>\n",
       "\t<tr><th scope=row>Mazda RX4</th><td>21.0</td><td>110 </td></tr>\n",
       "\t<tr><th scope=row>Datsun 710</th><td>22.8</td><td> 93 </td></tr>\n",
       "\t<tr><th scope=row>Merc 280</th><td>19.2</td><td>123 </td></tr>\n",
       "</tbody>\n",
       "</table>\n"
      ],
      "text/latex": [
       "\\begin{tabular}{r|ll}\n",
       "  & mpg & hp\\\\\n",
       "\\hline\n",
       "\tMazda RX4 & 21.0 & 110 \\\\\n",
       "\tDatsun 710 & 22.8 &  93 \\\\\n",
       "\tMerc 280 & 19.2 & 123 \\\\\n",
       "\\end{tabular}\n"
      ],
      "text/markdown": [
       "\n",
       "| <!--/--> | mpg | hp |\n",
       "|---|---|---|\n",
       "| Mazda RX4 | 21.0 | 110  |\n",
       "| Datsun 710 | 22.8 |  93  |\n",
       "| Merc 280 | 19.2 | 123  |\n",
       "\n"
      ],
      "text/plain": [
       "           mpg  hp \n",
       "Mazda RX4  21.0 110\n",
       "Datsun 710 22.8  93\n",
       "Merc 280   19.2 123"
      ]
     },
     "metadata": {},
     "output_type": "display_data"
    }
   ],
   "source": [
    "mtcars[c(1,3,10),c(1,4)]"
   ]
  },
  {
   "cell_type": "code",
   "execution_count": 1,
   "id": "23e6e263",
   "metadata": {},
   "outputs": [
    {
     "data": {
      "text/html": [
       "'C:/Users/andre/Google Drive/Work/OMNP/R'"
      ],
      "text/latex": [
       "'C:/Users/andre/Google Drive/Work/OMNP/R'"
      ],
      "text/markdown": [
       "'C:/Users/andre/Google Drive/Work/OMNP/R'"
      ],
      "text/plain": [
       "[1] \"C:/Users/andre/Google Drive/Work/OMNP/R\""
      ]
     },
     "metadata": {},
     "output_type": "display_data"
    }
   ],
   "source": [
    "getwd()"
   ]
  },
  {
   "cell_type": "code",
   "execution_count": 2,
   "id": "bb7b8f23",
   "metadata": {},
   "outputs": [
    {
     "data": {
      "text/html": [
       "'C:/Users/andre/Google Drive/Work/OMNP/R/Dados'"
      ],
      "text/latex": [
       "'C:/Users/andre/Google Drive/Work/OMNP/R/Dados'"
      ],
      "text/markdown": [
       "'C:/Users/andre/Google Drive/Work/OMNP/R/Dados'"
      ],
      "text/plain": [
       "[1] \"C:/Users/andre/Google Drive/Work/OMNP/R/Dados\""
      ]
     },
     "metadata": {},
     "output_type": "display_data"
    }
   ],
   "source": [
    "setwd(\"Dados\")\n",
    "\n",
    "getwd()"
   ]
  },
  {
   "cell_type": "code",
   "execution_count": 3,
   "id": "1d121d07",
   "metadata": {},
   "outputs": [],
   "source": [
    "base_dados <- read.table(\"http://archive.ics.uci.edu/ml/machine-learning-databases/adult/adult.data\",\n",
    "                        header = F, sep = \",\")"
   ]
  },
  {
   "cell_type": "code",
   "execution_count": 4,
   "id": "f584f0b3",
   "metadata": {},
   "outputs": [
    {
     "data": {
      "text/html": [
       "TRUE"
      ],
      "text/latex": [
       "TRUE"
      ],
      "text/markdown": [
       "TRUE"
      ],
      "text/plain": [
       "[1] TRUE"
      ]
     },
     "metadata": {},
     "output_type": "display_data"
    }
   ],
   "source": [
    "is.data.frame(base_dados)"
   ]
  },
  {
   "cell_type": "code",
   "execution_count": 5,
   "id": "bf47c62c",
   "metadata": {},
   "outputs": [
    {
     "data": {
      "text/html": [
       "<table>\n",
       "<thead><tr><th scope=col>V1</th><th scope=col>V2</th><th scope=col>V3</th><th scope=col>V4</th><th scope=col>V5</th><th scope=col>V6</th><th scope=col>V7</th><th scope=col>V8</th><th scope=col>V9</th><th scope=col>V10</th><th scope=col>V11</th><th scope=col>V12</th><th scope=col>V13</th><th scope=col>V14</th><th scope=col>V15</th></tr></thead>\n",
       "<tbody>\n",
       "\t<tr><td>39                                                         </td><td><span style=white-space:pre-wrap> State-gov       </span>  </td><td> 77516                                                     </td><td> Bachelors                                                 </td><td>13                                                         </td><td><span style=white-space:pre-wrap> Never-married     </span></td><td><span style=white-space:pre-wrap> Adm-clerical     </span> </td><td> Not-in-family                                             </td><td> White                                                     </td><td><span style=white-space:pre-wrap> Male  </span>            </td><td>2174                                                       </td><td>0                                                          </td><td>40                                                         </td><td> United-States                                             </td><td> &lt;=50K                                                  </td></tr>\n",
       "\t<tr><td>50                                                        </td><td> Self-emp-not-inc                                         </td><td> 83311                                                    </td><td> Bachelors                                                </td><td>13                                                        </td><td> Married-civ-spouse                                       </td><td><span style=white-space:pre-wrap> Exec-managerial  </span></td><td><span style=white-space:pre-wrap> Husband      </span>    </td><td> White                                                    </td><td><span style=white-space:pre-wrap> Male  </span>           </td><td><span style=white-space:pre-wrap>   0</span>              </td><td>0                                                         </td><td>13                                                        </td><td> United-States                                            </td><td> &lt;=50K                                                 </td></tr>\n",
       "\t<tr><td>38                                                         </td><td><span style=white-space:pre-wrap> Private         </span>  </td><td>215646                                                     </td><td><span style=white-space:pre-wrap> HS-grad  </span>         </td><td> 9                                                         </td><td><span style=white-space:pre-wrap> Divorced          </span></td><td> Handlers-cleaners                                         </td><td> Not-in-family                                             </td><td> White                                                     </td><td><span style=white-space:pre-wrap> Male  </span>            </td><td><span style=white-space:pre-wrap>   0</span>               </td><td>0                                                          </td><td>40                                                         </td><td> United-States                                             </td><td> &lt;=50K                                                  </td></tr>\n",
       "\t<tr><td>53                                                       </td><td><span style=white-space:pre-wrap> Private         </span></td><td>234721                                                   </td><td><span style=white-space:pre-wrap> 11th     </span>       </td><td> 7                                                       </td><td> Married-civ-spouse                                      </td><td> Handlers-cleaners                                       </td><td><span style=white-space:pre-wrap> Husband      </span>   </td><td> Black                                                   </td><td><span style=white-space:pre-wrap> Male  </span>          </td><td><span style=white-space:pre-wrap>   0</span>             </td><td>0                                                        </td><td>40                                                       </td><td> United-States                                           </td><td> &lt;=50K                                                </td></tr>\n",
       "\t<tr><td>28                                                        </td><td><span style=white-space:pre-wrap> Private         </span> </td><td>338409                                                    </td><td> Bachelors                                                </td><td>13                                                        </td><td> Married-civ-spouse                                       </td><td><span style=white-space:pre-wrap> Prof-specialty   </span></td><td><span style=white-space:pre-wrap> Wife         </span>    </td><td> Black                                                    </td><td> Female                                                   </td><td><span style=white-space:pre-wrap>   0</span>              </td><td>0                                                         </td><td>40                                                        </td><td><span style=white-space:pre-wrap> Cuba         </span>    </td><td> &lt;=50K                                                 </td></tr>\n",
       "\t<tr><td>37                                                        </td><td><span style=white-space:pre-wrap> Private         </span> </td><td>284582                                                    </td><td><span style=white-space:pre-wrap> Masters  </span>        </td><td>14                                                        </td><td> Married-civ-spouse                                       </td><td><span style=white-space:pre-wrap> Exec-managerial  </span></td><td><span style=white-space:pre-wrap> Wife         </span>    </td><td> White                                                    </td><td> Female                                                   </td><td><span style=white-space:pre-wrap>   0</span>              </td><td>0                                                         </td><td>40                                                        </td><td> United-States                                            </td><td> &lt;=50K                                                 </td></tr>\n",
       "</tbody>\n",
       "</table>\n"
      ],
      "text/latex": [
       "\\begin{tabular}{r|lllllllllllllll}\n",
       " V1 & V2 & V3 & V4 & V5 & V6 & V7 & V8 & V9 & V10 & V11 & V12 & V13 & V14 & V15\\\\\n",
       "\\hline\n",
       "\t 39                  &  State-gov          &  77516              &  Bachelors          & 13                  &  Never-married      &  Adm-clerical       &  Not-in-family      &  White              &  Male               & 2174                & 0                   & 40                  &  United-States      &  <=50K             \\\\\n",
       "\t 50                  &  Self-emp-not-inc   &  83311              &  Bachelors          & 13                  &  Married-civ-spouse &  Exec-managerial    &  Husband            &  White              &  Male               &    0                & 0                   & 13                  &  United-States      &  <=50K             \\\\\n",
       "\t 38                  &  Private            & 215646              &  HS-grad            &  9                  &  Divorced           &  Handlers-cleaners  &  Not-in-family      &  White              &  Male               &    0                & 0                   & 40                  &  United-States      &  <=50K             \\\\\n",
       "\t 53                  &  Private            & 234721              &  11th               &  7                  &  Married-civ-spouse &  Handlers-cleaners  &  Husband            &  Black              &  Male               &    0                & 0                   & 40                  &  United-States      &  <=50K             \\\\\n",
       "\t 28                  &  Private            & 338409              &  Bachelors          & 13                  &  Married-civ-spouse &  Prof-specialty     &  Wife               &  Black              &  Female             &    0                & 0                   & 40                  &  Cuba               &  <=50K             \\\\\n",
       "\t 37                  &  Private            & 284582              &  Masters            & 14                  &  Married-civ-spouse &  Exec-managerial    &  Wife               &  White              &  Female             &    0                & 0                   & 40                  &  United-States      &  <=50K             \\\\\n",
       "\\end{tabular}\n"
      ],
      "text/markdown": [
       "\n",
       "| V1 | V2 | V3 | V4 | V5 | V6 | V7 | V8 | V9 | V10 | V11 | V12 | V13 | V14 | V15 |\n",
       "|---|---|---|---|---|---|---|---|---|---|---|---|---|---|---|\n",
       "| 39                  |  State-gov          |  77516              |  Bachelors          | 13                  |  Never-married      |  Adm-clerical       |  Not-in-family      |  White              |  Male               | 2174                | 0                   | 40                  |  United-States      |  <=50K              |\n",
       "| 50                  |  Self-emp-not-inc   |  83311              |  Bachelors          | 13                  |  Married-civ-spouse |  Exec-managerial    |  Husband            |  White              |  Male               |    0                | 0                   | 13                  |  United-States      |  <=50K              |\n",
       "| 38                  |  Private            | 215646              |  HS-grad            |  9                  |  Divorced           |  Handlers-cleaners  |  Not-in-family      |  White              |  Male               |    0                | 0                   | 40                  |  United-States      |  <=50K              |\n",
       "| 53                  |  Private            | 234721              |  11th               |  7                  |  Married-civ-spouse |  Handlers-cleaners  |  Husband            |  Black              |  Male               |    0                | 0                   | 40                  |  United-States      |  <=50K              |\n",
       "| 28                  |  Private            | 338409              |  Bachelors          | 13                  |  Married-civ-spouse |  Prof-specialty     |  Wife               |  Black              |  Female             |    0                | 0                   | 40                  |  Cuba               |  <=50K              |\n",
       "| 37                  |  Private            | 284582              |  Masters            | 14                  |  Married-civ-spouse |  Exec-managerial    |  Wife               |  White              |  Female             |    0                | 0                   | 40                  |  United-States      |  <=50K              |\n",
       "\n"
      ],
      "text/plain": [
       "  V1 V2                V3     V4         V5 V6                 \n",
       "1 39  State-gov         77516  Bachelors 13  Never-married     \n",
       "2 50  Self-emp-not-inc  83311  Bachelors 13  Married-civ-spouse\n",
       "3 38  Private          215646  HS-grad    9  Divorced          \n",
       "4 53  Private          234721  11th       7  Married-civ-spouse\n",
       "5 28  Private          338409  Bachelors 13  Married-civ-spouse\n",
       "6 37  Private          284582  Masters   14  Married-civ-spouse\n",
       "  V7                 V8             V9     V10     V11  V12 V13 V14           \n",
       "1  Adm-clerical       Not-in-family  White  Male   2174 0   40   United-States\n",
       "2  Exec-managerial    Husband        White  Male      0 0   13   United-States\n",
       "3  Handlers-cleaners  Not-in-family  White  Male      0 0   40   United-States\n",
       "4  Handlers-cleaners  Husband        Black  Male      0 0   40   United-States\n",
       "5  Prof-specialty     Wife           Black  Female    0 0   40   Cuba         \n",
       "6  Exec-managerial    Wife           White  Female    0 0   40   United-States\n",
       "  V15   \n",
       "1  <=50K\n",
       "2  <=50K\n",
       "3  <=50K\n",
       "4  <=50K\n",
       "5  <=50K\n",
       "6  <=50K"
      ]
     },
     "metadata": {},
     "output_type": "display_data"
    }
   ],
   "source": [
    "head(base_dados)"
   ]
  },
  {
   "cell_type": "code",
   "execution_count": 6,
   "id": "59c4b7be",
   "metadata": {},
   "outputs": [],
   "source": [
    "names(base_dados) <- c(\"age\", \"workclass\", \"fnlwgt\", \"education\", \"education-num\", \"marital-status\"\n",
    "                      ,\"occupation\", \"occupation\", \"race\", \"sex\", \"capital-gain\", \"capital-loss\", \"hours-per-week\"\n",
    "                      ,\"native-country\", \"target\")"
   ]
  },
  {
   "cell_type": "code",
   "execution_count": 7,
   "id": "0f25f348",
   "metadata": {},
   "outputs": [
    {
     "data": {
      "text/html": [
       "<ol class=list-inline>\n",
       "\t<li>'age'</li>\n",
       "\t<li>'workclass'</li>\n",
       "\t<li>'fnlwgt'</li>\n",
       "\t<li>'education'</li>\n",
       "\t<li>'education-num'</li>\n",
       "\t<li>'marital-status'</li>\n",
       "\t<li>'occupation'</li>\n",
       "\t<li>'occupation'</li>\n",
       "\t<li>'race'</li>\n",
       "\t<li>'sex'</li>\n",
       "\t<li>'capital-gain'</li>\n",
       "\t<li>'capital-loss'</li>\n",
       "\t<li>'hours-per-week'</li>\n",
       "\t<li>'native-country'</li>\n",
       "\t<li>'target'</li>\n",
       "</ol>\n"
      ],
      "text/latex": [
       "\\begin{enumerate*}\n",
       "\\item 'age'\n",
       "\\item 'workclass'\n",
       "\\item 'fnlwgt'\n",
       "\\item 'education'\n",
       "\\item 'education-num'\n",
       "\\item 'marital-status'\n",
       "\\item 'occupation'\n",
       "\\item 'occupation'\n",
       "\\item 'race'\n",
       "\\item 'sex'\n",
       "\\item 'capital-gain'\n",
       "\\item 'capital-loss'\n",
       "\\item 'hours-per-week'\n",
       "\\item 'native-country'\n",
       "\\item 'target'\n",
       "\\end{enumerate*}\n"
      ],
      "text/markdown": [
       "1. 'age'\n",
       "2. 'workclass'\n",
       "3. 'fnlwgt'\n",
       "4. 'education'\n",
       "5. 'education-num'\n",
       "6. 'marital-status'\n",
       "7. 'occupation'\n",
       "8. 'occupation'\n",
       "9. 'race'\n",
       "10. 'sex'\n",
       "11. 'capital-gain'\n",
       "12. 'capital-loss'\n",
       "13. 'hours-per-week'\n",
       "14. 'native-country'\n",
       "15. 'target'\n",
       "\n",
       "\n"
      ],
      "text/plain": [
       " [1] \"age\"            \"workclass\"      \"fnlwgt\"         \"education\"     \n",
       " [5] \"education-num\"  \"marital-status\" \"occupation\"     \"occupation\"    \n",
       " [9] \"race\"           \"sex\"            \"capital-gain\"   \"capital-loss\"  \n",
       "[13] \"hours-per-week\" \"native-country\" \"target\"        "
      ]
     },
     "metadata": {},
     "output_type": "display_data"
    }
   ],
   "source": [
    "names(base_dados)"
   ]
  },
  {
   "cell_type": "code",
   "execution_count": 8,
   "id": "92b99e43",
   "metadata": {},
   "outputs": [
    {
     "data": {
      "text/html": [
       "<ol class=list-inline>\n",
       "\t<li>32561</li>\n",
       "\t<li>15</li>\n",
       "</ol>\n"
      ],
      "text/latex": [
       "\\begin{enumerate*}\n",
       "\\item 32561\n",
       "\\item 15\n",
       "\\end{enumerate*}\n"
      ],
      "text/markdown": [
       "1. 32561\n",
       "2. 15\n",
       "\n",
       "\n"
      ],
      "text/plain": [
       "[1] 32561    15"
      ]
     },
     "metadata": {},
     "output_type": "display_data"
    },
    {
     "data": {
      "text/html": [
       "32561"
      ],
      "text/latex": [
       "32561"
      ],
      "text/markdown": [
       "32561"
      ],
      "text/plain": [
       "[1] 32561"
      ]
     },
     "metadata": {},
     "output_type": "display_data"
    },
    {
     "data": {
      "text/html": [
       "15"
      ],
      "text/latex": [
       "15"
      ],
      "text/markdown": [
       "15"
      ],
      "text/plain": [
       "[1] 15"
      ]
     },
     "metadata": {},
     "output_type": "display_data"
    }
   ],
   "source": [
    "#INvestigando a base de dados\n",
    "\n",
    "dim(base_dados)\n",
    "\n",
    "nrow(base_dados)\n",
    "\n",
    "ncol(base_dados)"
   ]
  },
  {
   "cell_type": "code",
   "execution_count": 10,
   "id": "3d71c3d2",
   "metadata": {},
   "outputs": [
    {
     "name": "stdout",
     "output_type": "stream",
     "text": [
      "'data.frame':\t32561 obs. of  15 variables:\n",
      " $ age           : int  39 50 38 53 28 37 49 52 31 42 ...\n",
      " $ workclass     : Factor w/ 9 levels \" ?\",\" Federal-gov\",..: 8 7 5 5 5 5 5 7 5 5 ...\n",
      " $ fnlwgt        : int  77516 83311 215646 234721 338409 284582 160187 209642 45781 159449 ...\n",
      " $ education     : Factor w/ 16 levels \" 10th\",\" 11th\",..: 10 10 12 2 10 13 7 12 13 10 ...\n",
      " $ education-num : int  13 13 9 7 13 14 5 9 14 13 ...\n",
      " $ marital-status: Factor w/ 7 levels \" Divorced\",\" Married-AF-spouse\",..: 5 3 1 3 3 3 4 3 5 3 ...\n",
      " $ occupation    : Factor w/ 15 levels \" ?\",\" Adm-clerical\",..: 2 5 7 7 11 5 9 5 11 5 ...\n",
      " $ occupation    : Factor w/ 6 levels \" Husband\",\" Not-in-family\",..: 2 1 2 1 6 6 2 1 2 1 ...\n",
      " $ race          : Factor w/ 5 levels \" Amer-Indian-Eskimo\",..: 5 5 5 3 3 5 3 5 5 5 ...\n",
      " $ sex           : Factor w/ 2 levels \" Female\",\" Male\": 2 2 2 2 1 1 1 2 1 2 ...\n",
      " $ capital-gain  : int  2174 0 0 0 0 0 0 0 14084 5178 ...\n",
      " $ capital-loss  : int  0 0 0 0 0 0 0 0 0 0 ...\n",
      " $ hours-per-week: int  40 13 40 40 40 40 16 45 50 40 ...\n",
      " $ native-country: Factor w/ 42 levels \" ?\",\" Cambodia\",..: 40 40 40 40 6 40 24 40 40 40 ...\n",
      " $ target        : Factor w/ 2 levels \" <=50K\",\" >50K\": 1 1 1 1 1 1 1 2 2 2 ...\n"
     ]
    }
   ],
   "source": [
    "str(base_dados)"
   ]
  },
  {
   "cell_type": "code",
   "execution_count": 11,
   "id": "23028713",
   "metadata": {},
   "outputs": [
    {
     "data": {
      "text/plain": [
       "      age                    workclass         fnlwgt       \n",
       " Min.   :17.00    Private         :22696   Min.   :  12285  \n",
       " 1st Qu.:28.00    Self-emp-not-inc: 2541   1st Qu.: 117827  \n",
       " Median :37.00    Local-gov       : 2093   Median : 178356  \n",
       " Mean   :38.58    ?               : 1836   Mean   : 189778  \n",
       " 3rd Qu.:48.00    State-gov       : 1298   3rd Qu.: 237051  \n",
       " Max.   :90.00    Self-emp-inc    : 1116   Max.   :1484705  \n",
       "                 (Other)          :  981                    \n",
       "         education     education-num                  marital-status \n",
       "  HS-grad     :10501   Min.   : 1.00    Divorced             : 4443  \n",
       "  Some-college: 7291   1st Qu.: 9.00    Married-AF-spouse    :   23  \n",
       "  Bachelors   : 5355   Median :10.00    Married-civ-spouse   :14976  \n",
       "  Masters     : 1723   Mean   :10.08    Married-spouse-absent:  418  \n",
       "  Assoc-voc   : 1382   3rd Qu.:12.00    Never-married        :10683  \n",
       "  11th        : 1175   Max.   :16.00    Separated            : 1025  \n",
       " (Other)      : 5134                    Widowed              :  993  \n",
       "            occupation             occupation                     race      \n",
       "  Prof-specialty :4140    Husband       :13193    Amer-Indian-Eskimo:  311  \n",
       "  Craft-repair   :4099    Not-in-family : 8305    Asian-Pac-Islander: 1039  \n",
       "  Exec-managerial:4066    Other-relative:  981    Black             : 3124  \n",
       "  Adm-clerical   :3770    Own-child     : 5068    Other             :  271  \n",
       "  Sales          :3650    Unmarried     : 3446    White             :27816  \n",
       "  Other-service  :3295    Wife          : 1568                              \n",
       " (Other)         :9541                                                      \n",
       "      sex         capital-gain    capital-loss    hours-per-week \n",
       "  Female:10771   Min.   :    0   Min.   :   0.0   Min.   : 1.00  \n",
       "  Male  :21790   1st Qu.:    0   1st Qu.:   0.0   1st Qu.:40.00  \n",
       "                 Median :    0   Median :   0.0   Median :40.00  \n",
       "                 Mean   : 1078   Mean   :  87.3   Mean   :40.44  \n",
       "                 3rd Qu.:    0   3rd Qu.:   0.0   3rd Qu.:45.00  \n",
       "                 Max.   :99999   Max.   :4356.0   Max.   :99.00  \n",
       "                                                                 \n",
       "        native-country     target     \n",
       "  United-States:29170    <=50K:24720  \n",
       "  Mexico       :  643    >50K : 7841  \n",
       "  ?            :  583                 \n",
       "  Philippines  :  198                 \n",
       "  Germany      :  137                 \n",
       "  Canada       :  121                 \n",
       " (Other)       : 1709                 "
      ]
     },
     "metadata": {},
     "output_type": "display_data"
    }
   ],
   "source": [
    "summary(base_dados)"
   ]
  },
  {
   "cell_type": "code",
   "execution_count": 14,
   "id": "a582d288",
   "metadata": {},
   "outputs": [
    {
     "data": {
      "text/plain": [
       "   Min. 1st Qu.  Median    Mean 3rd Qu.    Max. \n",
       "   1.00   40.00   40.00   40.44   45.00   99.00 "
      ]
     },
     "metadata": {},
     "output_type": "display_data"
    }
   ],
   "source": [
    "summary(base_dados$\"hours-per-week\")"
   ]
  },
  {
   "cell_type": "code",
   "execution_count": 15,
   "id": "078f44ae",
   "metadata": {},
   "outputs": [],
   "source": [
    "#Adicionando uma nova coluna\n",
    "\n",
    "base_dados$age_class <- ifelse(base_dados$age > 55, \"Senior\", NA)\n",
    "base_dados$age_class <- ifelse(base_dados$age > 25 & base_dados$age <=55, \"Mid-Age\", base_dados$age_class)\n",
    "base_dados$age_class <- ifelse(base_dados$age <= 24, \"Young\", base_dados$age_class)"
   ]
  },
  {
   "cell_type": "code",
   "execution_count": 16,
   "id": "c8f65599",
   "metadata": {},
   "outputs": [
    {
     "data": {
      "text/plain": [
       "   Length     Class      Mode \n",
       "    32561 character character "
      ]
     },
     "metadata": {},
     "output_type": "display_data"
    }
   ],
   "source": [
    "summary(base_dados$age_class)"
   ]
  },
  {
   "cell_type": "code",
   "execution_count": 17,
   "id": "d9a3ab7c",
   "metadata": {},
   "outputs": [
    {
     "data": {
      "text/plain": [
       "\n",
       "Mid-Age  Senior   Young \n",
       "  22061    4089    5570 "
      ]
     },
     "metadata": {},
     "output_type": "display_data"
    }
   ],
   "source": [
    "#Descobrindo o dataframe\n",
    "\n",
    "table(base_dados$age_class)"
   ]
  },
  {
   "cell_type": "code",
   "execution_count": 18,
   "id": "79417739",
   "metadata": {},
   "outputs": [
    {
     "data": {
      "text/plain": [
       "         \n",
       "           Female  Male\n",
       "  Mid-Age    6733 15328\n",
       "  Senior     1217  2872\n",
       "  Young      2508  3062"
      ]
     },
     "metadata": {},
     "output_type": "display_data"
    }
   ],
   "source": [
    "table(base_dados$age_class, base_dados$sex)"
   ]
  },
  {
   "cell_type": "code",
   "execution_count": 20,
   "id": "720a6d66",
   "metadata": {},
   "outputs": [
    {
     "data": {
      "text/plain": [
       "         \n",
       "           Female  Male\n",
       "  Mid-Age    6733 15328\n",
       "  Senior     1217  2872\n",
       "  Young      2508  3062"
      ]
     },
     "metadata": {},
     "output_type": "display_data"
    }
   ],
   "source": [
    "tab_age_sex <- table(base_dados$age_class, base_dados$sex)\n",
    "\n",
    "tab_age_sex"
   ]
  },
  {
   "cell_type": "code",
   "execution_count": 21,
   "id": "8473a03a",
   "metadata": {},
   "outputs": [
    {
     "data": {
      "text/plain": [
       "         \n",
       "              Female       Male\n",
       "  Mid-Age 0.21226356 0.48322825\n",
       "  Senior  0.03836696 0.09054224\n",
       "  Young   0.07906683 0.09653216"
      ]
     },
     "metadata": {},
     "output_type": "display_data"
    },
    {
     "data": {
      "text/plain": [
       "         \n",
       "             Female      Male\n",
       "  Mid-Age 0.3051992 0.6948008\n",
       "  Senior  0.2976278 0.7023722\n",
       "  Young   0.4502693 0.5497307"
      ]
     },
     "metadata": {},
     "output_type": "display_data"
    },
    {
     "data": {
      "text/plain": [
       "         \n",
       "             Female      Male\n",
       "  Mid-Age 0.6438133 0.7209105\n",
       "  Senior  0.1163702 0.1350767\n",
       "  Young   0.2398164 0.1440128"
      ]
     },
     "metadata": {},
     "output_type": "display_data"
    },
    {
     "data": {
      "text/plain": [
       "         \n",
       "           Female  Male\n",
       "  Mid-Age   64.38 72.09\n",
       "  Senior    11.64 13.51\n",
       "  Young     23.98 14.40"
      ]
     },
     "metadata": {},
     "output_type": "display_data"
    }
   ],
   "source": [
    "#Lendo os dados em percentuais proposcionais\n",
    "\n",
    "prop.table(tab_age_sex)\n",
    "prop.table(tab_age_sex,1)\n",
    "prop.table(tab_age_sex,2)\n",
    "\n",
    "round(prop.table(tab_age_sex,2)*100,2)"
   ]
  },
  {
   "cell_type": "code",
   "execution_count": 22,
   "id": "48c47275",
   "metadata": {},
   "outputs": [
    {
     "data": {
      "text/html": [
       "<table>\n",
       "<thead><tr><th></th><th scope=col>age</th><th scope=col>workclass</th><th scope=col>fnlwgt</th><th scope=col>education</th><th scope=col>education-num</th><th scope=col>marital-status</th><th scope=col>occupation</th><th scope=col>occupation</th><th scope=col>race</th><th scope=col>sex</th><th scope=col>capital-gain</th><th scope=col>capital-loss</th><th scope=col>hours-per-week</th><th scope=col>native-country</th><th scope=col>target</th><th scope=col>age_class</th></tr></thead>\n",
       "<tbody>\n",
       "\t<tr><th scope=row>107</th><td>17                                                         </td><td><span style=white-space:pre-wrap> ?               </span>  </td><td>304873                                                     </td><td><span style=white-space:pre-wrap> 10th   </span>           </td><td>6                                                          </td><td> Never-married                                             </td><td><span style=white-space:pre-wrap> ?                </span> </td><td><span style=white-space:pre-wrap> Own-child     </span>    </td><td><span style=white-space:pre-wrap> White             </span></td><td> Female                                                    </td><td>34095                                                      </td><td>0                                                          </td><td>32                                                         </td><td> United-States                                             </td><td> &lt;=50K                                                  </td><td>Young                                                      </td></tr>\n",
       "\t<tr><th scope=row>210</th><td>17                                                         </td><td><span style=white-space:pre-wrap> Private         </span>  </td><td> 65368                                                     </td><td><span style=white-space:pre-wrap> 11th   </span>           </td><td>7                                                          </td><td> Never-married                                             </td><td><span style=white-space:pre-wrap> Sales            </span> </td><td><span style=white-space:pre-wrap> Own-child     </span>    </td><td><span style=white-space:pre-wrap> White             </span></td><td> Female                                                    </td><td><span style=white-space:pre-wrap>    0</span>              </td><td>0                                                          </td><td>12                                                         </td><td> United-States                                             </td><td> &lt;=50K                                                  </td><td>Young                                                      </td></tr>\n",
       "\t<tr><th scope=row>263</th><td>17                                                         </td><td><span style=white-space:pre-wrap> Private         </span>  </td><td>245918                                                     </td><td><span style=white-space:pre-wrap> 11th   </span>           </td><td>7                                                          </td><td> Never-married                                             </td><td><span style=white-space:pre-wrap> Other-service    </span> </td><td><span style=white-space:pre-wrap> Own-child     </span>    </td><td><span style=white-space:pre-wrap> White             </span></td><td><span style=white-space:pre-wrap> Male  </span>            </td><td><span style=white-space:pre-wrap>    0</span>              </td><td>0                                                          </td><td>12                                                         </td><td> United-States                                             </td><td> &lt;=50K                                                  </td><td>Young                                                      </td></tr>\n",
       "\t<tr><th scope=row>272</th><td>17                                                         </td><td><span style=white-space:pre-wrap> Private         </span>  </td><td>191260                                                     </td><td><span style=white-space:pre-wrap> 9th    </span>           </td><td>5                                                          </td><td> Never-married                                             </td><td><span style=white-space:pre-wrap> Other-service    </span> </td><td><span style=white-space:pre-wrap> Own-child     </span>    </td><td><span style=white-space:pre-wrap> White             </span></td><td><span style=white-space:pre-wrap> Male  </span>            </td><td> 1055                                                      </td><td>0                                                          </td><td>24                                                         </td><td> United-States                                             </td><td> &lt;=50K                                                  </td><td>Young                                                      </td></tr>\n",
       "\t<tr><th scope=row>336</th><td>17                                                         </td><td><span style=white-space:pre-wrap> Private         </span>  </td><td>270942                                                     </td><td> 5th-6th                                                   </td><td>3                                                          </td><td> Never-married                                             </td><td><span style=white-space:pre-wrap> Other-service    </span> </td><td> Other-relative                                            </td><td><span style=white-space:pre-wrap> White             </span></td><td><span style=white-space:pre-wrap> Male  </span>            </td><td><span style=white-space:pre-wrap>    0</span>              </td><td>0                                                          </td><td>48                                                         </td><td><span style=white-space:pre-wrap> Mexico       </span>     </td><td> &lt;=50K                                                  </td><td>Young                                                      </td></tr>\n",
       "\t<tr><th scope=row>372</th><td>17                                                         </td><td><span style=white-space:pre-wrap> Private         </span>  </td><td> 89821                                                     </td><td><span style=white-space:pre-wrap> 11th   </span>           </td><td>7                                                          </td><td> Never-married                                             </td><td><span style=white-space:pre-wrap> Other-service    </span> </td><td><span style=white-space:pre-wrap> Own-child     </span>    </td><td><span style=white-space:pre-wrap> White             </span></td><td><span style=white-space:pre-wrap> Male  </span>            </td><td><span style=white-space:pre-wrap>    0</span>              </td><td>0                                                          </td><td>10                                                         </td><td> United-States                                             </td><td> &lt;=50K                                                  </td><td>Young                                                      </td></tr>\n",
       "\t<tr><th scope=row>422</th><td>17                                                         </td><td><span style=white-space:pre-wrap> Private         </span>  </td><td>175024                                                     </td><td><span style=white-space:pre-wrap> 11th   </span>           </td><td>7                                                          </td><td> Never-married                                             </td><td> Handlers-cleaners                                         </td><td><span style=white-space:pre-wrap> Own-child     </span>    </td><td><span style=white-space:pre-wrap> White             </span></td><td><span style=white-space:pre-wrap> Male  </span>            </td><td> 2176                                                      </td><td>0                                                          </td><td>18                                                         </td><td> United-States                                             </td><td> &lt;=50K                                                  </td><td>Young                                                      </td></tr>\n",
       "\t<tr><th scope=row>432</th><td>17                                                         </td><td><span style=white-space:pre-wrap> ?               </span>  </td><td>202521                                                     </td><td><span style=white-space:pre-wrap> 11th   </span>           </td><td>7                                                          </td><td> Never-married                                             </td><td><span style=white-space:pre-wrap> ?                </span> </td><td><span style=white-space:pre-wrap> Own-child     </span>    </td><td><span style=white-space:pre-wrap> White             </span></td><td><span style=white-space:pre-wrap> Male  </span>            </td><td><span style=white-space:pre-wrap>    0</span>              </td><td>0                                                          </td><td>40                                                         </td><td> United-States                                             </td><td> &lt;=50K                                                  </td><td>Young                                                      </td></tr>\n",
       "\t<tr><th scope=row>450</th><td>17                                                         </td><td><span style=white-space:pre-wrap> ?               </span>  </td><td>258872                                                     </td><td><span style=white-space:pre-wrap> 11th   </span>           </td><td>7                                                          </td><td> Never-married                                             </td><td><span style=white-space:pre-wrap> ?                </span> </td><td><span style=white-space:pre-wrap> Own-child     </span>    </td><td><span style=white-space:pre-wrap> White             </span></td><td> Female                                                    </td><td><span style=white-space:pre-wrap>    0</span>              </td><td>0                                                          </td><td> 5                                                         </td><td> United-States                                             </td><td> &lt;=50K                                                  </td><td>Young                                                      </td></tr>\n",
       "\t<tr><th scope=row>477</th><td>17                                                         </td><td><span style=white-space:pre-wrap> Private         </span>  </td><td>211870                                                     </td><td><span style=white-space:pre-wrap> 9th    </span>           </td><td>5                                                          </td><td> Never-married                                             </td><td><span style=white-space:pre-wrap> Other-service    </span> </td><td> Not-in-family                                             </td><td><span style=white-space:pre-wrap> White             </span></td><td><span style=white-space:pre-wrap> Male  </span>            </td><td><span style=white-space:pre-wrap>    0</span>              </td><td>0                                                          </td><td> 6                                                         </td><td> United-States                                             </td><td> &lt;=50K                                                  </td><td>Young                                                      </td></tr>\n",
       "\t<tr><th scope=row>573</th><td>17                                                         </td><td><span style=white-space:pre-wrap> Private         </span>  </td><td>242718                                                     </td><td><span style=white-space:pre-wrap> 11th   </span>           </td><td>7                                                          </td><td> Never-married                                             </td><td><span style=white-space:pre-wrap> Sales            </span> </td><td><span style=white-space:pre-wrap> Own-child     </span>    </td><td><span style=white-space:pre-wrap> White             </span></td><td><span style=white-space:pre-wrap> Male  </span>            </td><td><span style=white-space:pre-wrap>    0</span>              </td><td>0                                                          </td><td>12                                                         </td><td> United-States                                             </td><td> &lt;=50K                                                  </td><td>Young                                                      </td></tr>\n",
       "\t<tr><th scope=row>610</th><td>17                                                         </td><td><span style=white-space:pre-wrap> Private         </span>  </td><td>169658                                                     </td><td><span style=white-space:pre-wrap> 10th   </span>           </td><td>6                                                          </td><td> Never-married                                             </td><td><span style=white-space:pre-wrap> Other-service    </span> </td><td><span style=white-space:pre-wrap> Own-child     </span>    </td><td><span style=white-space:pre-wrap> White             </span></td><td> Female                                                    </td><td><span style=white-space:pre-wrap>    0</span>              </td><td>0                                                          </td><td>21                                                         </td><td> United-States                                             </td><td> &lt;=50K                                                  </td><td>Young                                                      </td></tr>\n",
       "\t<tr><th scope=row>672</th><td>17                                                         </td><td><span style=white-space:pre-wrap> ?               </span>  </td><td> 80077                                                     </td><td><span style=white-space:pre-wrap> 11th   </span>           </td><td>7                                                          </td><td> Never-married                                             </td><td><span style=white-space:pre-wrap> ?                </span> </td><td><span style=white-space:pre-wrap> Own-child     </span>    </td><td><span style=white-space:pre-wrap> White             </span></td><td> Female                                                    </td><td><span style=white-space:pre-wrap>    0</span>              </td><td>0                                                          </td><td>20                                                         </td><td> United-States                                             </td><td> &lt;=50K                                                  </td><td>Young                                                      </td></tr>\n",
       "\t<tr><th scope=row>673</th><td>17                                                         </td><td> Self-emp-not-inc                                          </td><td>368700                                                     </td><td><span style=white-space:pre-wrap> 11th   </span>           </td><td>7                                                          </td><td> Never-married                                             </td><td><span style=white-space:pre-wrap> Farming-fishing  </span> </td><td><span style=white-space:pre-wrap> Own-child     </span>    </td><td><span style=white-space:pre-wrap> White             </span></td><td><span style=white-space:pre-wrap> Male  </span>            </td><td><span style=white-space:pre-wrap>    0</span>              </td><td>0                                                          </td><td>10                                                         </td><td> United-States                                             </td><td> &lt;=50K                                                  </td><td>Young                                                      </td></tr>\n",
       "\t<tr><th scope=row>677</th><td>17                                                         </td><td><span style=white-space:pre-wrap> Private         </span>  </td><td>102726                                                     </td><td><span style=white-space:pre-wrap> 12th   </span>           </td><td>8                                                          </td><td> Never-married                                             </td><td><span style=white-space:pre-wrap> Other-service    </span> </td><td><span style=white-space:pre-wrap> Own-child     </span>    </td><td><span style=white-space:pre-wrap> White             </span></td><td><span style=white-space:pre-wrap> Male  </span>            </td><td><span style=white-space:pre-wrap>    0</span>              </td><td>0                                                          </td><td>16                                                         </td><td> United-States                                             </td><td> &lt;=50K                                                  </td><td>Young                                                      </td></tr>\n",
       "\t<tr><th scope=row>745</th><td>17                                                         </td><td><span style=white-space:pre-wrap> Private         </span>  </td><td>316929                                                     </td><td><span style=white-space:pre-wrap> 12th   </span>           </td><td>8                                                          </td><td> Never-married                                             </td><td> Handlers-cleaners                                         </td><td><span style=white-space:pre-wrap> Own-child     </span>    </td><td><span style=white-space:pre-wrap> White             </span></td><td><span style=white-space:pre-wrap> Male  </span>            </td><td><span style=white-space:pre-wrap>    0</span>              </td><td>0                                                          </td><td>20                                                         </td><td> United-States                                             </td><td> &lt;=50K                                                  </td><td>Young                                                      </td></tr>\n",
       "\t<tr><th scope=row>805</th><td>17                                                         </td><td><span style=white-space:pre-wrap> Private         </span>  </td><td>193830                                                     </td><td><span style=white-space:pre-wrap> 11th   </span>           </td><td>7                                                          </td><td> Never-married                                             </td><td><span style=white-space:pre-wrap> Sales            </span> </td><td><span style=white-space:pre-wrap> Own-child     </span>    </td><td><span style=white-space:pre-wrap> White             </span></td><td> Female                                                    </td><td><span style=white-space:pre-wrap>    0</span>              </td><td>0                                                          </td><td>20                                                         </td><td> United-States                                             </td><td> &lt;=50K                                                  </td><td>Young                                                      </td></tr>\n",
       "\t<tr><th scope=row>815</th><td>17                                                         </td><td><span style=white-space:pre-wrap> Private         </span>  </td><td> 32607                                                     </td><td><span style=white-space:pre-wrap> 10th   </span>           </td><td>6                                                          </td><td> Never-married                                             </td><td><span style=white-space:pre-wrap> Farming-fishing  </span> </td><td><span style=white-space:pre-wrap> Own-child     </span>    </td><td><span style=white-space:pre-wrap> White             </span></td><td><span style=white-space:pre-wrap> Male  </span>            </td><td><span style=white-space:pre-wrap>    0</span>              </td><td>0                                                          </td><td>20                                                         </td><td> United-States                                             </td><td> &lt;=50K                                                  </td><td>Young                                                      </td></tr>\n",
       "\t<tr><th scope=row>841</th><td>17                                                         </td><td><span style=white-space:pre-wrap> Private         </span>  </td><td>198124                                                     </td><td><span style=white-space:pre-wrap> 11th   </span>           </td><td>7                                                          </td><td> Never-married                                             </td><td><span style=white-space:pre-wrap> Sales            </span> </td><td><span style=white-space:pre-wrap> Own-child     </span>    </td><td><span style=white-space:pre-wrap> White             </span></td><td><span style=white-space:pre-wrap> Male  </span>            </td><td><span style=white-space:pre-wrap>    0</span>              </td><td>0                                                          </td><td>20                                                         </td><td> United-States                                             </td><td> &lt;=50K                                                  </td><td>Young                                                      </td></tr>\n",
       "\t<tr><th scope=row>868</th><td>17                                                         </td><td><span style=white-space:pre-wrap> Private         </span>  </td><td>368700                                                     </td><td><span style=white-space:pre-wrap> 11th   </span>           </td><td>7                                                          </td><td> Never-married                                             </td><td><span style=white-space:pre-wrap> Sales            </span> </td><td><span style=white-space:pre-wrap> Own-child     </span>    </td><td><span style=white-space:pre-wrap> White             </span></td><td><span style=white-space:pre-wrap> Male  </span>            </td><td><span style=white-space:pre-wrap>    0</span>              </td><td>0                                                          </td><td>28                                                         </td><td> United-States                                             </td><td> &lt;=50K                                                  </td><td>Young                                                      </td></tr>\n",
       "\t<tr><th scope=row>1075</th><td>17                                                         </td><td><span style=white-space:pre-wrap> Private         </span>  </td><td>220384                                                     </td><td><span style=white-space:pre-wrap> 11th   </span>           </td><td>7                                                          </td><td> Never-married                                             </td><td><span style=white-space:pre-wrap> Adm-clerical     </span> </td><td><span style=white-space:pre-wrap> Own-child     </span>    </td><td><span style=white-space:pre-wrap> White             </span></td><td><span style=white-space:pre-wrap> Male  </span>            </td><td><span style=white-space:pre-wrap>    0</span>              </td><td>0                                                          </td><td>15                                                         </td><td> United-States                                             </td><td> &lt;=50K                                                  </td><td>Young                                                      </td></tr>\n",
       "\t<tr><th scope=row>1326</th><td>17                                                         </td><td><span style=white-space:pre-wrap> ?               </span>  </td><td>138507                                                     </td><td><span style=white-space:pre-wrap> 10th   </span>           </td><td>6                                                          </td><td> Never-married                                             </td><td><span style=white-space:pre-wrap> ?                </span> </td><td><span style=white-space:pre-wrap> Own-child     </span>    </td><td><span style=white-space:pre-wrap> White             </span></td><td><span style=white-space:pre-wrap> Male  </span>            </td><td><span style=white-space:pre-wrap>    0</span>              </td><td>0                                                          </td><td>20                                                         </td><td> United-States                                             </td><td> &lt;=50K                                                  </td><td>Young                                                      </td></tr>\n",
       "\t<tr><th scope=row>1348</th><td>17                                                         </td><td><span style=white-space:pre-wrap> ?               </span>  </td><td>145886                                                     </td><td><span style=white-space:pre-wrap> 11th   </span>           </td><td>7                                                          </td><td> Never-married                                             </td><td><span style=white-space:pre-wrap> ?                </span> </td><td><span style=white-space:pre-wrap> Own-child     </span>    </td><td><span style=white-space:pre-wrap> White             </span></td><td> Female                                                    </td><td><span style=white-space:pre-wrap>    0</span>              </td><td>0                                                          </td><td>30                                                         </td><td> United-States                                             </td><td> &lt;=50K                                                  </td><td>Young                                                      </td></tr>\n",
       "\t<tr><th scope=row>1390</th><td>17                                                         </td><td><span style=white-space:pre-wrap> Private         </span>  </td><td> 46496                                                     </td><td><span style=white-space:pre-wrap> 11th   </span>           </td><td>7                                                          </td><td> Never-married                                             </td><td><span style=white-space:pre-wrap> Other-service    </span> </td><td><span style=white-space:pre-wrap> Own-child     </span>    </td><td><span style=white-space:pre-wrap> White             </span></td><td><span style=white-space:pre-wrap> Male  </span>            </td><td><span style=white-space:pre-wrap>    0</span>              </td><td>0                                                          </td><td> 5                                                         </td><td> United-States                                             </td><td> &lt;=50K                                                  </td><td>Young                                                      </td></tr>\n",
       "\t<tr><th scope=row>1453</th><td>17                                                         </td><td><span style=white-space:pre-wrap> ?               </span>  </td><td>333100                                                     </td><td><span style=white-space:pre-wrap> 10th   </span>           </td><td>6                                                          </td><td> Never-married                                             </td><td><span style=white-space:pre-wrap> ?                </span> </td><td><span style=white-space:pre-wrap> Own-child     </span>    </td><td><span style=white-space:pre-wrap> White             </span></td><td><span style=white-space:pre-wrap> Male  </span>            </td><td> 1055                                                      </td><td>0                                                          </td><td>30                                                         </td><td> United-States                                             </td><td> &lt;=50K                                                  </td><td>Young                                                      </td></tr>\n",
       "\t<tr><th scope=row>1479</th><td>17                                                        </td><td><span style=white-space:pre-wrap> Private         </span> </td><td>197850                                                    </td><td><span style=white-space:pre-wrap> 11th   </span>          </td><td>7                                                         </td><td> Never-married                                            </td><td><span style=white-space:pre-wrap> Adm-clerical     </span></td><td><span style=white-space:pre-wrap> Own-child     </span>   </td><td> Asian-Pac-Islander                                       </td><td> Female                                                   </td><td><span style=white-space:pre-wrap>    0</span>             </td><td>0                                                         </td><td>24                                                        </td><td> United-States                                            </td><td> &lt;=50K                                                 </td><td>Young                                                     </td></tr>\n",
       "\t<tr><th scope=row>1520</th><td>17                                                         </td><td><span style=white-space:pre-wrap> Local-gov       </span>  </td><td> 32124                                                     </td><td><span style=white-space:pre-wrap> 9th    </span>           </td><td>5                                                          </td><td> Never-married                                             </td><td><span style=white-space:pre-wrap> Other-service    </span> </td><td><span style=white-space:pre-wrap> Own-child     </span>    </td><td><span style=white-space:pre-wrap> Black             </span></td><td><span style=white-space:pre-wrap> Male  </span>            </td><td><span style=white-space:pre-wrap>    0</span>              </td><td>0                                                          </td><td> 9                                                         </td><td> United-States                                             </td><td> &lt;=50K                                                  </td><td>Young                                                      </td></tr>\n",
       "\t<tr><th scope=row>1547</th><td>17                                                         </td><td><span style=white-space:pre-wrap> Private         </span>  </td><td>163494                                                     </td><td><span style=white-space:pre-wrap> 10th   </span>           </td><td>6                                                          </td><td> Never-married                                             </td><td><span style=white-space:pre-wrap> Sales            </span> </td><td><span style=white-space:pre-wrap> Own-child     </span>    </td><td><span style=white-space:pre-wrap> White             </span></td><td><span style=white-space:pre-wrap> Male  </span>            </td><td><span style=white-space:pre-wrap>    0</span>              </td><td>0                                                          </td><td>30                                                         </td><td> United-States                                             </td><td> &lt;=50K                                                  </td><td>Young                                                      </td></tr>\n",
       "\t<tr><th scope=row>1552</th><td>17                                                         </td><td><span style=white-space:pre-wrap> Private         </span>  </td><td>130806                                                     </td><td><span style=white-space:pre-wrap> 10th   </span>           </td><td>6                                                          </td><td> Never-married                                             </td><td> Handlers-cleaners                                         </td><td><span style=white-space:pre-wrap> Own-child     </span>    </td><td><span style=white-space:pre-wrap> White             </span></td><td><span style=white-space:pre-wrap> Male  </span>            </td><td><span style=white-space:pre-wrap>    0</span>              </td><td>0                                                          </td><td>24                                                         </td><td> United-States                                             </td><td> &lt;=50K                                                  </td><td>Young                                                      </td></tr>\n",
       "\t<tr><th scope=row>1692</th><td>17                                                         </td><td><span style=white-space:pre-wrap> Private         </span>  </td><td>103851                                                     </td><td><span style=white-space:pre-wrap> 11th   </span>           </td><td>7                                                          </td><td> Never-married                                             </td><td><span style=white-space:pre-wrap> Adm-clerical     </span> </td><td><span style=white-space:pre-wrap> Own-child     </span>    </td><td><span style=white-space:pre-wrap> White             </span></td><td> Female                                                    </td><td> 1055                                                      </td><td>0                                                          </td><td>20                                                         </td><td> United-States                                             </td><td> &lt;=50K                                                  </td><td>Young                                                      </td></tr>\n",
       "\t<tr><th scope=row>...</th><td>...</td><td>...</td><td>...</td><td>...</td><td>...</td><td>...</td><td>...</td><td>...</td><td>...</td><td>...</td><td>...</td><td>...</td><td>...</td><td>...</td><td>...</td><td>...</td></tr>\n",
       "\t<tr><th scope=row>8807</th><td>90                                                         </td><td><span style=white-space:pre-wrap> Private         </span>  </td><td> 87372                                                     </td><td> Prof-school                                               </td><td>15                                                         </td><td> Married-civ-spouse                                        </td><td><span style=white-space:pre-wrap> Prof-specialty   </span> </td><td><span style=white-space:pre-wrap> Husband      </span>     </td><td><span style=white-space:pre-wrap> White             </span></td><td><span style=white-space:pre-wrap> Male  </span>            </td><td>20051                                                      </td><td><span style=white-space:pre-wrap>   0</span>               </td><td>72                                                         </td><td> United-States                                             </td><td> &gt;50K                                                   </td><td>Senior                                                     </td></tr>\n",
       "\t<tr><th scope=row>8964</th><td>90                                                         </td><td><span style=white-space:pre-wrap> ?               </span>  </td><td> 77053                                                     </td><td><span style=white-space:pre-wrap> HS-grad     </span>      </td><td> 9                                                         </td><td><span style=white-space:pre-wrap> Widowed           </span></td><td><span style=white-space:pre-wrap> ?                </span> </td><td> Not-in-family                                             </td><td><span style=white-space:pre-wrap> White             </span></td><td> Female                                                    </td><td><span style=white-space:pre-wrap>    0</span>              </td><td>4356                                                       </td><td>40                                                         </td><td> United-States                                             </td><td> &lt;=50K                                                  </td><td>Senior                                                     </td></tr>\n",
       "\t<tr><th scope=row>8974</th><td>90                                                         </td><td><span style=white-space:pre-wrap> Private         </span>  </td><td> 46786                                                     </td><td><span style=white-space:pre-wrap> Bachelors   </span>      </td><td>13                                                         </td><td> Married-civ-spouse                                        </td><td><span style=white-space:pre-wrap> Sales            </span> </td><td><span style=white-space:pre-wrap> Husband      </span>     </td><td><span style=white-space:pre-wrap> White             </span></td><td><span style=white-space:pre-wrap> Male  </span>            </td><td> 9386                                                      </td><td><span style=white-space:pre-wrap>   0</span>               </td><td>15                                                         </td><td> United-States                                             </td><td> &gt;50K                                                   </td><td>Senior                                                     </td></tr>\n",
       "\t<tr><th scope=row>10211</th><td>90                                                         </td><td> Self-emp-not-inc                                          </td><td>282095                                                     </td><td> Some-college                                              </td><td>10                                                         </td><td> Married-civ-spouse                                        </td><td><span style=white-space:pre-wrap> Farming-fishing  </span> </td><td><span style=white-space:pre-wrap> Husband      </span>     </td><td><span style=white-space:pre-wrap> White             </span></td><td><span style=white-space:pre-wrap> Male  </span>            </td><td><span style=white-space:pre-wrap>    0</span>              </td><td><span style=white-space:pre-wrap>   0</span>               </td><td>40                                                         </td><td> United-States                                             </td><td> &lt;=50K                                                  </td><td>Senior                                                     </td></tr>\n",
       "\t<tr><th scope=row>10546</th><td>90                                                         </td><td><span style=white-space:pre-wrap> Private         </span>  </td><td>175491                                                     </td><td><span style=white-space:pre-wrap> HS-grad     </span>      </td><td> 9                                                         </td><td> Married-civ-spouse                                        </td><td><span style=white-space:pre-wrap> Craft-repair     </span> </td><td><span style=white-space:pre-wrap> Husband      </span>     </td><td><span style=white-space:pre-wrap> White             </span></td><td><span style=white-space:pre-wrap> Male  </span>            </td><td> 9386                                                      </td><td><span style=white-space:pre-wrap>   0</span>               </td><td>50                                                         </td><td><span style=white-space:pre-wrap> Ecuador      </span>     </td><td> &gt;50K                                                   </td><td>Senior                                                     </td></tr>\n",
       "\t<tr><th scope=row>11513</th><td>90                                                         </td><td><span style=white-space:pre-wrap> Private         </span>  </td><td> 87285                                                     </td><td><span style=white-space:pre-wrap> HS-grad     </span>      </td><td> 9                                                         </td><td><span style=white-space:pre-wrap> Never-married     </span></td><td><span style=white-space:pre-wrap> Other-service    </span> </td><td><span style=white-space:pre-wrap> Own-child    </span>     </td><td><span style=white-space:pre-wrap> White             </span></td><td> Female                                                    </td><td><span style=white-space:pre-wrap>    0</span>              </td><td><span style=white-space:pre-wrap>   0</span>               </td><td>24                                                         </td><td> United-States                                             </td><td> &lt;=50K                                                  </td><td>Senior                                                     </td></tr>\n",
       "\t<tr><th scope=row>11732</th><td>90                                                         </td><td><span style=white-space:pre-wrap> ?               </span>  </td><td> 39824                                                     </td><td><span style=white-space:pre-wrap> HS-grad     </span>      </td><td> 9                                                         </td><td><span style=white-space:pre-wrap> Widowed           </span></td><td><span style=white-space:pre-wrap> ?                </span> </td><td> Not-in-family                                             </td><td><span style=white-space:pre-wrap> White             </span></td><td><span style=white-space:pre-wrap> Male  </span>            </td><td><span style=white-space:pre-wrap>  401</span>              </td><td><span style=white-space:pre-wrap>   0</span>               </td><td> 4                                                         </td><td> United-States                                             </td><td> &lt;=50K                                                  </td><td>Senior                                                     </td></tr>\n",
       "\t<tr><th scope=row>11997</th><td>90                                                         </td><td><span style=white-space:pre-wrap> Private         </span>  </td><td> 40388                                                     </td><td><span style=white-space:pre-wrap> Bachelors   </span>      </td><td>13                                                         </td><td><span style=white-space:pre-wrap> Never-married     </span></td><td><span style=white-space:pre-wrap> Exec-managerial  </span> </td><td> Not-in-family                                             </td><td><span style=white-space:pre-wrap> White             </span></td><td><span style=white-space:pre-wrap> Male  </span>            </td><td><span style=white-space:pre-wrap>    0</span>              </td><td><span style=white-space:pre-wrap>   0</span>               </td><td>55                                                         </td><td> United-States                                             </td><td> &lt;=50K                                                  </td><td>Senior                                                     </td></tr>\n",
       "\t<tr><th scope=row>12452</th><td>90                                                         </td><td><span style=white-space:pre-wrap> ?               </span>  </td><td>225063                                                     </td><td> Some-college                                              </td><td>10                                                         </td><td><span style=white-space:pre-wrap> Never-married     </span></td><td><span style=white-space:pre-wrap> ?                </span> </td><td><span style=white-space:pre-wrap> Own-child    </span>     </td><td> Asian-Pac-Islander                                        </td><td><span style=white-space:pre-wrap> Male  </span>            </td><td><span style=white-space:pre-wrap>    0</span>              </td><td><span style=white-space:pre-wrap>   0</span>               </td><td>10                                                         </td><td><span style=white-space:pre-wrap> South        </span>     </td><td> &lt;=50K                                                  </td><td>Senior                                                     </td></tr>\n",
       "\t<tr><th scope=row>12976</th><td>90                                                         </td><td><span style=white-space:pre-wrap> Private         </span>  </td><td>250832                                                     </td><td><span style=white-space:pre-wrap> 10th        </span>      </td><td> 6                                                         </td><td> Married-civ-spouse                                        </td><td><span style=white-space:pre-wrap> Exec-managerial  </span> </td><td><span style=white-space:pre-wrap> Husband      </span>     </td><td><span style=white-space:pre-wrap> White             </span></td><td><span style=white-space:pre-wrap> Male  </span>            </td><td><span style=white-space:pre-wrap>    0</span>              </td><td><span style=white-space:pre-wrap>   0</span>               </td><td>40                                                         </td><td> United-States                                             </td><td> &lt;=50K                                                  </td><td>Senior                                                     </td></tr>\n",
       "\t<tr><th scope=row>14160</th><td>90                                                        </td><td><span style=white-space:pre-wrap> Local-gov       </span> </td><td>187749                                                    </td><td><span style=white-space:pre-wrap> Assoc-acdm  </span>     </td><td>12                                                        </td><td> Married-civ-spouse                                       </td><td><span style=white-space:pre-wrap> Adm-clerical     </span></td><td><span style=white-space:pre-wrap> Husband      </span>    </td><td> Asian-Pac-Islander                                       </td><td><span style=white-space:pre-wrap> Male  </span>           </td><td><span style=white-space:pre-wrap>    0</span>             </td><td><span style=white-space:pre-wrap>   0</span>              </td><td>20                                                        </td><td><span style=white-space:pre-wrap> Philippines  </span>    </td><td> &lt;=50K                                                 </td><td>Senior                                                    </td></tr>\n",
       "\t<tr><th scope=row>15357</th><td>90                                                         </td><td><span style=white-space:pre-wrap> Private         </span>  </td><td> 90523                                                     </td><td><span style=white-space:pre-wrap> HS-grad     </span>      </td><td> 9                                                         </td><td><span style=white-space:pre-wrap> Widowed           </span></td><td> Transport-moving                                          </td><td><span style=white-space:pre-wrap> Unmarried    </span>     </td><td><span style=white-space:pre-wrap> White             </span></td><td><span style=white-space:pre-wrap> Male  </span>            </td><td><span style=white-space:pre-wrap>    0</span>              </td><td><span style=white-space:pre-wrap>   0</span>               </td><td>99                                                         </td><td> United-States                                             </td><td> &lt;=50K                                                  </td><td>Senior                                                     </td></tr>\n",
       "\t<tr><th scope=row>15893</th><td>90                                                         </td><td><span style=white-space:pre-wrap> Private         </span>  </td><td> 88991                                                     </td><td><span style=white-space:pre-wrap> Bachelors   </span>      </td><td>13                                                         </td><td> Married-civ-spouse                                        </td><td><span style=white-space:pre-wrap> Exec-managerial  </span> </td><td><span style=white-space:pre-wrap> Wife         </span>     </td><td><span style=white-space:pre-wrap> White             </span></td><td> Female                                                    </td><td><span style=white-space:pre-wrap>    0</span>              </td><td><span style=white-space:pre-wrap>   0</span>               </td><td>40                                                         </td><td><span style=white-space:pre-wrap> England      </span>     </td><td> &gt;50K                                                   </td><td>Senior                                                     </td></tr>\n",
       "\t<tr><th scope=row>18278</th><td>90                                                         </td><td><span style=white-space:pre-wrap> Private         </span>  </td><td>311184                                                     </td><td><span style=white-space:pre-wrap> Bachelors   </span>      </td><td>13                                                         </td><td> Married-civ-spouse                                        </td><td><span style=white-space:pre-wrap> Sales            </span> </td><td><span style=white-space:pre-wrap> Husband      </span>     </td><td><span style=white-space:pre-wrap> White             </span></td><td><span style=white-space:pre-wrap> Male  </span>            </td><td><span style=white-space:pre-wrap>    0</span>              </td><td><span style=white-space:pre-wrap>   0</span>               </td><td>20                                                         </td><td><span style=white-space:pre-wrap> ?            </span>     </td><td> &lt;=50K                                                  </td><td>Senior                                                     </td></tr>\n",
       "\t<tr><th scope=row>18414</th><td>90                                                         </td><td><span style=white-space:pre-wrap> Private         </span>  </td><td>313749                                                     </td><td><span style=white-space:pre-wrap> Bachelors   </span>      </td><td>13                                                         </td><td><span style=white-space:pre-wrap> Never-married     </span></td><td><span style=white-space:pre-wrap> Prof-specialty   </span> </td><td><span style=white-space:pre-wrap> Own-child    </span>     </td><td><span style=white-space:pre-wrap> White             </span></td><td> Female                                                    </td><td><span style=white-space:pre-wrap>    0</span>              </td><td><span style=white-space:pre-wrap>   0</span>               </td><td>10                                                         </td><td> United-States                                             </td><td> &lt;=50K                                                  </td><td>Senior                                                     </td></tr>\n",
       "\t<tr><th scope=row>18726</th><td>90                                                         </td><td><span style=white-space:pre-wrap> Local-gov       </span>  </td><td>153602                                                     </td><td><span style=white-space:pre-wrap> HS-grad     </span>      </td><td> 9                                                         </td><td> Married-civ-spouse                                        </td><td><span style=white-space:pre-wrap> Other-service    </span> </td><td><span style=white-space:pre-wrap> Husband      </span>     </td><td><span style=white-space:pre-wrap> White             </span></td><td><span style=white-space:pre-wrap> Male  </span>            </td><td> 6767                                                      </td><td><span style=white-space:pre-wrap>   0</span>               </td><td>40                                                         </td><td> United-States                                             </td><td> &lt;=50K                                                  </td><td>Senior                                                     </td></tr>\n",
       "\t<tr><th scope=row>18833</th><td>90                                                         </td><td><span style=white-space:pre-wrap> Private         </span>  </td><td>115306                                                     </td><td><span style=white-space:pre-wrap> Masters     </span>      </td><td>14                                                         </td><td><span style=white-space:pre-wrap> Never-married     </span></td><td><span style=white-space:pre-wrap> Exec-managerial  </span> </td><td><span style=white-space:pre-wrap> Own-child    </span>     </td><td><span style=white-space:pre-wrap> White             </span></td><td> Female                                                    </td><td><span style=white-space:pre-wrap>    0</span>              </td><td><span style=white-space:pre-wrap>   0</span>               </td><td>40                                                         </td><td> United-States                                             </td><td> &lt;=50K                                                  </td><td>Senior                                                     </td></tr>\n",
       "\t<tr><th scope=row>19213</th><td>90                                                         </td><td><span style=white-space:pre-wrap> Private         </span>  </td><td>139660                                                     </td><td> Some-college                                              </td><td>10                                                         </td><td><span style=white-space:pre-wrap> Divorced          </span></td><td><span style=white-space:pre-wrap> Sales            </span> </td><td><span style=white-space:pre-wrap> Unmarried    </span>     </td><td><span style=white-space:pre-wrap> Black             </span></td><td> Female                                                    </td><td><span style=white-space:pre-wrap>    0</span>              </td><td><span style=white-space:pre-wrap>   0</span>               </td><td>37                                                         </td><td> United-States                                             </td><td> &lt;=50K                                                  </td><td>Senior                                                     </td></tr>\n",
       "\t<tr><th scope=row>19490</th><td>90                                                         </td><td><span style=white-space:pre-wrap> Private         </span>  </td><td> 84553                                                     </td><td><span style=white-space:pre-wrap> HS-grad     </span>      </td><td> 9                                                         </td><td> Married-civ-spouse                                        </td><td> Machine-op-inspct                                         </td><td><span style=white-space:pre-wrap> Husband      </span>     </td><td><span style=white-space:pre-wrap> White             </span></td><td><span style=white-space:pre-wrap> Male  </span>            </td><td><span style=white-space:pre-wrap>    0</span>              </td><td><span style=white-space:pre-wrap>   0</span>               </td><td>40                                                         </td><td> United-States                                             </td><td> &lt;=50K                                                  </td><td>Senior                                                     </td></tr>\n",
       "\t<tr><th scope=row>19748</th><td>90                                                         </td><td><span style=white-space:pre-wrap> Private         </span>  </td><td>226968                                                     </td><td><span style=white-space:pre-wrap> 7th-8th     </span>      </td><td> 4                                                         </td><td> Married-civ-spouse                                        </td><td> Machine-op-inspct                                         </td><td><span style=white-space:pre-wrap> Husband      </span>     </td><td><span style=white-space:pre-wrap> White             </span></td><td><span style=white-space:pre-wrap> Male  </span>            </td><td><span style=white-space:pre-wrap>    0</span>              </td><td><span style=white-space:pre-wrap>   0</span>               </td><td>40                                                         </td><td> United-States                                             </td><td> &lt;=50K                                                  </td><td>Senior                                                     </td></tr>\n",
       "\t<tr><th scope=row>20611</th><td>90                                                         </td><td><span style=white-space:pre-wrap> Private         </span>  </td><td>206667                                                     </td><td><span style=white-space:pre-wrap> Masters     </span>      </td><td>14                                                         </td><td> Married-civ-spouse                                        </td><td><span style=white-space:pre-wrap> Prof-specialty   </span> </td><td><span style=white-space:pre-wrap> Wife         </span>     </td><td><span style=white-space:pre-wrap> White             </span></td><td> Female                                                    </td><td><span style=white-space:pre-wrap>    0</span>              </td><td><span style=white-space:pre-wrap>   0</span>               </td><td>40                                                         </td><td> United-States                                             </td><td> &gt;50K                                                   </td><td>Senior                                                     </td></tr>\n",
       "\t<tr><th scope=row>22221</th><td>90                                                         </td><td><span style=white-space:pre-wrap> Private         </span>  </td><td> 52386                                                     </td><td><span style=white-space:pre-wrap> Bachelors   </span>      </td><td>13                                                         </td><td><span style=white-space:pre-wrap> Never-married     </span></td><td><span style=white-space:pre-wrap> Prof-specialty   </span> </td><td> Not-in-family                                             </td><td> Asian-Pac-Islander                                        </td><td><span style=white-space:pre-wrap> Male  </span>            </td><td><span style=white-space:pre-wrap>    0</span>              </td><td><span style=white-space:pre-wrap>   0</span>               </td><td>40                                                         </td><td> United-States                                             </td><td> &lt;=50K                                                  </td><td>Senior                                                     </td></tr>\n",
       "\t<tr><th scope=row>24044</th><td>90                                                         </td><td> Self-emp-not-inc                                          </td><td> 82628                                                     </td><td><span style=white-space:pre-wrap> HS-grad     </span>      </td><td> 9                                                         </td><td><span style=white-space:pre-wrap> Never-married     </span></td><td><span style=white-space:pre-wrap> Exec-managerial  </span> </td><td> Not-in-family                                             </td><td><span style=white-space:pre-wrap> White             </span></td><td><span style=white-space:pre-wrap> Male  </span>            </td><td> 2964                                                      </td><td><span style=white-space:pre-wrap>   0</span>               </td><td>12                                                         </td><td> United-States                                             </td><td> &lt;=50K                                                  </td><td>Senior                                                     </td></tr>\n",
       "\t<tr><th scope=row>24239</th><td>90                                                         </td><td><span style=white-space:pre-wrap> ?               </span>  </td><td>166343                                                     </td><td><span style=white-space:pre-wrap> 1st-4th     </span>      </td><td> 2                                                         </td><td><span style=white-space:pre-wrap> Widowed           </span></td><td><span style=white-space:pre-wrap> ?                </span> </td><td> Not-in-family                                             </td><td><span style=white-space:pre-wrap> Black             </span></td><td> Female                                                    </td><td><span style=white-space:pre-wrap>    0</span>              </td><td><span style=white-space:pre-wrap>   0</span>               </td><td>40                                                         </td><td> United-States                                             </td><td> &lt;=50K                                                  </td><td>Senior                                                     </td></tr>\n",
       "\t<tr><th scope=row>25304</th><td>90                                                         </td><td><span style=white-space:pre-wrap> ?               </span>  </td><td>175444                                                     </td><td><span style=white-space:pre-wrap> 7th-8th     </span>      </td><td> 4                                                         </td><td><span style=white-space:pre-wrap> Separated         </span></td><td><span style=white-space:pre-wrap> ?                </span> </td><td> Not-in-family                                             </td><td><span style=white-space:pre-wrap> White             </span></td><td> Female                                                    </td><td><span style=white-space:pre-wrap>    0</span>              </td><td><span style=white-space:pre-wrap>   0</span>               </td><td>15                                                         </td><td> United-States                                             </td><td> &lt;=50K                                                  </td><td>Senior                                                     </td></tr>\n",
       "\t<tr><th scope=row>28464</th><td>90                                                         </td><td><span style=white-space:pre-wrap> Federal-gov     </span>  </td><td>195433                                                     </td><td><span style=white-space:pre-wrap> HS-grad     </span>      </td><td> 9                                                         </td><td> Married-civ-spouse                                        </td><td><span style=white-space:pre-wrap> Craft-repair     </span> </td><td><span style=white-space:pre-wrap> Husband      </span>     </td><td><span style=white-space:pre-wrap> White             </span></td><td><span style=white-space:pre-wrap> Male  </span>            </td><td><span style=white-space:pre-wrap>    0</span>              </td><td><span style=white-space:pre-wrap>   0</span>               </td><td>30                                                         </td><td> United-States                                             </td><td> &lt;=50K                                                  </td><td>Senior                                                     </td></tr>\n",
       "\t<tr><th scope=row>31031</th><td>90                                                         </td><td><span style=white-space:pre-wrap> Private         </span>  </td><td> 47929                                                     </td><td><span style=white-space:pre-wrap> HS-grad     </span>      </td><td> 9                                                         </td><td> Married-civ-spouse                                        </td><td> Machine-op-inspct                                         </td><td><span style=white-space:pre-wrap> Husband      </span>     </td><td><span style=white-space:pre-wrap> White             </span></td><td><span style=white-space:pre-wrap> Male  </span>            </td><td><span style=white-space:pre-wrap>    0</span>              </td><td><span style=white-space:pre-wrap>   0</span>               </td><td>40                                                         </td><td> United-States                                             </td><td> &lt;=50K                                                  </td><td>Senior                                                     </td></tr>\n",
       "\t<tr><th scope=row>31697</th><td>90                                                         </td><td><span style=white-space:pre-wrap> ?               </span>  </td><td>313986                                                     </td><td><span style=white-space:pre-wrap> HS-grad     </span>      </td><td> 9                                                         </td><td> Married-civ-spouse                                        </td><td><span style=white-space:pre-wrap> ?                </span> </td><td><span style=white-space:pre-wrap> Husband      </span>     </td><td><span style=white-space:pre-wrap> White             </span></td><td><span style=white-space:pre-wrap> Male  </span>            </td><td><span style=white-space:pre-wrap>    0</span>              </td><td><span style=white-space:pre-wrap>   0</span>               </td><td>40                                                         </td><td> United-States                                             </td><td> &gt;50K                                                   </td><td>Senior                                                     </td></tr>\n",
       "\t<tr><th scope=row>32278</th><td>90                                                         </td><td><span style=white-space:pre-wrap> Private         </span>  </td><td>313749                                                     </td><td><span style=white-space:pre-wrap> HS-grad     </span>      </td><td> 9                                                         </td><td><span style=white-space:pre-wrap> Widowed           </span></td><td><span style=white-space:pre-wrap> Adm-clerical     </span> </td><td><span style=white-space:pre-wrap> Unmarried    </span>     </td><td><span style=white-space:pre-wrap> White             </span></td><td> Female                                                    </td><td><span style=white-space:pre-wrap>    0</span>              </td><td><span style=white-space:pre-wrap>   0</span>               </td><td>25                                                         </td><td> United-States                                             </td><td> &lt;=50K                                                  </td><td>Senior                                                     </td></tr>\n",
       "\t<tr><th scope=row>32368</th><td>90                                                         </td><td><span style=white-space:pre-wrap> Local-gov       </span>  </td><td>214594                                                     </td><td><span style=white-space:pre-wrap> 7th-8th     </span>      </td><td> 4                                                         </td><td> Married-civ-spouse                                        </td><td><span style=white-space:pre-wrap> Protective-serv  </span> </td><td><span style=white-space:pre-wrap> Husband      </span>     </td><td><span style=white-space:pre-wrap> White             </span></td><td><span style=white-space:pre-wrap> Male  </span>            </td><td> 2653                                                      </td><td><span style=white-space:pre-wrap>   0</span>               </td><td>40                                                         </td><td> United-States                                             </td><td> &lt;=50K                                                  </td><td>Senior                                                     </td></tr>\n",
       "</tbody>\n",
       "</table>\n"
      ],
      "text/latex": [
       "\\begin{tabular}{r|llllllllllllllll}\n",
       "  & age & workclass & fnlwgt & education & education-num & marital-status & occupation & occupation & race & sex & capital-gain & capital-loss & hours-per-week & native-country & target & age\\_class\\\\\n",
       "\\hline\n",
       "\t107 & 17                  &  ?                  & 304873              &  10th               & 6                   &  Never-married      &  ?                  &  Own-child          &  White              &  Female             & 34095               & 0                   & 32                  &  United-States      &  <=50K              & Young              \\\\\n",
       "\t210 & 17                  &  Private            &  65368              &  11th               & 7                   &  Never-married      &  Sales              &  Own-child          &  White              &  Female             &     0               & 0                   & 12                  &  United-States      &  <=50K              & Young              \\\\\n",
       "\t263 & 17                  &  Private            & 245918              &  11th               & 7                   &  Never-married      &  Other-service      &  Own-child          &  White              &  Male               &     0               & 0                   & 12                  &  United-States      &  <=50K              & Young              \\\\\n",
       "\t272 & 17                  &  Private            & 191260              &  9th                & 5                   &  Never-married      &  Other-service      &  Own-child          &  White              &  Male               &  1055               & 0                   & 24                  &  United-States      &  <=50K              & Young              \\\\\n",
       "\t336 & 17                  &  Private            & 270942              &  5th-6th            & 3                   &  Never-married      &  Other-service      &  Other-relative     &  White              &  Male               &     0               & 0                   & 48                  &  Mexico             &  <=50K              & Young              \\\\\n",
       "\t372 & 17                  &  Private            &  89821              &  11th               & 7                   &  Never-married      &  Other-service      &  Own-child          &  White              &  Male               &     0               & 0                   & 10                  &  United-States      &  <=50K              & Young              \\\\\n",
       "\t422 & 17                  &  Private            & 175024              &  11th               & 7                   &  Never-married      &  Handlers-cleaners  &  Own-child          &  White              &  Male               &  2176               & 0                   & 18                  &  United-States      &  <=50K              & Young              \\\\\n",
       "\t432 & 17                  &  ?                  & 202521              &  11th               & 7                   &  Never-married      &  ?                  &  Own-child          &  White              &  Male               &     0               & 0                   & 40                  &  United-States      &  <=50K              & Young              \\\\\n",
       "\t450 & 17                  &  ?                  & 258872              &  11th               & 7                   &  Never-married      &  ?                  &  Own-child          &  White              &  Female             &     0               & 0                   &  5                  &  United-States      &  <=50K              & Young              \\\\\n",
       "\t477 & 17                  &  Private            & 211870              &  9th                & 5                   &  Never-married      &  Other-service      &  Not-in-family      &  White              &  Male               &     0               & 0                   &  6                  &  United-States      &  <=50K              & Young              \\\\\n",
       "\t573 & 17                  &  Private            & 242718              &  11th               & 7                   &  Never-married      &  Sales              &  Own-child          &  White              &  Male               &     0               & 0                   & 12                  &  United-States      &  <=50K              & Young              \\\\\n",
       "\t610 & 17                  &  Private            & 169658              &  10th               & 6                   &  Never-married      &  Other-service      &  Own-child          &  White              &  Female             &     0               & 0                   & 21                  &  United-States      &  <=50K              & Young              \\\\\n",
       "\t672 & 17                  &  ?                  &  80077              &  11th               & 7                   &  Never-married      &  ?                  &  Own-child          &  White              &  Female             &     0               & 0                   & 20                  &  United-States      &  <=50K              & Young              \\\\\n",
       "\t673 & 17                  &  Self-emp-not-inc   & 368700              &  11th               & 7                   &  Never-married      &  Farming-fishing    &  Own-child          &  White              &  Male               &     0               & 0                   & 10                  &  United-States      &  <=50K              & Young              \\\\\n",
       "\t677 & 17                  &  Private            & 102726              &  12th               & 8                   &  Never-married      &  Other-service      &  Own-child          &  White              &  Male               &     0               & 0                   & 16                  &  United-States      &  <=50K              & Young              \\\\\n",
       "\t745 & 17                  &  Private            & 316929              &  12th               & 8                   &  Never-married      &  Handlers-cleaners  &  Own-child          &  White              &  Male               &     0               & 0                   & 20                  &  United-States      &  <=50K              & Young              \\\\\n",
       "\t805 & 17                  &  Private            & 193830              &  11th               & 7                   &  Never-married      &  Sales              &  Own-child          &  White              &  Female             &     0               & 0                   & 20                  &  United-States      &  <=50K              & Young              \\\\\n",
       "\t815 & 17                  &  Private            &  32607              &  10th               & 6                   &  Never-married      &  Farming-fishing    &  Own-child          &  White              &  Male               &     0               & 0                   & 20                  &  United-States      &  <=50K              & Young              \\\\\n",
       "\t841 & 17                  &  Private            & 198124              &  11th               & 7                   &  Never-married      &  Sales              &  Own-child          &  White              &  Male               &     0               & 0                   & 20                  &  United-States      &  <=50K              & Young              \\\\\n",
       "\t868 & 17                  &  Private            & 368700              &  11th               & 7                   &  Never-married      &  Sales              &  Own-child          &  White              &  Male               &     0               & 0                   & 28                  &  United-States      &  <=50K              & Young              \\\\\n",
       "\t1075 & 17                  &  Private            & 220384              &  11th               & 7                   &  Never-married      &  Adm-clerical       &  Own-child          &  White              &  Male               &     0               & 0                   & 15                  &  United-States      &  <=50K              & Young              \\\\\n",
       "\t1326 & 17                  &  ?                  & 138507              &  10th               & 6                   &  Never-married      &  ?                  &  Own-child          &  White              &  Male               &     0               & 0                   & 20                  &  United-States      &  <=50K              & Young              \\\\\n",
       "\t1348 & 17                  &  ?                  & 145886              &  11th               & 7                   &  Never-married      &  ?                  &  Own-child          &  White              &  Female             &     0               & 0                   & 30                  &  United-States      &  <=50K              & Young              \\\\\n",
       "\t1390 & 17                  &  Private            &  46496              &  11th               & 7                   &  Never-married      &  Other-service      &  Own-child          &  White              &  Male               &     0               & 0                   &  5                  &  United-States      &  <=50K              & Young              \\\\\n",
       "\t1453 & 17                  &  ?                  & 333100              &  10th               & 6                   &  Never-married      &  ?                  &  Own-child          &  White              &  Male               &  1055               & 0                   & 30                  &  United-States      &  <=50K              & Young              \\\\\n",
       "\t1479 & 17                  &  Private            & 197850              &  11th               & 7                   &  Never-married      &  Adm-clerical       &  Own-child          &  Asian-Pac-Islander &  Female             &     0               & 0                   & 24                  &  United-States      &  <=50K              & Young              \\\\\n",
       "\t1520 & 17                  &  Local-gov          &  32124              &  9th                & 5                   &  Never-married      &  Other-service      &  Own-child          &  Black              &  Male               &     0               & 0                   &  9                  &  United-States      &  <=50K              & Young              \\\\\n",
       "\t1547 & 17                  &  Private            & 163494              &  10th               & 6                   &  Never-married      &  Sales              &  Own-child          &  White              &  Male               &     0               & 0                   & 30                  &  United-States      &  <=50K              & Young              \\\\\n",
       "\t1552 & 17                  &  Private            & 130806              &  10th               & 6                   &  Never-married      &  Handlers-cleaners  &  Own-child          &  White              &  Male               &     0               & 0                   & 24                  &  United-States      &  <=50K              & Young              \\\\\n",
       "\t1692 & 17                  &  Private            & 103851              &  11th               & 7                   &  Never-married      &  Adm-clerical       &  Own-child          &  White              &  Female             &  1055               & 0                   & 20                  &  United-States      &  <=50K              & Young              \\\\\n",
       "\t... & ... & ... & ... & ... & ... & ... & ... & ... & ... & ... & ... & ... & ... & ... & ... & ...\\\\\n",
       "\t8807 & 90                  &  Private            &  87372              &  Prof-school        & 15                  &  Married-civ-spouse &  Prof-specialty     &  Husband            &  White              &  Male               & 20051               &    0                & 72                  &  United-States      &  >50K               & Senior             \\\\\n",
       "\t8964 & 90                  &  ?                  &  77053              &  HS-grad            &  9                  &  Widowed            &  ?                  &  Not-in-family      &  White              &  Female             &     0               & 4356                & 40                  &  United-States      &  <=50K              & Senior             \\\\\n",
       "\t8974 & 90                  &  Private            &  46786              &  Bachelors          & 13                  &  Married-civ-spouse &  Sales              &  Husband            &  White              &  Male               &  9386               &    0                & 15                  &  United-States      &  >50K               & Senior             \\\\\n",
       "\t10211 & 90                  &  Self-emp-not-inc   & 282095              &  Some-college       & 10                  &  Married-civ-spouse &  Farming-fishing    &  Husband            &  White              &  Male               &     0               &    0                & 40                  &  United-States      &  <=50K              & Senior             \\\\\n",
       "\t10546 & 90                  &  Private            & 175491              &  HS-grad            &  9                  &  Married-civ-spouse &  Craft-repair       &  Husband            &  White              &  Male               &  9386               &    0                & 50                  &  Ecuador            &  >50K               & Senior             \\\\\n",
       "\t11513 & 90                  &  Private            &  87285              &  HS-grad            &  9                  &  Never-married      &  Other-service      &  Own-child          &  White              &  Female             &     0               &    0                & 24                  &  United-States      &  <=50K              & Senior             \\\\\n",
       "\t11732 & 90                  &  ?                  &  39824              &  HS-grad            &  9                  &  Widowed            &  ?                  &  Not-in-family      &  White              &  Male               &   401               &    0                &  4                  &  United-States      &  <=50K              & Senior             \\\\\n",
       "\t11997 & 90                  &  Private            &  40388              &  Bachelors          & 13                  &  Never-married      &  Exec-managerial    &  Not-in-family      &  White              &  Male               &     0               &    0                & 55                  &  United-States      &  <=50K              & Senior             \\\\\n",
       "\t12452 & 90                  &  ?                  & 225063              &  Some-college       & 10                  &  Never-married      &  ?                  &  Own-child          &  Asian-Pac-Islander &  Male               &     0               &    0                & 10                  &  South              &  <=50K              & Senior             \\\\\n",
       "\t12976 & 90                  &  Private            & 250832              &  10th               &  6                  &  Married-civ-spouse &  Exec-managerial    &  Husband            &  White              &  Male               &     0               &    0                & 40                  &  United-States      &  <=50K              & Senior             \\\\\n",
       "\t14160 & 90                  &  Local-gov          & 187749              &  Assoc-acdm         & 12                  &  Married-civ-spouse &  Adm-clerical       &  Husband            &  Asian-Pac-Islander &  Male               &     0               &    0                & 20                  &  Philippines        &  <=50K              & Senior             \\\\\n",
       "\t15357 & 90                  &  Private            &  90523              &  HS-grad            &  9                  &  Widowed            &  Transport-moving   &  Unmarried          &  White              &  Male               &     0               &    0                & 99                  &  United-States      &  <=50K              & Senior             \\\\\n",
       "\t15893 & 90                  &  Private            &  88991              &  Bachelors          & 13                  &  Married-civ-spouse &  Exec-managerial    &  Wife               &  White              &  Female             &     0               &    0                & 40                  &  England            &  >50K               & Senior             \\\\\n",
       "\t18278 & 90                  &  Private            & 311184              &  Bachelors          & 13                  &  Married-civ-spouse &  Sales              &  Husband            &  White              &  Male               &     0               &    0                & 20                  &  ?                  &  <=50K              & Senior             \\\\\n",
       "\t18414 & 90                  &  Private            & 313749              &  Bachelors          & 13                  &  Never-married      &  Prof-specialty     &  Own-child          &  White              &  Female             &     0               &    0                & 10                  &  United-States      &  <=50K              & Senior             \\\\\n",
       "\t18726 & 90                  &  Local-gov          & 153602              &  HS-grad            &  9                  &  Married-civ-spouse &  Other-service      &  Husband            &  White              &  Male               &  6767               &    0                & 40                  &  United-States      &  <=50K              & Senior             \\\\\n",
       "\t18833 & 90                  &  Private            & 115306              &  Masters            & 14                  &  Never-married      &  Exec-managerial    &  Own-child          &  White              &  Female             &     0               &    0                & 40                  &  United-States      &  <=50K              & Senior             \\\\\n",
       "\t19213 & 90                  &  Private            & 139660              &  Some-college       & 10                  &  Divorced           &  Sales              &  Unmarried          &  Black              &  Female             &     0               &    0                & 37                  &  United-States      &  <=50K              & Senior             \\\\\n",
       "\t19490 & 90                  &  Private            &  84553              &  HS-grad            &  9                  &  Married-civ-spouse &  Machine-op-inspct  &  Husband            &  White              &  Male               &     0               &    0                & 40                  &  United-States      &  <=50K              & Senior             \\\\\n",
       "\t19748 & 90                  &  Private            & 226968              &  7th-8th            &  4                  &  Married-civ-spouse &  Machine-op-inspct  &  Husband            &  White              &  Male               &     0               &    0                & 40                  &  United-States      &  <=50K              & Senior             \\\\\n",
       "\t20611 & 90                  &  Private            & 206667              &  Masters            & 14                  &  Married-civ-spouse &  Prof-specialty     &  Wife               &  White              &  Female             &     0               &    0                & 40                  &  United-States      &  >50K               & Senior             \\\\\n",
       "\t22221 & 90                  &  Private            &  52386              &  Bachelors          & 13                  &  Never-married      &  Prof-specialty     &  Not-in-family      &  Asian-Pac-Islander &  Male               &     0               &    0                & 40                  &  United-States      &  <=50K              & Senior             \\\\\n",
       "\t24044 & 90                  &  Self-emp-not-inc   &  82628              &  HS-grad            &  9                  &  Never-married      &  Exec-managerial    &  Not-in-family      &  White              &  Male               &  2964               &    0                & 12                  &  United-States      &  <=50K              & Senior             \\\\\n",
       "\t24239 & 90                  &  ?                  & 166343              &  1st-4th            &  2                  &  Widowed            &  ?                  &  Not-in-family      &  Black              &  Female             &     0               &    0                & 40                  &  United-States      &  <=50K              & Senior             \\\\\n",
       "\t25304 & 90                  &  ?                  & 175444              &  7th-8th            &  4                  &  Separated          &  ?                  &  Not-in-family      &  White              &  Female             &     0               &    0                & 15                  &  United-States      &  <=50K              & Senior             \\\\\n",
       "\t28464 & 90                  &  Federal-gov        & 195433              &  HS-grad            &  9                  &  Married-civ-spouse &  Craft-repair       &  Husband            &  White              &  Male               &     0               &    0                & 30                  &  United-States      &  <=50K              & Senior             \\\\\n",
       "\t31031 & 90                  &  Private            &  47929              &  HS-grad            &  9                  &  Married-civ-spouse &  Machine-op-inspct  &  Husband            &  White              &  Male               &     0               &    0                & 40                  &  United-States      &  <=50K              & Senior             \\\\\n",
       "\t31697 & 90                  &  ?                  & 313986              &  HS-grad            &  9                  &  Married-civ-spouse &  ?                  &  Husband            &  White              &  Male               &     0               &    0                & 40                  &  United-States      &  >50K               & Senior             \\\\\n",
       "\t32278 & 90                  &  Private            & 313749              &  HS-grad            &  9                  &  Widowed            &  Adm-clerical       &  Unmarried          &  White              &  Female             &     0               &    0                & 25                  &  United-States      &  <=50K              & Senior             \\\\\n",
       "\t32368 & 90                  &  Local-gov          & 214594              &  7th-8th            &  4                  &  Married-civ-spouse &  Protective-serv    &  Husband            &  White              &  Male               &  2653               &    0                & 40                  &  United-States      &  <=50K              & Senior             \\\\\n",
       "\\end{tabular}\n"
      ],
      "text/markdown": [
       "\n",
       "| <!--/--> | age | workclass | fnlwgt | education | education-num | marital-status | occupation | occupation | race | sex | capital-gain | capital-loss | hours-per-week | native-country | target | age_class |\n",
       "|---|---|---|---|---|---|---|---|---|---|---|---|---|---|---|---|---|\n",
       "| 107 | 17                  |  ?                  | 304873              |  10th               | 6                   |  Never-married      |  ?                  |  Own-child          |  White              |  Female             | 34095               | 0                   | 32                  |  United-States      |  <=50K              | Young               |\n",
       "| 210 | 17                  |  Private            |  65368              |  11th               | 7                   |  Never-married      |  Sales              |  Own-child          |  White              |  Female             |     0               | 0                   | 12                  |  United-States      |  <=50K              | Young               |\n",
       "| 263 | 17                  |  Private            | 245918              |  11th               | 7                   |  Never-married      |  Other-service      |  Own-child          |  White              |  Male               |     0               | 0                   | 12                  |  United-States      |  <=50K              | Young               |\n",
       "| 272 | 17                  |  Private            | 191260              |  9th                | 5                   |  Never-married      |  Other-service      |  Own-child          |  White              |  Male               |  1055               | 0                   | 24                  |  United-States      |  <=50K              | Young               |\n",
       "| 336 | 17                  |  Private            | 270942              |  5th-6th            | 3                   |  Never-married      |  Other-service      |  Other-relative     |  White              |  Male               |     0               | 0                   | 48                  |  Mexico             |  <=50K              | Young               |\n",
       "| 372 | 17                  |  Private            |  89821              |  11th               | 7                   |  Never-married      |  Other-service      |  Own-child          |  White              |  Male               |     0               | 0                   | 10                  |  United-States      |  <=50K              | Young               |\n",
       "| 422 | 17                  |  Private            | 175024              |  11th               | 7                   |  Never-married      |  Handlers-cleaners  |  Own-child          |  White              |  Male               |  2176               | 0                   | 18                  |  United-States      |  <=50K              | Young               |\n",
       "| 432 | 17                  |  ?                  | 202521              |  11th               | 7                   |  Never-married      |  ?                  |  Own-child          |  White              |  Male               |     0               | 0                   | 40                  |  United-States      |  <=50K              | Young               |\n",
       "| 450 | 17                  |  ?                  | 258872              |  11th               | 7                   |  Never-married      |  ?                  |  Own-child          |  White              |  Female             |     0               | 0                   |  5                  |  United-States      |  <=50K              | Young               |\n",
       "| 477 | 17                  |  Private            | 211870              |  9th                | 5                   |  Never-married      |  Other-service      |  Not-in-family      |  White              |  Male               |     0               | 0                   |  6                  |  United-States      |  <=50K              | Young               |\n",
       "| 573 | 17                  |  Private            | 242718              |  11th               | 7                   |  Never-married      |  Sales              |  Own-child          |  White              |  Male               |     0               | 0                   | 12                  |  United-States      |  <=50K              | Young               |\n",
       "| 610 | 17                  |  Private            | 169658              |  10th               | 6                   |  Never-married      |  Other-service      |  Own-child          |  White              |  Female             |     0               | 0                   | 21                  |  United-States      |  <=50K              | Young               |\n",
       "| 672 | 17                  |  ?                  |  80077              |  11th               | 7                   |  Never-married      |  ?                  |  Own-child          |  White              |  Female             |     0               | 0                   | 20                  |  United-States      |  <=50K              | Young               |\n",
       "| 673 | 17                  |  Self-emp-not-inc   | 368700              |  11th               | 7                   |  Never-married      |  Farming-fishing    |  Own-child          |  White              |  Male               |     0               | 0                   | 10                  |  United-States      |  <=50K              | Young               |\n",
       "| 677 | 17                  |  Private            | 102726              |  12th               | 8                   |  Never-married      |  Other-service      |  Own-child          |  White              |  Male               |     0               | 0                   | 16                  |  United-States      |  <=50K              | Young               |\n",
       "| 745 | 17                  |  Private            | 316929              |  12th               | 8                   |  Never-married      |  Handlers-cleaners  |  Own-child          |  White              |  Male               |     0               | 0                   | 20                  |  United-States      |  <=50K              | Young               |\n",
       "| 805 | 17                  |  Private            | 193830              |  11th               | 7                   |  Never-married      |  Sales              |  Own-child          |  White              |  Female             |     0               | 0                   | 20                  |  United-States      |  <=50K              | Young               |\n",
       "| 815 | 17                  |  Private            |  32607              |  10th               | 6                   |  Never-married      |  Farming-fishing    |  Own-child          |  White              |  Male               |     0               | 0                   | 20                  |  United-States      |  <=50K              | Young               |\n",
       "| 841 | 17                  |  Private            | 198124              |  11th               | 7                   |  Never-married      |  Sales              |  Own-child          |  White              |  Male               |     0               | 0                   | 20                  |  United-States      |  <=50K              | Young               |\n",
       "| 868 | 17                  |  Private            | 368700              |  11th               | 7                   |  Never-married      |  Sales              |  Own-child          |  White              |  Male               |     0               | 0                   | 28                  |  United-States      |  <=50K              | Young               |\n",
       "| 1075 | 17                  |  Private            | 220384              |  11th               | 7                   |  Never-married      |  Adm-clerical       |  Own-child          |  White              |  Male               |     0               | 0                   | 15                  |  United-States      |  <=50K              | Young               |\n",
       "| 1326 | 17                  |  ?                  | 138507              |  10th               | 6                   |  Never-married      |  ?                  |  Own-child          |  White              |  Male               |     0               | 0                   | 20                  |  United-States      |  <=50K              | Young               |\n",
       "| 1348 | 17                  |  ?                  | 145886              |  11th               | 7                   |  Never-married      |  ?                  |  Own-child          |  White              |  Female             |     0               | 0                   | 30                  |  United-States      |  <=50K              | Young               |\n",
       "| 1390 | 17                  |  Private            |  46496              |  11th               | 7                   |  Never-married      |  Other-service      |  Own-child          |  White              |  Male               |     0               | 0                   |  5                  |  United-States      |  <=50K              | Young               |\n",
       "| 1453 | 17                  |  ?                  | 333100              |  10th               | 6                   |  Never-married      |  ?                  |  Own-child          |  White              |  Male               |  1055               | 0                   | 30                  |  United-States      |  <=50K              | Young               |\n",
       "| 1479 | 17                  |  Private            | 197850              |  11th               | 7                   |  Never-married      |  Adm-clerical       |  Own-child          |  Asian-Pac-Islander |  Female             |     0               | 0                   | 24                  |  United-States      |  <=50K              | Young               |\n",
       "| 1520 | 17                  |  Local-gov          |  32124              |  9th                | 5                   |  Never-married      |  Other-service      |  Own-child          |  Black              |  Male               |     0               | 0                   |  9                  |  United-States      |  <=50K              | Young               |\n",
       "| 1547 | 17                  |  Private            | 163494              |  10th               | 6                   |  Never-married      |  Sales              |  Own-child          |  White              |  Male               |     0               | 0                   | 30                  |  United-States      |  <=50K              | Young               |\n",
       "| 1552 | 17                  |  Private            | 130806              |  10th               | 6                   |  Never-married      |  Handlers-cleaners  |  Own-child          |  White              |  Male               |     0               | 0                   | 24                  |  United-States      |  <=50K              | Young               |\n",
       "| 1692 | 17                  |  Private            | 103851              |  11th               | 7                   |  Never-married      |  Adm-clerical       |  Own-child          |  White              |  Female             |  1055               | 0                   | 20                  |  United-States      |  <=50K              | Young               |\n",
       "| ... | ... | ... | ... | ... | ... | ... | ... | ... | ... | ... | ... | ... | ... | ... | ... | ... |\n",
       "| 8807 | 90                  |  Private            |  87372              |  Prof-school        | 15                  |  Married-civ-spouse |  Prof-specialty     |  Husband            |  White              |  Male               | 20051               |    0                | 72                  |  United-States      |  >50K               | Senior              |\n",
       "| 8964 | 90                  |  ?                  |  77053              |  HS-grad            |  9                  |  Widowed            |  ?                  |  Not-in-family      |  White              |  Female             |     0               | 4356                | 40                  |  United-States      |  <=50K              | Senior              |\n",
       "| 8974 | 90                  |  Private            |  46786              |  Bachelors          | 13                  |  Married-civ-spouse |  Sales              |  Husband            |  White              |  Male               |  9386               |    0                | 15                  |  United-States      |  >50K               | Senior              |\n",
       "| 10211 | 90                  |  Self-emp-not-inc   | 282095              |  Some-college       | 10                  |  Married-civ-spouse |  Farming-fishing    |  Husband            |  White              |  Male               |     0               |    0                | 40                  |  United-States      |  <=50K              | Senior              |\n",
       "| 10546 | 90                  |  Private            | 175491              |  HS-grad            |  9                  |  Married-civ-spouse |  Craft-repair       |  Husband            |  White              |  Male               |  9386               |    0                | 50                  |  Ecuador            |  >50K               | Senior              |\n",
       "| 11513 | 90                  |  Private            |  87285              |  HS-grad            |  9                  |  Never-married      |  Other-service      |  Own-child          |  White              |  Female             |     0               |    0                | 24                  |  United-States      |  <=50K              | Senior              |\n",
       "| 11732 | 90                  |  ?                  |  39824              |  HS-grad            |  9                  |  Widowed            |  ?                  |  Not-in-family      |  White              |  Male               |   401               |    0                |  4                  |  United-States      |  <=50K              | Senior              |\n",
       "| 11997 | 90                  |  Private            |  40388              |  Bachelors          | 13                  |  Never-married      |  Exec-managerial    |  Not-in-family      |  White              |  Male               |     0               |    0                | 55                  |  United-States      |  <=50K              | Senior              |\n",
       "| 12452 | 90                  |  ?                  | 225063              |  Some-college       | 10                  |  Never-married      |  ?                  |  Own-child          |  Asian-Pac-Islander |  Male               |     0               |    0                | 10                  |  South              |  <=50K              | Senior              |\n",
       "| 12976 | 90                  |  Private            | 250832              |  10th               |  6                  |  Married-civ-spouse |  Exec-managerial    |  Husband            |  White              |  Male               |     0               |    0                | 40                  |  United-States      |  <=50K              | Senior              |\n",
       "| 14160 | 90                  |  Local-gov          | 187749              |  Assoc-acdm         | 12                  |  Married-civ-spouse |  Adm-clerical       |  Husband            |  Asian-Pac-Islander |  Male               |     0               |    0                | 20                  |  Philippines        |  <=50K              | Senior              |\n",
       "| 15357 | 90                  |  Private            |  90523              |  HS-grad            |  9                  |  Widowed            |  Transport-moving   |  Unmarried          |  White              |  Male               |     0               |    0                | 99                  |  United-States      |  <=50K              | Senior              |\n",
       "| 15893 | 90                  |  Private            |  88991              |  Bachelors          | 13                  |  Married-civ-spouse |  Exec-managerial    |  Wife               |  White              |  Female             |     0               |    0                | 40                  |  England            |  >50K               | Senior              |\n",
       "| 18278 | 90                  |  Private            | 311184              |  Bachelors          | 13                  |  Married-civ-spouse |  Sales              |  Husband            |  White              |  Male               |     0               |    0                | 20                  |  ?                  |  <=50K              | Senior              |\n",
       "| 18414 | 90                  |  Private            | 313749              |  Bachelors          | 13                  |  Never-married      |  Prof-specialty     |  Own-child          |  White              |  Female             |     0               |    0                | 10                  |  United-States      |  <=50K              | Senior              |\n",
       "| 18726 | 90                  |  Local-gov          | 153602              |  HS-grad            |  9                  |  Married-civ-spouse |  Other-service      |  Husband            |  White              |  Male               |  6767               |    0                | 40                  |  United-States      |  <=50K              | Senior              |\n",
       "| 18833 | 90                  |  Private            | 115306              |  Masters            | 14                  |  Never-married      |  Exec-managerial    |  Own-child          |  White              |  Female             |     0               |    0                | 40                  |  United-States      |  <=50K              | Senior              |\n",
       "| 19213 | 90                  |  Private            | 139660              |  Some-college       | 10                  |  Divorced           |  Sales              |  Unmarried          |  Black              |  Female             |     0               |    0                | 37                  |  United-States      |  <=50K              | Senior              |\n",
       "| 19490 | 90                  |  Private            |  84553              |  HS-grad            |  9                  |  Married-civ-spouse |  Machine-op-inspct  |  Husband            |  White              |  Male               |     0               |    0                | 40                  |  United-States      |  <=50K              | Senior              |\n",
       "| 19748 | 90                  |  Private            | 226968              |  7th-8th            |  4                  |  Married-civ-spouse |  Machine-op-inspct  |  Husband            |  White              |  Male               |     0               |    0                | 40                  |  United-States      |  <=50K              | Senior              |\n",
       "| 20611 | 90                  |  Private            | 206667              |  Masters            | 14                  |  Married-civ-spouse |  Prof-specialty     |  Wife               |  White              |  Female             |     0               |    0                | 40                  |  United-States      |  >50K               | Senior              |\n",
       "| 22221 | 90                  |  Private            |  52386              |  Bachelors          | 13                  |  Never-married      |  Prof-specialty     |  Not-in-family      |  Asian-Pac-Islander |  Male               |     0               |    0                | 40                  |  United-States      |  <=50K              | Senior              |\n",
       "| 24044 | 90                  |  Self-emp-not-inc   |  82628              |  HS-grad            |  9                  |  Never-married      |  Exec-managerial    |  Not-in-family      |  White              |  Male               |  2964               |    0                | 12                  |  United-States      |  <=50K              | Senior              |\n",
       "| 24239 | 90                  |  ?                  | 166343              |  1st-4th            |  2                  |  Widowed            |  ?                  |  Not-in-family      |  Black              |  Female             |     0               |    0                | 40                  |  United-States      |  <=50K              | Senior              |\n",
       "| 25304 | 90                  |  ?                  | 175444              |  7th-8th            |  4                  |  Separated          |  ?                  |  Not-in-family      |  White              |  Female             |     0               |    0                | 15                  |  United-States      |  <=50K              | Senior              |\n",
       "| 28464 | 90                  |  Federal-gov        | 195433              |  HS-grad            |  9                  |  Married-civ-spouse |  Craft-repair       |  Husband            |  White              |  Male               |     0               |    0                | 30                  |  United-States      |  <=50K              | Senior              |\n",
       "| 31031 | 90                  |  Private            |  47929              |  HS-grad            |  9                  |  Married-civ-spouse |  Machine-op-inspct  |  Husband            |  White              |  Male               |     0               |    0                | 40                  |  United-States      |  <=50K              | Senior              |\n",
       "| 31697 | 90                  |  ?                  | 313986              |  HS-grad            |  9                  |  Married-civ-spouse |  ?                  |  Husband            |  White              |  Male               |     0               |    0                | 40                  |  United-States      |  >50K               | Senior              |\n",
       "| 32278 | 90                  |  Private            | 313749              |  HS-grad            |  9                  |  Widowed            |  Adm-clerical       |  Unmarried          |  White              |  Female             |     0               |    0                | 25                  |  United-States      |  <=50K              | Senior              |\n",
       "| 32368 | 90                  |  Local-gov          | 214594              |  7th-8th            |  4                  |  Married-civ-spouse |  Protective-serv    |  Husband            |  White              |  Male               |  2653               |    0                | 40                  |  United-States      |  <=50K              | Senior              |\n",
       "\n"
      ],
      "text/plain": [
       "      age workclass         fnlwgt education     education-num\n",
       "107   17   ?                304873  10th         6            \n",
       "210   17   Private           65368  11th         7            \n",
       "263   17   Private          245918  11th         7            \n",
       "272   17   Private          191260  9th          5            \n",
       "336   17   Private          270942  5th-6th      3            \n",
       "372   17   Private           89821  11th         7            \n",
       "422   17   Private          175024  11th         7            \n",
       "432   17   ?                202521  11th         7            \n",
       "450   17   ?                258872  11th         7            \n",
       "477   17   Private          211870  9th          5            \n",
       "573   17   Private          242718  11th         7            \n",
       "610   17   Private          169658  10th         6            \n",
       "672   17   ?                 80077  11th         7            \n",
       "673   17   Self-emp-not-inc 368700  11th         7            \n",
       "677   17   Private          102726  12th         8            \n",
       "745   17   Private          316929  12th         8            \n",
       "805   17   Private          193830  11th         7            \n",
       "815   17   Private           32607  10th         6            \n",
       "841   17   Private          198124  11th         7            \n",
       "868   17   Private          368700  11th         7            \n",
       "1075  17   Private          220384  11th         7            \n",
       "1326  17   ?                138507  10th         6            \n",
       "1348  17   ?                145886  11th         7            \n",
       "1390  17   Private           46496  11th         7            \n",
       "1453  17   ?                333100  10th         6            \n",
       "1479  17   Private          197850  11th         7            \n",
       "1520  17   Local-gov         32124  9th          5            \n",
       "1547  17   Private          163494  10th         6            \n",
       "1552  17   Private          130806  10th         6            \n",
       "1692  17   Private          103851  11th         7            \n",
       "...   ... ...               ...    ...           ...          \n",
       "8807  90   Private           87372  Prof-school  15           \n",
       "8964  90   ?                 77053  HS-grad       9           \n",
       "8974  90   Private           46786  Bachelors    13           \n",
       "10211 90   Self-emp-not-inc 282095  Some-college 10           \n",
       "10546 90   Private          175491  HS-grad       9           \n",
       "11513 90   Private           87285  HS-grad       9           \n",
       "11732 90   ?                 39824  HS-grad       9           \n",
       "11997 90   Private           40388  Bachelors    13           \n",
       "12452 90   ?                225063  Some-college 10           \n",
       "12976 90   Private          250832  10th          6           \n",
       "14160 90   Local-gov        187749  Assoc-acdm   12           \n",
       "15357 90   Private           90523  HS-grad       9           \n",
       "15893 90   Private           88991  Bachelors    13           \n",
       "18278 90   Private          311184  Bachelors    13           \n",
       "18414 90   Private          313749  Bachelors    13           \n",
       "18726 90   Local-gov        153602  HS-grad       9           \n",
       "18833 90   Private          115306  Masters      14           \n",
       "19213 90   Private          139660  Some-college 10           \n",
       "19490 90   Private           84553  HS-grad       9           \n",
       "19748 90   Private          226968  7th-8th       4           \n",
       "20611 90   Private          206667  Masters      14           \n",
       "22221 90   Private           52386  Bachelors    13           \n",
       "24044 90   Self-emp-not-inc  82628  HS-grad       9           \n",
       "24239 90   ?                166343  1st-4th       2           \n",
       "25304 90   ?                175444  7th-8th       4           \n",
       "28464 90   Federal-gov      195433  HS-grad       9           \n",
       "31031 90   Private           47929  HS-grad       9           \n",
       "31697 90   ?                313986  HS-grad       9           \n",
       "32278 90   Private          313749  HS-grad       9           \n",
       "32368 90   Local-gov        214594  7th-8th       4           \n",
       "      marital-status      occupation         occupation     \n",
       "107    Never-married       ?                  Own-child     \n",
       "210    Never-married       Sales              Own-child     \n",
       "263    Never-married       Other-service      Own-child     \n",
       "272    Never-married       Other-service      Own-child     \n",
       "336    Never-married       Other-service      Other-relative\n",
       "372    Never-married       Other-service      Own-child     \n",
       "422    Never-married       Handlers-cleaners  Own-child     \n",
       "432    Never-married       ?                  Own-child     \n",
       "450    Never-married       ?                  Own-child     \n",
       "477    Never-married       Other-service      Not-in-family \n",
       "573    Never-married       Sales              Own-child     \n",
       "610    Never-married       Other-service      Own-child     \n",
       "672    Never-married       ?                  Own-child     \n",
       "673    Never-married       Farming-fishing    Own-child     \n",
       "677    Never-married       Other-service      Own-child     \n",
       "745    Never-married       Handlers-cleaners  Own-child     \n",
       "805    Never-married       Sales              Own-child     \n",
       "815    Never-married       Farming-fishing    Own-child     \n",
       "841    Never-married       Sales              Own-child     \n",
       "868    Never-married       Sales              Own-child     \n",
       "1075   Never-married       Adm-clerical       Own-child     \n",
       "1326   Never-married       ?                  Own-child     \n",
       "1348   Never-married       ?                  Own-child     \n",
       "1390   Never-married       Other-service      Own-child     \n",
       "1453   Never-married       ?                  Own-child     \n",
       "1479   Never-married       Adm-clerical       Own-child     \n",
       "1520   Never-married       Other-service      Own-child     \n",
       "1547   Never-married       Sales              Own-child     \n",
       "1552   Never-married       Handlers-cleaners  Own-child     \n",
       "1692   Never-married       Adm-clerical       Own-child     \n",
       "...   ...                 ...                ...            \n",
       "8807   Married-civ-spouse  Prof-specialty     Husband       \n",
       "8964   Widowed             ?                  Not-in-family \n",
       "8974   Married-civ-spouse  Sales              Husband       \n",
       "10211  Married-civ-spouse  Farming-fishing    Husband       \n",
       "10546  Married-civ-spouse  Craft-repair       Husband       \n",
       "11513  Never-married       Other-service      Own-child     \n",
       "11732  Widowed             ?                  Not-in-family \n",
       "11997  Never-married       Exec-managerial    Not-in-family \n",
       "12452  Never-married       ?                  Own-child     \n",
       "12976  Married-civ-spouse  Exec-managerial    Husband       \n",
       "14160  Married-civ-spouse  Adm-clerical       Husband       \n",
       "15357  Widowed             Transport-moving   Unmarried     \n",
       "15893  Married-civ-spouse  Exec-managerial    Wife          \n",
       "18278  Married-civ-spouse  Sales              Husband       \n",
       "18414  Never-married       Prof-specialty     Own-child     \n",
       "18726  Married-civ-spouse  Other-service      Husband       \n",
       "18833  Never-married       Exec-managerial    Own-child     \n",
       "19213  Divorced            Sales              Unmarried     \n",
       "19490  Married-civ-spouse  Machine-op-inspct  Husband       \n",
       "19748  Married-civ-spouse  Machine-op-inspct  Husband       \n",
       "20611  Married-civ-spouse  Prof-specialty     Wife          \n",
       "22221  Never-married       Prof-specialty     Not-in-family \n",
       "24044  Never-married       Exec-managerial    Not-in-family \n",
       "24239  Widowed             ?                  Not-in-family \n",
       "25304  Separated           ?                  Not-in-family \n",
       "28464  Married-civ-spouse  Craft-repair       Husband       \n",
       "31031  Married-civ-spouse  Machine-op-inspct  Husband       \n",
       "31697  Married-civ-spouse  ?                  Husband       \n",
       "32278  Widowed             Adm-clerical       Unmarried     \n",
       "32368  Married-civ-spouse  Protective-serv    Husband       \n",
       "      race                sex     capital-gain capital-loss hours-per-week\n",
       "107    White               Female 34095        0            32            \n",
       "210    White               Female     0        0            12            \n",
       "263    White               Male       0        0            12            \n",
       "272    White               Male    1055        0            24            \n",
       "336    White               Male       0        0            48            \n",
       "372    White               Male       0        0            10            \n",
       "422    White               Male    2176        0            18            \n",
       "432    White               Male       0        0            40            \n",
       "450    White               Female     0        0             5            \n",
       "477    White               Male       0        0             6            \n",
       "573    White               Male       0        0            12            \n",
       "610    White               Female     0        0            21            \n",
       "672    White               Female     0        0            20            \n",
       "673    White               Male       0        0            10            \n",
       "677    White               Male       0        0            16            \n",
       "745    White               Male       0        0            20            \n",
       "805    White               Female     0        0            20            \n",
       "815    White               Male       0        0            20            \n",
       "841    White               Male       0        0            20            \n",
       "868    White               Male       0        0            28            \n",
       "1075   White               Male       0        0            15            \n",
       "1326   White               Male       0        0            20            \n",
       "1348   White               Female     0        0            30            \n",
       "1390   White               Male       0        0             5            \n",
       "1453   White               Male    1055        0            30            \n",
       "1479   Asian-Pac-Islander  Female     0        0            24            \n",
       "1520   Black               Male       0        0             9            \n",
       "1547   White               Male       0        0            30            \n",
       "1552   White               Male       0        0            24            \n",
       "1692   White               Female  1055        0            20            \n",
       "...   ...                 ...     ...          ...          ...           \n",
       "8807   White               Male   20051           0         72            \n",
       "8964   White               Female     0        4356         40            \n",
       "8974   White               Male    9386           0         15            \n",
       "10211  White               Male       0           0         40            \n",
       "10546  White               Male    9386           0         50            \n",
       "11513  White               Female     0           0         24            \n",
       "11732  White               Male     401           0          4            \n",
       "11997  White               Male       0           0         55            \n",
       "12452  Asian-Pac-Islander  Male       0           0         10            \n",
       "12976  White               Male       0           0         40            \n",
       "14160  Asian-Pac-Islander  Male       0           0         20            \n",
       "15357  White               Male       0           0         99            \n",
       "15893  White               Female     0           0         40            \n",
       "18278  White               Male       0           0         20            \n",
       "18414  White               Female     0           0         10            \n",
       "18726  White               Male    6767           0         40            \n",
       "18833  White               Female     0           0         40            \n",
       "19213  Black               Female     0           0         37            \n",
       "19490  White               Male       0           0         40            \n",
       "19748  White               Male       0           0         40            \n",
       "20611  White               Female     0           0         40            \n",
       "22221  Asian-Pac-Islander  Male       0           0         40            \n",
       "24044  White               Male    2964           0         12            \n",
       "24239  Black               Female     0           0         40            \n",
       "25304  White               Female     0           0         15            \n",
       "28464  White               Male       0           0         30            \n",
       "31031  White               Male       0           0         40            \n",
       "31697  White               Male       0           0         40            \n",
       "32278  White               Female     0           0         25            \n",
       "32368  White               Male    2653           0         40            \n",
       "      native-country target age_class\n",
       "107    United-States  <=50K Young    \n",
       "210    United-States  <=50K Young    \n",
       "263    United-States  <=50K Young    \n",
       "272    United-States  <=50K Young    \n",
       "336    Mexico         <=50K Young    \n",
       "372    United-States  <=50K Young    \n",
       "422    United-States  <=50K Young    \n",
       "432    United-States  <=50K Young    \n",
       "450    United-States  <=50K Young    \n",
       "477    United-States  <=50K Young    \n",
       "573    United-States  <=50K Young    \n",
       "610    United-States  <=50K Young    \n",
       "672    United-States  <=50K Young    \n",
       "673    United-States  <=50K Young    \n",
       "677    United-States  <=50K Young    \n",
       "745    United-States  <=50K Young    \n",
       "805    United-States  <=50K Young    \n",
       "815    United-States  <=50K Young    \n",
       "841    United-States  <=50K Young    \n",
       "868    United-States  <=50K Young    \n",
       "1075   United-States  <=50K Young    \n",
       "1326   United-States  <=50K Young    \n",
       "1348   United-States  <=50K Young    \n",
       "1390   United-States  <=50K Young    \n",
       "1453   United-States  <=50K Young    \n",
       "1479   United-States  <=50K Young    \n",
       "1520   United-States  <=50K Young    \n",
       "1547   United-States  <=50K Young    \n",
       "1552   United-States  <=50K Young    \n",
       "1692   United-States  <=50K Young    \n",
       "...   ...            ...    ...      \n",
       "8807   United-States  >50K  Senior   \n",
       "8964   United-States  <=50K Senior   \n",
       "8974   United-States  >50K  Senior   \n",
       "10211  United-States  <=50K Senior   \n",
       "10546  Ecuador        >50K  Senior   \n",
       "11513  United-States  <=50K Senior   \n",
       "11732  United-States  <=50K Senior   \n",
       "11997  United-States  <=50K Senior   \n",
       "12452  South          <=50K Senior   \n",
       "12976  United-States  <=50K Senior   \n",
       "14160  Philippines    <=50K Senior   \n",
       "15357  United-States  <=50K Senior   \n",
       "15893  England        >50K  Senior   \n",
       "18278  ?              <=50K Senior   \n",
       "18414  United-States  <=50K Senior   \n",
       "18726  United-States  <=50K Senior   \n",
       "18833  United-States  <=50K Senior   \n",
       "19213  United-States  <=50K Senior   \n",
       "19490  United-States  <=50K Senior   \n",
       "19748  United-States  <=50K Senior   \n",
       "20611  United-States  >50K  Senior   \n",
       "22221  United-States  <=50K Senior   \n",
       "24044  United-States  <=50K Senior   \n",
       "24239  United-States  <=50K Senior   \n",
       "25304  United-States  <=50K Senior   \n",
       "28464  United-States  <=50K Senior   \n",
       "31031  United-States  <=50K Senior   \n",
       "31697  United-States  >50K  Senior   \n",
       "32278  United-States  <=50K Senior   \n",
       "32368  United-States  <=50K Senior   "
      ]
     },
     "metadata": {},
     "output_type": "display_data"
    }
   ],
   "source": [
    "base_dados[order(base_dados$age),]"
   ]
  },
  {
   "cell_type": "code",
   "execution_count": 23,
   "id": "9a6fba73",
   "metadata": {},
   "outputs": [
    {
     "data": {
      "text/html": [
       "<table>\n",
       "<thead><tr><th></th><th scope=col>age</th><th scope=col>workclass</th><th scope=col>fnlwgt</th><th scope=col>education</th><th scope=col>education-num</th><th scope=col>marital-status</th><th scope=col>occupation</th><th scope=col>occupation</th><th scope=col>race</th><th scope=col>sex</th><th scope=col>capital-gain</th><th scope=col>capital-loss</th><th scope=col>hours-per-week</th><th scope=col>native-country</th><th scope=col>target</th><th scope=col>age_class</th></tr></thead>\n",
       "<tbody>\n",
       "\t<tr><th scope=row>223</th><td>90                                                         </td><td><span style=white-space:pre-wrap> Private         </span>  </td><td> 51744                                                     </td><td><span style=white-space:pre-wrap> HS-grad     </span>      </td><td> 9                                                         </td><td><span style=white-space:pre-wrap> Never-married     </span></td><td><span style=white-space:pre-wrap> Other-service    </span> </td><td> Not-in-family                                             </td><td><span style=white-space:pre-wrap> Black             </span></td><td><span style=white-space:pre-wrap> Male  </span>            </td><td><span style=white-space:pre-wrap>    0</span>              </td><td>2206                                                       </td><td>40                                                         </td><td> United-States                                             </td><td> &lt;=50K                                                  </td><td>Senior                                                     </td></tr>\n",
       "\t<tr><th scope=row>1041</th><td>90                                                         </td><td><span style=white-space:pre-wrap> Private         </span>  </td><td>137018                                                     </td><td><span style=white-space:pre-wrap> HS-grad     </span>      </td><td> 9                                                         </td><td><span style=white-space:pre-wrap> Never-married     </span></td><td><span style=white-space:pre-wrap> Other-service    </span> </td><td> Not-in-family                                             </td><td><span style=white-space:pre-wrap> White             </span></td><td> Female                                                    </td><td><span style=white-space:pre-wrap>    0</span>              </td><td><span style=white-space:pre-wrap>   0</span>               </td><td>40                                                         </td><td> United-States                                             </td><td> &lt;=50K                                                  </td><td>Senior                                                     </td></tr>\n",
       "\t<tr><th scope=row>1936</th><td>90                                                         </td><td><span style=white-space:pre-wrap> Private         </span>  </td><td>221832                                                     </td><td><span style=white-space:pre-wrap> Bachelors   </span>      </td><td>13                                                         </td><td> Married-civ-spouse                                        </td><td><span style=white-space:pre-wrap> Exec-managerial  </span> </td><td><span style=white-space:pre-wrap> Husband       </span>    </td><td><span style=white-space:pre-wrap> White             </span></td><td><span style=white-space:pre-wrap> Male  </span>            </td><td><span style=white-space:pre-wrap>    0</span>              </td><td><span style=white-space:pre-wrap>   0</span>               </td><td>45                                                         </td><td> United-States                                             </td><td> &lt;=50K                                                  </td><td>Senior                                                     </td></tr>\n",
       "\t<tr><th scope=row>2304</th><td>90                                                         </td><td><span style=white-space:pre-wrap> Private         </span>  </td><td> 52386                                                     </td><td> Some-college                                              </td><td>10                                                         </td><td><span style=white-space:pre-wrap> Never-married     </span></td><td><span style=white-space:pre-wrap> Other-service    </span> </td><td> Not-in-family                                             </td><td> Asian-Pac-Islander                                        </td><td><span style=white-space:pre-wrap> Male  </span>            </td><td><span style=white-space:pre-wrap>    0</span>              </td><td><span style=white-space:pre-wrap>   0</span>               </td><td>35                                                         </td><td> United-States                                             </td><td> &lt;=50K                                                  </td><td>Senior                                                     </td></tr>\n",
       "\t<tr><th scope=row>2892</th><td>90                                                         </td><td><span style=white-space:pre-wrap> Private         </span>  </td><td>171956                                                     </td><td> Some-college                                              </td><td>10                                                         </td><td><span style=white-space:pre-wrap> Separated         </span></td><td><span style=white-space:pre-wrap> Adm-clerical     </span> </td><td><span style=white-space:pre-wrap> Own-child     </span>    </td><td><span style=white-space:pre-wrap> White             </span></td><td> Female                                                    </td><td><span style=white-space:pre-wrap>    0</span>              </td><td><span style=white-space:pre-wrap>   0</span>               </td><td>40                                                         </td><td><span style=white-space:pre-wrap> Puerto-Rico  </span>     </td><td> &lt;=50K                                                  </td><td>Senior                                                     </td></tr>\n",
       "\t<tr><th scope=row>4071</th><td>90                                                         </td><td><span style=white-space:pre-wrap> Private         </span>  </td><td>313986                                                     </td><td><span style=white-space:pre-wrap> 11th        </span>      </td><td> 7                                                         </td><td><span style=white-space:pre-wrap> Never-married     </span></td><td> Handlers-cleaners                                         </td><td><span style=white-space:pre-wrap> Own-child     </span>    </td><td><span style=white-space:pre-wrap> White             </span></td><td><span style=white-space:pre-wrap> Male  </span>            </td><td><span style=white-space:pre-wrap>    0</span>              </td><td><span style=white-space:pre-wrap>   0</span>               </td><td>40                                                         </td><td> United-States                                             </td><td> &lt;=50K                                                  </td><td>Senior                                                     </td></tr>\n",
       "\t<tr><th scope=row>4110</th><td>90                                                         </td><td><span style=white-space:pre-wrap> ?               </span>  </td><td>256514                                                     </td><td><span style=white-space:pre-wrap> Bachelors   </span>      </td><td>13                                                         </td><td><span style=white-space:pre-wrap> Widowed           </span></td><td><span style=white-space:pre-wrap> ?                </span> </td><td> Other-relative                                            </td><td><span style=white-space:pre-wrap> White             </span></td><td> Female                                                    </td><td><span style=white-space:pre-wrap>  991</span>              </td><td><span style=white-space:pre-wrap>   0</span>               </td><td>10                                                         </td><td> United-States                                             </td><td> &lt;=50K                                                  </td><td>Senior                                                     </td></tr>\n",
       "\t<tr><th scope=row>5105</th><td>90                                                         </td><td><span style=white-space:pre-wrap> Private         </span>  </td><td> 52386                                                     </td><td> Some-college                                              </td><td>10                                                         </td><td><span style=white-space:pre-wrap> Never-married     </span></td><td><span style=white-space:pre-wrap> Other-service    </span> </td><td> Not-in-family                                             </td><td> Asian-Pac-Islander                                        </td><td><span style=white-space:pre-wrap> Male  </span>            </td><td><span style=white-space:pre-wrap>    0</span>              </td><td><span style=white-space:pre-wrap>   0</span>               </td><td>35                                                         </td><td> United-States                                             </td><td> &lt;=50K                                                  </td><td>Senior                                                     </td></tr>\n",
       "\t<tr><th scope=row>5273</th><td>90                                                         </td><td><span style=white-space:pre-wrap> Private         </span>  </td><td>141758                                                     </td><td><span style=white-space:pre-wrap> 9th         </span>      </td><td> 5                                                         </td><td><span style=white-space:pre-wrap> Never-married     </span></td><td><span style=white-space:pre-wrap> Adm-clerical     </span> </td><td> Not-in-family                                             </td><td><span style=white-space:pre-wrap> White             </span></td><td> Female                                                    </td><td><span style=white-space:pre-wrap>    0</span>              </td><td><span style=white-space:pre-wrap>   0</span>               </td><td>40                                                         </td><td> United-States                                             </td><td> &lt;=50K                                                  </td><td>Senior                                                     </td></tr>\n",
       "\t<tr><th scope=row>5371</th><td>90                                                         </td><td><span style=white-space:pre-wrap> Local-gov       </span>  </td><td>227796                                                     </td><td><span style=white-space:pre-wrap> Masters     </span>      </td><td>14                                                         </td><td> Married-civ-spouse                                        </td><td><span style=white-space:pre-wrap> Exec-managerial  </span> </td><td><span style=white-space:pre-wrap> Husband       </span>    </td><td><span style=white-space:pre-wrap> White             </span></td><td><span style=white-space:pre-wrap> Male  </span>            </td><td>20051                                                      </td><td><span style=white-space:pre-wrap>   0</span>               </td><td>60                                                         </td><td> United-States                                             </td><td> &gt;50K                                                   </td><td>Senior                                                     </td></tr>\n",
       "\t<tr><th scope=row>5407</th><td>90                                                         </td><td><span style=white-space:pre-wrap> Private         </span>  </td><td> 51744                                                     </td><td><span style=white-space:pre-wrap> Masters     </span>      </td><td>14                                                         </td><td><span style=white-space:pre-wrap> Never-married     </span></td><td><span style=white-space:pre-wrap> Exec-managerial  </span> </td><td> Not-in-family                                             </td><td><span style=white-space:pre-wrap> Black             </span></td><td><span style=white-space:pre-wrap> Male  </span>            </td><td><span style=white-space:pre-wrap>    0</span>              </td><td><span style=white-space:pre-wrap>   0</span>               </td><td>50                                                         </td><td> United-States                                             </td><td> &gt;50K                                                   </td><td>Senior                                                     </td></tr>\n",
       "\t<tr><th scope=row>6233</th><td>90                                                         </td><td> Self-emp-not-inc                                          </td><td>155981                                                     </td><td><span style=white-space:pre-wrap> Bachelors   </span>      </td><td>13                                                         </td><td> Married-civ-spouse                                        </td><td><span style=white-space:pre-wrap> Prof-specialty   </span> </td><td><span style=white-space:pre-wrap> Husband       </span>    </td><td><span style=white-space:pre-wrap> White             </span></td><td><span style=white-space:pre-wrap> Male  </span>            </td><td>10566                                                      </td><td><span style=white-space:pre-wrap>   0</span>               </td><td>50                                                         </td><td> United-States                                             </td><td> &lt;=50K                                                  </td><td>Senior                                                     </td></tr>\n",
       "\t<tr><th scope=row>6625</th><td>90                                                         </td><td><span style=white-space:pre-wrap> Private         </span>  </td><td>313986                                                     </td><td><span style=white-space:pre-wrap> 11th        </span>      </td><td> 7                                                         </td><td> Married-civ-spouse                                        </td><td><span style=white-space:pre-wrap> Craft-repair     </span> </td><td><span style=white-space:pre-wrap> Husband       </span>    </td><td><span style=white-space:pre-wrap> White             </span></td><td><span style=white-space:pre-wrap> Male  </span>            </td><td><span style=white-space:pre-wrap>    0</span>              </td><td><span style=white-space:pre-wrap>   0</span>               </td><td>40                                                         </td><td> United-States                                             </td><td> &lt;=50K                                                  </td><td>Senior                                                     </td></tr>\n",
       "\t<tr><th scope=row>8807</th><td>90                                                         </td><td><span style=white-space:pre-wrap> Private         </span>  </td><td> 87372                                                     </td><td> Prof-school                                               </td><td>15                                                         </td><td> Married-civ-spouse                                        </td><td><span style=white-space:pre-wrap> Prof-specialty   </span> </td><td><span style=white-space:pre-wrap> Husband       </span>    </td><td><span style=white-space:pre-wrap> White             </span></td><td><span style=white-space:pre-wrap> Male  </span>            </td><td>20051                                                      </td><td><span style=white-space:pre-wrap>   0</span>               </td><td>72                                                         </td><td> United-States                                             </td><td> &gt;50K                                                   </td><td>Senior                                                     </td></tr>\n",
       "\t<tr><th scope=row>8964</th><td>90                                                         </td><td><span style=white-space:pre-wrap> ?               </span>  </td><td> 77053                                                     </td><td><span style=white-space:pre-wrap> HS-grad     </span>      </td><td> 9                                                         </td><td><span style=white-space:pre-wrap> Widowed           </span></td><td><span style=white-space:pre-wrap> ?                </span> </td><td> Not-in-family                                             </td><td><span style=white-space:pre-wrap> White             </span></td><td> Female                                                    </td><td><span style=white-space:pre-wrap>    0</span>              </td><td>4356                                                       </td><td>40                                                         </td><td> United-States                                             </td><td> &lt;=50K                                                  </td><td>Senior                                                     </td></tr>\n",
       "\t<tr><th scope=row>8974</th><td>90                                                         </td><td><span style=white-space:pre-wrap> Private         </span>  </td><td> 46786                                                     </td><td><span style=white-space:pre-wrap> Bachelors   </span>      </td><td>13                                                         </td><td> Married-civ-spouse                                        </td><td><span style=white-space:pre-wrap> Sales            </span> </td><td><span style=white-space:pre-wrap> Husband       </span>    </td><td><span style=white-space:pre-wrap> White             </span></td><td><span style=white-space:pre-wrap> Male  </span>            </td><td> 9386                                                      </td><td><span style=white-space:pre-wrap>   0</span>               </td><td>15                                                         </td><td> United-States                                             </td><td> &gt;50K                                                   </td><td>Senior                                                     </td></tr>\n",
       "\t<tr><th scope=row>10211</th><td>90                                                         </td><td> Self-emp-not-inc                                          </td><td>282095                                                     </td><td> Some-college                                              </td><td>10                                                         </td><td> Married-civ-spouse                                        </td><td><span style=white-space:pre-wrap> Farming-fishing  </span> </td><td><span style=white-space:pre-wrap> Husband       </span>    </td><td><span style=white-space:pre-wrap> White             </span></td><td><span style=white-space:pre-wrap> Male  </span>            </td><td><span style=white-space:pre-wrap>    0</span>              </td><td><span style=white-space:pre-wrap>   0</span>               </td><td>40                                                         </td><td> United-States                                             </td><td> &lt;=50K                                                  </td><td>Senior                                                     </td></tr>\n",
       "\t<tr><th scope=row>10546</th><td>90                                                         </td><td><span style=white-space:pre-wrap> Private         </span>  </td><td>175491                                                     </td><td><span style=white-space:pre-wrap> HS-grad     </span>      </td><td> 9                                                         </td><td> Married-civ-spouse                                        </td><td><span style=white-space:pre-wrap> Craft-repair     </span> </td><td><span style=white-space:pre-wrap> Husband       </span>    </td><td><span style=white-space:pre-wrap> White             </span></td><td><span style=white-space:pre-wrap> Male  </span>            </td><td> 9386                                                      </td><td><span style=white-space:pre-wrap>   0</span>               </td><td>50                                                         </td><td><span style=white-space:pre-wrap> Ecuador      </span>     </td><td> &gt;50K                                                   </td><td>Senior                                                     </td></tr>\n",
       "\t<tr><th scope=row>11513</th><td>90                                                         </td><td><span style=white-space:pre-wrap> Private         </span>  </td><td> 87285                                                     </td><td><span style=white-space:pre-wrap> HS-grad     </span>      </td><td> 9                                                         </td><td><span style=white-space:pre-wrap> Never-married     </span></td><td><span style=white-space:pre-wrap> Other-service    </span> </td><td><span style=white-space:pre-wrap> Own-child     </span>    </td><td><span style=white-space:pre-wrap> White             </span></td><td> Female                                                    </td><td><span style=white-space:pre-wrap>    0</span>              </td><td><span style=white-space:pre-wrap>   0</span>               </td><td>24                                                         </td><td> United-States                                             </td><td> &lt;=50K                                                  </td><td>Senior                                                     </td></tr>\n",
       "\t<tr><th scope=row>11732</th><td>90                                                         </td><td><span style=white-space:pre-wrap> ?               </span>  </td><td> 39824                                                     </td><td><span style=white-space:pre-wrap> HS-grad     </span>      </td><td> 9                                                         </td><td><span style=white-space:pre-wrap> Widowed           </span></td><td><span style=white-space:pre-wrap> ?                </span> </td><td> Not-in-family                                             </td><td><span style=white-space:pre-wrap> White             </span></td><td><span style=white-space:pre-wrap> Male  </span>            </td><td><span style=white-space:pre-wrap>  401</span>              </td><td><span style=white-space:pre-wrap>   0</span>               </td><td> 4                                                         </td><td> United-States                                             </td><td> &lt;=50K                                                  </td><td>Senior                                                     </td></tr>\n",
       "\t<tr><th scope=row>11997</th><td>90                                                         </td><td><span style=white-space:pre-wrap> Private         </span>  </td><td> 40388                                                     </td><td><span style=white-space:pre-wrap> Bachelors   </span>      </td><td>13                                                         </td><td><span style=white-space:pre-wrap> Never-married     </span></td><td><span style=white-space:pre-wrap> Exec-managerial  </span> </td><td> Not-in-family                                             </td><td><span style=white-space:pre-wrap> White             </span></td><td><span style=white-space:pre-wrap> Male  </span>            </td><td><span style=white-space:pre-wrap>    0</span>              </td><td><span style=white-space:pre-wrap>   0</span>               </td><td>55                                                         </td><td> United-States                                             </td><td> &lt;=50K                                                  </td><td>Senior                                                     </td></tr>\n",
       "\t<tr><th scope=row>12452</th><td>90                                                         </td><td><span style=white-space:pre-wrap> ?               </span>  </td><td>225063                                                     </td><td> Some-college                                              </td><td>10                                                         </td><td><span style=white-space:pre-wrap> Never-married     </span></td><td><span style=white-space:pre-wrap> ?                </span> </td><td><span style=white-space:pre-wrap> Own-child     </span>    </td><td> Asian-Pac-Islander                                        </td><td><span style=white-space:pre-wrap> Male  </span>            </td><td><span style=white-space:pre-wrap>    0</span>              </td><td><span style=white-space:pre-wrap>   0</span>               </td><td>10                                                         </td><td><span style=white-space:pre-wrap> South        </span>     </td><td> &lt;=50K                                                  </td><td>Senior                                                     </td></tr>\n",
       "\t<tr><th scope=row>12976</th><td>90                                                         </td><td><span style=white-space:pre-wrap> Private         </span>  </td><td>250832                                                     </td><td><span style=white-space:pre-wrap> 10th        </span>      </td><td> 6                                                         </td><td> Married-civ-spouse                                        </td><td><span style=white-space:pre-wrap> Exec-managerial  </span> </td><td><span style=white-space:pre-wrap> Husband       </span>    </td><td><span style=white-space:pre-wrap> White             </span></td><td><span style=white-space:pre-wrap> Male  </span>            </td><td><span style=white-space:pre-wrap>    0</span>              </td><td><span style=white-space:pre-wrap>   0</span>               </td><td>40                                                         </td><td> United-States                                             </td><td> &lt;=50K                                                  </td><td>Senior                                                     </td></tr>\n",
       "\t<tr><th scope=row>14160</th><td>90                                                        </td><td><span style=white-space:pre-wrap> Local-gov       </span> </td><td>187749                                                    </td><td><span style=white-space:pre-wrap> Assoc-acdm  </span>     </td><td>12                                                        </td><td> Married-civ-spouse                                       </td><td><span style=white-space:pre-wrap> Adm-clerical     </span></td><td><span style=white-space:pre-wrap> Husband       </span>   </td><td> Asian-Pac-Islander                                       </td><td><span style=white-space:pre-wrap> Male  </span>           </td><td><span style=white-space:pre-wrap>    0</span>             </td><td><span style=white-space:pre-wrap>   0</span>              </td><td>20                                                        </td><td><span style=white-space:pre-wrap> Philippines  </span>    </td><td> &lt;=50K                                                 </td><td>Senior                                                    </td></tr>\n",
       "\t<tr><th scope=row>15357</th><td>90                                                         </td><td><span style=white-space:pre-wrap> Private         </span>  </td><td> 90523                                                     </td><td><span style=white-space:pre-wrap> HS-grad     </span>      </td><td> 9                                                         </td><td><span style=white-space:pre-wrap> Widowed           </span></td><td> Transport-moving                                          </td><td><span style=white-space:pre-wrap> Unmarried     </span>    </td><td><span style=white-space:pre-wrap> White             </span></td><td><span style=white-space:pre-wrap> Male  </span>            </td><td><span style=white-space:pre-wrap>    0</span>              </td><td><span style=white-space:pre-wrap>   0</span>               </td><td>99                                                         </td><td> United-States                                             </td><td> &lt;=50K                                                  </td><td>Senior                                                     </td></tr>\n",
       "\t<tr><th scope=row>15893</th><td>90                                                         </td><td><span style=white-space:pre-wrap> Private         </span>  </td><td> 88991                                                     </td><td><span style=white-space:pre-wrap> Bachelors   </span>      </td><td>13                                                         </td><td> Married-civ-spouse                                        </td><td><span style=white-space:pre-wrap> Exec-managerial  </span> </td><td><span style=white-space:pre-wrap> Wife          </span>    </td><td><span style=white-space:pre-wrap> White             </span></td><td> Female                                                    </td><td><span style=white-space:pre-wrap>    0</span>              </td><td><span style=white-space:pre-wrap>   0</span>               </td><td>40                                                         </td><td><span style=white-space:pre-wrap> England      </span>     </td><td> &gt;50K                                                   </td><td>Senior                                                     </td></tr>\n",
       "\t<tr><th scope=row>18278</th><td>90                                                         </td><td><span style=white-space:pre-wrap> Private         </span>  </td><td>311184                                                     </td><td><span style=white-space:pre-wrap> Bachelors   </span>      </td><td>13                                                         </td><td> Married-civ-spouse                                        </td><td><span style=white-space:pre-wrap> Sales            </span> </td><td><span style=white-space:pre-wrap> Husband       </span>    </td><td><span style=white-space:pre-wrap> White             </span></td><td><span style=white-space:pre-wrap> Male  </span>            </td><td><span style=white-space:pre-wrap>    0</span>              </td><td><span style=white-space:pre-wrap>   0</span>               </td><td>20                                                         </td><td><span style=white-space:pre-wrap> ?            </span>     </td><td> &lt;=50K                                                  </td><td>Senior                                                     </td></tr>\n",
       "\t<tr><th scope=row>18414</th><td>90                                                         </td><td><span style=white-space:pre-wrap> Private         </span>  </td><td>313749                                                     </td><td><span style=white-space:pre-wrap> Bachelors   </span>      </td><td>13                                                         </td><td><span style=white-space:pre-wrap> Never-married     </span></td><td><span style=white-space:pre-wrap> Prof-specialty   </span> </td><td><span style=white-space:pre-wrap> Own-child     </span>    </td><td><span style=white-space:pre-wrap> White             </span></td><td> Female                                                    </td><td><span style=white-space:pre-wrap>    0</span>              </td><td><span style=white-space:pre-wrap>   0</span>               </td><td>10                                                         </td><td> United-States                                             </td><td> &lt;=50K                                                  </td><td>Senior                                                     </td></tr>\n",
       "\t<tr><th scope=row>18726</th><td>90                                                         </td><td><span style=white-space:pre-wrap> Local-gov       </span>  </td><td>153602                                                     </td><td><span style=white-space:pre-wrap> HS-grad     </span>      </td><td> 9                                                         </td><td> Married-civ-spouse                                        </td><td><span style=white-space:pre-wrap> Other-service    </span> </td><td><span style=white-space:pre-wrap> Husband       </span>    </td><td><span style=white-space:pre-wrap> White             </span></td><td><span style=white-space:pre-wrap> Male  </span>            </td><td> 6767                                                      </td><td><span style=white-space:pre-wrap>   0</span>               </td><td>40                                                         </td><td> United-States                                             </td><td> &lt;=50K                                                  </td><td>Senior                                                     </td></tr>\n",
       "\t<tr><th scope=row>18833</th><td>90                                                         </td><td><span style=white-space:pre-wrap> Private         </span>  </td><td>115306                                                     </td><td><span style=white-space:pre-wrap> Masters     </span>      </td><td>14                                                         </td><td><span style=white-space:pre-wrap> Never-married     </span></td><td><span style=white-space:pre-wrap> Exec-managerial  </span> </td><td><span style=white-space:pre-wrap> Own-child     </span>    </td><td><span style=white-space:pre-wrap> White             </span></td><td> Female                                                    </td><td><span style=white-space:pre-wrap>    0</span>              </td><td><span style=white-space:pre-wrap>   0</span>               </td><td>40                                                         </td><td> United-States                                             </td><td> &lt;=50K                                                  </td><td>Senior                                                     </td></tr>\n",
       "\t<tr><th scope=row>...</th><td>...</td><td>...</td><td>...</td><td>...</td><td>...</td><td>...</td><td>...</td><td>...</td><td>...</td><td>...</td><td>...</td><td>...</td><td>...</td><td>...</td><td>...</td><td>...</td></tr>\n",
       "\t<tr><th scope=row>30027</th><td>17                                                         </td><td><span style=white-space:pre-wrap> Private  </span>         </td><td>160029                                                     </td><td><span style=white-space:pre-wrap> 11th   </span>           </td><td>7                                                          </td><td> Never-married                                             </td><td><span style=white-space:pre-wrap> Other-service    </span> </td><td> Other-relative                                            </td><td><span style=white-space:pre-wrap> White             </span></td><td> Female                                                    </td><td><span style=white-space:pre-wrap>  0</span>                </td><td><span style=white-space:pre-wrap>   0</span>               </td><td>22                                                         </td><td> United-States                                             </td><td> &lt;=50K                                                  </td><td>Young                                                      </td></tr>\n",
       "\t<tr><th scope=row>30074</th><td>17                                                         </td><td><span style=white-space:pre-wrap> Private  </span>         </td><td>116626                                                     </td><td><span style=white-space:pre-wrap> 11th   </span>           </td><td>7                                                          </td><td> Never-married                                             </td><td> Handlers-cleaners                                         </td><td><span style=white-space:pre-wrap> Own-child     </span>    </td><td><span style=white-space:pre-wrap> White             </span></td><td><span style=white-space:pre-wrap> Male  </span>            </td><td><span style=white-space:pre-wrap>  0</span>                </td><td>1719                                                       </td><td>18                                                         </td><td> United-States                                             </td><td> &lt;=50K                                                  </td><td>Young                                                      </td></tr>\n",
       "\t<tr><th scope=row>30209</th><td>17                                                         </td><td><span style=white-space:pre-wrap> ?        </span>         </td><td> 34019                                                     </td><td><span style=white-space:pre-wrap> 10th   </span>           </td><td>6                                                          </td><td> Never-married                                             </td><td><span style=white-space:pre-wrap> ?                </span> </td><td><span style=white-space:pre-wrap> Own-child     </span>    </td><td><span style=white-space:pre-wrap> White             </span></td><td><span style=white-space:pre-wrap> Male  </span>            </td><td><span style=white-space:pre-wrap>  0</span>                </td><td><span style=white-space:pre-wrap>   0</span>               </td><td>20                                                         </td><td> United-States                                             </td><td> &lt;=50K                                                  </td><td>Young                                                      </td></tr>\n",
       "\t<tr><th scope=row>30210</th><td>17                                                         </td><td><span style=white-space:pre-wrap> ?        </span>         </td><td>250541                                                     </td><td><span style=white-space:pre-wrap> 11th   </span>           </td><td>7                                                          </td><td> Never-married                                             </td><td><span style=white-space:pre-wrap> ?                </span> </td><td><span style=white-space:pre-wrap> Own-child     </span>    </td><td><span style=white-space:pre-wrap> Black             </span></td><td><span style=white-space:pre-wrap> Male  </span>            </td><td><span style=white-space:pre-wrap>  0</span>                </td><td><span style=white-space:pre-wrap>   0</span>               </td><td> 8                                                         </td><td> United-States                                             </td><td> &lt;=50K                                                  </td><td>Young                                                      </td></tr>\n",
       "\t<tr><th scope=row>30230</th><td>17                                                         </td><td><span style=white-space:pre-wrap> Private  </span>         </td><td>231438                                                     </td><td><span style=white-space:pre-wrap> 11th   </span>           </td><td>7                                                          </td><td> Never-married                                             </td><td><span style=white-space:pre-wrap> Adm-clerical     </span> </td><td><span style=white-space:pre-wrap> Own-child     </span>    </td><td><span style=white-space:pre-wrap> White             </span></td><td> Female                                                    </td><td><span style=white-space:pre-wrap>  0</span>                </td><td><span style=white-space:pre-wrap>   0</span>               </td><td>12                                                         </td><td> United-States                                             </td><td> &lt;=50K                                                  </td><td>Young                                                      </td></tr>\n",
       "\t<tr><th scope=row>30329</th><td>17                                                         </td><td><span style=white-space:pre-wrap> Private  </span>         </td><td>128617                                                     </td><td><span style=white-space:pre-wrap> 10th   </span>           </td><td>6                                                          </td><td> Never-married                                             </td><td> Handlers-cleaners                                         </td><td><span style=white-space:pre-wrap> Own-child     </span>    </td><td><span style=white-space:pre-wrap> White             </span></td><td><span style=white-space:pre-wrap> Male  </span>            </td><td><span style=white-space:pre-wrap>  0</span>                </td><td><span style=white-space:pre-wrap>   0</span>               </td><td>26                                                         </td><td> United-States                                             </td><td> &lt;=50K                                                  </td><td>Young                                                      </td></tr>\n",
       "\t<tr><th scope=row>30403</th><td>17                                                         </td><td><span style=white-space:pre-wrap> ?        </span>         </td><td> 48703                                                     </td><td><span style=white-space:pre-wrap> 11th   </span>           </td><td>7                                                          </td><td> Never-married                                             </td><td><span style=white-space:pre-wrap> ?                </span> </td><td><span style=white-space:pre-wrap> Own-child     </span>    </td><td><span style=white-space:pre-wrap> White             </span></td><td> Female                                                    </td><td><span style=white-space:pre-wrap>  0</span>                </td><td><span style=white-space:pre-wrap>   0</span>               </td><td>30                                                         </td><td> United-States                                             </td><td> &lt;=50K                                                  </td><td>Young                                                      </td></tr>\n",
       "\t<tr><th scope=row>30445</th><td>17                                                         </td><td><span style=white-space:pre-wrap> ?        </span>         </td><td>371316                                                     </td><td><span style=white-space:pre-wrap> 10th   </span>           </td><td>6                                                          </td><td> Never-married                                             </td><td><span style=white-space:pre-wrap> ?                </span> </td><td><span style=white-space:pre-wrap> Own-child     </span>    </td><td><span style=white-space:pre-wrap> White             </span></td><td><span style=white-space:pre-wrap> Male  </span>            </td><td><span style=white-space:pre-wrap>  0</span>                </td><td><span style=white-space:pre-wrap>   0</span>               </td><td>25                                                         </td><td> United-States                                             </td><td> &lt;=50K                                                  </td><td>Young                                                      </td></tr>\n",
       "\t<tr><th scope=row>30514</th><td>17                                                         </td><td><span style=white-space:pre-wrap> ?        </span>         </td><td>187539                                                     </td><td><span style=white-space:pre-wrap> 11th   </span>           </td><td>7                                                          </td><td> Never-married                                             </td><td><span style=white-space:pre-wrap> ?                </span> </td><td><span style=white-space:pre-wrap> Own-child     </span>    </td><td><span style=white-space:pre-wrap> White             </span></td><td> Female                                                    </td><td><span style=white-space:pre-wrap>  0</span>                </td><td><span style=white-space:pre-wrap>   0</span>               </td><td>10                                                         </td><td> United-States                                             </td><td> &lt;=50K                                                  </td><td>Young                                                      </td></tr>\n",
       "\t<tr><th scope=row>30580</th><td>17                                                     </td><td><span style=white-space:pre-wrap> Private  </span>     </td><td> 27415                                                 </td><td><span style=white-space:pre-wrap> 11th   </span>       </td><td>7                                                      </td><td> Never-married                                         </td><td> Handlers-cleaners                                     </td><td><span style=white-space:pre-wrap> Own-child     </span></td><td> Amer-Indian-Eskimo                                    </td><td><span style=white-space:pre-wrap> Male  </span>        </td><td><span style=white-space:pre-wrap>  0</span>            </td><td><span style=white-space:pre-wrap>   0</span>           </td><td>20                                                     </td><td> United-States                                         </td><td> &lt;=50K                                              </td><td>Young                                                  </td></tr>\n",
       "\t<tr><th scope=row>30667</th><td>17                                                         </td><td><span style=white-space:pre-wrap> Private  </span>         </td><td>143868                                                     </td><td><span style=white-space:pre-wrap> 9th    </span>           </td><td>5                                                          </td><td> Never-married                                             </td><td><span style=white-space:pre-wrap> Other-service    </span> </td><td><span style=white-space:pre-wrap> Own-child     </span>    </td><td><span style=white-space:pre-wrap> Black             </span></td><td><span style=white-space:pre-wrap> Male  </span>            </td><td><span style=white-space:pre-wrap>  0</span>                </td><td><span style=white-space:pre-wrap>   0</span>               </td><td>40                                                         </td><td> United-States                                             </td><td> &lt;=50K                                                  </td><td>Young                                                      </td></tr>\n",
       "\t<tr><th scope=row>30777</th><td>17                                                         </td><td><span style=white-space:pre-wrap> ?        </span>         </td><td>219277                                                     </td><td><span style=white-space:pre-wrap> 11th   </span>           </td><td>7                                                          </td><td> Never-married                                             </td><td><span style=white-space:pre-wrap> ?                </span> </td><td><span style=white-space:pre-wrap> Own-child     </span>    </td><td><span style=white-space:pre-wrap> White             </span></td><td> Female                                                    </td><td><span style=white-space:pre-wrap>  0</span>                </td><td><span style=white-space:pre-wrap>   0</span>               </td><td>20                                                         </td><td> United-States                                             </td><td> &lt;=50K                                                  </td><td>Young                                                      </td></tr>\n",
       "\t<tr><th scope=row>30835</th><td>17                                                         </td><td><span style=white-space:pre-wrap> Private  </span>         </td><td> 79682                                                     </td><td><span style=white-space:pre-wrap> 10th   </span>           </td><td>6                                                          </td><td> Never-married                                             </td><td><span style=white-space:pre-wrap> Priv-house-serv  </span> </td><td> Other-relative                                            </td><td><span style=white-space:pre-wrap> White             </span></td><td><span style=white-space:pre-wrap> Male  </span>            </td><td><span style=white-space:pre-wrap>  0</span>                </td><td><span style=white-space:pre-wrap>   0</span>               </td><td>30                                                         </td><td> United-States                                             </td><td> &lt;=50K                                                  </td><td>Young                                                      </td></tr>\n",
       "\t<tr><th scope=row>30849</th><td>17                                                         </td><td><span style=white-space:pre-wrap> Private  </span>         </td><td>106733                                                     </td><td><span style=white-space:pre-wrap> 11th   </span>           </td><td>7                                                          </td><td> Never-married                                             </td><td><span style=white-space:pre-wrap> Craft-repair     </span> </td><td><span style=white-space:pre-wrap> Own-child     </span>    </td><td><span style=white-space:pre-wrap> White             </span></td><td><span style=white-space:pre-wrap> Male  </span>            </td><td>594                                                        </td><td><span style=white-space:pre-wrap>   0</span>               </td><td>40                                                         </td><td> United-States                                             </td><td> &lt;=50K                                                  </td><td>Young                                                      </td></tr>\n",
       "\t<tr><th scope=row>30890</th><td>17                                                         </td><td><span style=white-space:pre-wrap> Private  </span>         </td><td>169155                                                     </td><td><span style=white-space:pre-wrap> 12th   </span>           </td><td>8                                                          </td><td> Never-married                                             </td><td><span style=white-space:pre-wrap> Other-service    </span> </td><td><span style=white-space:pre-wrap> Own-child     </span>    </td><td><span style=white-space:pre-wrap> White             </span></td><td><span style=white-space:pre-wrap> Male  </span>            </td><td><span style=white-space:pre-wrap>  0</span>                </td><td><span style=white-space:pre-wrap>   0</span>               </td><td>35                                                         </td><td> United-States                                             </td><td> &lt;=50K                                                  </td><td>Young                                                      </td></tr>\n",
       "\t<tr><th scope=row>30899</th><td>17                                                         </td><td> Local-gov                                                 </td><td>192387                                                     </td><td><span style=white-space:pre-wrap> 9th    </span>           </td><td>5                                                          </td><td> Never-married                                             </td><td><span style=white-space:pre-wrap> Other-service    </span> </td><td><span style=white-space:pre-wrap> Own-child     </span>    </td><td><span style=white-space:pre-wrap> White             </span></td><td><span style=white-space:pre-wrap> Male  </span>            </td><td><span style=white-space:pre-wrap>  0</span>                </td><td><span style=white-space:pre-wrap>   0</span>               </td><td>45                                                         </td><td> United-States                                             </td><td> &lt;=50K                                                  </td><td>Young                                                      </td></tr>\n",
       "\t<tr><th scope=row>30928</th><td>17                                                         </td><td><span style=white-space:pre-wrap> Private  </span>         </td><td>108470                                                     </td><td><span style=white-space:pre-wrap> 11th   </span>           </td><td>7                                                          </td><td> Never-married                                             </td><td><span style=white-space:pre-wrap> Other-service    </span> </td><td><span style=white-space:pre-wrap> Own-child     </span>    </td><td><span style=white-space:pre-wrap> Black             </span></td><td><span style=white-space:pre-wrap> Male  </span>            </td><td><span style=white-space:pre-wrap>  0</span>                </td><td><span style=white-space:pre-wrap>   0</span>               </td><td>17                                                         </td><td> United-States                                             </td><td> &lt;=50K                                                  </td><td>Young                                                      </td></tr>\n",
       "\t<tr><th scope=row>31040</th><td>17                                                         </td><td><span style=white-space:pre-wrap> Private  </span>         </td><td>160049                                                     </td><td><span style=white-space:pre-wrap> 10th   </span>           </td><td>6                                                          </td><td> Never-married                                             </td><td><span style=white-space:pre-wrap> Other-service    </span> </td><td><span style=white-space:pre-wrap> Own-child     </span>    </td><td><span style=white-space:pre-wrap> White             </span></td><td> Female                                                    </td><td><span style=white-space:pre-wrap>  0</span>                </td><td><span style=white-space:pre-wrap>   0</span>               </td><td>12                                                         </td><td> United-States                                             </td><td> &lt;=50K                                                  </td><td>Young                                                      </td></tr>\n",
       "\t<tr><th scope=row>31074</th><td>17                                                         </td><td><span style=white-space:pre-wrap> ?        </span>         </td><td> 41643                                                     </td><td><span style=white-space:pre-wrap> 11th   </span>           </td><td>7                                                          </td><td> Never-married                                             </td><td><span style=white-space:pre-wrap> ?                </span> </td><td><span style=white-space:pre-wrap> Own-child     </span>    </td><td><span style=white-space:pre-wrap> White             </span></td><td> Female                                                    </td><td><span style=white-space:pre-wrap>  0</span>                </td><td><span style=white-space:pre-wrap>   0</span>               </td><td>15                                                         </td><td> United-States                                             </td><td> &lt;=50K                                                  </td><td>Young                                                      </td></tr>\n",
       "\t<tr><th scope=row>31095</th><td>17                                                         </td><td><span style=white-space:pre-wrap> ?        </span>         </td><td>172145                                                     </td><td><span style=white-space:pre-wrap> 10th   </span>           </td><td>6                                                          </td><td> Never-married                                             </td><td><span style=white-space:pre-wrap> ?                </span> </td><td><span style=white-space:pre-wrap> Own-child     </span>    </td><td><span style=white-space:pre-wrap> Black             </span></td><td> Female                                                    </td><td><span style=white-space:pre-wrap>  0</span>                </td><td><span style=white-space:pre-wrap>   0</span>               </td><td>40                                                         </td><td> United-States                                             </td><td> &lt;=50K                                                  </td><td>Young                                                      </td></tr>\n",
       "\t<tr><th scope=row>31132</th><td>17                                                         </td><td><span style=white-space:pre-wrap> Private  </span>         </td><td>277541                                                     </td><td><span style=white-space:pre-wrap> 11th   </span>           </td><td>7                                                          </td><td> Never-married                                             </td><td><span style=white-space:pre-wrap> Sales            </span> </td><td><span style=white-space:pre-wrap> Own-child     </span>    </td><td><span style=white-space:pre-wrap> White             </span></td><td><span style=white-space:pre-wrap> Male  </span>            </td><td><span style=white-space:pre-wrap>  0</span>                </td><td><span style=white-space:pre-wrap>   0</span>               </td><td> 5                                                         </td><td> United-States                                             </td><td> &lt;=50K                                                  </td><td>Young                                                      </td></tr>\n",
       "\t<tr><th scope=row>31440</th><td>17                                                         </td><td><span style=white-space:pre-wrap> Private  </span>         </td><td>375657                                                     </td><td><span style=white-space:pre-wrap> 11th   </span>           </td><td>7                                                          </td><td> Never-married                                             </td><td> Handlers-cleaners                                         </td><td><span style=white-space:pre-wrap> Own-child     </span>    </td><td><span style=white-space:pre-wrap> White             </span></td><td><span style=white-space:pre-wrap> Male  </span>            </td><td><span style=white-space:pre-wrap>  0</span>                </td><td><span style=white-space:pre-wrap>   0</span>               </td><td>30                                                         </td><td> United-States                                             </td><td> &lt;=50K                                                  </td><td>Young                                                      </td></tr>\n",
       "\t<tr><th scope=row>31659</th><td>17                                                         </td><td><span style=white-space:pre-wrap> Private  </span>         </td><td>309504                                                     </td><td><span style=white-space:pre-wrap> 10th   </span>           </td><td>6                                                          </td><td> Never-married                                             </td><td><span style=white-space:pre-wrap> Sales            </span> </td><td><span style=white-space:pre-wrap> Unmarried     </span>    </td><td><span style=white-space:pre-wrap> White             </span></td><td> Female                                                    </td><td><span style=white-space:pre-wrap>  0</span>                </td><td><span style=white-space:pre-wrap>   0</span>               </td><td>24                                                         </td><td> United-States                                             </td><td> &lt;=50K                                                  </td><td>Young                                                      </td></tr>\n",
       "\t<tr><th scope=row>31701</th><td>17                                                         </td><td><span style=white-space:pre-wrap> Private  </span>         </td><td>141590                                                     </td><td><span style=white-space:pre-wrap> 11th   </span>           </td><td>7                                                          </td><td> Never-married                                             </td><td><span style=white-space:pre-wrap> Priv-house-serv  </span> </td><td><span style=white-space:pre-wrap> Own-child     </span>    </td><td><span style=white-space:pre-wrap> White             </span></td><td> Female                                                    </td><td><span style=white-space:pre-wrap>  0</span>                </td><td><span style=white-space:pre-wrap>   0</span>               </td><td>12                                                         </td><td> United-States                                             </td><td> &lt;=50K                                                  </td><td>Young                                                      </td></tr>\n",
       "\t<tr><th scope=row>31759</th><td>17                                                         </td><td><span style=white-space:pre-wrap> ?        </span>         </td><td>171461                                                     </td><td><span style=white-space:pre-wrap> 10th   </span>           </td><td>6                                                          </td><td> Never-married                                             </td><td><span style=white-space:pre-wrap> ?                </span> </td><td><span style=white-space:pre-wrap> Own-child     </span>    </td><td><span style=white-space:pre-wrap> White             </span></td><td> Female                                                    </td><td><span style=white-space:pre-wrap>  0</span>                </td><td><span style=white-space:pre-wrap>   0</span>               </td><td>20                                                         </td><td> United-States                                             </td><td> &lt;=50K                                                  </td><td>Young                                                      </td></tr>\n",
       "\t<tr><th scope=row>31773</th><td>17                                                         </td><td><span style=white-space:pre-wrap> ?        </span>         </td><td>256173                                                     </td><td><span style=white-space:pre-wrap> 10th   </span>           </td><td>6                                                          </td><td> Never-married                                             </td><td><span style=white-space:pre-wrap> ?                </span> </td><td><span style=white-space:pre-wrap> Own-child     </span>    </td><td><span style=white-space:pre-wrap> White             </span></td><td> Female                                                    </td><td><span style=white-space:pre-wrap>  0</span>                </td><td><span style=white-space:pre-wrap>   0</span>               </td><td>15                                                         </td><td> United-States                                             </td><td> &lt;=50K                                                  </td><td>Young                                                      </td></tr>\n",
       "\t<tr><th scope=row>31865</th><td>17                                                         </td><td><span style=white-space:pre-wrap> Private  </span>         </td><td>214787                                                     </td><td><span style=white-space:pre-wrap> 12th   </span>           </td><td>8                                                          </td><td> Never-married                                             </td><td><span style=white-space:pre-wrap> Adm-clerical     </span> </td><td><span style=white-space:pre-wrap> Own-child     </span>    </td><td><span style=white-space:pre-wrap> White             </span></td><td> Female                                                    </td><td><span style=white-space:pre-wrap>  0</span>                </td><td><span style=white-space:pre-wrap>   0</span>               </td><td>25                                                         </td><td> United-States                                             </td><td> &lt;=50K                                                  </td><td>Young                                                      </td></tr>\n",
       "\t<tr><th scope=row>31960</th><td>17                                                         </td><td><span style=white-space:pre-wrap> Private  </span>         </td><td> 24090                                                     </td><td> HS-grad                                                   </td><td>9                                                          </td><td> Never-married                                             </td><td><span style=white-space:pre-wrap> Exec-managerial  </span> </td><td><span style=white-space:pre-wrap> Own-child     </span>    </td><td><span style=white-space:pre-wrap> White             </span></td><td> Female                                                    </td><td><span style=white-space:pre-wrap>  0</span>                </td><td><span style=white-space:pre-wrap>   0</span>               </td><td>35                                                         </td><td> United-States                                             </td><td> &lt;=50K                                                  </td><td>Young                                                      </td></tr>\n",
       "\t<tr><th scope=row>32283</th><td>17                                                         </td><td><span style=white-space:pre-wrap> Private  </span>         </td><td>311907                                                     </td><td><span style=white-space:pre-wrap> 11th   </span>           </td><td>7                                                          </td><td> Never-married                                             </td><td><span style=white-space:pre-wrap> Other-service    </span> </td><td><span style=white-space:pre-wrap> Own-child     </span>    </td><td><span style=white-space:pre-wrap> White             </span></td><td><span style=white-space:pre-wrap> Male  </span>            </td><td><span style=white-space:pre-wrap>  0</span>                </td><td><span style=white-space:pre-wrap>   0</span>               </td><td>25                                                         </td><td> United-States                                             </td><td> &lt;=50K                                                  </td><td>Young                                                      </td></tr>\n",
       "\t<tr><th scope=row>32448</th><td>17                                                         </td><td><span style=white-space:pre-wrap> Private  </span>         </td><td>117798                                                     </td><td><span style=white-space:pre-wrap> 10th   </span>           </td><td>6                                                          </td><td> Never-married                                             </td><td><span style=white-space:pre-wrap> Other-service    </span> </td><td><span style=white-space:pre-wrap> Own-child     </span>    </td><td><span style=white-space:pre-wrap> White             </span></td><td><span style=white-space:pre-wrap> Male  </span>            </td><td><span style=white-space:pre-wrap>  0</span>                </td><td><span style=white-space:pre-wrap>   0</span>               </td><td>20                                                         </td><td> United-States                                             </td><td> &lt;=50K                                                  </td><td>Young                                                      </td></tr>\n",
       "</tbody>\n",
       "</table>\n"
      ],
      "text/latex": [
       "\\begin{tabular}{r|llllllllllllllll}\n",
       "  & age & workclass & fnlwgt & education & education-num & marital-status & occupation & occupation & race & sex & capital-gain & capital-loss & hours-per-week & native-country & target & age\\_class\\\\\n",
       "\\hline\n",
       "\t223 & 90                  &  Private            &  51744              &  HS-grad            &  9                  &  Never-married      &  Other-service      &  Not-in-family      &  Black              &  Male               &     0               & 2206                & 40                  &  United-States      &  <=50K              & Senior             \\\\\n",
       "\t1041 & 90                  &  Private            & 137018              &  HS-grad            &  9                  &  Never-married      &  Other-service      &  Not-in-family      &  White              &  Female             &     0               &    0                & 40                  &  United-States      &  <=50K              & Senior             \\\\\n",
       "\t1936 & 90                  &  Private            & 221832              &  Bachelors          & 13                  &  Married-civ-spouse &  Exec-managerial    &  Husband            &  White              &  Male               &     0               &    0                & 45                  &  United-States      &  <=50K              & Senior             \\\\\n",
       "\t2304 & 90                  &  Private            &  52386              &  Some-college       & 10                  &  Never-married      &  Other-service      &  Not-in-family      &  Asian-Pac-Islander &  Male               &     0               &    0                & 35                  &  United-States      &  <=50K              & Senior             \\\\\n",
       "\t2892 & 90                  &  Private            & 171956              &  Some-college       & 10                  &  Separated          &  Adm-clerical       &  Own-child          &  White              &  Female             &     0               &    0                & 40                  &  Puerto-Rico        &  <=50K              & Senior             \\\\\n",
       "\t4071 & 90                  &  Private            & 313986              &  11th               &  7                  &  Never-married      &  Handlers-cleaners  &  Own-child          &  White              &  Male               &     0               &    0                & 40                  &  United-States      &  <=50K              & Senior             \\\\\n",
       "\t4110 & 90                  &  ?                  & 256514              &  Bachelors          & 13                  &  Widowed            &  ?                  &  Other-relative     &  White              &  Female             &   991               &    0                & 10                  &  United-States      &  <=50K              & Senior             \\\\\n",
       "\t5105 & 90                  &  Private            &  52386              &  Some-college       & 10                  &  Never-married      &  Other-service      &  Not-in-family      &  Asian-Pac-Islander &  Male               &     0               &    0                & 35                  &  United-States      &  <=50K              & Senior             \\\\\n",
       "\t5273 & 90                  &  Private            & 141758              &  9th                &  5                  &  Never-married      &  Adm-clerical       &  Not-in-family      &  White              &  Female             &     0               &    0                & 40                  &  United-States      &  <=50K              & Senior             \\\\\n",
       "\t5371 & 90                  &  Local-gov          & 227796              &  Masters            & 14                  &  Married-civ-spouse &  Exec-managerial    &  Husband            &  White              &  Male               & 20051               &    0                & 60                  &  United-States      &  >50K               & Senior             \\\\\n",
       "\t5407 & 90                  &  Private            &  51744              &  Masters            & 14                  &  Never-married      &  Exec-managerial    &  Not-in-family      &  Black              &  Male               &     0               &    0                & 50                  &  United-States      &  >50K               & Senior             \\\\\n",
       "\t6233 & 90                  &  Self-emp-not-inc   & 155981              &  Bachelors          & 13                  &  Married-civ-spouse &  Prof-specialty     &  Husband            &  White              &  Male               & 10566               &    0                & 50                  &  United-States      &  <=50K              & Senior             \\\\\n",
       "\t6625 & 90                  &  Private            & 313986              &  11th               &  7                  &  Married-civ-spouse &  Craft-repair       &  Husband            &  White              &  Male               &     0               &    0                & 40                  &  United-States      &  <=50K              & Senior             \\\\\n",
       "\t8807 & 90                  &  Private            &  87372              &  Prof-school        & 15                  &  Married-civ-spouse &  Prof-specialty     &  Husband            &  White              &  Male               & 20051               &    0                & 72                  &  United-States      &  >50K               & Senior             \\\\\n",
       "\t8964 & 90                  &  ?                  &  77053              &  HS-grad            &  9                  &  Widowed            &  ?                  &  Not-in-family      &  White              &  Female             &     0               & 4356                & 40                  &  United-States      &  <=50K              & Senior             \\\\\n",
       "\t8974 & 90                  &  Private            &  46786              &  Bachelors          & 13                  &  Married-civ-spouse &  Sales              &  Husband            &  White              &  Male               &  9386               &    0                & 15                  &  United-States      &  >50K               & Senior             \\\\\n",
       "\t10211 & 90                  &  Self-emp-not-inc   & 282095              &  Some-college       & 10                  &  Married-civ-spouse &  Farming-fishing    &  Husband            &  White              &  Male               &     0               &    0                & 40                  &  United-States      &  <=50K              & Senior             \\\\\n",
       "\t10546 & 90                  &  Private            & 175491              &  HS-grad            &  9                  &  Married-civ-spouse &  Craft-repair       &  Husband            &  White              &  Male               &  9386               &    0                & 50                  &  Ecuador            &  >50K               & Senior             \\\\\n",
       "\t11513 & 90                  &  Private            &  87285              &  HS-grad            &  9                  &  Never-married      &  Other-service      &  Own-child          &  White              &  Female             &     0               &    0                & 24                  &  United-States      &  <=50K              & Senior             \\\\\n",
       "\t11732 & 90                  &  ?                  &  39824              &  HS-grad            &  9                  &  Widowed            &  ?                  &  Not-in-family      &  White              &  Male               &   401               &    0                &  4                  &  United-States      &  <=50K              & Senior             \\\\\n",
       "\t11997 & 90                  &  Private            &  40388              &  Bachelors          & 13                  &  Never-married      &  Exec-managerial    &  Not-in-family      &  White              &  Male               &     0               &    0                & 55                  &  United-States      &  <=50K              & Senior             \\\\\n",
       "\t12452 & 90                  &  ?                  & 225063              &  Some-college       & 10                  &  Never-married      &  ?                  &  Own-child          &  Asian-Pac-Islander &  Male               &     0               &    0                & 10                  &  South              &  <=50K              & Senior             \\\\\n",
       "\t12976 & 90                  &  Private            & 250832              &  10th               &  6                  &  Married-civ-spouse &  Exec-managerial    &  Husband            &  White              &  Male               &     0               &    0                & 40                  &  United-States      &  <=50K              & Senior             \\\\\n",
       "\t14160 & 90                  &  Local-gov          & 187749              &  Assoc-acdm         & 12                  &  Married-civ-spouse &  Adm-clerical       &  Husband            &  Asian-Pac-Islander &  Male               &     0               &    0                & 20                  &  Philippines        &  <=50K              & Senior             \\\\\n",
       "\t15357 & 90                  &  Private            &  90523              &  HS-grad            &  9                  &  Widowed            &  Transport-moving   &  Unmarried          &  White              &  Male               &     0               &    0                & 99                  &  United-States      &  <=50K              & Senior             \\\\\n",
       "\t15893 & 90                  &  Private            &  88991              &  Bachelors          & 13                  &  Married-civ-spouse &  Exec-managerial    &  Wife               &  White              &  Female             &     0               &    0                & 40                  &  England            &  >50K               & Senior             \\\\\n",
       "\t18278 & 90                  &  Private            & 311184              &  Bachelors          & 13                  &  Married-civ-spouse &  Sales              &  Husband            &  White              &  Male               &     0               &    0                & 20                  &  ?                  &  <=50K              & Senior             \\\\\n",
       "\t18414 & 90                  &  Private            & 313749              &  Bachelors          & 13                  &  Never-married      &  Prof-specialty     &  Own-child          &  White              &  Female             &     0               &    0                & 10                  &  United-States      &  <=50K              & Senior             \\\\\n",
       "\t18726 & 90                  &  Local-gov          & 153602              &  HS-grad            &  9                  &  Married-civ-spouse &  Other-service      &  Husband            &  White              &  Male               &  6767               &    0                & 40                  &  United-States      &  <=50K              & Senior             \\\\\n",
       "\t18833 & 90                  &  Private            & 115306              &  Masters            & 14                  &  Never-married      &  Exec-managerial    &  Own-child          &  White              &  Female             &     0               &    0                & 40                  &  United-States      &  <=50K              & Senior             \\\\\n",
       "\t... & ... & ... & ... & ... & ... & ... & ... & ... & ... & ... & ... & ... & ... & ... & ... & ...\\\\\n",
       "\t30027 & 17                  &  Private            & 160029              &  11th               & 7                   &  Never-married      &  Other-service      &  Other-relative     &  White              &  Female             &   0                 &    0                & 22                  &  United-States      &  <=50K              & Young              \\\\\n",
       "\t30074 & 17                  &  Private            & 116626              &  11th               & 7                   &  Never-married      &  Handlers-cleaners  &  Own-child          &  White              &  Male               &   0                 & 1719                & 18                  &  United-States      &  <=50K              & Young              \\\\\n",
       "\t30209 & 17                  &  ?                  &  34019              &  10th               & 6                   &  Never-married      &  ?                  &  Own-child          &  White              &  Male               &   0                 &    0                & 20                  &  United-States      &  <=50K              & Young              \\\\\n",
       "\t30210 & 17                  &  ?                  & 250541              &  11th               & 7                   &  Never-married      &  ?                  &  Own-child          &  Black              &  Male               &   0                 &    0                &  8                  &  United-States      &  <=50K              & Young              \\\\\n",
       "\t30230 & 17                  &  Private            & 231438              &  11th               & 7                   &  Never-married      &  Adm-clerical       &  Own-child          &  White              &  Female             &   0                 &    0                & 12                  &  United-States      &  <=50K              & Young              \\\\\n",
       "\t30329 & 17                  &  Private            & 128617              &  10th               & 6                   &  Never-married      &  Handlers-cleaners  &  Own-child          &  White              &  Male               &   0                 &    0                & 26                  &  United-States      &  <=50K              & Young              \\\\\n",
       "\t30403 & 17                  &  ?                  &  48703              &  11th               & 7                   &  Never-married      &  ?                  &  Own-child          &  White              &  Female             &   0                 &    0                & 30                  &  United-States      &  <=50K              & Young              \\\\\n",
       "\t30445 & 17                  &  ?                  & 371316              &  10th               & 6                   &  Never-married      &  ?                  &  Own-child          &  White              &  Male               &   0                 &    0                & 25                  &  United-States      &  <=50K              & Young              \\\\\n",
       "\t30514 & 17                  &  ?                  & 187539              &  11th               & 7                   &  Never-married      &  ?                  &  Own-child          &  White              &  Female             &   0                 &    0                & 10                  &  United-States      &  <=50K              & Young              \\\\\n",
       "\t30580 & 17                  &  Private            &  27415              &  11th               & 7                   &  Never-married      &  Handlers-cleaners  &  Own-child          &  Amer-Indian-Eskimo &  Male               &   0                 &    0                & 20                  &  United-States      &  <=50K              & Young              \\\\\n",
       "\t30667 & 17                  &  Private            & 143868              &  9th                & 5                   &  Never-married      &  Other-service      &  Own-child          &  Black              &  Male               &   0                 &    0                & 40                  &  United-States      &  <=50K              & Young              \\\\\n",
       "\t30777 & 17                  &  ?                  & 219277              &  11th               & 7                   &  Never-married      &  ?                  &  Own-child          &  White              &  Female             &   0                 &    0                & 20                  &  United-States      &  <=50K              & Young              \\\\\n",
       "\t30835 & 17                  &  Private            &  79682              &  10th               & 6                   &  Never-married      &  Priv-house-serv    &  Other-relative     &  White              &  Male               &   0                 &    0                & 30                  &  United-States      &  <=50K              & Young              \\\\\n",
       "\t30849 & 17                  &  Private            & 106733              &  11th               & 7                   &  Never-married      &  Craft-repair       &  Own-child          &  White              &  Male               & 594                 &    0                & 40                  &  United-States      &  <=50K              & Young              \\\\\n",
       "\t30890 & 17                  &  Private            & 169155              &  12th               & 8                   &  Never-married      &  Other-service      &  Own-child          &  White              &  Male               &   0                 &    0                & 35                  &  United-States      &  <=50K              & Young              \\\\\n",
       "\t30899 & 17                  &  Local-gov          & 192387              &  9th                & 5                   &  Never-married      &  Other-service      &  Own-child          &  White              &  Male               &   0                 &    0                & 45                  &  United-States      &  <=50K              & Young              \\\\\n",
       "\t30928 & 17                  &  Private            & 108470              &  11th               & 7                   &  Never-married      &  Other-service      &  Own-child          &  Black              &  Male               &   0                 &    0                & 17                  &  United-States      &  <=50K              & Young              \\\\\n",
       "\t31040 & 17                  &  Private            & 160049              &  10th               & 6                   &  Never-married      &  Other-service      &  Own-child          &  White              &  Female             &   0                 &    0                & 12                  &  United-States      &  <=50K              & Young              \\\\\n",
       "\t31074 & 17                  &  ?                  &  41643              &  11th               & 7                   &  Never-married      &  ?                  &  Own-child          &  White              &  Female             &   0                 &    0                & 15                  &  United-States      &  <=50K              & Young              \\\\\n",
       "\t31095 & 17                  &  ?                  & 172145              &  10th               & 6                   &  Never-married      &  ?                  &  Own-child          &  Black              &  Female             &   0                 &    0                & 40                  &  United-States      &  <=50K              & Young              \\\\\n",
       "\t31132 & 17                  &  Private            & 277541              &  11th               & 7                   &  Never-married      &  Sales              &  Own-child          &  White              &  Male               &   0                 &    0                &  5                  &  United-States      &  <=50K              & Young              \\\\\n",
       "\t31440 & 17                  &  Private            & 375657              &  11th               & 7                   &  Never-married      &  Handlers-cleaners  &  Own-child          &  White              &  Male               &   0                 &    0                & 30                  &  United-States      &  <=50K              & Young              \\\\\n",
       "\t31659 & 17                  &  Private            & 309504              &  10th               & 6                   &  Never-married      &  Sales              &  Unmarried          &  White              &  Female             &   0                 &    0                & 24                  &  United-States      &  <=50K              & Young              \\\\\n",
       "\t31701 & 17                  &  Private            & 141590              &  11th               & 7                   &  Never-married      &  Priv-house-serv    &  Own-child          &  White              &  Female             &   0                 &    0                & 12                  &  United-States      &  <=50K              & Young              \\\\\n",
       "\t31759 & 17                  &  ?                  & 171461              &  10th               & 6                   &  Never-married      &  ?                  &  Own-child          &  White              &  Female             &   0                 &    0                & 20                  &  United-States      &  <=50K              & Young              \\\\\n",
       "\t31773 & 17                  &  ?                  & 256173              &  10th               & 6                   &  Never-married      &  ?                  &  Own-child          &  White              &  Female             &   0                 &    0                & 15                  &  United-States      &  <=50K              & Young              \\\\\n",
       "\t31865 & 17                  &  Private            & 214787              &  12th               & 8                   &  Never-married      &  Adm-clerical       &  Own-child          &  White              &  Female             &   0                 &    0                & 25                  &  United-States      &  <=50K              & Young              \\\\\n",
       "\t31960 & 17                  &  Private            &  24090              &  HS-grad            & 9                   &  Never-married      &  Exec-managerial    &  Own-child          &  White              &  Female             &   0                 &    0                & 35                  &  United-States      &  <=50K              & Young              \\\\\n",
       "\t32283 & 17                  &  Private            & 311907              &  11th               & 7                   &  Never-married      &  Other-service      &  Own-child          &  White              &  Male               &   0                 &    0                & 25                  &  United-States      &  <=50K              & Young              \\\\\n",
       "\t32448 & 17                  &  Private            & 117798              &  10th               & 6                   &  Never-married      &  Other-service      &  Own-child          &  White              &  Male               &   0                 &    0                & 20                  &  United-States      &  <=50K              & Young              \\\\\n",
       "\\end{tabular}\n"
      ],
      "text/markdown": [
       "\n",
       "| <!--/--> | age | workclass | fnlwgt | education | education-num | marital-status | occupation | occupation | race | sex | capital-gain | capital-loss | hours-per-week | native-country | target | age_class |\n",
       "|---|---|---|---|---|---|---|---|---|---|---|---|---|---|---|---|---|\n",
       "| 223 | 90                  |  Private            |  51744              |  HS-grad            |  9                  |  Never-married      |  Other-service      |  Not-in-family      |  Black              |  Male               |     0               | 2206                | 40                  |  United-States      |  <=50K              | Senior              |\n",
       "| 1041 | 90                  |  Private            | 137018              |  HS-grad            |  9                  |  Never-married      |  Other-service      |  Not-in-family      |  White              |  Female             |     0               |    0                | 40                  |  United-States      |  <=50K              | Senior              |\n",
       "| 1936 | 90                  |  Private            | 221832              |  Bachelors          | 13                  |  Married-civ-spouse |  Exec-managerial    |  Husband            |  White              |  Male               |     0               |    0                | 45                  |  United-States      |  <=50K              | Senior              |\n",
       "| 2304 | 90                  |  Private            |  52386              |  Some-college       | 10                  |  Never-married      |  Other-service      |  Not-in-family      |  Asian-Pac-Islander |  Male               |     0               |    0                | 35                  |  United-States      |  <=50K              | Senior              |\n",
       "| 2892 | 90                  |  Private            | 171956              |  Some-college       | 10                  |  Separated          |  Adm-clerical       |  Own-child          |  White              |  Female             |     0               |    0                | 40                  |  Puerto-Rico        |  <=50K              | Senior              |\n",
       "| 4071 | 90                  |  Private            | 313986              |  11th               |  7                  |  Never-married      |  Handlers-cleaners  |  Own-child          |  White              |  Male               |     0               |    0                | 40                  |  United-States      |  <=50K              | Senior              |\n",
       "| 4110 | 90                  |  ?                  | 256514              |  Bachelors          | 13                  |  Widowed            |  ?                  |  Other-relative     |  White              |  Female             |   991               |    0                | 10                  |  United-States      |  <=50K              | Senior              |\n",
       "| 5105 | 90                  |  Private            |  52386              |  Some-college       | 10                  |  Never-married      |  Other-service      |  Not-in-family      |  Asian-Pac-Islander |  Male               |     0               |    0                | 35                  |  United-States      |  <=50K              | Senior              |\n",
       "| 5273 | 90                  |  Private            | 141758              |  9th                |  5                  |  Never-married      |  Adm-clerical       |  Not-in-family      |  White              |  Female             |     0               |    0                | 40                  |  United-States      |  <=50K              | Senior              |\n",
       "| 5371 | 90                  |  Local-gov          | 227796              |  Masters            | 14                  |  Married-civ-spouse |  Exec-managerial    |  Husband            |  White              |  Male               | 20051               |    0                | 60                  |  United-States      |  >50K               | Senior              |\n",
       "| 5407 | 90                  |  Private            |  51744              |  Masters            | 14                  |  Never-married      |  Exec-managerial    |  Not-in-family      |  Black              |  Male               |     0               |    0                | 50                  |  United-States      |  >50K               | Senior              |\n",
       "| 6233 | 90                  |  Self-emp-not-inc   | 155981              |  Bachelors          | 13                  |  Married-civ-spouse |  Prof-specialty     |  Husband            |  White              |  Male               | 10566               |    0                | 50                  |  United-States      |  <=50K              | Senior              |\n",
       "| 6625 | 90                  |  Private            | 313986              |  11th               |  7                  |  Married-civ-spouse |  Craft-repair       |  Husband            |  White              |  Male               |     0               |    0                | 40                  |  United-States      |  <=50K              | Senior              |\n",
       "| 8807 | 90                  |  Private            |  87372              |  Prof-school        | 15                  |  Married-civ-spouse |  Prof-specialty     |  Husband            |  White              |  Male               | 20051               |    0                | 72                  |  United-States      |  >50K               | Senior              |\n",
       "| 8964 | 90                  |  ?                  |  77053              |  HS-grad            |  9                  |  Widowed            |  ?                  |  Not-in-family      |  White              |  Female             |     0               | 4356                | 40                  |  United-States      |  <=50K              | Senior              |\n",
       "| 8974 | 90                  |  Private            |  46786              |  Bachelors          | 13                  |  Married-civ-spouse |  Sales              |  Husband            |  White              |  Male               |  9386               |    0                | 15                  |  United-States      |  >50K               | Senior              |\n",
       "| 10211 | 90                  |  Self-emp-not-inc   | 282095              |  Some-college       | 10                  |  Married-civ-spouse |  Farming-fishing    |  Husband            |  White              |  Male               |     0               |    0                | 40                  |  United-States      |  <=50K              | Senior              |\n",
       "| 10546 | 90                  |  Private            | 175491              |  HS-grad            |  9                  |  Married-civ-spouse |  Craft-repair       |  Husband            |  White              |  Male               |  9386               |    0                | 50                  |  Ecuador            |  >50K               | Senior              |\n",
       "| 11513 | 90                  |  Private            |  87285              |  HS-grad            |  9                  |  Never-married      |  Other-service      |  Own-child          |  White              |  Female             |     0               |    0                | 24                  |  United-States      |  <=50K              | Senior              |\n",
       "| 11732 | 90                  |  ?                  |  39824              |  HS-grad            |  9                  |  Widowed            |  ?                  |  Not-in-family      |  White              |  Male               |   401               |    0                |  4                  |  United-States      |  <=50K              | Senior              |\n",
       "| 11997 | 90                  |  Private            |  40388              |  Bachelors          | 13                  |  Never-married      |  Exec-managerial    |  Not-in-family      |  White              |  Male               |     0               |    0                | 55                  |  United-States      |  <=50K              | Senior              |\n",
       "| 12452 | 90                  |  ?                  | 225063              |  Some-college       | 10                  |  Never-married      |  ?                  |  Own-child          |  Asian-Pac-Islander |  Male               |     0               |    0                | 10                  |  South              |  <=50K              | Senior              |\n",
       "| 12976 | 90                  |  Private            | 250832              |  10th               |  6                  |  Married-civ-spouse |  Exec-managerial    |  Husband            |  White              |  Male               |     0               |    0                | 40                  |  United-States      |  <=50K              | Senior              |\n",
       "| 14160 | 90                  |  Local-gov          | 187749              |  Assoc-acdm         | 12                  |  Married-civ-spouse |  Adm-clerical       |  Husband            |  Asian-Pac-Islander |  Male               |     0               |    0                | 20                  |  Philippines        |  <=50K              | Senior              |\n",
       "| 15357 | 90                  |  Private            |  90523              |  HS-grad            |  9                  |  Widowed            |  Transport-moving   |  Unmarried          |  White              |  Male               |     0               |    0                | 99                  |  United-States      |  <=50K              | Senior              |\n",
       "| 15893 | 90                  |  Private            |  88991              |  Bachelors          | 13                  |  Married-civ-spouse |  Exec-managerial    |  Wife               |  White              |  Female             |     0               |    0                | 40                  |  England            |  >50K               | Senior              |\n",
       "| 18278 | 90                  |  Private            | 311184              |  Bachelors          | 13                  |  Married-civ-spouse |  Sales              |  Husband            |  White              |  Male               |     0               |    0                | 20                  |  ?                  |  <=50K              | Senior              |\n",
       "| 18414 | 90                  |  Private            | 313749              |  Bachelors          | 13                  |  Never-married      |  Prof-specialty     |  Own-child          |  White              |  Female             |     0               |    0                | 10                  |  United-States      |  <=50K              | Senior              |\n",
       "| 18726 | 90                  |  Local-gov          | 153602              |  HS-grad            |  9                  |  Married-civ-spouse |  Other-service      |  Husband            |  White              |  Male               |  6767               |    0                | 40                  |  United-States      |  <=50K              | Senior              |\n",
       "| 18833 | 90                  |  Private            | 115306              |  Masters            | 14                  |  Never-married      |  Exec-managerial    |  Own-child          |  White              |  Female             |     0               |    0                | 40                  |  United-States      |  <=50K              | Senior              |\n",
       "| ... | ... | ... | ... | ... | ... | ... | ... | ... | ... | ... | ... | ... | ... | ... | ... | ... |\n",
       "| 30027 | 17                  |  Private            | 160029              |  11th               | 7                   |  Never-married      |  Other-service      |  Other-relative     |  White              |  Female             |   0                 |    0                | 22                  |  United-States      |  <=50K              | Young               |\n",
       "| 30074 | 17                  |  Private            | 116626              |  11th               | 7                   |  Never-married      |  Handlers-cleaners  |  Own-child          |  White              |  Male               |   0                 | 1719                | 18                  |  United-States      |  <=50K              | Young               |\n",
       "| 30209 | 17                  |  ?                  |  34019              |  10th               | 6                   |  Never-married      |  ?                  |  Own-child          |  White              |  Male               |   0                 |    0                | 20                  |  United-States      |  <=50K              | Young               |\n",
       "| 30210 | 17                  |  ?                  | 250541              |  11th               | 7                   |  Never-married      |  ?                  |  Own-child          |  Black              |  Male               |   0                 |    0                |  8                  |  United-States      |  <=50K              | Young               |\n",
       "| 30230 | 17                  |  Private            | 231438              |  11th               | 7                   |  Never-married      |  Adm-clerical       |  Own-child          |  White              |  Female             |   0                 |    0                | 12                  |  United-States      |  <=50K              | Young               |\n",
       "| 30329 | 17                  |  Private            | 128617              |  10th               | 6                   |  Never-married      |  Handlers-cleaners  |  Own-child          |  White              |  Male               |   0                 |    0                | 26                  |  United-States      |  <=50K              | Young               |\n",
       "| 30403 | 17                  |  ?                  |  48703              |  11th               | 7                   |  Never-married      |  ?                  |  Own-child          |  White              |  Female             |   0                 |    0                | 30                  |  United-States      |  <=50K              | Young               |\n",
       "| 30445 | 17                  |  ?                  | 371316              |  10th               | 6                   |  Never-married      |  ?                  |  Own-child          |  White              |  Male               |   0                 |    0                | 25                  |  United-States      |  <=50K              | Young               |\n",
       "| 30514 | 17                  |  ?                  | 187539              |  11th               | 7                   |  Never-married      |  ?                  |  Own-child          |  White              |  Female             |   0                 |    0                | 10                  |  United-States      |  <=50K              | Young               |\n",
       "| 30580 | 17                  |  Private            |  27415              |  11th               | 7                   |  Never-married      |  Handlers-cleaners  |  Own-child          |  Amer-Indian-Eskimo |  Male               |   0                 |    0                | 20                  |  United-States      |  <=50K              | Young               |\n",
       "| 30667 | 17                  |  Private            | 143868              |  9th                | 5                   |  Never-married      |  Other-service      |  Own-child          |  Black              |  Male               |   0                 |    0                | 40                  |  United-States      |  <=50K              | Young               |\n",
       "| 30777 | 17                  |  ?                  | 219277              |  11th               | 7                   |  Never-married      |  ?                  |  Own-child          |  White              |  Female             |   0                 |    0                | 20                  |  United-States      |  <=50K              | Young               |\n",
       "| 30835 | 17                  |  Private            |  79682              |  10th               | 6                   |  Never-married      |  Priv-house-serv    |  Other-relative     |  White              |  Male               |   0                 |    0                | 30                  |  United-States      |  <=50K              | Young               |\n",
       "| 30849 | 17                  |  Private            | 106733              |  11th               | 7                   |  Never-married      |  Craft-repair       |  Own-child          |  White              |  Male               | 594                 |    0                | 40                  |  United-States      |  <=50K              | Young               |\n",
       "| 30890 | 17                  |  Private            | 169155              |  12th               | 8                   |  Never-married      |  Other-service      |  Own-child          |  White              |  Male               |   0                 |    0                | 35                  |  United-States      |  <=50K              | Young               |\n",
       "| 30899 | 17                  |  Local-gov          | 192387              |  9th                | 5                   |  Never-married      |  Other-service      |  Own-child          |  White              |  Male               |   0                 |    0                | 45                  |  United-States      |  <=50K              | Young               |\n",
       "| 30928 | 17                  |  Private            | 108470              |  11th               | 7                   |  Never-married      |  Other-service      |  Own-child          |  Black              |  Male               |   0                 |    0                | 17                  |  United-States      |  <=50K              | Young               |\n",
       "| 31040 | 17                  |  Private            | 160049              |  10th               | 6                   |  Never-married      |  Other-service      |  Own-child          |  White              |  Female             |   0                 |    0                | 12                  |  United-States      |  <=50K              | Young               |\n",
       "| 31074 | 17                  |  ?                  |  41643              |  11th               | 7                   |  Never-married      |  ?                  |  Own-child          |  White              |  Female             |   0                 |    0                | 15                  |  United-States      |  <=50K              | Young               |\n",
       "| 31095 | 17                  |  ?                  | 172145              |  10th               | 6                   |  Never-married      |  ?                  |  Own-child          |  Black              |  Female             |   0                 |    0                | 40                  |  United-States      |  <=50K              | Young               |\n",
       "| 31132 | 17                  |  Private            | 277541              |  11th               | 7                   |  Never-married      |  Sales              |  Own-child          |  White              |  Male               |   0                 |    0                |  5                  |  United-States      |  <=50K              | Young               |\n",
       "| 31440 | 17                  |  Private            | 375657              |  11th               | 7                   |  Never-married      |  Handlers-cleaners  |  Own-child          |  White              |  Male               |   0                 |    0                | 30                  |  United-States      |  <=50K              | Young               |\n",
       "| 31659 | 17                  |  Private            | 309504              |  10th               | 6                   |  Never-married      |  Sales              |  Unmarried          |  White              |  Female             |   0                 |    0                | 24                  |  United-States      |  <=50K              | Young               |\n",
       "| 31701 | 17                  |  Private            | 141590              |  11th               | 7                   |  Never-married      |  Priv-house-serv    |  Own-child          |  White              |  Female             |   0                 |    0                | 12                  |  United-States      |  <=50K              | Young               |\n",
       "| 31759 | 17                  |  ?                  | 171461              |  10th               | 6                   |  Never-married      |  ?                  |  Own-child          |  White              |  Female             |   0                 |    0                | 20                  |  United-States      |  <=50K              | Young               |\n",
       "| 31773 | 17                  |  ?                  | 256173              |  10th               | 6                   |  Never-married      |  ?                  |  Own-child          |  White              |  Female             |   0                 |    0                | 15                  |  United-States      |  <=50K              | Young               |\n",
       "| 31865 | 17                  |  Private            | 214787              |  12th               | 8                   |  Never-married      |  Adm-clerical       |  Own-child          |  White              |  Female             |   0                 |    0                | 25                  |  United-States      |  <=50K              | Young               |\n",
       "| 31960 | 17                  |  Private            |  24090              |  HS-grad            | 9                   |  Never-married      |  Exec-managerial    |  Own-child          |  White              |  Female             |   0                 |    0                | 35                  |  United-States      |  <=50K              | Young               |\n",
       "| 32283 | 17                  |  Private            | 311907              |  11th               | 7                   |  Never-married      |  Other-service      |  Own-child          |  White              |  Male               |   0                 |    0                | 25                  |  United-States      |  <=50K              | Young               |\n",
       "| 32448 | 17                  |  Private            | 117798              |  10th               | 6                   |  Never-married      |  Other-service      |  Own-child          |  White              |  Male               |   0                 |    0                | 20                  |  United-States      |  <=50K              | Young               |\n",
       "\n"
      ],
      "text/plain": [
       "      age workclass         fnlwgt education     education-num\n",
       "223   90   Private           51744  HS-grad       9           \n",
       "1041  90   Private          137018  HS-grad       9           \n",
       "1936  90   Private          221832  Bachelors    13           \n",
       "2304  90   Private           52386  Some-college 10           \n",
       "2892  90   Private          171956  Some-college 10           \n",
       "4071  90   Private          313986  11th          7           \n",
       "4110  90   ?                256514  Bachelors    13           \n",
       "5105  90   Private           52386  Some-college 10           \n",
       "5273  90   Private          141758  9th           5           \n",
       "5371  90   Local-gov        227796  Masters      14           \n",
       "5407  90   Private           51744  Masters      14           \n",
       "6233  90   Self-emp-not-inc 155981  Bachelors    13           \n",
       "6625  90   Private          313986  11th          7           \n",
       "8807  90   Private           87372  Prof-school  15           \n",
       "8964  90   ?                 77053  HS-grad       9           \n",
       "8974  90   Private           46786  Bachelors    13           \n",
       "10211 90   Self-emp-not-inc 282095  Some-college 10           \n",
       "10546 90   Private          175491  HS-grad       9           \n",
       "11513 90   Private           87285  HS-grad       9           \n",
       "11732 90   ?                 39824  HS-grad       9           \n",
       "11997 90   Private           40388  Bachelors    13           \n",
       "12452 90   ?                225063  Some-college 10           \n",
       "12976 90   Private          250832  10th          6           \n",
       "14160 90   Local-gov        187749  Assoc-acdm   12           \n",
       "15357 90   Private           90523  HS-grad       9           \n",
       "15893 90   Private           88991  Bachelors    13           \n",
       "18278 90   Private          311184  Bachelors    13           \n",
       "18414 90   Private          313749  Bachelors    13           \n",
       "18726 90   Local-gov        153602  HS-grad       9           \n",
       "18833 90   Private          115306  Masters      14           \n",
       "...   ... ...               ...    ...           ...          \n",
       "30027 17   Private          160029  11th         7            \n",
       "30074 17   Private          116626  11th         7            \n",
       "30209 17   ?                 34019  10th         6            \n",
       "30210 17   ?                250541  11th         7            \n",
       "30230 17   Private          231438  11th         7            \n",
       "30329 17   Private          128617  10th         6            \n",
       "30403 17   ?                 48703  11th         7            \n",
       "30445 17   ?                371316  10th         6            \n",
       "30514 17   ?                187539  11th         7            \n",
       "30580 17   Private           27415  11th         7            \n",
       "30667 17   Private          143868  9th          5            \n",
       "30777 17   ?                219277  11th         7            \n",
       "30835 17   Private           79682  10th         6            \n",
       "30849 17   Private          106733  11th         7            \n",
       "30890 17   Private          169155  12th         8            \n",
       "30899 17   Local-gov        192387  9th          5            \n",
       "30928 17   Private          108470  11th         7            \n",
       "31040 17   Private          160049  10th         6            \n",
       "31074 17   ?                 41643  11th         7            \n",
       "31095 17   ?                172145  10th         6            \n",
       "31132 17   Private          277541  11th         7            \n",
       "31440 17   Private          375657  11th         7            \n",
       "31659 17   Private          309504  10th         6            \n",
       "31701 17   Private          141590  11th         7            \n",
       "31759 17   ?                171461  10th         6            \n",
       "31773 17   ?                256173  10th         6            \n",
       "31865 17   Private          214787  12th         8            \n",
       "31960 17   Private           24090  HS-grad      9            \n",
       "32283 17   Private          311907  11th         7            \n",
       "32448 17   Private          117798  10th         6            \n",
       "      marital-status      occupation         occupation     \n",
       "223    Never-married       Other-service      Not-in-family \n",
       "1041   Never-married       Other-service      Not-in-family \n",
       "1936   Married-civ-spouse  Exec-managerial    Husband       \n",
       "2304   Never-married       Other-service      Not-in-family \n",
       "2892   Separated           Adm-clerical       Own-child     \n",
       "4071   Never-married       Handlers-cleaners  Own-child     \n",
       "4110   Widowed             ?                  Other-relative\n",
       "5105   Never-married       Other-service      Not-in-family \n",
       "5273   Never-married       Adm-clerical       Not-in-family \n",
       "5371   Married-civ-spouse  Exec-managerial    Husband       \n",
       "5407   Never-married       Exec-managerial    Not-in-family \n",
       "6233   Married-civ-spouse  Prof-specialty     Husband       \n",
       "6625   Married-civ-spouse  Craft-repair       Husband       \n",
       "8807   Married-civ-spouse  Prof-specialty     Husband       \n",
       "8964   Widowed             ?                  Not-in-family \n",
       "8974   Married-civ-spouse  Sales              Husband       \n",
       "10211  Married-civ-spouse  Farming-fishing    Husband       \n",
       "10546  Married-civ-spouse  Craft-repair       Husband       \n",
       "11513  Never-married       Other-service      Own-child     \n",
       "11732  Widowed             ?                  Not-in-family \n",
       "11997  Never-married       Exec-managerial    Not-in-family \n",
       "12452  Never-married       ?                  Own-child     \n",
       "12976  Married-civ-spouse  Exec-managerial    Husband       \n",
       "14160  Married-civ-spouse  Adm-clerical       Husband       \n",
       "15357  Widowed             Transport-moving   Unmarried     \n",
       "15893  Married-civ-spouse  Exec-managerial    Wife          \n",
       "18278  Married-civ-spouse  Sales              Husband       \n",
       "18414  Never-married       Prof-specialty     Own-child     \n",
       "18726  Married-civ-spouse  Other-service      Husband       \n",
       "18833  Never-married       Exec-managerial    Own-child     \n",
       "...   ...                 ...                ...            \n",
       "30027  Never-married       Other-service      Other-relative\n",
       "30074  Never-married       Handlers-cleaners  Own-child     \n",
       "30209  Never-married       ?                  Own-child     \n",
       "30210  Never-married       ?                  Own-child     \n",
       "30230  Never-married       Adm-clerical       Own-child     \n",
       "30329  Never-married       Handlers-cleaners  Own-child     \n",
       "30403  Never-married       ?                  Own-child     \n",
       "30445  Never-married       ?                  Own-child     \n",
       "30514  Never-married       ?                  Own-child     \n",
       "30580  Never-married       Handlers-cleaners  Own-child     \n",
       "30667  Never-married       Other-service      Own-child     \n",
       "30777  Never-married       ?                  Own-child     \n",
       "30835  Never-married       Priv-house-serv    Other-relative\n",
       "30849  Never-married       Craft-repair       Own-child     \n",
       "30890  Never-married       Other-service      Own-child     \n",
       "30899  Never-married       Other-service      Own-child     \n",
       "30928  Never-married       Other-service      Own-child     \n",
       "31040  Never-married       Other-service      Own-child     \n",
       "31074  Never-married       ?                  Own-child     \n",
       "31095  Never-married       ?                  Own-child     \n",
       "31132  Never-married       Sales              Own-child     \n",
       "31440  Never-married       Handlers-cleaners  Own-child     \n",
       "31659  Never-married       Sales              Unmarried     \n",
       "31701  Never-married       Priv-house-serv    Own-child     \n",
       "31759  Never-married       ?                  Own-child     \n",
       "31773  Never-married       ?                  Own-child     \n",
       "31865  Never-married       Adm-clerical       Own-child     \n",
       "31960  Never-married       Exec-managerial    Own-child     \n",
       "32283  Never-married       Other-service      Own-child     \n",
       "32448  Never-married       Other-service      Own-child     \n",
       "      race                sex     capital-gain capital-loss hours-per-week\n",
       "223    Black               Male       0        2206         40            \n",
       "1041   White               Female     0           0         40            \n",
       "1936   White               Male       0           0         45            \n",
       "2304   Asian-Pac-Islander  Male       0           0         35            \n",
       "2892   White               Female     0           0         40            \n",
       "4071   White               Male       0           0         40            \n",
       "4110   White               Female   991           0         10            \n",
       "5105   Asian-Pac-Islander  Male       0           0         35            \n",
       "5273   White               Female     0           0         40            \n",
       "5371   White               Male   20051           0         60            \n",
       "5407   Black               Male       0           0         50            \n",
       "6233   White               Male   10566           0         50            \n",
       "6625   White               Male       0           0         40            \n",
       "8807   White               Male   20051           0         72            \n",
       "8964   White               Female     0        4356         40            \n",
       "8974   White               Male    9386           0         15            \n",
       "10211  White               Male       0           0         40            \n",
       "10546  White               Male    9386           0         50            \n",
       "11513  White               Female     0           0         24            \n",
       "11732  White               Male     401           0          4            \n",
       "11997  White               Male       0           0         55            \n",
       "12452  Asian-Pac-Islander  Male       0           0         10            \n",
       "12976  White               Male       0           0         40            \n",
       "14160  Asian-Pac-Islander  Male       0           0         20            \n",
       "15357  White               Male       0           0         99            \n",
       "15893  White               Female     0           0         40            \n",
       "18278  White               Male       0           0         20            \n",
       "18414  White               Female     0           0         10            \n",
       "18726  White               Male    6767           0         40            \n",
       "18833  White               Female     0           0         40            \n",
       "...   ...                 ...     ...          ...          ...           \n",
       "30027  White               Female   0             0         22            \n",
       "30074  White               Male     0          1719         18            \n",
       "30209  White               Male     0             0         20            \n",
       "30210  Black               Male     0             0          8            \n",
       "30230  White               Female   0             0         12            \n",
       "30329  White               Male     0             0         26            \n",
       "30403  White               Female   0             0         30            \n",
       "30445  White               Male     0             0         25            \n",
       "30514  White               Female   0             0         10            \n",
       "30580  Amer-Indian-Eskimo  Male     0             0         20            \n",
       "30667  Black               Male     0             0         40            \n",
       "30777  White               Female   0             0         20            \n",
       "30835  White               Male     0             0         30            \n",
       "30849  White               Male   594             0         40            \n",
       "30890  White               Male     0             0         35            \n",
       "30899  White               Male     0             0         45            \n",
       "30928  Black               Male     0             0         17            \n",
       "31040  White               Female   0             0         12            \n",
       "31074  White               Female   0             0         15            \n",
       "31095  Black               Female   0             0         40            \n",
       "31132  White               Male     0             0          5            \n",
       "31440  White               Male     0             0         30            \n",
       "31659  White               Female   0             0         24            \n",
       "31701  White               Female   0             0         12            \n",
       "31759  White               Female   0             0         20            \n",
       "31773  White               Female   0             0         15            \n",
       "31865  White               Female   0             0         25            \n",
       "31960  White               Female   0             0         35            \n",
       "32283  White               Male     0             0         25            \n",
       "32448  White               Male     0             0         20            \n",
       "      native-country target age_class\n",
       "223    United-States  <=50K Senior   \n",
       "1041   United-States  <=50K Senior   \n",
       "1936   United-States  <=50K Senior   \n",
       "2304   United-States  <=50K Senior   \n",
       "2892   Puerto-Rico    <=50K Senior   \n",
       "4071   United-States  <=50K Senior   \n",
       "4110   United-States  <=50K Senior   \n",
       "5105   United-States  <=50K Senior   \n",
       "5273   United-States  <=50K Senior   \n",
       "5371   United-States  >50K  Senior   \n",
       "5407   United-States  >50K  Senior   \n",
       "6233   United-States  <=50K Senior   \n",
       "6625   United-States  <=50K Senior   \n",
       "8807   United-States  >50K  Senior   \n",
       "8964   United-States  <=50K Senior   \n",
       "8974   United-States  >50K  Senior   \n",
       "10211  United-States  <=50K Senior   \n",
       "10546  Ecuador        >50K  Senior   \n",
       "11513  United-States  <=50K Senior   \n",
       "11732  United-States  <=50K Senior   \n",
       "11997  United-States  <=50K Senior   \n",
       "12452  South          <=50K Senior   \n",
       "12976  United-States  <=50K Senior   \n",
       "14160  Philippines    <=50K Senior   \n",
       "15357  United-States  <=50K Senior   \n",
       "15893  England        >50K  Senior   \n",
       "18278  ?              <=50K Senior   \n",
       "18414  United-States  <=50K Senior   \n",
       "18726  United-States  <=50K Senior   \n",
       "18833  United-States  <=50K Senior   \n",
       "...   ...            ...    ...      \n",
       "30027  United-States  <=50K Young    \n",
       "30074  United-States  <=50K Young    \n",
       "30209  United-States  <=50K Young    \n",
       "30210  United-States  <=50K Young    \n",
       "30230  United-States  <=50K Young    \n",
       "30329  United-States  <=50K Young    \n",
       "30403  United-States  <=50K Young    \n",
       "30445  United-States  <=50K Young    \n",
       "30514  United-States  <=50K Young    \n",
       "30580  United-States  <=50K Young    \n",
       "30667  United-States  <=50K Young    \n",
       "30777  United-States  <=50K Young    \n",
       "30835  United-States  <=50K Young    \n",
       "30849  United-States  <=50K Young    \n",
       "30890  United-States  <=50K Young    \n",
       "30899  United-States  <=50K Young    \n",
       "30928  United-States  <=50K Young    \n",
       "31040  United-States  <=50K Young    \n",
       "31074  United-States  <=50K Young    \n",
       "31095  United-States  <=50K Young    \n",
       "31132  United-States  <=50K Young    \n",
       "31440  United-States  <=50K Young    \n",
       "31659  United-States  <=50K Young    \n",
       "31701  United-States  <=50K Young    \n",
       "31759  United-States  <=50K Young    \n",
       "31773  United-States  <=50K Young    \n",
       "31865  United-States  <=50K Young    \n",
       "31960  United-States  <=50K Young    \n",
       "32283  United-States  <=50K Young    \n",
       "32448  United-States  <=50K Young    "
      ]
     },
     "metadata": {},
     "output_type": "display_data"
    }
   ],
   "source": [
    "base_dados[order(base_dados$age, decreasing = T),]"
   ]
  },
  {
   "cell_type": "code",
   "execution_count": 24,
   "id": "54e98b63",
   "metadata": {},
   "outputs": [
    {
     "data": {
      "text/html": [
       "<table>\n",
       "<thead><tr><th scope=col>Idade</th><th scope=col>x</th></tr></thead>\n",
       "<tbody>\n",
       "\t<tr><td>17 </td><td>395</td></tr>\n",
       "\t<tr><td>18 </td><td>550</td></tr>\n",
       "\t<tr><td>19 </td><td>712</td></tr>\n",
       "\t<tr><td>20 </td><td>753</td></tr>\n",
       "\t<tr><td>21 </td><td>720</td></tr>\n",
       "\t<tr><td>22 </td><td>765</td></tr>\n",
       "\t<tr><td>23 </td><td>877</td></tr>\n",
       "\t<tr><td>24 </td><td>798</td></tr>\n",
       "\t<tr><td>25 </td><td>841</td></tr>\n",
       "\t<tr><td>26 </td><td>785</td></tr>\n",
       "\t<tr><td>27 </td><td>835</td></tr>\n",
       "\t<tr><td>28 </td><td>867</td></tr>\n",
       "\t<tr><td>29 </td><td>813</td></tr>\n",
       "\t<tr><td>30 </td><td>861</td></tr>\n",
       "\t<tr><td>31 </td><td>888</td></tr>\n",
       "\t<tr><td>32 </td><td>828</td></tr>\n",
       "\t<tr><td>33 </td><td>875</td></tr>\n",
       "\t<tr><td>34 </td><td>886</td></tr>\n",
       "\t<tr><td>35 </td><td>876</td></tr>\n",
       "\t<tr><td>36 </td><td>898</td></tr>\n",
       "\t<tr><td>37 </td><td>858</td></tr>\n",
       "\t<tr><td>38 </td><td>827</td></tr>\n",
       "\t<tr><td>39 </td><td>816</td></tr>\n",
       "\t<tr><td>40 </td><td>794</td></tr>\n",
       "\t<tr><td>41 </td><td>808</td></tr>\n",
       "\t<tr><td>42 </td><td>780</td></tr>\n",
       "\t<tr><td>43 </td><td>770</td></tr>\n",
       "\t<tr><td>44 </td><td>724</td></tr>\n",
       "\t<tr><td>45 </td><td>734</td></tr>\n",
       "\t<tr><td>46 </td><td>737</td></tr>\n",
       "\t<tr><td>...</td><td>...</td></tr>\n",
       "\t<tr><td>60 </td><td>312</td></tr>\n",
       "\t<tr><td>61 </td><td>300</td></tr>\n",
       "\t<tr><td>62 </td><td>258</td></tr>\n",
       "\t<tr><td>63 </td><td>230</td></tr>\n",
       "\t<tr><td>64 </td><td>208</td></tr>\n",
       "\t<tr><td>65 </td><td>178</td></tr>\n",
       "\t<tr><td>66 </td><td>150</td></tr>\n",
       "\t<tr><td>67 </td><td>151</td></tr>\n",
       "\t<tr><td>68 </td><td>120</td></tr>\n",
       "\t<tr><td>69 </td><td>108</td></tr>\n",
       "\t<tr><td>70 </td><td> 89</td></tr>\n",
       "\t<tr><td>71 </td><td> 72</td></tr>\n",
       "\t<tr><td>72 </td><td> 67</td></tr>\n",
       "\t<tr><td>73 </td><td> 64</td></tr>\n",
       "\t<tr><td>74 </td><td> 51</td></tr>\n",
       "\t<tr><td>75 </td><td> 45</td></tr>\n",
       "\t<tr><td>76 </td><td> 46</td></tr>\n",
       "\t<tr><td>77 </td><td> 29</td></tr>\n",
       "\t<tr><td>78 </td><td> 23</td></tr>\n",
       "\t<tr><td>79 </td><td> 22</td></tr>\n",
       "\t<tr><td>80 </td><td> 22</td></tr>\n",
       "\t<tr><td>81 </td><td> 20</td></tr>\n",
       "\t<tr><td>82 </td><td> 12</td></tr>\n",
       "\t<tr><td>83 </td><td>  6</td></tr>\n",
       "\t<tr><td>84 </td><td> 10</td></tr>\n",
       "\t<tr><td>85 </td><td>  3</td></tr>\n",
       "\t<tr><td>86 </td><td>  1</td></tr>\n",
       "\t<tr><td>87 </td><td>  1</td></tr>\n",
       "\t<tr><td>88 </td><td>  3</td></tr>\n",
       "\t<tr><td>90 </td><td> 43</td></tr>\n",
       "</tbody>\n",
       "</table>\n"
      ],
      "text/latex": [
       "\\begin{tabular}{r|ll}\n",
       " Idade & x\\\\\n",
       "\\hline\n",
       "\t 17  & 395\\\\\n",
       "\t 18  & 550\\\\\n",
       "\t 19  & 712\\\\\n",
       "\t 20  & 753\\\\\n",
       "\t 21  & 720\\\\\n",
       "\t 22  & 765\\\\\n",
       "\t 23  & 877\\\\\n",
       "\t 24  & 798\\\\\n",
       "\t 25  & 841\\\\\n",
       "\t 26  & 785\\\\\n",
       "\t 27  & 835\\\\\n",
       "\t 28  & 867\\\\\n",
       "\t 29  & 813\\\\\n",
       "\t 30  & 861\\\\\n",
       "\t 31  & 888\\\\\n",
       "\t 32  & 828\\\\\n",
       "\t 33  & 875\\\\\n",
       "\t 34  & 886\\\\\n",
       "\t 35  & 876\\\\\n",
       "\t 36  & 898\\\\\n",
       "\t 37  & 858\\\\\n",
       "\t 38  & 827\\\\\n",
       "\t 39  & 816\\\\\n",
       "\t 40  & 794\\\\\n",
       "\t 41  & 808\\\\\n",
       "\t 42  & 780\\\\\n",
       "\t 43  & 770\\\\\n",
       "\t 44  & 724\\\\\n",
       "\t 45  & 734\\\\\n",
       "\t 46  & 737\\\\\n",
       "\t ... & ...\\\\\n",
       "\t 60  & 312\\\\\n",
       "\t 61  & 300\\\\\n",
       "\t 62  & 258\\\\\n",
       "\t 63  & 230\\\\\n",
       "\t 64  & 208\\\\\n",
       "\t 65  & 178\\\\\n",
       "\t 66  & 150\\\\\n",
       "\t 67  & 151\\\\\n",
       "\t 68  & 120\\\\\n",
       "\t 69  & 108\\\\\n",
       "\t 70  &  89\\\\\n",
       "\t 71  &  72\\\\\n",
       "\t 72  &  67\\\\\n",
       "\t 73  &  64\\\\\n",
       "\t 74  &  51\\\\\n",
       "\t 75  &  45\\\\\n",
       "\t 76  &  46\\\\\n",
       "\t 77  &  29\\\\\n",
       "\t 78  &  23\\\\\n",
       "\t 79  &  22\\\\\n",
       "\t 80  &  22\\\\\n",
       "\t 81  &  20\\\\\n",
       "\t 82  &  12\\\\\n",
       "\t 83  &   6\\\\\n",
       "\t 84  &  10\\\\\n",
       "\t 85  &   3\\\\\n",
       "\t 86  &   1\\\\\n",
       "\t 87  &   1\\\\\n",
       "\t 88  &   3\\\\\n",
       "\t 90  &  43\\\\\n",
       "\\end{tabular}\n"
      ],
      "text/markdown": [
       "\n",
       "| Idade | x |\n",
       "|---|---|\n",
       "| 17  | 395 |\n",
       "| 18  | 550 |\n",
       "| 19  | 712 |\n",
       "| 20  | 753 |\n",
       "| 21  | 720 |\n",
       "| 22  | 765 |\n",
       "| 23  | 877 |\n",
       "| 24  | 798 |\n",
       "| 25  | 841 |\n",
       "| 26  | 785 |\n",
       "| 27  | 835 |\n",
       "| 28  | 867 |\n",
       "| 29  | 813 |\n",
       "| 30  | 861 |\n",
       "| 31  | 888 |\n",
       "| 32  | 828 |\n",
       "| 33  | 875 |\n",
       "| 34  | 886 |\n",
       "| 35  | 876 |\n",
       "| 36  | 898 |\n",
       "| 37  | 858 |\n",
       "| 38  | 827 |\n",
       "| 39  | 816 |\n",
       "| 40  | 794 |\n",
       "| 41  | 808 |\n",
       "| 42  | 780 |\n",
       "| 43  | 770 |\n",
       "| 44  | 724 |\n",
       "| 45  | 734 |\n",
       "| 46  | 737 |\n",
       "| ... | ... |\n",
       "| 60  | 312 |\n",
       "| 61  | 300 |\n",
       "| 62  | 258 |\n",
       "| 63  | 230 |\n",
       "| 64  | 208 |\n",
       "| 65  | 178 |\n",
       "| 66  | 150 |\n",
       "| 67  | 151 |\n",
       "| 68  | 120 |\n",
       "| 69  | 108 |\n",
       "| 70  |  89 |\n",
       "| 71  |  72 |\n",
       "| 72  |  67 |\n",
       "| 73  |  64 |\n",
       "| 74  |  51 |\n",
       "| 75  |  45 |\n",
       "| 76  |  46 |\n",
       "| 77  |  29 |\n",
       "| 78  |  23 |\n",
       "| 79  |  22 |\n",
       "| 80  |  22 |\n",
       "| 81  |  20 |\n",
       "| 82  |  12 |\n",
       "| 83  |   6 |\n",
       "| 84  |  10 |\n",
       "| 85  |   3 |\n",
       "| 86  |   1 |\n",
       "| 87  |   1 |\n",
       "| 88  |   3 |\n",
       "| 90  |  43 |\n",
       "\n"
      ],
      "text/plain": [
       "    Idade x  \n",
       "1   17    395\n",
       "2   18    550\n",
       "3   19    712\n",
       "4   20    753\n",
       "5   21    720\n",
       "6   22    765\n",
       "7   23    877\n",
       "8   24    798\n",
       "9   25    841\n",
       "10  26    785\n",
       "11  27    835\n",
       "12  28    867\n",
       "13  29    813\n",
       "14  30    861\n",
       "15  31    888\n",
       "16  32    828\n",
       "17  33    875\n",
       "18  34    886\n",
       "19  35    876\n",
       "20  36    898\n",
       "21  37    858\n",
       "22  38    827\n",
       "23  39    816\n",
       "24  40    794\n",
       "25  41    808\n",
       "26  42    780\n",
       "27  43    770\n",
       "28  44    724\n",
       "29  45    734\n",
       "30  46    737\n",
       "... ...   ...\n",
       "44  60    312\n",
       "45  61    300\n",
       "46  62    258\n",
       "47  63    230\n",
       "48  64    208\n",
       "49  65    178\n",
       "50  66    150\n",
       "51  67    151\n",
       "52  68    120\n",
       "53  69    108\n",
       "54  70     89\n",
       "55  71     72\n",
       "56  72     67\n",
       "57  73     64\n",
       "58  74     51\n",
       "59  75     45\n",
       "60  76     46\n",
       "61  77     29\n",
       "62  78     23\n",
       "63  79     22\n",
       "64  80     22\n",
       "65  81     20\n",
       "66  82     12\n",
       "67  83      6\n",
       "68  84     10\n",
       "69  85      3\n",
       "70  86      1\n",
       "71  87      1\n",
       "72  88      3\n",
       "73  90     43"
      ]
     },
     "metadata": {},
     "output_type": "display_data"
    }
   ],
   "source": [
    "#Agregação de dados\n",
    "\n",
    "#Contar a quantidade de registros por idade\n",
    "aggregate(base_dados[,4], list(Idade = base_dados$age), FUN = length)"
   ]
  },
  {
   "cell_type": "code",
   "execution_count": 25,
   "id": "4fc558fa",
   "metadata": {},
   "outputs": [
    {
     "data": {
      "text/html": [
       "<table>\n",
       "<thead><tr><th scope=col>Idade</th><th scope=col>Estado_Civil</th><th scope=col>x</th></tr></thead>\n",
       "<tbody>\n",
       "\t<tr><td>18       </td><td> Divorced</td><td>  1      </td></tr>\n",
       "\t<tr><td>19       </td><td> Divorced</td><td>  6      </td></tr>\n",
       "\t<tr><td>20       </td><td> Divorced</td><td>  7      </td></tr>\n",
       "\t<tr><td>21       </td><td> Divorced</td><td>  4      </td></tr>\n",
       "\t<tr><td>22       </td><td> Divorced</td><td> 16      </td></tr>\n",
       "\t<tr><td>23       </td><td> Divorced</td><td> 28      </td></tr>\n",
       "\t<tr><td>24       </td><td> Divorced</td><td> 29      </td></tr>\n",
       "\t<tr><td>25       </td><td> Divorced</td><td> 38      </td></tr>\n",
       "\t<tr><td>26       </td><td> Divorced</td><td> 48      </td></tr>\n",
       "\t<tr><td>27       </td><td> Divorced</td><td> 56      </td></tr>\n",
       "\t<tr><td>28       </td><td> Divorced</td><td> 71      </td></tr>\n",
       "\t<tr><td>29       </td><td> Divorced</td><td> 85      </td></tr>\n",
       "\t<tr><td>30       </td><td> Divorced</td><td> 95      </td></tr>\n",
       "\t<tr><td>31       </td><td> Divorced</td><td>117      </td></tr>\n",
       "\t<tr><td>32       </td><td> Divorced</td><td>122      </td></tr>\n",
       "\t<tr><td>33       </td><td> Divorced</td><td>126      </td></tr>\n",
       "\t<tr><td>34       </td><td> Divorced</td><td>121      </td></tr>\n",
       "\t<tr><td>35       </td><td> Divorced</td><td>147      </td></tr>\n",
       "\t<tr><td>36       </td><td> Divorced</td><td>163      </td></tr>\n",
       "\t<tr><td>37       </td><td> Divorced</td><td>146      </td></tr>\n",
       "\t<tr><td>38       </td><td> Divorced</td><td>146      </td></tr>\n",
       "\t<tr><td>39       </td><td> Divorced</td><td>166      </td></tr>\n",
       "\t<tr><td>40       </td><td> Divorced</td><td>166      </td></tr>\n",
       "\t<tr><td>41       </td><td> Divorced</td><td>171      </td></tr>\n",
       "\t<tr><td>42       </td><td> Divorced</td><td>173      </td></tr>\n",
       "\t<tr><td>43       </td><td> Divorced</td><td>165      </td></tr>\n",
       "\t<tr><td>44       </td><td> Divorced</td><td>156      </td></tr>\n",
       "\t<tr><td>45       </td><td> Divorced</td><td>178      </td></tr>\n",
       "\t<tr><td>46       </td><td> Divorced</td><td>162      </td></tr>\n",
       "\t<tr><td>47       </td><td> Divorced</td><td>144      </td></tr>\n",
       "\t<tr><td>...</td><td>...</td><td>...</td></tr>\n",
       "\t<tr><td>58      </td><td> Widowed</td><td>31      </td></tr>\n",
       "\t<tr><td>59      </td><td> Widowed</td><td>30      </td></tr>\n",
       "\t<tr><td>60      </td><td> Widowed</td><td>25      </td></tr>\n",
       "\t<tr><td>61      </td><td> Widowed</td><td>29      </td></tr>\n",
       "\t<tr><td>62      </td><td> Widowed</td><td>41      </td></tr>\n",
       "\t<tr><td>63      </td><td> Widowed</td><td>34      </td></tr>\n",
       "\t<tr><td>64      </td><td> Widowed</td><td>36      </td></tr>\n",
       "\t<tr><td>65      </td><td> Widowed</td><td>38      </td></tr>\n",
       "\t<tr><td>66      </td><td> Widowed</td><td>36      </td></tr>\n",
       "\t<tr><td>67      </td><td> Widowed</td><td>33      </td></tr>\n",
       "\t<tr><td>68      </td><td> Widowed</td><td>26      </td></tr>\n",
       "\t<tr><td>69      </td><td> Widowed</td><td>23      </td></tr>\n",
       "\t<tr><td>70      </td><td> Widowed</td><td>21      </td></tr>\n",
       "\t<tr><td>71      </td><td> Widowed</td><td>21      </td></tr>\n",
       "\t<tr><td>72      </td><td> Widowed</td><td>18      </td></tr>\n",
       "\t<tr><td>73      </td><td> Widowed</td><td>17      </td></tr>\n",
       "\t<tr><td>74      </td><td> Widowed</td><td>19      </td></tr>\n",
       "\t<tr><td>75      </td><td> Widowed</td><td>14      </td></tr>\n",
       "\t<tr><td>76      </td><td> Widowed</td><td>21      </td></tr>\n",
       "\t<tr><td>77      </td><td> Widowed</td><td> 6      </td></tr>\n",
       "\t<tr><td>78      </td><td> Widowed</td><td> 8      </td></tr>\n",
       "\t<tr><td>79      </td><td> Widowed</td><td> 6      </td></tr>\n",
       "\t<tr><td>80      </td><td> Widowed</td><td> 6      </td></tr>\n",
       "\t<tr><td>81      </td><td> Widowed</td><td> 9      </td></tr>\n",
       "\t<tr><td>82      </td><td> Widowed</td><td> 7      </td></tr>\n",
       "\t<tr><td>83      </td><td> Widowed</td><td> 3      </td></tr>\n",
       "\t<tr><td>84      </td><td> Widowed</td><td> 5      </td></tr>\n",
       "\t<tr><td>85      </td><td> Widowed</td><td> 2      </td></tr>\n",
       "\t<tr><td>87      </td><td> Widowed</td><td> 1      </td></tr>\n",
       "\t<tr><td>90      </td><td> Widowed</td><td> 6      </td></tr>\n",
       "</tbody>\n",
       "</table>\n"
      ],
      "text/latex": [
       "\\begin{tabular}{r|lll}\n",
       " Idade & Estado\\_Civil & x\\\\\n",
       "\\hline\n",
       "\t 18        &  Divorced &   1      \\\\\n",
       "\t 19        &  Divorced &   6      \\\\\n",
       "\t 20        &  Divorced &   7      \\\\\n",
       "\t 21        &  Divorced &   4      \\\\\n",
       "\t 22        &  Divorced &  16      \\\\\n",
       "\t 23        &  Divorced &  28      \\\\\n",
       "\t 24        &  Divorced &  29      \\\\\n",
       "\t 25        &  Divorced &  38      \\\\\n",
       "\t 26        &  Divorced &  48      \\\\\n",
       "\t 27        &  Divorced &  56      \\\\\n",
       "\t 28        &  Divorced &  71      \\\\\n",
       "\t 29        &  Divorced &  85      \\\\\n",
       "\t 30        &  Divorced &  95      \\\\\n",
       "\t 31        &  Divorced & 117      \\\\\n",
       "\t 32        &  Divorced & 122      \\\\\n",
       "\t 33        &  Divorced & 126      \\\\\n",
       "\t 34        &  Divorced & 121      \\\\\n",
       "\t 35        &  Divorced & 147      \\\\\n",
       "\t 36        &  Divorced & 163      \\\\\n",
       "\t 37        &  Divorced & 146      \\\\\n",
       "\t 38        &  Divorced & 146      \\\\\n",
       "\t 39        &  Divorced & 166      \\\\\n",
       "\t 40        &  Divorced & 166      \\\\\n",
       "\t 41        &  Divorced & 171      \\\\\n",
       "\t 42        &  Divorced & 173      \\\\\n",
       "\t 43        &  Divorced & 165      \\\\\n",
       "\t 44        &  Divorced & 156      \\\\\n",
       "\t 45        &  Divorced & 178      \\\\\n",
       "\t 46        &  Divorced & 162      \\\\\n",
       "\t 47        &  Divorced & 144      \\\\\n",
       "\t ... & ... & ...\\\\\n",
       "\t 58       &  Widowed & 31      \\\\\n",
       "\t 59       &  Widowed & 30      \\\\\n",
       "\t 60       &  Widowed & 25      \\\\\n",
       "\t 61       &  Widowed & 29      \\\\\n",
       "\t 62       &  Widowed & 41      \\\\\n",
       "\t 63       &  Widowed & 34      \\\\\n",
       "\t 64       &  Widowed & 36      \\\\\n",
       "\t 65       &  Widowed & 38      \\\\\n",
       "\t 66       &  Widowed & 36      \\\\\n",
       "\t 67       &  Widowed & 33      \\\\\n",
       "\t 68       &  Widowed & 26      \\\\\n",
       "\t 69       &  Widowed & 23      \\\\\n",
       "\t 70       &  Widowed & 21      \\\\\n",
       "\t 71       &  Widowed & 21      \\\\\n",
       "\t 72       &  Widowed & 18      \\\\\n",
       "\t 73       &  Widowed & 17      \\\\\n",
       "\t 74       &  Widowed & 19      \\\\\n",
       "\t 75       &  Widowed & 14      \\\\\n",
       "\t 76       &  Widowed & 21      \\\\\n",
       "\t 77       &  Widowed &  6      \\\\\n",
       "\t 78       &  Widowed &  8      \\\\\n",
       "\t 79       &  Widowed &  6      \\\\\n",
       "\t 80       &  Widowed &  6      \\\\\n",
       "\t 81       &  Widowed &  9      \\\\\n",
       "\t 82       &  Widowed &  7      \\\\\n",
       "\t 83       &  Widowed &  3      \\\\\n",
       "\t 84       &  Widowed &  5      \\\\\n",
       "\t 85       &  Widowed &  2      \\\\\n",
       "\t 87       &  Widowed &  1      \\\\\n",
       "\t 90       &  Widowed &  6      \\\\\n",
       "\\end{tabular}\n"
      ],
      "text/markdown": [
       "\n",
       "| Idade | Estado_Civil | x |\n",
       "|---|---|---|\n",
       "| 18        |  Divorced |   1       |\n",
       "| 19        |  Divorced |   6       |\n",
       "| 20        |  Divorced |   7       |\n",
       "| 21        |  Divorced |   4       |\n",
       "| 22        |  Divorced |  16       |\n",
       "| 23        |  Divorced |  28       |\n",
       "| 24        |  Divorced |  29       |\n",
       "| 25        |  Divorced |  38       |\n",
       "| 26        |  Divorced |  48       |\n",
       "| 27        |  Divorced |  56       |\n",
       "| 28        |  Divorced |  71       |\n",
       "| 29        |  Divorced |  85       |\n",
       "| 30        |  Divorced |  95       |\n",
       "| 31        |  Divorced | 117       |\n",
       "| 32        |  Divorced | 122       |\n",
       "| 33        |  Divorced | 126       |\n",
       "| 34        |  Divorced | 121       |\n",
       "| 35        |  Divorced | 147       |\n",
       "| 36        |  Divorced | 163       |\n",
       "| 37        |  Divorced | 146       |\n",
       "| 38        |  Divorced | 146       |\n",
       "| 39        |  Divorced | 166       |\n",
       "| 40        |  Divorced | 166       |\n",
       "| 41        |  Divorced | 171       |\n",
       "| 42        |  Divorced | 173       |\n",
       "| 43        |  Divorced | 165       |\n",
       "| 44        |  Divorced | 156       |\n",
       "| 45        |  Divorced | 178       |\n",
       "| 46        |  Divorced | 162       |\n",
       "| 47        |  Divorced | 144       |\n",
       "| ... | ... | ... |\n",
       "| 58       |  Widowed | 31       |\n",
       "| 59       |  Widowed | 30       |\n",
       "| 60       |  Widowed | 25       |\n",
       "| 61       |  Widowed | 29       |\n",
       "| 62       |  Widowed | 41       |\n",
       "| 63       |  Widowed | 34       |\n",
       "| 64       |  Widowed | 36       |\n",
       "| 65       |  Widowed | 38       |\n",
       "| 66       |  Widowed | 36       |\n",
       "| 67       |  Widowed | 33       |\n",
       "| 68       |  Widowed | 26       |\n",
       "| 69       |  Widowed | 23       |\n",
       "| 70       |  Widowed | 21       |\n",
       "| 71       |  Widowed | 21       |\n",
       "| 72       |  Widowed | 18       |\n",
       "| 73       |  Widowed | 17       |\n",
       "| 74       |  Widowed | 19       |\n",
       "| 75       |  Widowed | 14       |\n",
       "| 76       |  Widowed | 21       |\n",
       "| 77       |  Widowed |  6       |\n",
       "| 78       |  Widowed |  8       |\n",
       "| 79       |  Widowed |  6       |\n",
       "| 80       |  Widowed |  6       |\n",
       "| 81       |  Widowed |  9       |\n",
       "| 82       |  Widowed |  7       |\n",
       "| 83       |  Widowed |  3       |\n",
       "| 84       |  Widowed |  5       |\n",
       "| 85       |  Widowed |  2       |\n",
       "| 87       |  Widowed |  1       |\n",
       "| 90       |  Widowed |  6       |\n",
       "\n"
      ],
      "text/plain": [
       "    Idade Estado_Civil x  \n",
       "1   18     Divorced      1\n",
       "2   19     Divorced      6\n",
       "3   20     Divorced      7\n",
       "4   21     Divorced      4\n",
       "5   22     Divorced     16\n",
       "6   23     Divorced     28\n",
       "7   24     Divorced     29\n",
       "8   25     Divorced     38\n",
       "9   26     Divorced     48\n",
       "10  27     Divorced     56\n",
       "11  28     Divorced     71\n",
       "12  29     Divorced     85\n",
       "13  30     Divorced     95\n",
       "14  31     Divorced    117\n",
       "15  32     Divorced    122\n",
       "16  33     Divorced    126\n",
       "17  34     Divorced    121\n",
       "18  35     Divorced    147\n",
       "19  36     Divorced    163\n",
       "20  37     Divorced    146\n",
       "21  38     Divorced    146\n",
       "22  39     Divorced    166\n",
       "23  40     Divorced    166\n",
       "24  41     Divorced    171\n",
       "25  42     Divorced    173\n",
       "26  43     Divorced    165\n",
       "27  44     Divorced    156\n",
       "28  45     Divorced    178\n",
       "29  46     Divorced    162\n",
       "30  47     Divorced    144\n",
       "... ...   ...          ...\n",
       "367 58     Widowed     31 \n",
       "368 59     Widowed     30 \n",
       "369 60     Widowed     25 \n",
       "370 61     Widowed     29 \n",
       "371 62     Widowed     41 \n",
       "372 63     Widowed     34 \n",
       "373 64     Widowed     36 \n",
       "374 65     Widowed     38 \n",
       "375 66     Widowed     36 \n",
       "376 67     Widowed     33 \n",
       "377 68     Widowed     26 \n",
       "378 69     Widowed     23 \n",
       "379 70     Widowed     21 \n",
       "380 71     Widowed     21 \n",
       "381 72     Widowed     18 \n",
       "382 73     Widowed     17 \n",
       "383 74     Widowed     19 \n",
       "384 75     Widowed     14 \n",
       "385 76     Widowed     21 \n",
       "386 77     Widowed      6 \n",
       "387 78     Widowed      8 \n",
       "388 79     Widowed      6 \n",
       "389 80     Widowed      6 \n",
       "390 81     Widowed      9 \n",
       "391 82     Widowed      7 \n",
       "392 83     Widowed      3 \n",
       "393 84     Widowed      5 \n",
       "394 85     Widowed      2 \n",
       "395 87     Widowed      1 \n",
       "396 90     Widowed      6 "
      ]
     },
     "metadata": {},
     "output_type": "display_data"
    }
   ],
   "source": [
    "aggregate(base_dados[,4], list(Idade = base_dados$age, Estado_Civil = base_dados$'marital-status'), FUN = length)"
   ]
  },
  {
   "cell_type": "code",
   "execution_count": 26,
   "id": "d69b4f31",
   "metadata": {},
   "outputs": [
    {
     "data": {
      "text/plain": [
       "    \n",
       "      Divorced  Married-AF-spouse  Married-civ-spouse  Married-spouse-absent\n",
       "  17         0                  0                   2                      0\n",
       "  18         1                  0                   7                      1\n",
       "  19         6                  2                  15                      3\n",
       "  20         7                  0                  38                      5\n",
       "  21         4                  0                  53                      6\n",
       "  22        16                  1                  74                      9\n",
       "  23        28                  0                 109                      4\n",
       "  24        29                  1                 173                      7\n",
       "  25        38                  0                 204                     13\n",
       "  26        48                  2                 234                      7\n",
       "  27        56                  1                 270                      8\n",
       "  28        71                  1                 333                     11\n",
       "  29        85                  3                 340                     15\n",
       "  30        95                  3                 394                     15\n",
       "  31       117                  0                 415                     10\n",
       "  32       122                  1                 420                      9\n",
       "  33       126                  0                 428                     15\n",
       "  34       121                  1                 466                     12\n",
       "  35       147                  2                 459                     13\n",
       "  36       163                  0                 476                      7\n",
       "  37       146                  0                 497                     10\n",
       "  38       146                  1                 499                     10\n",
       "  39       166                  0                 448                      9\n",
       "  40       166                  1                 432                     14\n",
       "  41       171                  0                 470                     12\n",
       "  42       173                  0                 448                     14\n",
       "  43       165                  1                 459                     14\n",
       "  44       156                  0                 431                     10\n",
       "  45       178                  0                 420                     10\n",
       "  46       162                  0                 435                     14\n",
       "  47       144                  1                 450                     14\n",
       "  48       123                  0                 320                     13\n",
       "  49       127                  0                 345                     11\n",
       "  50       124                  0                 403                     11\n",
       "  51       108                  0                 386                      8\n",
       "  52        90                  0                 301                     12\n",
       "  53        95                  0                 289                      5\n",
       "  54        69                  0                 273                      4\n",
       "  55        84                  0                 257                      4\n",
       "  56        73                  0                 223                      7\n",
       "  57        62                  0                 227                      5\n",
       "  58        69                  0                 229                      3\n",
       "  59        57                  0                 227                      4\n",
       "  60        54                  0                 214                      5\n",
       "  61        44                  0                 203                      6\n",
       "  62        37                  0                 160                      0\n",
       "  63        29                  0                 145                      3\n",
       "  64        23                  0                 127                      1\n",
       "  65        23                  0                 107                      0\n",
       "  66        14                  0                  89                      1\n",
       "  67        21                  0                  88                      1\n",
       "  68        14                  0                  68                      2\n",
       "  69        10                  0                  65                      1\n",
       "  70         9                  0                  53                      0\n",
       "  71         6                  0                  36                      0\n",
       "  72         7                  0                  36                      2\n",
       "  73         2                  0                  41                      1\n",
       "  74         5                  0                  24                      1\n",
       "  75         2                  1                  22                      2\n",
       "  76         2                  0                  21                      0\n",
       "  77         1                  0                  17                      2\n",
       "  78         0                  0                  13                      0\n",
       "  79         0                  0                  15                      1\n",
       "  80         0                  0                  12                      1\n",
       "  81         3                  0                   8                      0\n",
       "  82         0                  0                   4                      0\n",
       "  83         1                  0                   2                      0\n",
       "  84         0                  0                   4                      0\n",
       "  85         0                  0                   1                      0\n",
       "  86         0                  0                   0                      0\n",
       "  87         0                  0                   0                      0\n",
       "  88         1                  0                   2                      0\n",
       "  90         1                  0                  20                      0\n",
       "    \n",
       "      Never-married  Separated  Widowed\n",
       "  17            393          0        0\n",
       "  18            539          1        1\n",
       "  19            681          5        0\n",
       "  20            695          8        0\n",
       "  21            651          6        0\n",
       "  22            651         12        2\n",
       "  23            717         19        0\n",
       "  24            567         21        0\n",
       "  25            562         23        1\n",
       "  26            468         24        2\n",
       "  27            477         21        2\n",
       "  28            418         31        2\n",
       "  29            347         22        1\n",
       "  30            320         30        4\n",
       "  31            305         34        7\n",
       "  32            245         29        2\n",
       "  33            258         45        3\n",
       "  34            242         42        2\n",
       "  35            210         35       10\n",
       "  36            198         40       14\n",
       "  37            158         41        6\n",
       "  38            135         30        6\n",
       "  39            151         32       10\n",
       "  40            135         39        7\n",
       "  41            107         35       13\n",
       "  42             94         38       13\n",
       "  43             90         35        6\n",
       "  44             93         25        9\n",
       "  45             80         23       23\n",
       "  46             76         34       16\n",
       "  47             60         25       14\n",
       "  48             47         20       20\n",
       "  49             53         20       21\n",
       "  50             33         18       13\n",
       "  51             45         22       26\n",
       "  52             35         19       21\n",
       "  53             35         13       27\n",
       "  54             33         11       25\n",
       "  55             24         14       36\n",
       "  56             27         11       25\n",
       "  57             22         11       31\n",
       "  58             30          4       31\n",
       "  59             24         13       30\n",
       "  60              8          6       25\n",
       "  61             14          4       29\n",
       "  62             15          5       41\n",
       "  63             13          6       34\n",
       "  64             15          6       36\n",
       "  65              7          3       38\n",
       "  66              8          2       36\n",
       "  67              7          1       33\n",
       "  68              8          2       26\n",
       "  69              6          3       23\n",
       "  70              6          0       21\n",
       "  71              8          1       21\n",
       "  72              2          2       18\n",
       "  73              3          0       17\n",
       "  74              1          1       19\n",
       "  75              4          0       14\n",
       "  76              2          0       21\n",
       "  77              3          0        6\n",
       "  78              2          0        8\n",
       "  79              0          0        6\n",
       "  80              3          0        6\n",
       "  81              0          0        9\n",
       "  82              1          0        7\n",
       "  83              0          0        3\n",
       "  84              1          0        5\n",
       "  85              0          0        2\n",
       "  86              1          0        0\n",
       "  87              0          0        1\n",
       "  88              0          0        0\n",
       "  90             14          2        6"
      ]
     },
     "metadata": {},
     "output_type": "display_data"
    }
   ],
   "source": [
    "table(base_dados$age, base_dados$'marital-status')"
   ]
  },
  {
   "cell_type": "code",
   "execution_count": 27,
   "id": "be49bdcb",
   "metadata": {},
   "outputs": [
    {
     "data": {
      "text/html": [
       "<table>\n",
       "<thead><tr><th scope=col>Idade</th><th scope=col>Pais</th><th scope=col>Estado_Civil</th><th scope=col>x</th></tr></thead>\n",
       "<tbody>\n",
       "\t<tr><td>28       </td><td> ?       </td><td> Divorced</td><td>1        </td></tr>\n",
       "\t<tr><td>32       </td><td> ?       </td><td> Divorced</td><td>1        </td></tr>\n",
       "\t<tr><td>34       </td><td> ?       </td><td> Divorced</td><td>1        </td></tr>\n",
       "\t<tr><td>35       </td><td> ?       </td><td> Divorced</td><td>3        </td></tr>\n",
       "\t<tr><td>36       </td><td> ?       </td><td> Divorced</td><td>3        </td></tr>\n",
       "\t<tr><td>37       </td><td> ?       </td><td> Divorced</td><td>4        </td></tr>\n",
       "\t<tr><td>38       </td><td> ?       </td><td> Divorced</td><td>3        </td></tr>\n",
       "\t<tr><td>39       </td><td> ?       </td><td> Divorced</td><td>2        </td></tr>\n",
       "\t<tr><td>40       </td><td> ?       </td><td> Divorced</td><td>1        </td></tr>\n",
       "\t<tr><td>41       </td><td> ?       </td><td> Divorced</td><td>2        </td></tr>\n",
       "\t<tr><td>42       </td><td> ?       </td><td> Divorced</td><td>3        </td></tr>\n",
       "\t<tr><td>43       </td><td> ?       </td><td> Divorced</td><td>2        </td></tr>\n",
       "\t<tr><td>44       </td><td> ?       </td><td> Divorced</td><td>2        </td></tr>\n",
       "\t<tr><td>45       </td><td> ?       </td><td> Divorced</td><td>2        </td></tr>\n",
       "\t<tr><td>46       </td><td> ?       </td><td> Divorced</td><td>3        </td></tr>\n",
       "\t<tr><td>48       </td><td> ?       </td><td> Divorced</td><td>2        </td></tr>\n",
       "\t<tr><td>50       </td><td> ?       </td><td> Divorced</td><td>2        </td></tr>\n",
       "\t<tr><td>52       </td><td> ?       </td><td> Divorced</td><td>1        </td></tr>\n",
       "\t<tr><td>53       </td><td> ?       </td><td> Divorced</td><td>1        </td></tr>\n",
       "\t<tr><td>54       </td><td> ?       </td><td> Divorced</td><td>1        </td></tr>\n",
       "\t<tr><td>55       </td><td> ?       </td><td> Divorced</td><td>1        </td></tr>\n",
       "\t<tr><td>56       </td><td> ?       </td><td> Divorced</td><td>1        </td></tr>\n",
       "\t<tr><td>60       </td><td> ?       </td><td> Divorced</td><td>1        </td></tr>\n",
       "\t<tr><td>61       </td><td> ?       </td><td> Divorced</td><td>1        </td></tr>\n",
       "\t<tr><td>64       </td><td> ?       </td><td> Divorced</td><td>1        </td></tr>\n",
       "\t<tr><td>65       </td><td> ?       </td><td> Divorced</td><td>2        </td></tr>\n",
       "\t<tr><td>66       </td><td> ?       </td><td> Divorced</td><td>1        </td></tr>\n",
       "\t<tr><td>81       </td><td> ?       </td><td> Divorced</td><td>1        </td></tr>\n",
       "\t<tr><td>28       </td><td> Canada  </td><td> Divorced</td><td>1        </td></tr>\n",
       "\t<tr><td>30       </td><td> Canada  </td><td> Divorced</td><td>1        </td></tr>\n",
       "\t<tr><td>...</td><td>...</td><td>...</td><td>...</td></tr>\n",
       "\t<tr><td>58            </td><td> United-States</td><td> Widowed      </td><td>29            </td></tr>\n",
       "\t<tr><td>59            </td><td> United-States</td><td> Widowed      </td><td>27            </td></tr>\n",
       "\t<tr><td>60            </td><td> United-States</td><td> Widowed      </td><td>23            </td></tr>\n",
       "\t<tr><td>61            </td><td> United-States</td><td> Widowed      </td><td>28            </td></tr>\n",
       "\t<tr><td>62            </td><td> United-States</td><td> Widowed      </td><td>38            </td></tr>\n",
       "\t<tr><td>63            </td><td> United-States</td><td> Widowed      </td><td>30            </td></tr>\n",
       "\t<tr><td>64            </td><td> United-States</td><td> Widowed      </td><td>33            </td></tr>\n",
       "\t<tr><td>65            </td><td> United-States</td><td> Widowed      </td><td>35            </td></tr>\n",
       "\t<tr><td>66            </td><td> United-States</td><td> Widowed      </td><td>32            </td></tr>\n",
       "\t<tr><td>67            </td><td> United-States</td><td> Widowed      </td><td>29            </td></tr>\n",
       "\t<tr><td>68            </td><td> United-States</td><td> Widowed      </td><td>24            </td></tr>\n",
       "\t<tr><td>69            </td><td> United-States</td><td> Widowed      </td><td>22            </td></tr>\n",
       "\t<tr><td>70            </td><td> United-States</td><td> Widowed      </td><td>18            </td></tr>\n",
       "\t<tr><td>71            </td><td> United-States</td><td> Widowed      </td><td>19            </td></tr>\n",
       "\t<tr><td>72            </td><td> United-States</td><td> Widowed      </td><td>16            </td></tr>\n",
       "\t<tr><td>73            </td><td> United-States</td><td> Widowed      </td><td>16            </td></tr>\n",
       "\t<tr><td>74            </td><td> United-States</td><td> Widowed      </td><td>17            </td></tr>\n",
       "\t<tr><td>75            </td><td> United-States</td><td> Widowed      </td><td>12            </td></tr>\n",
       "\t<tr><td>76            </td><td> United-States</td><td> Widowed      </td><td>21            </td></tr>\n",
       "\t<tr><td>77            </td><td> United-States</td><td> Widowed      </td><td> 6            </td></tr>\n",
       "\t<tr><td>78            </td><td> United-States</td><td> Widowed      </td><td> 7            </td></tr>\n",
       "\t<tr><td>79            </td><td> United-States</td><td> Widowed      </td><td> 6            </td></tr>\n",
       "\t<tr><td>80            </td><td> United-States</td><td> Widowed      </td><td> 6            </td></tr>\n",
       "\t<tr><td>81            </td><td> United-States</td><td> Widowed      </td><td> 6            </td></tr>\n",
       "\t<tr><td>82            </td><td> United-States</td><td> Widowed      </td><td> 7            </td></tr>\n",
       "\t<tr><td>83            </td><td> United-States</td><td> Widowed      </td><td> 3            </td></tr>\n",
       "\t<tr><td>84            </td><td> United-States</td><td> Widowed      </td><td> 5            </td></tr>\n",
       "\t<tr><td>85            </td><td> United-States</td><td> Widowed      </td><td> 2            </td></tr>\n",
       "\t<tr><td>87            </td><td> United-States</td><td> Widowed      </td><td> 1            </td></tr>\n",
       "\t<tr><td>90            </td><td> United-States</td><td> Widowed      </td><td> 6            </td></tr>\n",
       "</tbody>\n",
       "</table>\n"
      ],
      "text/latex": [
       "\\begin{tabular}{r|llll}\n",
       " Idade & Pais & Estado\\_Civil & x\\\\\n",
       "\\hline\n",
       "\t 28        &  ?        &  Divorced & 1        \\\\\n",
       "\t 32        &  ?        &  Divorced & 1        \\\\\n",
       "\t 34        &  ?        &  Divorced & 1        \\\\\n",
       "\t 35        &  ?        &  Divorced & 3        \\\\\n",
       "\t 36        &  ?        &  Divorced & 3        \\\\\n",
       "\t 37        &  ?        &  Divorced & 4        \\\\\n",
       "\t 38        &  ?        &  Divorced & 3        \\\\\n",
       "\t 39        &  ?        &  Divorced & 2        \\\\\n",
       "\t 40        &  ?        &  Divorced & 1        \\\\\n",
       "\t 41        &  ?        &  Divorced & 2        \\\\\n",
       "\t 42        &  ?        &  Divorced & 3        \\\\\n",
       "\t 43        &  ?        &  Divorced & 2        \\\\\n",
       "\t 44        &  ?        &  Divorced & 2        \\\\\n",
       "\t 45        &  ?        &  Divorced & 2        \\\\\n",
       "\t 46        &  ?        &  Divorced & 3        \\\\\n",
       "\t 48        &  ?        &  Divorced & 2        \\\\\n",
       "\t 50        &  ?        &  Divorced & 2        \\\\\n",
       "\t 52        &  ?        &  Divorced & 1        \\\\\n",
       "\t 53        &  ?        &  Divorced & 1        \\\\\n",
       "\t 54        &  ?        &  Divorced & 1        \\\\\n",
       "\t 55        &  ?        &  Divorced & 1        \\\\\n",
       "\t 56        &  ?        &  Divorced & 1        \\\\\n",
       "\t 60        &  ?        &  Divorced & 1        \\\\\n",
       "\t 61        &  ?        &  Divorced & 1        \\\\\n",
       "\t 64        &  ?        &  Divorced & 1        \\\\\n",
       "\t 65        &  ?        &  Divorced & 2        \\\\\n",
       "\t 66        &  ?        &  Divorced & 1        \\\\\n",
       "\t 81        &  ?        &  Divorced & 1        \\\\\n",
       "\t 28        &  Canada   &  Divorced & 1        \\\\\n",
       "\t 30        &  Canada   &  Divorced & 1        \\\\\n",
       "\t ... & ... & ... & ...\\\\\n",
       "\t 58             &  United-States &  Widowed       & 29            \\\\\n",
       "\t 59             &  United-States &  Widowed       & 27            \\\\\n",
       "\t 60             &  United-States &  Widowed       & 23            \\\\\n",
       "\t 61             &  United-States &  Widowed       & 28            \\\\\n",
       "\t 62             &  United-States &  Widowed       & 38            \\\\\n",
       "\t 63             &  United-States &  Widowed       & 30            \\\\\n",
       "\t 64             &  United-States &  Widowed       & 33            \\\\\n",
       "\t 65             &  United-States &  Widowed       & 35            \\\\\n",
       "\t 66             &  United-States &  Widowed       & 32            \\\\\n",
       "\t 67             &  United-States &  Widowed       & 29            \\\\\n",
       "\t 68             &  United-States &  Widowed       & 24            \\\\\n",
       "\t 69             &  United-States &  Widowed       & 22            \\\\\n",
       "\t 70             &  United-States &  Widowed       & 18            \\\\\n",
       "\t 71             &  United-States &  Widowed       & 19            \\\\\n",
       "\t 72             &  United-States &  Widowed       & 16            \\\\\n",
       "\t 73             &  United-States &  Widowed       & 16            \\\\\n",
       "\t 74             &  United-States &  Widowed       & 17            \\\\\n",
       "\t 75             &  United-States &  Widowed       & 12            \\\\\n",
       "\t 76             &  United-States &  Widowed       & 21            \\\\\n",
       "\t 77             &  United-States &  Widowed       &  6            \\\\\n",
       "\t 78             &  United-States &  Widowed       &  7            \\\\\n",
       "\t 79             &  United-States &  Widowed       &  6            \\\\\n",
       "\t 80             &  United-States &  Widowed       &  6            \\\\\n",
       "\t 81             &  United-States &  Widowed       &  6            \\\\\n",
       "\t 82             &  United-States &  Widowed       &  7            \\\\\n",
       "\t 83             &  United-States &  Widowed       &  3            \\\\\n",
       "\t 84             &  United-States &  Widowed       &  5            \\\\\n",
       "\t 85             &  United-States &  Widowed       &  2            \\\\\n",
       "\t 87             &  United-States &  Widowed       &  1            \\\\\n",
       "\t 90             &  United-States &  Widowed       &  6            \\\\\n",
       "\\end{tabular}\n"
      ],
      "text/markdown": [
       "\n",
       "| Idade | Pais | Estado_Civil | x |\n",
       "|---|---|---|---|\n",
       "| 28        |  ?        |  Divorced | 1         |\n",
       "| 32        |  ?        |  Divorced | 1         |\n",
       "| 34        |  ?        |  Divorced | 1         |\n",
       "| 35        |  ?        |  Divorced | 3         |\n",
       "| 36        |  ?        |  Divorced | 3         |\n",
       "| 37        |  ?        |  Divorced | 4         |\n",
       "| 38        |  ?        |  Divorced | 3         |\n",
       "| 39        |  ?        |  Divorced | 2         |\n",
       "| 40        |  ?        |  Divorced | 1         |\n",
       "| 41        |  ?        |  Divorced | 2         |\n",
       "| 42        |  ?        |  Divorced | 3         |\n",
       "| 43        |  ?        |  Divorced | 2         |\n",
       "| 44        |  ?        |  Divorced | 2         |\n",
       "| 45        |  ?        |  Divorced | 2         |\n",
       "| 46        |  ?        |  Divorced | 3         |\n",
       "| 48        |  ?        |  Divorced | 2         |\n",
       "| 50        |  ?        |  Divorced | 2         |\n",
       "| 52        |  ?        |  Divorced | 1         |\n",
       "| 53        |  ?        |  Divorced | 1         |\n",
       "| 54        |  ?        |  Divorced | 1         |\n",
       "| 55        |  ?        |  Divorced | 1         |\n",
       "| 56        |  ?        |  Divorced | 1         |\n",
       "| 60        |  ?        |  Divorced | 1         |\n",
       "| 61        |  ?        |  Divorced | 1         |\n",
       "| 64        |  ?        |  Divorced | 1         |\n",
       "| 65        |  ?        |  Divorced | 2         |\n",
       "| 66        |  ?        |  Divorced | 1         |\n",
       "| 81        |  ?        |  Divorced | 1         |\n",
       "| 28        |  Canada   |  Divorced | 1         |\n",
       "| 30        |  Canada   |  Divorced | 1         |\n",
       "| ... | ... | ... | ... |\n",
       "| 58             |  United-States |  Widowed       | 29             |\n",
       "| 59             |  United-States |  Widowed       | 27             |\n",
       "| 60             |  United-States |  Widowed       | 23             |\n",
       "| 61             |  United-States |  Widowed       | 28             |\n",
       "| 62             |  United-States |  Widowed       | 38             |\n",
       "| 63             |  United-States |  Widowed       | 30             |\n",
       "| 64             |  United-States |  Widowed       | 33             |\n",
       "| 65             |  United-States |  Widowed       | 35             |\n",
       "| 66             |  United-States |  Widowed       | 32             |\n",
       "| 67             |  United-States |  Widowed       | 29             |\n",
       "| 68             |  United-States |  Widowed       | 24             |\n",
       "| 69             |  United-States |  Widowed       | 22             |\n",
       "| 70             |  United-States |  Widowed       | 18             |\n",
       "| 71             |  United-States |  Widowed       | 19             |\n",
       "| 72             |  United-States |  Widowed       | 16             |\n",
       "| 73             |  United-States |  Widowed       | 16             |\n",
       "| 74             |  United-States |  Widowed       | 17             |\n",
       "| 75             |  United-States |  Widowed       | 12             |\n",
       "| 76             |  United-States |  Widowed       | 21             |\n",
       "| 77             |  United-States |  Widowed       |  6             |\n",
       "| 78             |  United-States |  Widowed       |  7             |\n",
       "| 79             |  United-States |  Widowed       |  6             |\n",
       "| 80             |  United-States |  Widowed       |  6             |\n",
       "| 81             |  United-States |  Widowed       |  6             |\n",
       "| 82             |  United-States |  Widowed       |  7             |\n",
       "| 83             |  United-States |  Widowed       |  3             |\n",
       "| 84             |  United-States |  Widowed       |  5             |\n",
       "| 85             |  United-States |  Widowed       |  2             |\n",
       "| 87             |  United-States |  Widowed       |  1             |\n",
       "| 90             |  United-States |  Widowed       |  6             |\n",
       "\n"
      ],
      "text/plain": [
       "     Idade Pais           Estado_Civil x  \n",
       "1    28     ?              Divorced    1  \n",
       "2    32     ?              Divorced    1  \n",
       "3    34     ?              Divorced    1  \n",
       "4    35     ?              Divorced    3  \n",
       "5    36     ?              Divorced    3  \n",
       "6    37     ?              Divorced    4  \n",
       "7    38     ?              Divorced    3  \n",
       "8    39     ?              Divorced    2  \n",
       "9    40     ?              Divorced    1  \n",
       "10   41     ?              Divorced    2  \n",
       "11   42     ?              Divorced    3  \n",
       "12   43     ?              Divorced    2  \n",
       "13   44     ?              Divorced    2  \n",
       "14   45     ?              Divorced    2  \n",
       "15   46     ?              Divorced    3  \n",
       "16   48     ?              Divorced    2  \n",
       "17   50     ?              Divorced    2  \n",
       "18   52     ?              Divorced    1  \n",
       "19   53     ?              Divorced    1  \n",
       "20   54     ?              Divorced    1  \n",
       "21   55     ?              Divorced    1  \n",
       "22   56     ?              Divorced    1  \n",
       "23   60     ?              Divorced    1  \n",
       "24   61     ?              Divorced    1  \n",
       "25   64     ?              Divorced    1  \n",
       "26   65     ?              Divorced    2  \n",
       "27   66     ?              Divorced    1  \n",
       "28   81     ?              Divorced    1  \n",
       "29   28     Canada         Divorced    1  \n",
       "30   30     Canada         Divorced    1  \n",
       "...  ...   ...            ...          ...\n",
       "2217 58     United-States  Widowed     29 \n",
       "2218 59     United-States  Widowed     27 \n",
       "2219 60     United-States  Widowed     23 \n",
       "2220 61     United-States  Widowed     28 \n",
       "2221 62     United-States  Widowed     38 \n",
       "2222 63     United-States  Widowed     30 \n",
       "2223 64     United-States  Widowed     33 \n",
       "2224 65     United-States  Widowed     35 \n",
       "2225 66     United-States  Widowed     32 \n",
       "2226 67     United-States  Widowed     29 \n",
       "2227 68     United-States  Widowed     24 \n",
       "2228 69     United-States  Widowed     22 \n",
       "2229 70     United-States  Widowed     18 \n",
       "2230 71     United-States  Widowed     19 \n",
       "2231 72     United-States  Widowed     16 \n",
       "2232 73     United-States  Widowed     16 \n",
       "2233 74     United-States  Widowed     17 \n",
       "2234 75     United-States  Widowed     12 \n",
       "2235 76     United-States  Widowed     21 \n",
       "2236 77     United-States  Widowed      6 \n",
       "2237 78     United-States  Widowed      7 \n",
       "2238 79     United-States  Widowed      6 \n",
       "2239 80     United-States  Widowed      6 \n",
       "2240 81     United-States  Widowed      6 \n",
       "2241 82     United-States  Widowed      7 \n",
       "2242 83     United-States  Widowed      3 \n",
       "2243 84     United-States  Widowed      5 \n",
       "2244 85     United-States  Widowed      2 \n",
       "2245 87     United-States  Widowed      1 \n",
       "2246 90     United-States  Widowed      6 "
      ]
     },
     "metadata": {},
     "output_type": "display_data"
    }
   ],
   "source": [
    "#A função table não serve para mais de duas colunas\n",
    "\n",
    "aggregate(base_dados[,4], list(Idade = base_dados$age\n",
    "                               , Pais = base_dados$'native-country' \n",
    "                               , Estado_Civil = base_dados$'marital-status'), FUN = length)"
   ]
  },
  {
   "cell_type": "code",
   "execution_count": 31,
   "id": "925c61a3",
   "metadata": {},
   "outputs": [
    {
     "data": {
      "text/html": [
       "<table>\n",
       "<thead><tr><th scope=col>Educacao</th><th scope=col>x</th></tr></thead>\n",
       "<tbody>\n",
       "\t<tr><td> 10th        </td><td>37.42980     </td></tr>\n",
       "\t<tr><td> 11th        </td><td>32.35574     </td></tr>\n",
       "\t<tr><td> 12th        </td><td>32.00000     </td></tr>\n",
       "\t<tr><td> 1st-4th     </td><td>46.14286     </td></tr>\n",
       "\t<tr><td> 5th-6th     </td><td>42.88589     </td></tr>\n",
       "\t<tr><td> 7th-8th     </td><td>48.44582     </td></tr>\n",
       "\t<tr><td> 9th         </td><td>41.06031     </td></tr>\n",
       "\t<tr><td> Assoc-acdm  </td><td>37.38144     </td></tr>\n",
       "\t<tr><td> Assoc-voc   </td><td>38.55355     </td></tr>\n",
       "\t<tr><td> Bachelors   </td><td>38.90495     </td></tr>\n",
       "\t<tr><td> Doctorate   </td><td>47.70218     </td></tr>\n",
       "\t<tr><td> HS-grad     </td><td>38.97448     </td></tr>\n",
       "\t<tr><td> Masters     </td><td>44.04991     </td></tr>\n",
       "\t<tr><td> Preschool   </td><td>42.76471     </td></tr>\n",
       "\t<tr><td> Prof-school </td><td>44.74653     </td></tr>\n",
       "\t<tr><td> Some-college</td><td>35.75627     </td></tr>\n",
       "</tbody>\n",
       "</table>\n"
      ],
      "text/latex": [
       "\\begin{tabular}{r|ll}\n",
       " Educacao & x\\\\\n",
       "\\hline\n",
       "\t  10th         & 37.42980     \\\\\n",
       "\t  11th         & 32.35574     \\\\\n",
       "\t  12th         & 32.00000     \\\\\n",
       "\t  1st-4th      & 46.14286     \\\\\n",
       "\t  5th-6th      & 42.88589     \\\\\n",
       "\t  7th-8th      & 48.44582     \\\\\n",
       "\t  9th          & 41.06031     \\\\\n",
       "\t  Assoc-acdm   & 37.38144     \\\\\n",
       "\t  Assoc-voc    & 38.55355     \\\\\n",
       "\t  Bachelors    & 38.90495     \\\\\n",
       "\t  Doctorate    & 47.70218     \\\\\n",
       "\t  HS-grad      & 38.97448     \\\\\n",
       "\t  Masters      & 44.04991     \\\\\n",
       "\t  Preschool    & 42.76471     \\\\\n",
       "\t  Prof-school  & 44.74653     \\\\\n",
       "\t  Some-college & 35.75627     \\\\\n",
       "\\end{tabular}\n"
      ],
      "text/markdown": [
       "\n",
       "| Educacao | x |\n",
       "|---|---|\n",
       "|  10th         | 37.42980      |\n",
       "|  11th         | 32.35574      |\n",
       "|  12th         | 32.00000      |\n",
       "|  1st-4th      | 46.14286      |\n",
       "|  5th-6th      | 42.88589      |\n",
       "|  7th-8th      | 48.44582      |\n",
       "|  9th          | 41.06031      |\n",
       "|  Assoc-acdm   | 37.38144      |\n",
       "|  Assoc-voc    | 38.55355      |\n",
       "|  Bachelors    | 38.90495      |\n",
       "|  Doctorate    | 47.70218      |\n",
       "|  HS-grad      | 38.97448      |\n",
       "|  Masters      | 44.04991      |\n",
       "|  Preschool    | 42.76471      |\n",
       "|  Prof-school  | 44.74653      |\n",
       "|  Some-college | 35.75627      |\n",
       "\n"
      ],
      "text/plain": [
       "   Educacao      x       \n",
       "1   10th         37.42980\n",
       "2   11th         32.35574\n",
       "3   12th         32.00000\n",
       "4   1st-4th      46.14286\n",
       "5   5th-6th      42.88589\n",
       "6   7th-8th      48.44582\n",
       "7   9th          41.06031\n",
       "8   Assoc-acdm   37.38144\n",
       "9   Assoc-voc    38.55355\n",
       "10  Bachelors    38.90495\n",
       "11  Doctorate    47.70218\n",
       "12  HS-grad      38.97448\n",
       "13  Masters      44.04991\n",
       "14  Preschool    42.76471\n",
       "15  Prof-school  44.74653\n",
       "16  Some-college 35.75627"
      ]
     },
     "metadata": {},
     "output_type": "display_data"
    }
   ],
   "source": [
    "#Calcular media por titulo de estudo\n",
    "\n",
    "aggregate(base_dados[,1], list(Educacao=base_dados$education), FUN=mean)"
   ]
  },
  {
   "cell_type": "code",
   "execution_count": 32,
   "id": "3825fc28",
   "metadata": {},
   "outputs": [
    {
     "data": {
      "text/html": [
       "<table>\n",
       "<thead><tr><th scope=col>Educacao</th><th scope=col>x</th></tr></thead>\n",
       "<tbody>\n",
       "\t<tr><td> 10th        </td><td>17           </td></tr>\n",
       "\t<tr><td> 11th        </td><td>17           </td></tr>\n",
       "\t<tr><td> 12th        </td><td>17           </td></tr>\n",
       "\t<tr><td> 1st-4th     </td><td>19           </td></tr>\n",
       "\t<tr><td> 5th-6th     </td><td>17           </td></tr>\n",
       "\t<tr><td> 7th-8th     </td><td>17           </td></tr>\n",
       "\t<tr><td> 9th         </td><td>17           </td></tr>\n",
       "\t<tr><td> Assoc-acdm  </td><td>19           </td></tr>\n",
       "\t<tr><td> Assoc-voc   </td><td>19           </td></tr>\n",
       "\t<tr><td> Bachelors   </td><td>19           </td></tr>\n",
       "\t<tr><td> Doctorate   </td><td>24           </td></tr>\n",
       "\t<tr><td> HS-grad     </td><td>17           </td></tr>\n",
       "\t<tr><td> Masters     </td><td>18           </td></tr>\n",
       "\t<tr><td> Preschool   </td><td>19           </td></tr>\n",
       "\t<tr><td> Prof-school </td><td>25           </td></tr>\n",
       "\t<tr><td> Some-college</td><td>17           </td></tr>\n",
       "</tbody>\n",
       "</table>\n"
      ],
      "text/latex": [
       "\\begin{tabular}{r|ll}\n",
       " Educacao & x\\\\\n",
       "\\hline\n",
       "\t  10th         & 17           \\\\\n",
       "\t  11th         & 17           \\\\\n",
       "\t  12th         & 17           \\\\\n",
       "\t  1st-4th      & 19           \\\\\n",
       "\t  5th-6th      & 17           \\\\\n",
       "\t  7th-8th      & 17           \\\\\n",
       "\t  9th          & 17           \\\\\n",
       "\t  Assoc-acdm   & 19           \\\\\n",
       "\t  Assoc-voc    & 19           \\\\\n",
       "\t  Bachelors    & 19           \\\\\n",
       "\t  Doctorate    & 24           \\\\\n",
       "\t  HS-grad      & 17           \\\\\n",
       "\t  Masters      & 18           \\\\\n",
       "\t  Preschool    & 19           \\\\\n",
       "\t  Prof-school  & 25           \\\\\n",
       "\t  Some-college & 17           \\\\\n",
       "\\end{tabular}\n"
      ],
      "text/markdown": [
       "\n",
       "| Educacao | x |\n",
       "|---|---|\n",
       "|  10th         | 17            |\n",
       "|  11th         | 17            |\n",
       "|  12th         | 17            |\n",
       "|  1st-4th      | 19            |\n",
       "|  5th-6th      | 17            |\n",
       "|  7th-8th      | 17            |\n",
       "|  9th          | 17            |\n",
       "|  Assoc-acdm   | 19            |\n",
       "|  Assoc-voc    | 19            |\n",
       "|  Bachelors    | 19            |\n",
       "|  Doctorate    | 24            |\n",
       "|  HS-grad      | 17            |\n",
       "|  Masters      | 18            |\n",
       "|  Preschool    | 19            |\n",
       "|  Prof-school  | 25            |\n",
       "|  Some-college | 17            |\n",
       "\n"
      ],
      "text/plain": [
       "   Educacao      x \n",
       "1   10th         17\n",
       "2   11th         17\n",
       "3   12th         17\n",
       "4   1st-4th      19\n",
       "5   5th-6th      17\n",
       "6   7th-8th      17\n",
       "7   9th          17\n",
       "8   Assoc-acdm   19\n",
       "9   Assoc-voc    19\n",
       "10  Bachelors    19\n",
       "11  Doctorate    24\n",
       "12  HS-grad      17\n",
       "13  Masters      18\n",
       "14  Preschool    19\n",
       "15  Prof-school  25\n",
       "16  Some-college 17"
      ]
     },
     "metadata": {},
     "output_type": "display_data"
    }
   ],
   "source": [
    "aggregate(base_dados[,1], list(Educacao=base_dados$education), FUN=min)"
   ]
  },
  {
   "cell_type": "code",
   "execution_count": 33,
   "id": "dfd536fa",
   "metadata": {},
   "outputs": [],
   "source": [
    "#Os elementos de um data frame são um vetor, qualquer operação feita com um vetor pode ser feita com um data frame"
   ]
  },
  {
   "cell_type": "code",
   "execution_count": 34,
   "id": "aa2832ef",
   "metadata": {},
   "outputs": [],
   "source": [
    "#Família apply, mais rápido que usar o loop for para grandes data sets"
   ]
  },
  {
   "cell_type": "code",
   "execution_count": 35,
   "id": "e307dfef",
   "metadata": {},
   "outputs": [],
   "source": [
    "df <- mtcars"
   ]
  },
  {
   "cell_type": "code",
   "execution_count": 36,
   "id": "d1694ecd",
   "metadata": {},
   "outputs": [
    {
     "data": {
      "text/html": [
       "<ol class=list-inline>\n",
       "\t<li>'mpg'</li>\n",
       "\t<li>'cyl'</li>\n",
       "\t<li>'disp'</li>\n",
       "\t<li>'hp'</li>\n",
       "\t<li>'drat'</li>\n",
       "\t<li>'wt'</li>\n",
       "\t<li>'qsec'</li>\n",
       "\t<li>'vs'</li>\n",
       "\t<li>'am'</li>\n",
       "\t<li>'gear'</li>\n",
       "\t<li>'carb'</li>\n",
       "</ol>\n"
      ],
      "text/latex": [
       "\\begin{enumerate*}\n",
       "\\item 'mpg'\n",
       "\\item 'cyl'\n",
       "\\item 'disp'\n",
       "\\item 'hp'\n",
       "\\item 'drat'\n",
       "\\item 'wt'\n",
       "\\item 'qsec'\n",
       "\\item 'vs'\n",
       "\\item 'am'\n",
       "\\item 'gear'\n",
       "\\item 'carb'\n",
       "\\end{enumerate*}\n"
      ],
      "text/markdown": [
       "1. 'mpg'\n",
       "2. 'cyl'\n",
       "3. 'disp'\n",
       "4. 'hp'\n",
       "5. 'drat'\n",
       "6. 'wt'\n",
       "7. 'qsec'\n",
       "8. 'vs'\n",
       "9. 'am'\n",
       "10. 'gear'\n",
       "11. 'carb'\n",
       "\n",
       "\n"
      ],
      "text/plain": [
       " [1] \"mpg\"  \"cyl\"  \"disp\" \"hp\"   \"drat\" \"wt\"   \"qsec\" \"vs\"   \"am\"   \"gear\"\n",
       "[11] \"carb\""
      ]
     },
     "metadata": {},
     "output_type": "display_data"
    }
   ],
   "source": [
    "names(df)"
   ]
  },
  {
   "cell_type": "code",
   "execution_count": 37,
   "id": "59b855ee",
   "metadata": {},
   "outputs": [
    {
     "data": {
      "text/html": [
       "<table>\n",
       "<thead><tr><th></th><th scope=col>mpg</th><th scope=col>cyl</th><th scope=col>disp</th><th scope=col>hp</th><th scope=col>drat</th><th scope=col>wt</th><th scope=col>qsec</th><th scope=col>vs</th><th scope=col>am</th><th scope=col>gear</th><th scope=col>carb</th></tr></thead>\n",
       "<tbody>\n",
       "\t<tr><th scope=row>Mazda RX4</th><td>21.0 </td><td>6    </td><td>160  </td><td>110  </td><td>3.90 </td><td>2.620</td><td>16.46</td><td>0    </td><td>1    </td><td>4    </td><td>4    </td></tr>\n",
       "\t<tr><th scope=row>Mazda RX4 Wag</th><td>21.0 </td><td>6    </td><td>160  </td><td>110  </td><td>3.90 </td><td>2.875</td><td>17.02</td><td>0    </td><td>1    </td><td>4    </td><td>4    </td></tr>\n",
       "\t<tr><th scope=row>Datsun 710</th><td>22.8 </td><td>4    </td><td>108  </td><td> 93  </td><td>3.85 </td><td>2.320</td><td>18.61</td><td>1    </td><td>1    </td><td>4    </td><td>1    </td></tr>\n",
       "\t<tr><th scope=row>Hornet 4 Drive</th><td>21.4 </td><td>6    </td><td>258  </td><td>110  </td><td>3.08 </td><td>3.215</td><td>19.44</td><td>1    </td><td>0    </td><td>3    </td><td>1    </td></tr>\n",
       "\t<tr><th scope=row>Hornet Sportabout</th><td>18.7 </td><td>8    </td><td>360  </td><td>175  </td><td>3.15 </td><td>3.440</td><td>17.02</td><td>0    </td><td>0    </td><td>3    </td><td>2    </td></tr>\n",
       "\t<tr><th scope=row>Valiant</th><td>18.1 </td><td>6    </td><td>225  </td><td>105  </td><td>2.76 </td><td>3.460</td><td>20.22</td><td>1    </td><td>0    </td><td>3    </td><td>1    </td></tr>\n",
       "</tbody>\n",
       "</table>\n"
      ],
      "text/latex": [
       "\\begin{tabular}{r|lllllllllll}\n",
       "  & mpg & cyl & disp & hp & drat & wt & qsec & vs & am & gear & carb\\\\\n",
       "\\hline\n",
       "\tMazda RX4 & 21.0  & 6     & 160   & 110   & 3.90  & 2.620 & 16.46 & 0     & 1     & 4     & 4    \\\\\n",
       "\tMazda RX4 Wag & 21.0  & 6     & 160   & 110   & 3.90  & 2.875 & 17.02 & 0     & 1     & 4     & 4    \\\\\n",
       "\tDatsun 710 & 22.8  & 4     & 108   &  93   & 3.85  & 2.320 & 18.61 & 1     & 1     & 4     & 1    \\\\\n",
       "\tHornet 4 Drive & 21.4  & 6     & 258   & 110   & 3.08  & 3.215 & 19.44 & 1     & 0     & 3     & 1    \\\\\n",
       "\tHornet Sportabout & 18.7  & 8     & 360   & 175   & 3.15  & 3.440 & 17.02 & 0     & 0     & 3     & 2    \\\\\n",
       "\tValiant & 18.1  & 6     & 225   & 105   & 2.76  & 3.460 & 20.22 & 1     & 0     & 3     & 1    \\\\\n",
       "\\end{tabular}\n"
      ],
      "text/markdown": [
       "\n",
       "| <!--/--> | mpg | cyl | disp | hp | drat | wt | qsec | vs | am | gear | carb |\n",
       "|---|---|---|---|---|---|---|---|---|---|---|---|\n",
       "| Mazda RX4 | 21.0  | 6     | 160   | 110   | 3.90  | 2.620 | 16.46 | 0     | 1     | 4     | 4     |\n",
       "| Mazda RX4 Wag | 21.0  | 6     | 160   | 110   | 3.90  | 2.875 | 17.02 | 0     | 1     | 4     | 4     |\n",
       "| Datsun 710 | 22.8  | 4     | 108   |  93   | 3.85  | 2.320 | 18.61 | 1     | 1     | 4     | 1     |\n",
       "| Hornet 4 Drive | 21.4  | 6     | 258   | 110   | 3.08  | 3.215 | 19.44 | 1     | 0     | 3     | 1     |\n",
       "| Hornet Sportabout | 18.7  | 8     | 360   | 175   | 3.15  | 3.440 | 17.02 | 0     | 0     | 3     | 2     |\n",
       "| Valiant | 18.1  | 6     | 225   | 105   | 2.76  | 3.460 | 20.22 | 1     | 0     | 3     | 1     |\n",
       "\n"
      ],
      "text/plain": [
       "                  mpg  cyl disp hp  drat wt    qsec  vs am gear carb\n",
       "Mazda RX4         21.0 6   160  110 3.90 2.620 16.46 0  1  4    4   \n",
       "Mazda RX4 Wag     21.0 6   160  110 3.90 2.875 17.02 0  1  4    4   \n",
       "Datsun 710        22.8 4   108   93 3.85 2.320 18.61 1  1  4    1   \n",
       "Hornet 4 Drive    21.4 6   258  110 3.08 3.215 19.44 1  0  3    1   \n",
       "Hornet Sportabout 18.7 8   360  175 3.15 3.440 17.02 0  0  3    2   \n",
       "Valiant           18.1 6   225  105 2.76 3.460 20.22 1  0  3    1   "
      ]
     },
     "metadata": {},
     "output_type": "display_data"
    }
   ],
   "source": [
    "head(df)"
   ]
  },
  {
   "cell_type": "code",
   "execution_count": 38,
   "id": "a3b5063b",
   "metadata": {},
   "outputs": [],
   "source": [
    "?apply"
   ]
  },
  {
   "cell_type": "code",
   "execution_count": 39,
   "id": "15a249b6",
   "metadata": {},
   "outputs": [
    {
     "data": {
      "text/html": [
       "<dl class=dl-horizontal>\n",
       "\t<dt>mpg</dt>\n",
       "\t\t<dd>642.9</dd>\n",
       "\t<dt>cyl</dt>\n",
       "\t\t<dd>198</dd>\n",
       "\t<dt>disp</dt>\n",
       "\t\t<dd>7383.1</dd>\n",
       "\t<dt>hp</dt>\n",
       "\t\t<dd>4694</dd>\n",
       "\t<dt>drat</dt>\n",
       "\t\t<dd>115.09</dd>\n",
       "\t<dt>wt</dt>\n",
       "\t\t<dd>102.952</dd>\n",
       "\t<dt>qsec</dt>\n",
       "\t\t<dd>571.16</dd>\n",
       "\t<dt>vs</dt>\n",
       "\t\t<dd>14</dd>\n",
       "\t<dt>am</dt>\n",
       "\t\t<dd>13</dd>\n",
       "\t<dt>gear</dt>\n",
       "\t\t<dd>118</dd>\n",
       "\t<dt>carb</dt>\n",
       "\t\t<dd>90</dd>\n",
       "</dl>\n"
      ],
      "text/latex": [
       "\\begin{description*}\n",
       "\\item[mpg] 642.9\n",
       "\\item[cyl] 198\n",
       "\\item[disp] 7383.1\n",
       "\\item[hp] 4694\n",
       "\\item[drat] 115.09\n",
       "\\item[wt] 102.952\n",
       "\\item[qsec] 571.16\n",
       "\\item[vs] 14\n",
       "\\item[am] 13\n",
       "\\item[gear] 118\n",
       "\\item[carb] 90\n",
       "\\end{description*}\n"
      ],
      "text/markdown": [
       "mpg\n",
       ":   642.9cyl\n",
       ":   198disp\n",
       ":   7383.1hp\n",
       ":   4694drat\n",
       ":   115.09wt\n",
       ":   102.952qsec\n",
       ":   571.16vs\n",
       ":   14am\n",
       ":   13gear\n",
       ":   118carb\n",
       ":   90\n",
       "\n"
      ],
      "text/plain": [
       "     mpg      cyl     disp       hp     drat       wt     qsec       vs \n",
       " 642.900  198.000 7383.100 4694.000  115.090  102.952  571.160   14.000 \n",
       "      am     gear     carb \n",
       "  13.000  118.000   90.000 "
      ]
     },
     "metadata": {},
     "output_type": "display_data"
    }
   ],
   "source": [
    "#Soma de todas as colulas\n",
    "\n",
    "apply(df, 2, sum)"
   ]
  },
  {
   "cell_type": "code",
   "execution_count": 40,
   "id": "194d63ab",
   "metadata": {},
   "outputs": [
    {
     "name": "stdout",
     "output_type": "stream",
     "text": [
      "[1] 642.9\n",
      "[1] 198\n",
      "[1] 7383.1\n",
      "[1] 4694\n",
      "[1] 115.09\n",
      "[1] 102.952\n",
      "[1] 571.16\n",
      "[1] 14\n",
      "[1] 13\n",
      "[1] 118\n",
      "[1] 90\n"
     ]
    }
   ],
   "source": [
    "#Mesma coisa com o loop for\n",
    "\n",
    "for (i in 1:length(df)) {\n",
    "    print(sum(df[,i]))\n",
    "}"
   ]
  },
  {
   "cell_type": "code",
   "execution_count": 42,
   "id": "0f1b349d",
   "metadata": {},
   "outputs": [
    {
     "name": "stdout",
     "output_type": "stream",
     "text": [
      " Named num [1:11] 643 198 7383 4694 115 ...\n",
      " - attr(*, \"names\")= chr [1:11] \"mpg\" \"cyl\" \"disp\" \"hp\" ...\n"
     ]
    },
    {
     "data": {
      "text/html": [
       "'numeric'"
      ],
      "text/latex": [
       "'numeric'"
      ],
      "text/markdown": [
       "'numeric'"
      ],
      "text/plain": [
       "[1] \"numeric\""
      ]
     },
     "metadata": {},
     "output_type": "display_data"
    }
   ],
   "source": [
    "str(apply(df,2,sum))\n",
    "\n",
    "class(apply(df,2,sum))"
   ]
  },
  {
   "cell_type": "code",
   "execution_count": 43,
   "id": "3101f87a",
   "metadata": {},
   "outputs": [
    {
     "data": {
      "text/html": [
       "<dl class=dl-horizontal>\n",
       "\t<dt>mpg</dt>\n",
       "\t\t<dd>20.090625</dd>\n",
       "\t<dt>cyl</dt>\n",
       "\t\t<dd>6.1875</dd>\n",
       "\t<dt>disp</dt>\n",
       "\t\t<dd>230.721875</dd>\n",
       "\t<dt>hp</dt>\n",
       "\t\t<dd>146.6875</dd>\n",
       "\t<dt>drat</dt>\n",
       "\t\t<dd>3.5965625</dd>\n",
       "\t<dt>wt</dt>\n",
       "\t\t<dd>3.21725</dd>\n",
       "\t<dt>qsec</dt>\n",
       "\t\t<dd>17.84875</dd>\n",
       "\t<dt>vs</dt>\n",
       "\t\t<dd>0.4375</dd>\n",
       "\t<dt>am</dt>\n",
       "\t\t<dd>0.40625</dd>\n",
       "\t<dt>gear</dt>\n",
       "\t\t<dd>3.6875</dd>\n",
       "\t<dt>carb</dt>\n",
       "\t\t<dd>2.8125</dd>\n",
       "</dl>\n"
      ],
      "text/latex": [
       "\\begin{description*}\n",
       "\\item[mpg] 20.090625\n",
       "\\item[cyl] 6.1875\n",
       "\\item[disp] 230.721875\n",
       "\\item[hp] 146.6875\n",
       "\\item[drat] 3.5965625\n",
       "\\item[wt] 3.21725\n",
       "\\item[qsec] 17.84875\n",
       "\\item[vs] 0.4375\n",
       "\\item[am] 0.40625\n",
       "\\item[gear] 3.6875\n",
       "\\item[carb] 2.8125\n",
       "\\end{description*}\n"
      ],
      "text/markdown": [
       "mpg\n",
       ":   20.090625cyl\n",
       ":   6.1875disp\n",
       ":   230.721875hp\n",
       ":   146.6875drat\n",
       ":   3.5965625wt\n",
       ":   3.21725qsec\n",
       ":   17.84875vs\n",
       ":   0.4375am\n",
       ":   0.40625gear\n",
       ":   3.6875carb\n",
       ":   2.8125\n",
       "\n"
      ],
      "text/plain": [
       "       mpg        cyl       disp         hp       drat         wt       qsec \n",
       " 20.090625   6.187500 230.721875 146.687500   3.596563   3.217250  17.848750 \n",
       "        vs         am       gear       carb \n",
       "  0.437500   0.406250   3.687500   2.812500 "
      ]
     },
     "metadata": {},
     "output_type": "display_data"
    }
   ],
   "source": [
    "apply(df,2,mean)"
   ]
  },
  {
   "cell_type": "code",
   "execution_count": 44,
   "id": "0c554130",
   "metadata": {},
   "outputs": [],
   "source": [
    "#lapply\n",
    "#Aceita lista, vetor ou dataframe como entrada e retorna uma lista. \n",
    "#Quando a entrada for um dataframe obrigatoriamente trabalha com colunas."
   ]
  },
  {
   "cell_type": "code",
   "execution_count": 46,
   "id": "c4cc3a38",
   "metadata": {},
   "outputs": [
    {
     "data": {
      "text/html": [
       "<dl>\n",
       "\t<dt>$mpg</dt>\n",
       "\t\t<dd>20.090625</dd>\n",
       "\t<dt>$cyl</dt>\n",
       "\t\t<dd>6.1875</dd>\n",
       "\t<dt>$disp</dt>\n",
       "\t\t<dd>230.721875</dd>\n",
       "\t<dt>$hp</dt>\n",
       "\t\t<dd>146.6875</dd>\n",
       "\t<dt>$drat</dt>\n",
       "\t\t<dd>3.5965625</dd>\n",
       "\t<dt>$wt</dt>\n",
       "\t\t<dd>3.21725</dd>\n",
       "\t<dt>$qsec</dt>\n",
       "\t\t<dd>17.84875</dd>\n",
       "\t<dt>$vs</dt>\n",
       "\t\t<dd>0.4375</dd>\n",
       "\t<dt>$am</dt>\n",
       "\t\t<dd>0.40625</dd>\n",
       "\t<dt>$gear</dt>\n",
       "\t\t<dd>3.6875</dd>\n",
       "\t<dt>$carb</dt>\n",
       "\t\t<dd>2.8125</dd>\n",
       "</dl>\n"
      ],
      "text/latex": [
       "\\begin{description}\n",
       "\\item[\\$mpg] 20.090625\n",
       "\\item[\\$cyl] 6.1875\n",
       "\\item[\\$disp] 230.721875\n",
       "\\item[\\$hp] 146.6875\n",
       "\\item[\\$drat] 3.5965625\n",
       "\\item[\\$wt] 3.21725\n",
       "\\item[\\$qsec] 17.84875\n",
       "\\item[\\$vs] 0.4375\n",
       "\\item[\\$am] 0.40625\n",
       "\\item[\\$gear] 3.6875\n",
       "\\item[\\$carb] 2.8125\n",
       "\\end{description}\n"
      ],
      "text/markdown": [
       "$mpg\n",
       ":   20.090625\n",
       "$cyl\n",
       ":   6.1875\n",
       "$disp\n",
       ":   230.721875\n",
       "$hp\n",
       ":   146.6875\n",
       "$drat\n",
       ":   3.5965625\n",
       "$wt\n",
       ":   3.21725\n",
       "$qsec\n",
       ":   17.84875\n",
       "$vs\n",
       ":   0.4375\n",
       "$am\n",
       ":   0.40625\n",
       "$gear\n",
       ":   3.6875\n",
       "$carb\n",
       ":   2.8125\n",
       "\n",
       "\n"
      ],
      "text/plain": [
       "$mpg\n",
       "[1] 20.09062\n",
       "\n",
       "$cyl\n",
       "[1] 6.1875\n",
       "\n",
       "$disp\n",
       "[1] 230.7219\n",
       "\n",
       "$hp\n",
       "[1] 146.6875\n",
       "\n",
       "$drat\n",
       "[1] 3.596563\n",
       "\n",
       "$wt\n",
       "[1] 3.21725\n",
       "\n",
       "$qsec\n",
       "[1] 17.84875\n",
       "\n",
       "$vs\n",
       "[1] 0.4375\n",
       "\n",
       "$am\n",
       "[1] 0.40625\n",
       "\n",
       "$gear\n",
       "[1] 3.6875\n",
       "\n",
       "$carb\n",
       "[1] 2.8125\n"
      ]
     },
     "metadata": {},
     "output_type": "display_data"
    }
   ],
   "source": [
    "lapply(df,mean)"
   ]
  },
  {
   "cell_type": "code",
   "execution_count": 47,
   "id": "a0277579",
   "metadata": {},
   "outputs": [
    {
     "data": {
      "text/html": [
       "20.090625"
      ],
      "text/latex": [
       "20.090625"
      ],
      "text/markdown": [
       "20.090625"
      ],
      "text/plain": [
       "[1] 20.09062"
      ]
     },
     "metadata": {},
     "output_type": "display_data"
    }
   ],
   "source": [
    "analise <- lapply(df,mean)\n",
    "\n",
    "analise$mpg"
   ]
  },
  {
   "cell_type": "code",
   "execution_count": 48,
   "id": "1d30a57e",
   "metadata": {},
   "outputs": [
    {
     "name": "stdout",
     "output_type": "stream",
     "text": [
      "List of 11\n",
      " $ mpg : num 20.1\n",
      " $ cyl : num 6.19\n",
      " $ disp: num 231\n",
      " $ hp  : num 147\n",
      " $ drat: num 3.6\n",
      " $ wt  : num 3.22\n",
      " $ qsec: num 17.8\n",
      " $ vs  : num 0.438\n",
      " $ am  : num 0.406\n",
      " $ gear: num 3.69\n",
      " $ carb: num 2.81\n"
     ]
    }
   ],
   "source": [
    "str(analise)"
   ]
  },
  {
   "cell_type": "code",
   "execution_count": 49,
   "id": "6333e939",
   "metadata": {},
   "outputs": [],
   "source": [
    "#sapply\n",
    "#Aceita lista, vetor ou dataframe como entrada e retorna um vetor \n",
    "#Quando a entrada for um dataframe obrigatoriamente trabalha com colunas."
   ]
  },
  {
   "cell_type": "code",
   "execution_count": 50,
   "id": "151796c5",
   "metadata": {},
   "outputs": [
    {
     "data": {
      "text/html": [
       "<table>\n",
       "<thead><tr><th scope=col>mpg</th><th scope=col>cyl</th><th scope=col>disp</th><th scope=col>hp</th><th scope=col>drat</th><th scope=col>wt</th><th scope=col>qsec</th><th scope=col>vs</th><th scope=col>am</th><th scope=col>gear</th><th scope=col>carb</th></tr></thead>\n",
       "<tbody>\n",
       "\t<tr><td>42.0  </td><td>12    </td><td>320.0 </td><td>220   </td><td>7.80  </td><td> 5.240</td><td>32.92 </td><td>0     </td><td>2     </td><td> 8    </td><td> 8    </td></tr>\n",
       "\t<tr><td>42.0  </td><td>12    </td><td>320.0 </td><td>220   </td><td>7.80  </td><td> 5.750</td><td>34.04 </td><td>0     </td><td>2     </td><td> 8    </td><td> 8    </td></tr>\n",
       "\t<tr><td>45.6  </td><td> 8    </td><td>216.0 </td><td>186   </td><td>7.70  </td><td> 4.640</td><td>37.22 </td><td>2     </td><td>2     </td><td> 8    </td><td> 2    </td></tr>\n",
       "\t<tr><td>42.8  </td><td>12    </td><td>516.0 </td><td>220   </td><td>6.16  </td><td> 6.430</td><td>38.88 </td><td>2     </td><td>0     </td><td> 6    </td><td> 2    </td></tr>\n",
       "\t<tr><td>37.4  </td><td>16    </td><td>720.0 </td><td>350   </td><td>6.30  </td><td> 6.880</td><td>34.04 </td><td>0     </td><td>0     </td><td> 6    </td><td> 4    </td></tr>\n",
       "\t<tr><td>36.2  </td><td>12    </td><td>450.0 </td><td>210   </td><td>5.52  </td><td> 6.920</td><td>40.44 </td><td>2     </td><td>0     </td><td> 6    </td><td> 2    </td></tr>\n",
       "\t<tr><td>28.6  </td><td>16    </td><td>720.0 </td><td>490   </td><td>6.42  </td><td> 7.140</td><td>31.68 </td><td>0     </td><td>0     </td><td> 6    </td><td> 8    </td></tr>\n",
       "\t<tr><td>48.8  </td><td> 8    </td><td>293.4 </td><td>124   </td><td>7.38  </td><td> 6.380</td><td>40.00 </td><td>2     </td><td>0     </td><td> 8    </td><td> 4    </td></tr>\n",
       "\t<tr><td>45.6  </td><td> 8    </td><td>281.6 </td><td>190   </td><td>7.84  </td><td> 6.300</td><td>45.80 </td><td>2     </td><td>0     </td><td> 8    </td><td> 4    </td></tr>\n",
       "\t<tr><td>38.4  </td><td>12    </td><td>335.2 </td><td>246   </td><td>7.84  </td><td> 6.880</td><td>36.60 </td><td>2     </td><td>0     </td><td> 8    </td><td> 8    </td></tr>\n",
       "\t<tr><td>35.6  </td><td>12    </td><td>335.2 </td><td>246   </td><td>7.84  </td><td> 6.880</td><td>37.80 </td><td>2     </td><td>0     </td><td> 8    </td><td> 8    </td></tr>\n",
       "\t<tr><td>32.8  </td><td>16    </td><td>551.6 </td><td>360   </td><td>6.14  </td><td> 8.140</td><td>34.80 </td><td>0     </td><td>0     </td><td> 6    </td><td> 6    </td></tr>\n",
       "\t<tr><td>34.6  </td><td>16    </td><td>551.6 </td><td>360   </td><td>6.14  </td><td> 7.460</td><td>35.20 </td><td>0     </td><td>0     </td><td> 6    </td><td> 6    </td></tr>\n",
       "\t<tr><td>30.4  </td><td>16    </td><td>551.6 </td><td>360   </td><td>6.14  </td><td> 7.560</td><td>36.00 </td><td>0     </td><td>0     </td><td> 6    </td><td> 6    </td></tr>\n",
       "\t<tr><td>20.8  </td><td>16    </td><td>944.0 </td><td>410   </td><td>5.86  </td><td>10.500</td><td>35.96 </td><td>0     </td><td>0     </td><td> 6    </td><td> 8    </td></tr>\n",
       "\t<tr><td>20.8  </td><td>16    </td><td>920.0 </td><td>430   </td><td>6.00  </td><td>10.848</td><td>35.64 </td><td>0     </td><td>0     </td><td> 6    </td><td> 8    </td></tr>\n",
       "\t<tr><td>29.4  </td><td>16    </td><td>880.0 </td><td>460   </td><td>6.46  </td><td>10.690</td><td>34.84 </td><td>0     </td><td>0     </td><td> 6    </td><td> 8    </td></tr>\n",
       "\t<tr><td>64.8  </td><td> 8    </td><td>157.4 </td><td>132   </td><td>8.16  </td><td> 4.400</td><td>38.94 </td><td>2     </td><td>2     </td><td> 8    </td><td> 2    </td></tr>\n",
       "\t<tr><td>60.8  </td><td> 8    </td><td>151.4 </td><td>104   </td><td>9.86  </td><td> 3.230</td><td>37.04 </td><td>2     </td><td>2     </td><td> 8    </td><td> 4    </td></tr>\n",
       "\t<tr><td>67.8  </td><td> 8    </td><td>142.2 </td><td>130   </td><td>8.44  </td><td> 3.670</td><td>39.80 </td><td>2     </td><td>2     </td><td> 8    </td><td> 2    </td></tr>\n",
       "\t<tr><td>43.0  </td><td> 8    </td><td>240.2 </td><td>194   </td><td>7.40  </td><td> 4.930</td><td>40.02 </td><td>2     </td><td>0     </td><td> 6    </td><td> 2    </td></tr>\n",
       "\t<tr><td>31.0  </td><td>16    </td><td>636.0 </td><td>300   </td><td>5.52  </td><td> 7.040</td><td>33.74 </td><td>0     </td><td>0     </td><td> 6    </td><td> 4    </td></tr>\n",
       "\t<tr><td>30.4  </td><td>16    </td><td>608.0 </td><td>300   </td><td>6.30  </td><td> 6.870</td><td>34.60 </td><td>0     </td><td>0     </td><td> 6    </td><td> 4    </td></tr>\n",
       "\t<tr><td>26.6  </td><td>16    </td><td>700.0 </td><td>490   </td><td>7.46  </td><td> 7.680</td><td>30.82 </td><td>0     </td><td>0     </td><td> 6    </td><td> 8    </td></tr>\n",
       "\t<tr><td>38.4  </td><td>16    </td><td>800.0 </td><td>350   </td><td>6.16  </td><td> 7.690</td><td>34.10 </td><td>0     </td><td>0     </td><td> 6    </td><td> 4    </td></tr>\n",
       "\t<tr><td>54.6  </td><td> 8    </td><td>158.0 </td><td>132   </td><td>8.16  </td><td> 3.870</td><td>37.80 </td><td>2     </td><td>2     </td><td> 8    </td><td> 2    </td></tr>\n",
       "\t<tr><td>52.0  </td><td> 8    </td><td>240.6 </td><td>182   </td><td>8.86  </td><td> 4.280</td><td>33.40 </td><td>0     </td><td>2     </td><td>10    </td><td> 4    </td></tr>\n",
       "\t<tr><td>60.8  </td><td> 8    </td><td>190.2 </td><td>226   </td><td>7.54  </td><td> 3.026</td><td>33.80 </td><td>2     </td><td>2     </td><td>10    </td><td> 4    </td></tr>\n",
       "\t<tr><td>31.6  </td><td>16    </td><td>702.0 </td><td>528   </td><td>8.44  </td><td> 6.340</td><td>29.00 </td><td>0     </td><td>2     </td><td>10    </td><td> 8    </td></tr>\n",
       "\t<tr><td>39.4  </td><td>12    </td><td>290.0 </td><td>350   </td><td>7.24  </td><td> 5.540</td><td>31.00 </td><td>0     </td><td>2     </td><td>10    </td><td>12    </td></tr>\n",
       "\t<tr><td>30.0  </td><td>16    </td><td>602.0 </td><td>670   </td><td>7.08  </td><td> 7.140</td><td>29.20 </td><td>0     </td><td>2     </td><td>10    </td><td>16    </td></tr>\n",
       "\t<tr><td>42.8  </td><td> 8    </td><td>242.0 </td><td>218   </td><td>8.22  </td><td> 5.560</td><td>37.20 </td><td>2     </td><td>2     </td><td> 8    </td><td> 4    </td></tr>\n",
       "</tbody>\n",
       "</table>\n"
      ],
      "text/latex": [
       "\\begin{tabular}{lllllllllll}\n",
       " mpg & cyl & disp & hp & drat & wt & qsec & vs & am & gear & carb\\\\\n",
       "\\hline\n",
       "\t 42.0   & 12     & 320.0  & 220    & 7.80   &  5.240 & 32.92  & 0      & 2      &  8     &  8    \\\\\n",
       "\t 42.0   & 12     & 320.0  & 220    & 7.80   &  5.750 & 34.04  & 0      & 2      &  8     &  8    \\\\\n",
       "\t 45.6   &  8     & 216.0  & 186    & 7.70   &  4.640 & 37.22  & 2      & 2      &  8     &  2    \\\\\n",
       "\t 42.8   & 12     & 516.0  & 220    & 6.16   &  6.430 & 38.88  & 2      & 0      &  6     &  2    \\\\\n",
       "\t 37.4   & 16     & 720.0  & 350    & 6.30   &  6.880 & 34.04  & 0      & 0      &  6     &  4    \\\\\n",
       "\t 36.2   & 12     & 450.0  & 210    & 5.52   &  6.920 & 40.44  & 2      & 0      &  6     &  2    \\\\\n",
       "\t 28.6   & 16     & 720.0  & 490    & 6.42   &  7.140 & 31.68  & 0      & 0      &  6     &  8    \\\\\n",
       "\t 48.8   &  8     & 293.4  & 124    & 7.38   &  6.380 & 40.00  & 2      & 0      &  8     &  4    \\\\\n",
       "\t 45.6   &  8     & 281.6  & 190    & 7.84   &  6.300 & 45.80  & 2      & 0      &  8     &  4    \\\\\n",
       "\t 38.4   & 12     & 335.2  & 246    & 7.84   &  6.880 & 36.60  & 2      & 0      &  8     &  8    \\\\\n",
       "\t 35.6   & 12     & 335.2  & 246    & 7.84   &  6.880 & 37.80  & 2      & 0      &  8     &  8    \\\\\n",
       "\t 32.8   & 16     & 551.6  & 360    & 6.14   &  8.140 & 34.80  & 0      & 0      &  6     &  6    \\\\\n",
       "\t 34.6   & 16     & 551.6  & 360    & 6.14   &  7.460 & 35.20  & 0      & 0      &  6     &  6    \\\\\n",
       "\t 30.4   & 16     & 551.6  & 360    & 6.14   &  7.560 & 36.00  & 0      & 0      &  6     &  6    \\\\\n",
       "\t 20.8   & 16     & 944.0  & 410    & 5.86   & 10.500 & 35.96  & 0      & 0      &  6     &  8    \\\\\n",
       "\t 20.8   & 16     & 920.0  & 430    & 6.00   & 10.848 & 35.64  & 0      & 0      &  6     &  8    \\\\\n",
       "\t 29.4   & 16     & 880.0  & 460    & 6.46   & 10.690 & 34.84  & 0      & 0      &  6     &  8    \\\\\n",
       "\t 64.8   &  8     & 157.4  & 132    & 8.16   &  4.400 & 38.94  & 2      & 2      &  8     &  2    \\\\\n",
       "\t 60.8   &  8     & 151.4  & 104    & 9.86   &  3.230 & 37.04  & 2      & 2      &  8     &  4    \\\\\n",
       "\t 67.8   &  8     & 142.2  & 130    & 8.44   &  3.670 & 39.80  & 2      & 2      &  8     &  2    \\\\\n",
       "\t 43.0   &  8     & 240.2  & 194    & 7.40   &  4.930 & 40.02  & 2      & 0      &  6     &  2    \\\\\n",
       "\t 31.0   & 16     & 636.0  & 300    & 5.52   &  7.040 & 33.74  & 0      & 0      &  6     &  4    \\\\\n",
       "\t 30.4   & 16     & 608.0  & 300    & 6.30   &  6.870 & 34.60  & 0      & 0      &  6     &  4    \\\\\n",
       "\t 26.6   & 16     & 700.0  & 490    & 7.46   &  7.680 & 30.82  & 0      & 0      &  6     &  8    \\\\\n",
       "\t 38.4   & 16     & 800.0  & 350    & 6.16   &  7.690 & 34.10  & 0      & 0      &  6     &  4    \\\\\n",
       "\t 54.6   &  8     & 158.0  & 132    & 8.16   &  3.870 & 37.80  & 2      & 2      &  8     &  2    \\\\\n",
       "\t 52.0   &  8     & 240.6  & 182    & 8.86   &  4.280 & 33.40  & 0      & 2      & 10     &  4    \\\\\n",
       "\t 60.8   &  8     & 190.2  & 226    & 7.54   &  3.026 & 33.80  & 2      & 2      & 10     &  4    \\\\\n",
       "\t 31.6   & 16     & 702.0  & 528    & 8.44   &  6.340 & 29.00  & 0      & 2      & 10     &  8    \\\\\n",
       "\t 39.4   & 12     & 290.0  & 350    & 7.24   &  5.540 & 31.00  & 0      & 2      & 10     & 12    \\\\\n",
       "\t 30.0   & 16     & 602.0  & 670    & 7.08   &  7.140 & 29.20  & 0      & 2      & 10     & 16    \\\\\n",
       "\t 42.8   &  8     & 242.0  & 218    & 8.22   &  5.560 & 37.20  & 2      & 2      &  8     &  4    \\\\\n",
       "\\end{tabular}\n"
      ],
      "text/markdown": [
       "\n",
       "| mpg | cyl | disp | hp | drat | wt | qsec | vs | am | gear | carb |\n",
       "|---|---|---|---|---|---|---|---|---|---|---|\n",
       "| 42.0   | 12     | 320.0  | 220    | 7.80   |  5.240 | 32.92  | 0      | 2      |  8     |  8     |\n",
       "| 42.0   | 12     | 320.0  | 220    | 7.80   |  5.750 | 34.04  | 0      | 2      |  8     |  8     |\n",
       "| 45.6   |  8     | 216.0  | 186    | 7.70   |  4.640 | 37.22  | 2      | 2      |  8     |  2     |\n",
       "| 42.8   | 12     | 516.0  | 220    | 6.16   |  6.430 | 38.88  | 2      | 0      |  6     |  2     |\n",
       "| 37.4   | 16     | 720.0  | 350    | 6.30   |  6.880 | 34.04  | 0      | 0      |  6     |  4     |\n",
       "| 36.2   | 12     | 450.0  | 210    | 5.52   |  6.920 | 40.44  | 2      | 0      |  6     |  2     |\n",
       "| 28.6   | 16     | 720.0  | 490    | 6.42   |  7.140 | 31.68  | 0      | 0      |  6     |  8     |\n",
       "| 48.8   |  8     | 293.4  | 124    | 7.38   |  6.380 | 40.00  | 2      | 0      |  8     |  4     |\n",
       "| 45.6   |  8     | 281.6  | 190    | 7.84   |  6.300 | 45.80  | 2      | 0      |  8     |  4     |\n",
       "| 38.4   | 12     | 335.2  | 246    | 7.84   |  6.880 | 36.60  | 2      | 0      |  8     |  8     |\n",
       "| 35.6   | 12     | 335.2  | 246    | 7.84   |  6.880 | 37.80  | 2      | 0      |  8     |  8     |\n",
       "| 32.8   | 16     | 551.6  | 360    | 6.14   |  8.140 | 34.80  | 0      | 0      |  6     |  6     |\n",
       "| 34.6   | 16     | 551.6  | 360    | 6.14   |  7.460 | 35.20  | 0      | 0      |  6     |  6     |\n",
       "| 30.4   | 16     | 551.6  | 360    | 6.14   |  7.560 | 36.00  | 0      | 0      |  6     |  6     |\n",
       "| 20.8   | 16     | 944.0  | 410    | 5.86   | 10.500 | 35.96  | 0      | 0      |  6     |  8     |\n",
       "| 20.8   | 16     | 920.0  | 430    | 6.00   | 10.848 | 35.64  | 0      | 0      |  6     |  8     |\n",
       "| 29.4   | 16     | 880.0  | 460    | 6.46   | 10.690 | 34.84  | 0      | 0      |  6     |  8     |\n",
       "| 64.8   |  8     | 157.4  | 132    | 8.16   |  4.400 | 38.94  | 2      | 2      |  8     |  2     |\n",
       "| 60.8   |  8     | 151.4  | 104    | 9.86   |  3.230 | 37.04  | 2      | 2      |  8     |  4     |\n",
       "| 67.8   |  8     | 142.2  | 130    | 8.44   |  3.670 | 39.80  | 2      | 2      |  8     |  2     |\n",
       "| 43.0   |  8     | 240.2  | 194    | 7.40   |  4.930 | 40.02  | 2      | 0      |  6     |  2     |\n",
       "| 31.0   | 16     | 636.0  | 300    | 5.52   |  7.040 | 33.74  | 0      | 0      |  6     |  4     |\n",
       "| 30.4   | 16     | 608.0  | 300    | 6.30   |  6.870 | 34.60  | 0      | 0      |  6     |  4     |\n",
       "| 26.6   | 16     | 700.0  | 490    | 7.46   |  7.680 | 30.82  | 0      | 0      |  6     |  8     |\n",
       "| 38.4   | 16     | 800.0  | 350    | 6.16   |  7.690 | 34.10  | 0      | 0      |  6     |  4     |\n",
       "| 54.6   |  8     | 158.0  | 132    | 8.16   |  3.870 | 37.80  | 2      | 2      |  8     |  2     |\n",
       "| 52.0   |  8     | 240.6  | 182    | 8.86   |  4.280 | 33.40  | 0      | 2      | 10     |  4     |\n",
       "| 60.8   |  8     | 190.2  | 226    | 7.54   |  3.026 | 33.80  | 2      | 2      | 10     |  4     |\n",
       "| 31.6   | 16     | 702.0  | 528    | 8.44   |  6.340 | 29.00  | 0      | 2      | 10     |  8     |\n",
       "| 39.4   | 12     | 290.0  | 350    | 7.24   |  5.540 | 31.00  | 0      | 2      | 10     | 12     |\n",
       "| 30.0   | 16     | 602.0  | 670    | 7.08   |  7.140 | 29.20  | 0      | 2      | 10     | 16     |\n",
       "| 42.8   |  8     | 242.0  | 218    | 8.22   |  5.560 | 37.20  | 2      | 2      |  8     |  4     |\n",
       "\n"
      ],
      "text/plain": [
       "      mpg  cyl disp  hp  drat wt     qsec  vs am gear carb\n",
       " [1,] 42.0 12  320.0 220 7.80  5.240 32.92 0  2   8    8  \n",
       " [2,] 42.0 12  320.0 220 7.80  5.750 34.04 0  2   8    8  \n",
       " [3,] 45.6  8  216.0 186 7.70  4.640 37.22 2  2   8    2  \n",
       " [4,] 42.8 12  516.0 220 6.16  6.430 38.88 2  0   6    2  \n",
       " [5,] 37.4 16  720.0 350 6.30  6.880 34.04 0  0   6    4  \n",
       " [6,] 36.2 12  450.0 210 5.52  6.920 40.44 2  0   6    2  \n",
       " [7,] 28.6 16  720.0 490 6.42  7.140 31.68 0  0   6    8  \n",
       " [8,] 48.8  8  293.4 124 7.38  6.380 40.00 2  0   8    4  \n",
       " [9,] 45.6  8  281.6 190 7.84  6.300 45.80 2  0   8    4  \n",
       "[10,] 38.4 12  335.2 246 7.84  6.880 36.60 2  0   8    8  \n",
       "[11,] 35.6 12  335.2 246 7.84  6.880 37.80 2  0   8    8  \n",
       "[12,] 32.8 16  551.6 360 6.14  8.140 34.80 0  0   6    6  \n",
       "[13,] 34.6 16  551.6 360 6.14  7.460 35.20 0  0   6    6  \n",
       "[14,] 30.4 16  551.6 360 6.14  7.560 36.00 0  0   6    6  \n",
       "[15,] 20.8 16  944.0 410 5.86 10.500 35.96 0  0   6    8  \n",
       "[16,] 20.8 16  920.0 430 6.00 10.848 35.64 0  0   6    8  \n",
       "[17,] 29.4 16  880.0 460 6.46 10.690 34.84 0  0   6    8  \n",
       "[18,] 64.8  8  157.4 132 8.16  4.400 38.94 2  2   8    2  \n",
       "[19,] 60.8  8  151.4 104 9.86  3.230 37.04 2  2   8    4  \n",
       "[20,] 67.8  8  142.2 130 8.44  3.670 39.80 2  2   8    2  \n",
       "[21,] 43.0  8  240.2 194 7.40  4.930 40.02 2  0   6    2  \n",
       "[22,] 31.0 16  636.0 300 5.52  7.040 33.74 0  0   6    4  \n",
       "[23,] 30.4 16  608.0 300 6.30  6.870 34.60 0  0   6    4  \n",
       "[24,] 26.6 16  700.0 490 7.46  7.680 30.82 0  0   6    8  \n",
       "[25,] 38.4 16  800.0 350 6.16  7.690 34.10 0  0   6    4  \n",
       "[26,] 54.6  8  158.0 132 8.16  3.870 37.80 2  2   8    2  \n",
       "[27,] 52.0  8  240.6 182 8.86  4.280 33.40 0  2  10    4  \n",
       "[28,] 60.8  8  190.2 226 7.54  3.026 33.80 2  2  10    4  \n",
       "[29,] 31.6 16  702.0 528 8.44  6.340 29.00 0  2  10    8  \n",
       "[30,] 39.4 12  290.0 350 7.24  5.540 31.00 0  2  10   12  \n",
       "[31,] 30.0 16  602.0 670 7.08  7.140 29.20 0  2  10   16  \n",
       "[32,] 42.8  8  242.0 218 8.22  5.560 37.20 2  2   8    4  "
      ]
     },
     "metadata": {},
     "output_type": "display_data"
    }
   ],
   "source": [
    "sapply(df, function(df) df*2)"
   ]
  },
  {
   "cell_type": "code",
   "execution_count": 51,
   "id": "d6b61146",
   "metadata": {},
   "outputs": [
    {
     "name": "stdout",
     "output_type": "stream",
     "text": [
      " num [1:32, 1:11] 42 42 45.6 42.8 37.4 36.2 28.6 48.8 45.6 38.4 ...\n",
      " - attr(*, \"dimnames\")=List of 2\n",
      "  ..$ : NULL\n",
      "  ..$ : chr [1:11] \"mpg\" \"cyl\" \"disp\" \"hp\" ...\n"
     ]
    }
   ],
   "source": [
    "var <- sapply(df, function(df) df*2)\n",
    "              \n",
    "str(var)"
   ]
  },
  {
   "cell_type": "code",
   "execution_count": 52,
   "id": "6d0a5af0",
   "metadata": {},
   "outputs": [
    {
     "data": {
      "text/html": [
       "<strong>cyl:</strong> 8"
      ],
      "text/latex": [
       "\\textbf{cyl:} 8"
      ],
      "text/markdown": [
       "**cyl:** 8"
      ],
      "text/plain": [
       "cyl \n",
       "  8 "
      ]
     },
     "metadata": {},
     "output_type": "display_data"
    }
   ],
   "source": [
    "var[3,2]"
   ]
  },
  {
   "cell_type": "code",
   "execution_count": 54,
   "id": "b3bfb0c8",
   "metadata": {},
   "outputs": [
    {
     "data": {
      "text/html": [
       "<dl class=dl-horizontal>\n",
       "\t<dt>Outspoken</dt>\n",
       "\t\t<dd>9</dd>\n",
       "\t<dt>Market</dt>\n",
       "\t\t<dd>6</dd>\n",
       "</dl>\n"
      ],
      "text/latex": [
       "\\begin{description*}\n",
       "\\item[Outspoken] 9\n",
       "\\item[Market] 6\n",
       "\\end{description*}\n"
      ],
      "text/markdown": [
       "Outspoken\n",
       ":   9Market\n",
       ":   6\n",
       "\n"
      ],
      "text/plain": [
       "Outspoken    Market \n",
       "        9         6 "
      ]
     },
     "metadata": {},
     "output_type": "display_data"
    }
   ],
   "source": [
    "#Exemplo de conta letras\n",
    "\n",
    "nomes <- c(\"Outspoken\", \"Market\")\n",
    "\n",
    "sapply(nomes, nchar)"
   ]
  },
  {
   "cell_type": "code",
   "execution_count": 55,
   "id": "0a3a7c61",
   "metadata": {},
   "outputs": [
    {
     "data": {
      "text/html": [
       "<ol class=list-inline>\n",
       "\t<li>9</li>\n",
       "\t<li>6</li>\n",
       "</ol>\n"
      ],
      "text/latex": [
       "\\begin{enumerate*}\n",
       "\\item 9\n",
       "\\item 6\n",
       "\\end{enumerate*}\n"
      ],
      "text/markdown": [
       "1. 9\n",
       "2. 6\n",
       "\n",
       "\n"
      ],
      "text/plain": [
       "[1] 9 6"
      ]
     },
     "metadata": {},
     "output_type": "display_data"
    }
   ],
   "source": [
    "nchar(nomes)"
   ]
  },
  {
   "cell_type": "code",
   "execution_count": 56,
   "id": "f256f13b",
   "metadata": {},
   "outputs": [],
   "source": [
    "#Usando uma funcao personalizada\n",
    "\n",
    "max_min_media <- function(var) {\n",
    "    (min(var) + max(var)) / 2\n",
    "}"
   ]
  },
  {
   "cell_type": "code",
   "execution_count": 57,
   "id": "d6b0f869",
   "metadata": {},
   "outputs": [
    {
     "data": {
      "text/html": [
       "22.15"
      ],
      "text/latex": [
       "22.15"
      ],
      "text/markdown": [
       "22.15"
      ],
      "text/plain": [
       "[1] 22.15"
      ]
     },
     "metadata": {},
     "output_type": "display_data"
    }
   ],
   "source": [
    "max_min_media(df$mpg)"
   ]
  },
  {
   "cell_type": "code",
   "execution_count": 58,
   "id": "cb0e1996",
   "metadata": {},
   "outputs": [
    {
     "data": {
      "text/html": [
       "<dl class=dl-horizontal>\n",
       "\t<dt>mpg</dt>\n",
       "\t\t<dd>22.15</dd>\n",
       "\t<dt>cyl</dt>\n",
       "\t\t<dd>6</dd>\n",
       "\t<dt>disp</dt>\n",
       "\t\t<dd>271.55</dd>\n",
       "\t<dt>hp</dt>\n",
       "\t\t<dd>193.5</dd>\n",
       "\t<dt>drat</dt>\n",
       "\t\t<dd>3.845</dd>\n",
       "\t<dt>wt</dt>\n",
       "\t\t<dd>3.4685</dd>\n",
       "\t<dt>qsec</dt>\n",
       "\t\t<dd>18.7</dd>\n",
       "\t<dt>vs</dt>\n",
       "\t\t<dd>0.5</dd>\n",
       "\t<dt>am</dt>\n",
       "\t\t<dd>0.5</dd>\n",
       "\t<dt>gear</dt>\n",
       "\t\t<dd>4</dd>\n",
       "\t<dt>carb</dt>\n",
       "\t\t<dd>4.5</dd>\n",
       "</dl>\n"
      ],
      "text/latex": [
       "\\begin{description*}\n",
       "\\item[mpg] 22.15\n",
       "\\item[cyl] 6\n",
       "\\item[disp] 271.55\n",
       "\\item[hp] 193.5\n",
       "\\item[drat] 3.845\n",
       "\\item[wt] 3.4685\n",
       "\\item[qsec] 18.7\n",
       "\\item[vs] 0.5\n",
       "\\item[am] 0.5\n",
       "\\item[gear] 4\n",
       "\\item[carb] 4.5\n",
       "\\end{description*}\n"
      ],
      "text/markdown": [
       "mpg\n",
       ":   22.15cyl\n",
       ":   6disp\n",
       ":   271.55hp\n",
       ":   193.5drat\n",
       ":   3.845wt\n",
       ":   3.4685qsec\n",
       ":   18.7vs\n",
       ":   0.5am\n",
       ":   0.5gear\n",
       ":   4carb\n",
       ":   4.5\n",
       "\n"
      ],
      "text/plain": [
       "     mpg      cyl     disp       hp     drat       wt     qsec       vs \n",
       " 22.1500   6.0000 271.5500 193.5000   3.8450   3.4685  18.7000   0.5000 \n",
       "      am     gear     carb \n",
       "  0.5000   4.0000   4.5000 "
      ]
     },
     "metadata": {},
     "output_type": "display_data"
    }
   ],
   "source": [
    "sapply(df, max_min_media)"
   ]
  },
  {
   "cell_type": "code",
   "execution_count": 59,
   "id": "5838ab34",
   "metadata": {},
   "outputs": [
    {
     "data": {
      "text/html": [
       "<dl>\n",
       "\t<dt>$mpg</dt>\n",
       "\t\t<dd>22.15</dd>\n",
       "\t<dt>$cyl</dt>\n",
       "\t\t<dd>6</dd>\n",
       "\t<dt>$disp</dt>\n",
       "\t\t<dd>271.55</dd>\n",
       "\t<dt>$hp</dt>\n",
       "\t\t<dd>193.5</dd>\n",
       "\t<dt>$drat</dt>\n",
       "\t\t<dd>3.845</dd>\n",
       "\t<dt>$wt</dt>\n",
       "\t\t<dd>3.4685</dd>\n",
       "\t<dt>$qsec</dt>\n",
       "\t\t<dd>18.7</dd>\n",
       "\t<dt>$vs</dt>\n",
       "\t\t<dd>0.5</dd>\n",
       "\t<dt>$am</dt>\n",
       "\t\t<dd>0.5</dd>\n",
       "\t<dt>$gear</dt>\n",
       "\t\t<dd>4</dd>\n",
       "\t<dt>$carb</dt>\n",
       "\t\t<dd>4.5</dd>\n",
       "</dl>\n"
      ],
      "text/latex": [
       "\\begin{description}\n",
       "\\item[\\$mpg] 22.15\n",
       "\\item[\\$cyl] 6\n",
       "\\item[\\$disp] 271.55\n",
       "\\item[\\$hp] 193.5\n",
       "\\item[\\$drat] 3.845\n",
       "\\item[\\$wt] 3.4685\n",
       "\\item[\\$qsec] 18.7\n",
       "\\item[\\$vs] 0.5\n",
       "\\item[\\$am] 0.5\n",
       "\\item[\\$gear] 4\n",
       "\\item[\\$carb] 4.5\n",
       "\\end{description}\n"
      ],
      "text/markdown": [
       "$mpg\n",
       ":   22.15\n",
       "$cyl\n",
       ":   6\n",
       "$disp\n",
       ":   271.55\n",
       "$hp\n",
       ":   193.5\n",
       "$drat\n",
       ":   3.845\n",
       "$wt\n",
       ":   3.4685\n",
       "$qsec\n",
       ":   18.7\n",
       "$vs\n",
       ":   0.5\n",
       "$am\n",
       ":   0.5\n",
       "$gear\n",
       ":   4\n",
       "$carb\n",
       ":   4.5\n",
       "\n",
       "\n"
      ],
      "text/plain": [
       "$mpg\n",
       "[1] 22.15\n",
       "\n",
       "$cyl\n",
       "[1] 6\n",
       "\n",
       "$disp\n",
       "[1] 271.55\n",
       "\n",
       "$hp\n",
       "[1] 193.5\n",
       "\n",
       "$drat\n",
       "[1] 3.845\n",
       "\n",
       "$wt\n",
       "[1] 3.4685\n",
       "\n",
       "$qsec\n",
       "[1] 18.7\n",
       "\n",
       "$vs\n",
       "[1] 0.5\n",
       "\n",
       "$am\n",
       "[1] 0.5\n",
       "\n",
       "$gear\n",
       "[1] 4\n",
       "\n",
       "$carb\n",
       "[1] 4.5\n"
      ]
     },
     "metadata": {},
     "output_type": "display_data"
    }
   ],
   "source": [
    "lapply(df, max_min_media)"
   ]
  },
  {
   "cell_type": "code",
   "execution_count": 60,
   "id": "84621407",
   "metadata": {},
   "outputs": [],
   "source": [
    "#tapply\n",
    "#Aplicar uma funcao a uma parte especifica de um dataframe\n",
    "#Quando a entrada for um dataframe obrigatoriamente trabalha com colunas."
   ]
  },
  {
   "cell_type": "code",
   "execution_count": 61,
   "id": "99c8d00f",
   "metadata": {},
   "outputs": [
    {
     "data": {
      "text/html": [
       "<dl class=dl-horizontal>\n",
       "\t<dt>4</dt>\n",
       "\t\t<dd>26.6636363636364</dd>\n",
       "\t<dt>6</dt>\n",
       "\t\t<dd>19.7428571428571</dd>\n",
       "\t<dt>8</dt>\n",
       "\t\t<dd>15.1</dd>\n",
       "</dl>\n"
      ],
      "text/latex": [
       "\\begin{description*}\n",
       "\\item[4] 26.6636363636364\n",
       "\\item[6] 19.7428571428571\n",
       "\\item[8] 15.1\n",
       "\\end{description*}\n"
      ],
      "text/markdown": [
       "4\n",
       ":   26.66363636363646\n",
       ":   19.74285714285718\n",
       ":   15.1\n",
       "\n"
      ],
      "text/plain": [
       "       4        6        8 \n",
       "26.66364 19.74286 15.10000 "
      ]
     },
     "metadata": {},
     "output_type": "display_data"
    }
   ],
   "source": [
    "tapply(df$mpg, df$cyl, mean)"
   ]
  },
  {
   "cell_type": "code",
   "execution_count": 63,
   "id": "efc17d10",
   "metadata": {},
   "outputs": [
    {
     "data": {
      "text/html": [
       "<table>\n",
       "<thead><tr><th scope=col>Sepal.Length</th><th scope=col>Sepal.Width</th><th scope=col>Petal.Length</th><th scope=col>Petal.Width</th><th scope=col>Species</th></tr></thead>\n",
       "<tbody>\n",
       "\t<tr><td>5.1   </td><td>3.5   </td><td>1.4   </td><td>0.2   </td><td>setosa</td></tr>\n",
       "\t<tr><td>4.9   </td><td>3.0   </td><td>1.4   </td><td>0.2   </td><td>setosa</td></tr>\n",
       "\t<tr><td>4.7   </td><td>3.2   </td><td>1.3   </td><td>0.2   </td><td>setosa</td></tr>\n",
       "\t<tr><td>4.6   </td><td>3.1   </td><td>1.5   </td><td>0.2   </td><td>setosa</td></tr>\n",
       "\t<tr><td>5.0   </td><td>3.6   </td><td>1.4   </td><td>0.2   </td><td>setosa</td></tr>\n",
       "\t<tr><td>5.4   </td><td>3.9   </td><td>1.7   </td><td>0.4   </td><td>setosa</td></tr>\n",
       "</tbody>\n",
       "</table>\n"
      ],
      "text/latex": [
       "\\begin{tabular}{r|lllll}\n",
       " Sepal.Length & Sepal.Width & Petal.Length & Petal.Width & Species\\\\\n",
       "\\hline\n",
       "\t 5.1    & 3.5    & 1.4    & 0.2    & setosa\\\\\n",
       "\t 4.9    & 3.0    & 1.4    & 0.2    & setosa\\\\\n",
       "\t 4.7    & 3.2    & 1.3    & 0.2    & setosa\\\\\n",
       "\t 4.6    & 3.1    & 1.5    & 0.2    & setosa\\\\\n",
       "\t 5.0    & 3.6    & 1.4    & 0.2    & setosa\\\\\n",
       "\t 5.4    & 3.9    & 1.7    & 0.4    & setosa\\\\\n",
       "\\end{tabular}\n"
      ],
      "text/markdown": [
       "\n",
       "| Sepal.Length | Sepal.Width | Petal.Length | Petal.Width | Species |\n",
       "|---|---|---|---|---|\n",
       "| 5.1    | 3.5    | 1.4    | 0.2    | setosa |\n",
       "| 4.9    | 3.0    | 1.4    | 0.2    | setosa |\n",
       "| 4.7    | 3.2    | 1.3    | 0.2    | setosa |\n",
       "| 4.6    | 3.1    | 1.5    | 0.2    | setosa |\n",
       "| 5.0    | 3.6    | 1.4    | 0.2    | setosa |\n",
       "| 5.4    | 3.9    | 1.7    | 0.4    | setosa |\n",
       "\n"
      ],
      "text/plain": [
       "  Sepal.Length Sepal.Width Petal.Length Petal.Width Species\n",
       "1 5.1          3.5         1.4          0.2         setosa \n",
       "2 4.9          3.0         1.4          0.2         setosa \n",
       "3 4.7          3.2         1.3          0.2         setosa \n",
       "4 4.6          3.1         1.5          0.2         setosa \n",
       "5 5.0          3.6         1.4          0.2         setosa \n",
       "6 5.4          3.9         1.7          0.4         setosa "
      ]
     },
     "metadata": {},
     "output_type": "display_data"
    }
   ],
   "source": [
    "iris_data <- iris\n",
    "\n",
    "head(iris_data)"
   ]
  },
  {
   "cell_type": "code",
   "execution_count": 66,
   "id": "3e6ed4b5",
   "metadata": {},
   "outputs": [
    {
     "data": {
      "text/html": [
       "<dl class=dl-horizontal>\n",
       "\t<dt>setosa</dt>\n",
       "\t\t<dd>1.462</dd>\n",
       "\t<dt>versicolor</dt>\n",
       "\t\t<dd>4.26</dd>\n",
       "\t<dt>virginica</dt>\n",
       "\t\t<dd>5.552</dd>\n",
       "</dl>\n"
      ],
      "text/latex": [
       "\\begin{description*}\n",
       "\\item[setosa] 1.462\n",
       "\\item[versicolor] 4.26\n",
       "\\item[virginica] 5.552\n",
       "\\end{description*}\n"
      ],
      "text/markdown": [
       "setosa\n",
       ":   1.462versicolor\n",
       ":   4.26virginica\n",
       ":   5.552\n",
       "\n"
      ],
      "text/plain": [
       "    setosa versicolor  virginica \n",
       "     1.462      4.260      5.552 "
      ]
     },
     "metadata": {},
     "output_type": "display_data"
    }
   ],
   "source": [
    "tapply(iris_data$Petal.Length, iris_data$Species, mean)"
   ]
  },
  {
   "cell_type": "code",
   "execution_count": 67,
   "id": "0d5c26d1",
   "metadata": {},
   "outputs": [],
   "source": [
    "acima_media <- function(x){\n",
    "    media <- mean(x)\n",
    "    return(round(sum(x > media)/dim(iris_data)[1]*100,2))\n",
    "}"
   ]
  },
  {
   "cell_type": "code",
   "execution_count": 68,
   "id": "b2004453",
   "metadata": {},
   "outputs": [
    {
     "data": {
      "text/html": [
       "<dl class=dl-horizontal>\n",
       "\t<dt>setosa</dt>\n",
       "\t\t<dd>17.33</dd>\n",
       "\t<dt>versicolor</dt>\n",
       "\t\t<dd>18</dd>\n",
       "\t<dt>virginica</dt>\n",
       "\t\t<dd>16.67</dd>\n",
       "</dl>\n"
      ],
      "text/latex": [
       "\\begin{description*}\n",
       "\\item[setosa] 17.33\n",
       "\\item[versicolor] 18\n",
       "\\item[virginica] 16.67\n",
       "\\end{description*}\n"
      ],
      "text/markdown": [
       "setosa\n",
       ":   17.33versicolor\n",
       ":   18virginica\n",
       ":   16.67\n",
       "\n"
      ],
      "text/plain": [
       "    setosa versicolor  virginica \n",
       "     17.33      18.00      16.67 "
      ]
     },
     "metadata": {},
     "output_type": "display_data"
    }
   ],
   "source": [
    "tapply(iris_data$Petal.Length, iris_data$Species, acima_media)"
   ]
  },
  {
   "cell_type": "code",
   "execution_count": 69,
   "id": "17ca397d",
   "metadata": {},
   "outputs": [
    {
     "data": {
      "text/html": [
       "<dl class=dl-horizontal>\n",
       "\t<dt>setosa</dt>\n",
       "\t\t<dd>14.67</dd>\n",
       "\t<dt>versicolor</dt>\n",
       "\t\t<dd>16</dd>\n",
       "\t<dt>virginica</dt>\n",
       "\t\t<dd>14.67</dd>\n",
       "</dl>\n"
      ],
      "text/latex": [
       "\\begin{description*}\n",
       "\\item[setosa] 14.67\n",
       "\\item[versicolor] 16\n",
       "\\item[virginica] 14.67\n",
       "\\end{description*}\n"
      ],
      "text/markdown": [
       "setosa\n",
       ":   14.67versicolor\n",
       ":   16virginica\n",
       ":   14.67\n",
       "\n"
      ],
      "text/plain": [
       "    setosa versicolor  virginica \n",
       "     14.67      16.00      14.67 "
      ]
     },
     "metadata": {},
     "output_type": "display_data"
    }
   ],
   "source": [
    "tapply(iris_data$Sepal.Length, iris_data$Species, acima_media)"
   ]
  },
  {
   "cell_type": "code",
   "execution_count": 72,
   "id": "81e7ff76",
   "metadata": {},
   "outputs": [
    {
     "data": {
      "text/html": [
       "<dl>\n",
       "\t<dt>$Sepal.Length</dt>\n",
       "\t\t<dd>46.67</dd>\n",
       "\t<dt>$Sepal.Width</dt>\n",
       "\t\t<dd>44.67</dd>\n",
       "\t<dt>$Petal.Length</dt>\n",
       "\t\t<dd>62</dd>\n",
       "\t<dt>$Petal.Width</dt>\n",
       "\t\t<dd>60</dd>\n",
       "</dl>\n"
      ],
      "text/latex": [
       "\\begin{description}\n",
       "\\item[\\$Sepal.Length] 46.67\n",
       "\\item[\\$Sepal.Width] 44.67\n",
       "\\item[\\$Petal.Length] 62\n",
       "\\item[\\$Petal.Width] 60\n",
       "\\end{description}\n"
      ],
      "text/markdown": [
       "$Sepal.Length\n",
       ":   46.67\n",
       "$Sepal.Width\n",
       ":   44.67\n",
       "$Petal.Length\n",
       ":   62\n",
       "$Petal.Width\n",
       ":   60\n",
       "\n",
       "\n"
      ],
      "text/plain": [
       "$Sepal.Length\n",
       "[1] 46.67\n",
       "\n",
       "$Sepal.Width\n",
       "[1] 44.67\n",
       "\n",
       "$Petal.Length\n",
       "[1] 62\n",
       "\n",
       "$Petal.Width\n",
       "[1] 60\n"
      ]
     },
     "metadata": {},
     "output_type": "display_data"
    }
   ],
   "source": [
    "lapply(iris_data[,1:4], acima_media) #tem que ser de 1:4 porque ele não lida com o valor categórico"
   ]
  },
  {
   "cell_type": "code",
   "execution_count": 71,
   "id": "4e98eabb",
   "metadata": {},
   "outputs": [
    {
     "data": {
      "text/html": [
       "<dl class=dl-horizontal>\n",
       "\t<dt>Sepal.Length</dt>\n",
       "\t\t<dd>46.67</dd>\n",
       "\t<dt>Sepal.Width</dt>\n",
       "\t\t<dd>44.67</dd>\n",
       "\t<dt>Petal.Length</dt>\n",
       "\t\t<dd>62</dd>\n",
       "\t<dt>Petal.Width</dt>\n",
       "\t\t<dd>60</dd>\n",
       "</dl>\n"
      ],
      "text/latex": [
       "\\begin{description*}\n",
       "\\item[Sepal.Length] 46.67\n",
       "\\item[Sepal.Width] 44.67\n",
       "\\item[Petal.Length] 62\n",
       "\\item[Petal.Width] 60\n",
       "\\end{description*}\n"
      ],
      "text/markdown": [
       "Sepal.Length\n",
       ":   46.67Sepal.Width\n",
       ":   44.67Petal.Length\n",
       ":   62Petal.Width\n",
       ":   60\n",
       "\n"
      ],
      "text/plain": [
       "Sepal.Length  Sepal.Width Petal.Length  Petal.Width \n",
       "       46.67        44.67        62.00        60.00 "
      ]
     },
     "metadata": {},
     "output_type": "display_data"
    }
   ],
   "source": [
    "sapply(iris_data[,1:4], acima_media)"
   ]
  },
  {
   "cell_type": "code",
   "execution_count": null,
   "id": "dff6edbd",
   "metadata": {},
   "outputs": [],
   "source": []
  }
 ],
 "metadata": {
  "kernelspec": {
   "display_name": "R",
   "language": "R",
   "name": "ir"
  },
  "language_info": {
   "codemirror_mode": "r",
   "file_extension": ".r",
   "mimetype": "text/x-r-source",
   "name": "R",
   "pygments_lexer": "r",
   "version": "3.6.1"
  }
 },
 "nbformat": 4,
 "nbformat_minor": 5
}
