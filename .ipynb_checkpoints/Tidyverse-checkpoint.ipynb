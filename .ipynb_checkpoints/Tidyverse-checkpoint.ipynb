{
 "cells": [
  {
   "cell_type": "code",
   "execution_count": 2,
   "id": "b41fc833",
   "metadata": {},
   "outputs": [
    {
     "name": "stderr",
     "output_type": "stream",
     "text": [
      "also installing the dependencies 'bit', 'glue', 'bit64', 'progress', 'xfun', 'blob', 'vctrs', 'rlang', 'tidyselect', 'data.table', 'cli', 'gargle', 'ids', 'isoband', 'vroom', 'tzdb', 'knitr', 'broom', 'crayon', 'dbplyr', 'dplyr', 'dtplyr', 'forcats', 'googledrive', 'googlesheets4', 'ggplot2', 'haven', 'hms', 'jsonlite', 'lubridate', 'magrittr', 'modelr', 'pillar', 'readr', 'reprex', 'rvest', 'tibble', 'tidyr', 'xml2'\n",
      "\n"
     ]
    },
    {
     "name": "stdout",
     "output_type": "stream",
     "text": [
      "\n",
      "  There are binary versions available but the source versions are later:\n",
      "              binary source needs_compilation\n",
      "glue           1.4.2  1.6.1              TRUE\n",
      "xfun            0.22   0.29              TRUE\n",
      "blob           1.2.1  1.2.2             FALSE\n",
      "rlang         0.4.11  1.0.1              TRUE\n",
      "data.table    1.14.0 1.14.2              TRUE\n",
      "cli            2.5.0  3.2.0              TRUE\n",
      "gargle         1.1.0  1.2.0             FALSE\n",
      "isoband        0.2.4  0.2.5              TRUE\n",
      "vroom          1.4.0  1.5.7              TRUE\n",
      "tzdb           0.1.1  0.2.0              TRUE\n",
      "knitr           1.33   1.37             FALSE\n",
      "broom          0.7.6 0.7.12             FALSE\n",
      "crayon         1.4.1  1.5.0             FALSE\n",
      "dplyr          1.0.6  1.0.8              TRUE\n",
      "dtplyr         1.1.0  1.2.1             FALSE\n",
      "googledrive    1.0.1  2.0.0             FALSE\n",
      "googlesheets4  0.3.0  1.0.0             FALSE\n",
      "ggplot2        3.3.3  3.3.5             FALSE\n",
      "haven          2.4.1  2.4.3              TRUE\n",
      "hms            1.0.0  1.1.1             FALSE\n",
      "jsonlite       1.7.2  1.7.3              TRUE\n",
      "lubridate     1.7.10  1.8.0              TRUE\n",
      "magrittr       2.0.1  2.0.2              TRUE\n",
      "pillar         1.6.0  1.7.0             FALSE\n",
      "readr          1.4.0  2.1.2              TRUE\n",
      "reprex         2.0.0  2.0.1             FALSE\n",
      "rvest          1.0.0  1.0.2             FALSE\n",
      "tibble         3.1.1  3.1.6              TRUE\n",
      "tidyr          1.1.3  1.2.0              TRUE\n",
      "xml2           1.3.2  1.3.3              TRUE\n",
      "\n",
      "  Binaries will be installed\n",
      "package 'bit' successfully unpacked and MD5 sums checked\n",
      "package 'glue' successfully unpacked and MD5 sums checked\n",
      "package 'bit64' successfully unpacked and MD5 sums checked\n",
      "package 'progress' successfully unpacked and MD5 sums checked\n",
      "package 'xfun' successfully unpacked and MD5 sums checked\n",
      "package 'vctrs' successfully unpacked and MD5 sums checked\n",
      "package 'rlang' successfully unpacked and MD5 sums checked\n",
      "package 'tidyselect' successfully unpacked and MD5 sums checked\n",
      "package 'data.table' successfully unpacked and MD5 sums checked\n",
      "package 'cli' successfully unpacked and MD5 sums checked\n",
      "package 'ids' successfully unpacked and MD5 sums checked\n",
      "package 'isoband' successfully unpacked and MD5 sums checked\n",
      "package 'vroom' successfully unpacked and MD5 sums checked\n",
      "package 'tzdb' successfully unpacked and MD5 sums checked\n",
      "package 'dbplyr' successfully unpacked and MD5 sums checked\n",
      "package 'dplyr' successfully unpacked and MD5 sums checked\n",
      "package 'forcats' successfully unpacked and MD5 sums checked\n",
      "package 'haven' successfully unpacked and MD5 sums checked\n",
      "package 'jsonlite' successfully unpacked and MD5 sums checked\n"
     ]
    },
    {
     "name": "stderr",
     "output_type": "stream",
     "text": [
      "Warning message:\n",
      "\"cannot remove prior installation of package 'jsonlite'\"Warning message in file.copy(savedcopy, lib, recursive = TRUE):\n",
      "\"problem copying D:\\Programas\\Anaconda\\envs\\R\\Lib\\R\\library\\00LOCK\\jsonlite\\libs\\x64\\jsonlite.dll to D:\\Programas\\Anaconda\\envs\\R\\Lib\\R\\library\\jsonlite\\libs\\x64\\jsonlite.dll: Permission denied\"Warning message:\n",
      "\"restored 'jsonlite'\""
     ]
    },
    {
     "name": "stdout",
     "output_type": "stream",
     "text": [
      "package 'lubridate' successfully unpacked and MD5 sums checked\n",
      "package 'magrittr' successfully unpacked and MD5 sums checked\n",
      "package 'modelr' successfully unpacked and MD5 sums checked\n",
      "package 'readr' successfully unpacked and MD5 sums checked\n",
      "package 'tibble' successfully unpacked and MD5 sums checked\n",
      "package 'tidyr' successfully unpacked and MD5 sums checked\n",
      "package 'xml2' successfully unpacked and MD5 sums checked\n",
      "package 'tidyverse' successfully unpacked and MD5 sums checked\n",
      "\n",
      "The downloaded binary packages are in\n",
      "\tC:\\Users\\andre\\AppData\\Local\\Temp\\RtmpAbhUVT\\downloaded_packages\n"
     ]
    },
    {
     "name": "stderr",
     "output_type": "stream",
     "text": [
      "installing the source packages 'blob', 'gargle', 'knitr', 'broom', 'crayon', 'dtplyr', 'googledrive', 'googlesheets4', 'ggplot2', 'hms', 'pillar', 'reprex', 'rvest'\n",
      "\n",
      "Warning message in install.packages(\"tidyverse\"):\n",
      "\"installation of package 'knitr' had non-zero exit status\"Warning message in install.packages(\"tidyverse\"):\n",
      "\"installation of package 'ggplot2' had non-zero exit status\"Warning message in install.packages(\"tidyverse\"):\n",
      "\"installation of package 'broom' had non-zero exit status\"Warning message in install.packages(\"tidyverse\"):\n",
      "\"installation of package 'dtplyr' had non-zero exit status\""
     ]
    }
   ],
   "source": [
    "install.packages(\"tidyverse\")"
   ]
  },
  {
   "cell_type": "code",
   "execution_count": 3,
   "id": "9949045d",
   "metadata": {},
   "outputs": [
    {
     "name": "stderr",
     "output_type": "stream",
     "text": [
      "Warning message:\n",
      "\"package 'tidyverse' was built under R version 3.6.3\""
     ]
    },
    {
     "ename": "ERROR",
     "evalue": "Error: package or namespace load failed for 'tidyverse' in loadNamespace(j <- i[[1L]], c(lib.loc, .libPaths()), versionCheck = vI[[j]]):\n namespace 'broom' 0.5.2 is being loaded, but >= 0.7.6 is required\n",
     "output_type": "error",
     "traceback": [
      "Error: package or namespace load failed for 'tidyverse' in loadNamespace(j <- i[[1L]], c(lib.loc, .libPaths()), versionCheck = vI[[j]]):\n namespace 'broom' 0.5.2 is being loaded, but >= 0.7.6 is required\nTraceback:\n",
      "1. library(tidyverse)",
      "2. tryCatch({\n .     attr(package, \"LibPath\") <- which.lib.loc\n .     ns <- loadNamespace(package, lib.loc)\n .     env <- attachNamespace(ns, pos = pos, deps, exclude, include.only)\n . }, error = function(e) {\n .     P <- if (!is.null(cc <- conditionCall(e))) \n .         paste(\" in\", deparse(cc)[1L])\n .     else \"\"\n .     msg <- gettextf(\"package or namespace load failed for %s%s:\\n %s\", \n .         sQuote(package), P, conditionMessage(e))\n .     if (logical.return) \n .         message(paste(\"Error:\", msg), domain = NA)\n .     else stop(msg, call. = FALSE, domain = NA)\n . })",
      "3. tryCatchList(expr, classes, parentenv, handlers)",
      "4. tryCatchOne(expr, names, parentenv, handlers[[1L]])",
      "5. value[[3L]](cond)",
      "6. stop(msg, call. = FALSE, domain = NA)"
     ]
    }
   ],
   "source": [
    "library(tidyverse)"
   ]
  },
  {
   "cell_type": "code",
   "execution_count": 4,
   "id": "05f44a57",
   "metadata": {},
   "outputs": [],
   "source": [
    "setwd('Dados')"
   ]
  },
  {
   "cell_type": "code",
   "execution_count": 5,
   "id": "be5ad2fe",
   "metadata": {},
   "outputs": [],
   "source": [
    "bank_data <- read.table(\"bank-full.csv\",\n",
    "                       header = TRUE, sep = \";\")"
   ]
  },
  {
   "cell_type": "code",
   "execution_count": 6,
   "id": "5ec1d0e7",
   "metadata": {},
   "outputs": [
    {
     "data": {
      "text/html": [
       "<table>\n",
       "<thead><tr><th scope=col>age</th><th scope=col>job</th><th scope=col>marital</th><th scope=col>education</th><th scope=col>default</th><th scope=col>balance</th><th scope=col>housing</th><th scope=col>loan</th><th scope=col>contact</th><th scope=col>day</th><th scope=col>month</th><th scope=col>duration</th><th scope=col>campaign</th><th scope=col>pdays</th><th scope=col>previous</th><th scope=col>poutcome</th><th scope=col>y</th></tr></thead>\n",
       "<tbody>\n",
       "\t<tr><td>58          </td><td>management  </td><td>married     </td><td>tertiary    </td><td>no          </td><td>2143        </td><td>yes         </td><td>no          </td><td>unknown     </td><td>5           </td><td>may         </td><td>261         </td><td>1           </td><td>-1          </td><td>0           </td><td>unknown     </td><td>no          </td></tr>\n",
       "\t<tr><td>44          </td><td>technician  </td><td>single      </td><td>secondary   </td><td>no          </td><td>  29        </td><td>yes         </td><td>no          </td><td>unknown     </td><td>5           </td><td>may         </td><td>151         </td><td>1           </td><td>-1          </td><td>0           </td><td>unknown     </td><td>no          </td></tr>\n",
       "\t<tr><td>33          </td><td>entrepreneur</td><td>married     </td><td>secondary   </td><td>no          </td><td>   2        </td><td>yes         </td><td>yes         </td><td>unknown     </td><td>5           </td><td>may         </td><td> 76         </td><td>1           </td><td>-1          </td><td>0           </td><td>unknown     </td><td>no          </td></tr>\n",
       "\t<tr><td>47          </td><td>blue-collar </td><td>married     </td><td>unknown     </td><td>no          </td><td>1506        </td><td>yes         </td><td>no          </td><td>unknown     </td><td>5           </td><td>may         </td><td> 92         </td><td>1           </td><td>-1          </td><td>0           </td><td>unknown     </td><td>no          </td></tr>\n",
       "\t<tr><td>33          </td><td>unknown     </td><td>single      </td><td>unknown     </td><td>no          </td><td>   1        </td><td>no          </td><td>no          </td><td>unknown     </td><td>5           </td><td>may         </td><td>198         </td><td>1           </td><td>-1          </td><td>0           </td><td>unknown     </td><td>no          </td></tr>\n",
       "\t<tr><td>35          </td><td>management  </td><td>married     </td><td>tertiary    </td><td>no          </td><td> 231        </td><td>yes         </td><td>no          </td><td>unknown     </td><td>5           </td><td>may         </td><td>139         </td><td>1           </td><td>-1          </td><td>0           </td><td>unknown     </td><td>no          </td></tr>\n",
       "</tbody>\n",
       "</table>\n"
      ],
      "text/latex": [
       "\\begin{tabular}{r|lllllllllllllllll}\n",
       " age & job & marital & education & default & balance & housing & loan & contact & day & month & duration & campaign & pdays & previous & poutcome & y\\\\\n",
       "\\hline\n",
       "\t 58           & management   & married      & tertiary     & no           & 2143         & yes          & no           & unknown      & 5            & may          & 261          & 1            & -1           & 0            & unknown      & no          \\\\\n",
       "\t 44           & technician   & single       & secondary    & no           &   29         & yes          & no           & unknown      & 5            & may          & 151          & 1            & -1           & 0            & unknown      & no          \\\\\n",
       "\t 33           & entrepreneur & married      & secondary    & no           &    2         & yes          & yes          & unknown      & 5            & may          &  76          & 1            & -1           & 0            & unknown      & no          \\\\\n",
       "\t 47           & blue-collar  & married      & unknown      & no           & 1506         & yes          & no           & unknown      & 5            & may          &  92          & 1            & -1           & 0            & unknown      & no          \\\\\n",
       "\t 33           & unknown      & single       & unknown      & no           &    1         & no           & no           & unknown      & 5            & may          & 198          & 1            & -1           & 0            & unknown      & no          \\\\\n",
       "\t 35           & management   & married      & tertiary     & no           &  231         & yes          & no           & unknown      & 5            & may          & 139          & 1            & -1           & 0            & unknown      & no          \\\\\n",
       "\\end{tabular}\n"
      ],
      "text/markdown": [
       "\n",
       "| age | job | marital | education | default | balance | housing | loan | contact | day | month | duration | campaign | pdays | previous | poutcome | y |\n",
       "|---|---|---|---|---|---|---|---|---|---|---|---|---|---|---|---|---|\n",
       "| 58           | management   | married      | tertiary     | no           | 2143         | yes          | no           | unknown      | 5            | may          | 261          | 1            | -1           | 0            | unknown      | no           |\n",
       "| 44           | technician   | single       | secondary    | no           |   29         | yes          | no           | unknown      | 5            | may          | 151          | 1            | -1           | 0            | unknown      | no           |\n",
       "| 33           | entrepreneur | married      | secondary    | no           |    2         | yes          | yes          | unknown      | 5            | may          |  76          | 1            | -1           | 0            | unknown      | no           |\n",
       "| 47           | blue-collar  | married      | unknown      | no           | 1506         | yes          | no           | unknown      | 5            | may          |  92          | 1            | -1           | 0            | unknown      | no           |\n",
       "| 33           | unknown      | single       | unknown      | no           |    1         | no           | no           | unknown      | 5            | may          | 198          | 1            | -1           | 0            | unknown      | no           |\n",
       "| 35           | management   | married      | tertiary     | no           |  231         | yes          | no           | unknown      | 5            | may          | 139          | 1            | -1           | 0            | unknown      | no           |\n",
       "\n"
      ],
      "text/plain": [
       "  age job          marital education default balance housing loan contact day\n",
       "1 58  management   married tertiary  no      2143    yes     no   unknown 5  \n",
       "2 44  technician   single  secondary no        29    yes     no   unknown 5  \n",
       "3 33  entrepreneur married secondary no         2    yes     yes  unknown 5  \n",
       "4 47  blue-collar  married unknown   no      1506    yes     no   unknown 5  \n",
       "5 33  unknown      single  unknown   no         1    no      no   unknown 5  \n",
       "6 35  management   married tertiary  no       231    yes     no   unknown 5  \n",
       "  month duration campaign pdays previous poutcome y \n",
       "1 may   261      1        -1    0        unknown  no\n",
       "2 may   151      1        -1    0        unknown  no\n",
       "3 may    76      1        -1    0        unknown  no\n",
       "4 may    92      1        -1    0        unknown  no\n",
       "5 may   198      1        -1    0        unknown  no\n",
       "6 may   139      1        -1    0        unknown  no"
      ]
     },
     "metadata": {},
     "output_type": "display_data"
    },
    {
     "data": {
      "text/html": [
       "<ol class=list-inline>\n",
       "\t<li>45211</li>\n",
       "\t<li>17</li>\n",
       "</ol>\n"
      ],
      "text/latex": [
       "\\begin{enumerate*}\n",
       "\\item 45211\n",
       "\\item 17\n",
       "\\end{enumerate*}\n"
      ],
      "text/markdown": [
       "1. 45211\n",
       "2. 17\n",
       "\n",
       "\n"
      ],
      "text/plain": [
       "[1] 45211    17"
      ]
     },
     "metadata": {},
     "output_type": "display_data"
    }
   ],
   "source": [
    "head(bank_data)\n",
    "\n",
    "dim(bank_data)"
   ]
  },
  {
   "cell_type": "code",
   "execution_count": null,
   "id": "87877f6b",
   "metadata": {},
   "outputs": [],
   "source": []
  }
 ],
 "metadata": {
  "kernelspec": {
   "display_name": "R",
   "language": "R",
   "name": "ir"
  },
  "language_info": {
   "codemirror_mode": "r",
   "file_extension": ".r",
   "mimetype": "text/x-r-source",
   "name": "R",
   "pygments_lexer": "r",
   "version": "3.6.1"
  }
 },
 "nbformat": 4,
 "nbformat_minor": 5
}
