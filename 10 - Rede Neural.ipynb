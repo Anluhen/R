{
 "cells": [
  {
   "cell_type": "code",
   "execution_count": 1,
   "id": "adfddaa5",
   "metadata": {},
   "outputs": [],
   "source": [
    "#Comando utilizado para manter a reprodutibilidade do código quando trabahlhamos com funções aleat´roias\n",
    "\n",
    "set.seed(1)"
   ]
  },
  {
   "cell_type": "code",
   "execution_count": 2,
   "id": "0e4f0158",
   "metadata": {},
   "outputs": [
    {
     "data": {
      "text/html": [
       "<table>\n",
       "<tbody>\n",
       "\t<tr><td>0</td><td>0</td></tr>\n",
       "\t<tr><td>0</td><td>1</td></tr>\n",
       "\t<tr><td>1</td><td>0</td></tr>\n",
       "\t<tr><td>1</td><td>1</td></tr>\n",
       "</tbody>\n",
       "</table>\n"
      ],
      "text/latex": [
       "\\begin{tabular}{ll}\n",
       "\t 0 & 0\\\\\n",
       "\t 0 & 1\\\\\n",
       "\t 1 & 0\\\\\n",
       "\t 1 & 1\\\\\n",
       "\\end{tabular}\n"
      ],
      "text/markdown": [
       "\n",
       "| 0 | 0 |\n",
       "| 0 | 1 |\n",
       "| 1 | 0 |\n",
       "| 1 | 1 |\n",
       "\n"
      ],
      "text/plain": [
       "     [,1] [,2]\n",
       "[1,] 0    0   \n",
       "[2,] 0    1   \n",
       "[3,] 1    0   \n",
       "[4,] 1    1   "
      ]
     },
     "metadata": {},
     "output_type": "display_data"
    },
    {
     "data": {
      "text/html": [
       "<table>\n",
       "<tbody>\n",
       "\t<tr><td>0</td></tr>\n",
       "\t<tr><td>0</td></tr>\n",
       "\t<tr><td>0</td></tr>\n",
       "\t<tr><td>1</td></tr>\n",
       "</tbody>\n",
       "</table>\n"
      ],
      "text/latex": [
       "\\begin{tabular}{l}\n",
       "\t 0\\\\\n",
       "\t 0\\\\\n",
       "\t 0\\\\\n",
       "\t 1\\\\\n",
       "\\end{tabular}\n"
      ],
      "text/markdown": [
       "\n",
       "| 0 |\n",
       "| 0 |\n",
       "| 0 |\n",
       "| 1 |\n",
       "\n"
      ],
      "text/plain": [
       "     [,1]\n",
       "[1,] 0   \n",
       "[2,] 0   \n",
       "[3,] 0   \n",
       "[4,] 1   "
      ]
     },
     "metadata": {},
     "output_type": "display_data"
    }
   ],
   "source": [
    "#Cria as matrizes de entrada e saida. Neste caso, é a tabela verdade da função lógida AND\n",
    "\n",
    "entradas <- matrix(c(0,0,0,1,1,0,1,1), nrow=4, byrow=T)\n",
    "saidas <- matrix(c(0,0,0,1), nrow=4)\n",
    "entradas\n",
    "saidas"
   ]
  },
  {
   "cell_type": "code",
   "execution_count": 7,
   "id": "51359c5d",
   "metadata": {},
   "outputs": [
    {
     "data": {
      "text/html": [
       "<table>\n",
       "<tbody>\n",
       "\t<tr><td>0.6418926  </td><td>0.5658655  </td><td>0.05943916 </td><td>-0.95333760</td></tr>\n",
       "\t<tr><td>0.2941204  </td><td>0.1060726  </td><td>0.57871246 </td><td>-0.04553987</td></tr>\n",
       "</tbody>\n",
       "</table>\n"
      ],
      "text/latex": [
       "\\begin{tabular}{llll}\n",
       "\t 0.6418926   & 0.5658655   & 0.05943916  & -0.95333760\\\\\n",
       "\t 0.2941204   & 0.1060726   & 0.57871246  & -0.04553987\\\\\n",
       "\\end{tabular}\n"
      ],
      "text/markdown": [
       "\n",
       "| 0.6418926   | 0.5658655   | 0.05943916  | -0.95333760 |\n",
       "| 0.2941204   | 0.1060726   | 0.57871246  | -0.04553987 |\n",
       "\n"
      ],
      "text/plain": [
       "     [,1]      [,2]      [,3]       [,4]       \n",
       "[1,] 0.6418926 0.5658655 0.05943916 -0.95333760\n",
       "[2,] 0.2941204 0.1060726 0.57871246 -0.04553987"
      ]
     },
     "metadata": {},
     "output_type": "display_data"
    },
    {
     "data": {
      "text/html": [
       "<table>\n",
       "<tbody>\n",
       "\t<tr><td> 0.46462748</td></tr>\n",
       "\t<tr><td> 0.38546311</td></tr>\n",
       "\t<tr><td>-0.04476076</td></tr>\n",
       "\t<tr><td> 0.72241895</td></tr>\n",
       "</tbody>\n",
       "</table>\n"
      ],
      "text/latex": [
       "\\begin{tabular}{l}\n",
       "\t  0.46462748\\\\\n",
       "\t  0.38546311\\\\\n",
       "\t -0.04476076\\\\\n",
       "\t  0.72241895\\\\\n",
       "\\end{tabular}\n"
      ],
      "text/markdown": [
       "\n",
       "|  0.46462748 |\n",
       "|  0.38546311 |\n",
       "| -0.04476076 |\n",
       "|  0.72241895 |\n",
       "\n"
      ],
      "text/plain": [
       "     [,1]       \n",
       "[1,]  0.46462748\n",
       "[2,]  0.38546311\n",
       "[3,] -0.04476076\n",
       "[4,]  0.72241895"
      ]
     },
     "metadata": {},
     "output_type": "display_data"
    }
   ],
   "source": [
    "#Cria as matrizes de pesos da rede neural - w\n",
    "#A função runif cria numeros aleatorios entre os valores minimos e maximos estipulados\n",
    "\n",
    "w1 <- matrix(runif(n=8, min=-1, max=1), nrow=2)\n",
    "w2 <- matrix(runif(4, -1, 1), 4)\n",
    "\n",
    "w1\n",
    "w2"
   ]
  },
  {
   "cell_type": "code",
   "execution_count": 11,
   "id": "8c3ca1a5",
   "metadata": {},
   "outputs": [],
   "source": [
    "#Treinamento da rede neural\n",
    "#O operador %*% é a multiplicação de matrizes\n",
    "\n",
    "for (interação in 1:1000000) {\n",
    "    camada1 = 1 / (1 + exp(-(entradas %*% w1)))\n",
    "    camada2 = 1 / (1+ exp(-(camada1 %*% w2)))\n",
    "    camada2_delta = (saidas-camada2)*(camada2*(1-camada2))\n",
    "    camada1_delta = (camada2_delta %*% t(w2)) * (camada1*(1-camada1))\n",
    "    w2 = w2 + t(camada1) %*% camada2_delta\n",
    "    w1 = w1 + t(entradas) %*% camada1_delta\n",
    "}"
   ]
  },
  {
   "cell_type": "code",
   "execution_count": 12,
   "id": "3e39f890",
   "metadata": {},
   "outputs": [
    {
     "data": {
      "text/html": [
       "<table>\n",
       "<tbody>\n",
       "\t<tr><td>5.013445e-05</td></tr>\n",
       "\t<tr><td>4.196197e-04</td></tr>\n",
       "\t<tr><td>5.160384e-04</td></tr>\n",
       "\t<tr><td>9.992409e-01</td></tr>\n",
       "</tbody>\n",
       "</table>\n"
      ],
      "text/latex": [
       "\\begin{tabular}{l}\n",
       "\t 5.013445e-05\\\\\n",
       "\t 4.196197e-04\\\\\n",
       "\t 5.160384e-04\\\\\n",
       "\t 9.992409e-01\\\\\n",
       "\\end{tabular}\n"
      ],
      "text/markdown": [
       "\n",
       "| 5.013445e-05 |\n",
       "| 4.196197e-04 |\n",
       "| 5.160384e-04 |\n",
       "| 9.992409e-01 |\n",
       "\n"
      ],
      "text/plain": [
       "     [,1]        \n",
       "[1,] 5.013445e-05\n",
       "[2,] 4.196197e-04\n",
       "[3,] 5.160384e-04\n",
       "[4,] 9.992409e-01"
      ]
     },
     "metadata": {},
     "output_type": "display_data"
    },
    {
     "data": {
      "text/html": [
       "<table>\n",
       "<tbody>\n",
       "\t<tr><td>0</td></tr>\n",
       "\t<tr><td>0</td></tr>\n",
       "\t<tr><td>0</td></tr>\n",
       "\t<tr><td>1</td></tr>\n",
       "</tbody>\n",
       "</table>\n"
      ],
      "text/latex": [
       "\\begin{tabular}{l}\n",
       "\t 0\\\\\n",
       "\t 0\\\\\n",
       "\t 0\\\\\n",
       "\t 1\\\\\n",
       "\\end{tabular}\n"
      ],
      "text/markdown": [
       "\n",
       "| 0 |\n",
       "| 0 |\n",
       "| 0 |\n",
       "| 1 |\n",
       "\n"
      ],
      "text/plain": [
       "     [,1]\n",
       "[1,] 0   \n",
       "[2,] 0   \n",
       "[3,] 0   \n",
       "[4,] 1   "
      ]
     },
     "metadata": {},
     "output_type": "display_data"
    }
   ],
   "source": [
    "#Verificando a saída da rede\n",
    "\n",
    "camada2\n",
    "\n",
    "round(camada2)"
   ]
  },
  {
   "cell_type": "code",
   "execution_count": null,
   "id": "75e69561",
   "metadata": {},
   "outputs": [],
   "source": []
  }
 ],
 "metadata": {
  "kernelspec": {
   "display_name": "R",
   "language": "R",
   "name": "ir"
  },
  "language_info": {
   "codemirror_mode": "r",
   "file_extension": ".r",
   "mimetype": "text/x-r-source",
   "name": "R",
   "pygments_lexer": "r",
   "version": "3.6.1"
  }
 },
 "nbformat": 4,
 "nbformat_minor": 5
}
