{
 "cells": [
  {
   "cell_type": "markdown",
   "id": "15d1083a",
   "metadata": {},
   "source": [
    "# Analise de Componentes Principais"
   ]
  },
  {
   "cell_type": "code",
   "execution_count": 1,
   "id": "0f09b604",
   "metadata": {},
   "outputs": [
    {
     "data": {
      "text/html": [
       "<table>\n",
       "<thead><tr><th scope=col>Sepal.Length</th><th scope=col>Sepal.Width</th><th scope=col>Petal.Length</th><th scope=col>Petal.Width</th><th scope=col>Species</th></tr></thead>\n",
       "<tbody>\n",
       "\t<tr><td>5.1   </td><td>3.5   </td><td>1.4   </td><td>0.2   </td><td>setosa</td></tr>\n",
       "\t<tr><td>4.9   </td><td>3.0   </td><td>1.4   </td><td>0.2   </td><td>setosa</td></tr>\n",
       "\t<tr><td>4.7   </td><td>3.2   </td><td>1.3   </td><td>0.2   </td><td>setosa</td></tr>\n",
       "\t<tr><td>4.6   </td><td>3.1   </td><td>1.5   </td><td>0.2   </td><td>setosa</td></tr>\n",
       "\t<tr><td>5.0   </td><td>3.6   </td><td>1.4   </td><td>0.2   </td><td>setosa</td></tr>\n",
       "\t<tr><td>5.4   </td><td>3.9   </td><td>1.7   </td><td>0.4   </td><td>setosa</td></tr>\n",
       "</tbody>\n",
       "</table>\n"
      ],
      "text/latex": [
       "\\begin{tabular}{r|lllll}\n",
       " Sepal.Length & Sepal.Width & Petal.Length & Petal.Width & Species\\\\\n",
       "\\hline\n",
       "\t 5.1    & 3.5    & 1.4    & 0.2    & setosa\\\\\n",
       "\t 4.9    & 3.0    & 1.4    & 0.2    & setosa\\\\\n",
       "\t 4.7    & 3.2    & 1.3    & 0.2    & setosa\\\\\n",
       "\t 4.6    & 3.1    & 1.5    & 0.2    & setosa\\\\\n",
       "\t 5.0    & 3.6    & 1.4    & 0.2    & setosa\\\\\n",
       "\t 5.4    & 3.9    & 1.7    & 0.4    & setosa\\\\\n",
       "\\end{tabular}\n"
      ],
      "text/markdown": [
       "\n",
       "| Sepal.Length | Sepal.Width | Petal.Length | Petal.Width | Species |\n",
       "|---|---|---|---|---|\n",
       "| 5.1    | 3.5    | 1.4    | 0.2    | setosa |\n",
       "| 4.9    | 3.0    | 1.4    | 0.2    | setosa |\n",
       "| 4.7    | 3.2    | 1.3    | 0.2    | setosa |\n",
       "| 4.6    | 3.1    | 1.5    | 0.2    | setosa |\n",
       "| 5.0    | 3.6    | 1.4    | 0.2    | setosa |\n",
       "| 5.4    | 3.9    | 1.7    | 0.4    | setosa |\n",
       "\n"
      ],
      "text/plain": [
       "  Sepal.Length Sepal.Width Petal.Length Petal.Width Species\n",
       "1 5.1          3.5         1.4          0.2         setosa \n",
       "2 4.9          3.0         1.4          0.2         setosa \n",
       "3 4.7          3.2         1.3          0.2         setosa \n",
       "4 4.6          3.1         1.5          0.2         setosa \n",
       "5 5.0          3.6         1.4          0.2         setosa \n",
       "6 5.4          3.9         1.7          0.4         setosa "
      ]
     },
     "metadata": {},
     "output_type": "display_data"
    }
   ],
   "source": [
    "# Carregando a base de dados\n",
    "\n",
    "data(iris)\n",
    "head(iris)"
   ]
  },
  {
   "cell_type": "code",
   "execution_count": 2,
   "id": "ccdd8801",
   "metadata": {},
   "outputs": [
    {
     "data": {
      "text/plain": [
       "  Sepal.Length    Sepal.Width     Petal.Length    Petal.Width   \n",
       " Min.   :4.300   Min.   :2.000   Min.   :1.000   Min.   :0.100  \n",
       " 1st Qu.:5.100   1st Qu.:2.800   1st Qu.:1.600   1st Qu.:0.300  \n",
       " Median :5.800   Median :3.000   Median :4.350   Median :1.300  \n",
       " Mean   :5.843   Mean   :3.057   Mean   :3.758   Mean   :1.199  \n",
       " 3rd Qu.:6.400   3rd Qu.:3.300   3rd Qu.:5.100   3rd Qu.:1.800  \n",
       " Max.   :7.900   Max.   :4.400   Max.   :6.900   Max.   :2.500  \n",
       "       Species  \n",
       " setosa    :50  \n",
       " versicolor:50  \n",
       " virginica :50  \n",
       "                \n",
       "                \n",
       "                "
      ]
     },
     "metadata": {},
     "output_type": "display_data"
    }
   ],
   "source": [
    "summary(iris)"
   ]
  },
  {
   "cell_type": "markdown",
   "id": "537ae75d",
   "metadata": {},
   "source": [
    "### Atenção\n",
    "\n",
    "No cálculo do PCA é importante centralizar os dados ao redor do zero e normalizá-los, pois os dados podem enviezar o cálculo do determinante nos autovalores."
   ]
  },
  {
   "cell_type": "code",
   "execution_count": 3,
   "id": "ad4f6b04",
   "metadata": {},
   "outputs": [],
   "source": [
    "# Simples, rápida e eficiente implementação de uma PCA\n",
    "\n",
    "pca <- prcomp(iris[, 1:4]\n",
    "             , center = T\n",
    "             , scale = T)"
   ]
  },
  {
   "cell_type": "code",
   "execution_count": 4,
   "id": "291eb5d8",
   "metadata": {},
   "outputs": [
    {
     "data": {
      "text/html": [
       "<ol class=list-inline>\n",
       "\t<li>'sdev'</li>\n",
       "\t<li>'rotation'</li>\n",
       "\t<li>'center'</li>\n",
       "\t<li>'scale'</li>\n",
       "\t<li>'x'</li>\n",
       "</ol>\n"
      ],
      "text/latex": [
       "\\begin{enumerate*}\n",
       "\\item 'sdev'\n",
       "\\item 'rotation'\n",
       "\\item 'center'\n",
       "\\item 'scale'\n",
       "\\item 'x'\n",
       "\\end{enumerate*}\n"
      ],
      "text/markdown": [
       "1. 'sdev'\n",
       "2. 'rotation'\n",
       "3. 'center'\n",
       "4. 'scale'\n",
       "5. 'x'\n",
       "\n",
       "\n"
      ],
      "text/plain": [
       "[1] \"sdev\"     \"rotation\" \"center\"   \"scale\"    \"x\"       "
      ]
     },
     "metadata": {},
     "output_type": "display_data"
    },
    {
     "name": "stdout",
     "output_type": "stream",
     "text": [
      "List of 5\n",
      " $ sdev    : num [1:4] 1.708 0.956 0.383 0.144\n",
      " $ rotation: num [1:4, 1:4] 0.521 -0.269 0.58 0.565 -0.377 ...\n",
      "  ..- attr(*, \"dimnames\")=List of 2\n",
      "  .. ..$ : chr [1:4] \"Sepal.Length\" \"Sepal.Width\" \"Petal.Length\" \"Petal.Width\"\n",
      "  .. ..$ : chr [1:4] \"PC1\" \"PC2\" \"PC3\" \"PC4\"\n",
      " $ center  : Named num [1:4] 5.84 3.06 3.76 1.2\n",
      "  ..- attr(*, \"names\")= chr [1:4] \"Sepal.Length\" \"Sepal.Width\" \"Petal.Length\" \"Petal.Width\"\n",
      " $ scale   : Named num [1:4] 0.828 0.436 1.765 0.762\n",
      "  ..- attr(*, \"names\")= chr [1:4] \"Sepal.Length\" \"Sepal.Width\" \"Petal.Length\" \"Petal.Width\"\n",
      " $ x       : num [1:150, 1:4] -2.26 -2.07 -2.36 -2.29 -2.38 ...\n",
      "  ..- attr(*, \"dimnames\")=List of 2\n",
      "  .. ..$ : NULL\n",
      "  .. ..$ : chr [1:4] \"PC1\" \"PC2\" \"PC3\" \"PC4\"\n",
      " - attr(*, \"class\")= chr \"prcomp\"\n"
     ]
    }
   ],
   "source": [
    "# O que existe dentro de uma PCA?\n",
    "\n",
    "names(pca)\n",
    "\n",
    "str(pca)"
   ]
  },
  {
   "cell_type": "code",
   "execution_count": 5,
   "id": "076ee4c1",
   "metadata": {},
   "outputs": [
    {
     "data": {
      "text/html": [
       "<ol class=list-inline>\n",
       "\t<li>1.70836114932762</li>\n",
       "\t<li>0.956049408486857</li>\n",
       "\t<li>0.383088600158391</li>\n",
       "\t<li>0.143926496617611</li>\n",
       "</ol>\n"
      ],
      "text/latex": [
       "\\begin{enumerate*}\n",
       "\\item 1.70836114932762\n",
       "\\item 0.956049408486857\n",
       "\\item 0.383088600158391\n",
       "\\item 0.143926496617611\n",
       "\\end{enumerate*}\n"
      ],
      "text/markdown": [
       "1. 1.70836114932762\n",
       "2. 0.956049408486857\n",
       "3. 0.383088600158391\n",
       "4. 0.143926496617611\n",
       "\n",
       "\n"
      ],
      "text/plain": [
       "[1] 1.7083611 0.9560494 0.3830886 0.1439265"
      ]
     },
     "metadata": {},
     "output_type": "display_data"
    },
    {
     "data": {
      "text/html": [
       "<table>\n",
       "<thead><tr><th></th><th scope=col>PC1</th><th scope=col>PC2</th><th scope=col>PC3</th><th scope=col>PC4</th></tr></thead>\n",
       "<tbody>\n",
       "\t<tr><th scope=row>Sepal.Length</th><td> 0.5210659 </td><td>-0.37741762</td><td> 0.7195664 </td><td> 0.2612863 </td></tr>\n",
       "\t<tr><th scope=row>Sepal.Width</th><td>-0.2693474 </td><td>-0.92329566</td><td>-0.2443818 </td><td>-0.1235096 </td></tr>\n",
       "\t<tr><th scope=row>Petal.Length</th><td> 0.5804131 </td><td>-0.02449161</td><td>-0.1421264 </td><td>-0.8014492 </td></tr>\n",
       "\t<tr><th scope=row>Petal.Width</th><td> 0.5648565 </td><td>-0.06694199</td><td>-0.6342727 </td><td> 0.5235971 </td></tr>\n",
       "</tbody>\n",
       "</table>\n"
      ],
      "text/latex": [
       "\\begin{tabular}{r|llll}\n",
       "  & PC1 & PC2 & PC3 & PC4\\\\\n",
       "\\hline\n",
       "\tSepal.Length &  0.5210659  & -0.37741762 &  0.7195664  &  0.2612863 \\\\\n",
       "\tSepal.Width & -0.2693474  & -0.92329566 & -0.2443818  & -0.1235096 \\\\\n",
       "\tPetal.Length &  0.5804131  & -0.02449161 & -0.1421264  & -0.8014492 \\\\\n",
       "\tPetal.Width &  0.5648565  & -0.06694199 & -0.6342727  &  0.5235971 \\\\\n",
       "\\end{tabular}\n"
      ],
      "text/markdown": [
       "\n",
       "| <!--/--> | PC1 | PC2 | PC3 | PC4 |\n",
       "|---|---|---|---|---|\n",
       "| Sepal.Length |  0.5210659  | -0.37741762 |  0.7195664  |  0.2612863  |\n",
       "| Sepal.Width | -0.2693474  | -0.92329566 | -0.2443818  | -0.1235096  |\n",
       "| Petal.Length |  0.5804131  | -0.02449161 | -0.1421264  | -0.8014492  |\n",
       "| Petal.Width |  0.5648565  | -0.06694199 | -0.6342727  |  0.5235971  |\n",
       "\n"
      ],
      "text/plain": [
       "             PC1        PC2         PC3        PC4       \n",
       "Sepal.Length  0.5210659 -0.37741762  0.7195664  0.2612863\n",
       "Sepal.Width  -0.2693474 -0.92329566 -0.2443818 -0.1235096\n",
       "Petal.Length  0.5804131 -0.02449161 -0.1421264 -0.8014492\n",
       "Petal.Width   0.5648565 -0.06694199 -0.6342727  0.5235971"
      ]
     },
     "metadata": {},
     "output_type": "display_data"
    }
   ],
   "source": [
    "# Desvio padrão de cada componente\n",
    "pca$sdev\n",
    "\n",
    "# Correlação com cada PC - quanto maior, mais a variância é explicada por aquela PC\n",
    "pca$rotation"
   ]
  },
  {
   "cell_type": "code",
   "execution_count": 6,
   "id": "7cb4c4c5",
   "metadata": {},
   "outputs": [
    {
     "data": {
      "text/html": [
       "<dl class=dl-horizontal>\n",
       "\t<dt>Sepal.Length</dt>\n",
       "\t\t<dd>5.84333333333333</dd>\n",
       "\t<dt>Sepal.Width</dt>\n",
       "\t\t<dd>3.05733333333333</dd>\n",
       "\t<dt>Petal.Length</dt>\n",
       "\t\t<dd>3.758</dd>\n",
       "\t<dt>Petal.Width</dt>\n",
       "\t\t<dd>1.19933333333333</dd>\n",
       "</dl>\n"
      ],
      "text/latex": [
       "\\begin{description*}\n",
       "\\item[Sepal.Length] 5.84333333333333\n",
       "\\item[Sepal.Width] 3.05733333333333\n",
       "\\item[Petal.Length] 3.758\n",
       "\\item[Petal.Width] 1.19933333333333\n",
       "\\end{description*}\n"
      ],
      "text/markdown": [
       "Sepal.Length\n",
       ":   5.84333333333333Sepal.Width\n",
       ":   3.05733333333333Petal.Length\n",
       ":   3.758Petal.Width\n",
       ":   1.19933333333333\n",
       "\n"
      ],
      "text/plain": [
       "Sepal.Length  Sepal.Width Petal.Length  Petal.Width \n",
       "    5.843333     3.057333     3.758000     1.199333 "
      ]
     },
     "metadata": {},
     "output_type": "display_data"
    }
   ],
   "source": [
    "# Médias das variáveis usadas na normalização\n",
    "\n",
    "pca$center"
   ]
  },
  {
   "cell_type": "code",
   "execution_count": 8,
   "id": "70b225a2",
   "metadata": {},
   "outputs": [
    {
     "data": {
      "text/html": [
       "<dl class=dl-horizontal>\n",
       "\t<dt>Sepal.Length</dt>\n",
       "\t\t<dd>0.828066127977863</dd>\n",
       "\t<dt>Sepal.Width</dt>\n",
       "\t\t<dd>0.435866284936698</dd>\n",
       "\t<dt>Petal.Length</dt>\n",
       "\t\t<dd>1.76529823325947</dd>\n",
       "\t<dt>Petal.Width</dt>\n",
       "\t\t<dd>0.762237668960347</dd>\n",
       "</dl>\n"
      ],
      "text/latex": [
       "\\begin{description*}\n",
       "\\item[Sepal.Length] 0.828066127977863\n",
       "\\item[Sepal.Width] 0.435866284936698\n",
       "\\item[Petal.Length] 1.76529823325947\n",
       "\\item[Petal.Width] 0.762237668960347\n",
       "\\end{description*}\n"
      ],
      "text/markdown": [
       "Sepal.Length\n",
       ":   0.828066127977863Sepal.Width\n",
       ":   0.435866284936698Petal.Length\n",
       ":   1.76529823325947Petal.Width\n",
       ":   0.762237668960347\n",
       "\n"
      ],
      "text/plain": [
       "Sepal.Length  Sepal.Width Petal.Length  Petal.Width \n",
       "   0.8280661    0.4358663    1.7652982    0.7622377 "
      ]
     },
     "metadata": {},
     "output_type": "display_data"
    }
   ],
   "source": [
    "# Desvios padrão das variáveis, usados na normalização\n",
    "\n",
    "pca$scale"
   ]
  },
  {
   "cell_type": "code",
   "execution_count": 9,
   "id": "faf7ff63",
   "metadata": {},
   "outputs": [
    {
     "data": {
      "text/html": [
       "<table>\n",
       "<thead><tr><th scope=col>PC1</th><th scope=col>PC2</th><th scope=col>PC3</th><th scope=col>PC4</th></tr></thead>\n",
       "<tbody>\n",
       "\t<tr><td>-2.257141  </td><td>-0.4784238 </td><td> 0.12727962</td><td> 0.02408751</td></tr>\n",
       "\t<tr><td>-2.074013  </td><td> 0.6718827 </td><td> 0.23382552</td><td> 0.10266284</td></tr>\n",
       "\t<tr><td>-2.356335  </td><td> 0.3407664 </td><td>-0.04405390</td><td> 0.02828231</td></tr>\n",
       "\t<tr><td>-2.291707  </td><td> 0.5953999 </td><td>-0.09098530</td><td>-0.06573534</td></tr>\n",
       "\t<tr><td>-2.381863  </td><td>-0.6446757 </td><td>-0.01568565</td><td>-0.03580287</td></tr>\n",
       "</tbody>\n",
       "</table>\n"
      ],
      "text/latex": [
       "\\begin{tabular}{llll}\n",
       " PC1 & PC2 & PC3 & PC4\\\\\n",
       "\\hline\n",
       "\t -2.257141   & -0.4784238  &  0.12727962 &  0.02408751\\\\\n",
       "\t -2.074013   &  0.6718827  &  0.23382552 &  0.10266284\\\\\n",
       "\t -2.356335   &  0.3407664  & -0.04405390 &  0.02828231\\\\\n",
       "\t -2.291707   &  0.5953999  & -0.09098530 & -0.06573534\\\\\n",
       "\t -2.381863   & -0.6446757  & -0.01568565 & -0.03580287\\\\\n",
       "\\end{tabular}\n"
      ],
      "text/markdown": [
       "\n",
       "| PC1 | PC2 | PC3 | PC4 |\n",
       "|---|---|---|---|\n",
       "| -2.257141   | -0.4784238  |  0.12727962 |  0.02408751 |\n",
       "| -2.074013   |  0.6718827  |  0.23382552 |  0.10266284 |\n",
       "| -2.356335   |  0.3407664  | -0.04405390 |  0.02828231 |\n",
       "| -2.291707   |  0.5953999  | -0.09098530 | -0.06573534 |\n",
       "| -2.381863   | -0.6446757  | -0.01568565 | -0.03580287 |\n",
       "\n"
      ],
      "text/plain": [
       "     PC1       PC2        PC3         PC4        \n",
       "[1,] -2.257141 -0.4784238  0.12727962  0.02408751\n",
       "[2,] -2.074013  0.6718827  0.23382552  0.10266284\n",
       "[3,] -2.356335  0.3407664 -0.04405390  0.02828231\n",
       "[4,] -2.291707  0.5953999 -0.09098530 -0.06573534\n",
       "[5,] -2.381863 -0.6446757 -0.01568565 -0.03580287"
      ]
     },
     "metadata": {},
     "output_type": "display_data"
    }
   ],
   "source": [
    "# Valor de cada PC para cada registro da base\n",
    "\n",
    "pca$x[1:5,]"
   ]
  },
  {
   "cell_type": "code",
   "execution_count": 10,
   "id": "0a32ffa1",
   "metadata": {},
   "outputs": [
    {
     "data": {
      "text/plain": [
       "Importance of components:\n",
       "                          PC1    PC2     PC3     PC4\n",
       "Standard deviation     1.7084 0.9560 0.38309 0.14393\n",
       "Proportion of Variance 0.7296 0.2285 0.03669 0.00518\n",
       "Cumulative Proportion  0.7296 0.9581 0.99482 1.00000"
      ]
     },
     "metadata": {},
     "output_type": "display_data"
    }
   ],
   "source": [
    "# Resultado por componente\n",
    "\n",
    "summary(pca)"
   ]
  },
  {
   "cell_type": "code",
   "execution_count": 11,
   "id": "aa6bde7c",
   "metadata": {},
   "outputs": [
    {
     "name": "stdout",
     "output_type": "stream",
     "text": [
      "Standard deviations (1, .., p=4):\n",
      "[1] 1.7083611 0.9560494 0.3830886 0.1439265\n",
      "\n",
      "Rotation (n x k) = (4 x 4):\n",
      "                    PC1         PC2        PC3        PC4\n",
      "Sepal.Length  0.5210659 -0.37741762  0.7195664  0.2612863\n",
      "Sepal.Width  -0.2693474 -0.92329566 -0.2443818 -0.1235096\n",
      "Petal.Length  0.5804131 -0.02449161 -0.1421264 -0.8014492\n",
      "Petal.Width   0.5648565 -0.06694199 -0.6342727  0.5235971\n"
     ]
    }
   ],
   "source": [
    "# Descriçao por variável\n",
    "\n",
    "print(pca)"
   ]
  },
  {
   "cell_type": "code",
   "execution_count": 14,
   "id": "8ae55f7e",
   "metadata": {},
   "outputs": [
    {
     "data": {
      "text/html": [
       "<ol class=list-inline>\n",
       "\t<li>2.918497816532</li>\n",
       "\t<li>0.914030471468069</li>\n",
       "\t<li>0.146756875571315</li>\n",
       "\t<li>0.0207148364286192</li>\n",
       "</ol>\n"
      ],
      "text/latex": [
       "\\begin{enumerate*}\n",
       "\\item 2.918497816532\n",
       "\\item 0.914030471468069\n",
       "\\item 0.146756875571315\n",
       "\\item 0.0207148364286192\n",
       "\\end{enumerate*}\n"
      ],
      "text/markdown": [
       "1. 2.918497816532\n",
       "2. 0.914030471468069\n",
       "3. 0.146756875571315\n",
       "4. 0.0207148364286192\n",
       "\n",
       "\n"
      ],
      "text/plain": [
       "[1] 2.91849782 0.91403047 0.14675688 0.02071484"
      ]
     },
     "metadata": {},
     "output_type": "display_data"
    }
   ],
   "source": [
    "# Como encontrar a variância \n",
    "\n",
    "desvio <- pca$sdev\n",
    "\n",
    "# A variâcnia é o desvio padrão ao quadrado\n",
    "\n",
    "variancia <- desvio^2\n",
    "\n",
    "variancia"
   ]
  },
  {
   "cell_type": "code",
   "execution_count": 16,
   "id": "7bbdcf5d",
   "metadata": {},
   "outputs": [
    {
     "data": {
      "text/html": [
       "<ol class=list-inline>\n",
       "\t<li>0.7296</li>\n",
       "\t<li>0.2285</li>\n",
       "\t<li>0.0367</li>\n",
       "\t<li>0.0052</li>\n",
       "</ol>\n"
      ],
      "text/latex": [
       "\\begin{enumerate*}\n",
       "\\item 0.7296\n",
       "\\item 0.2285\n",
       "\\item 0.0367\n",
       "\\item 0.0052\n",
       "\\end{enumerate*}\n"
      ],
      "text/markdown": [
       "1. 0.7296\n",
       "2. 0.2285\n",
       "3. 0.0367\n",
       "4. 0.0052\n",
       "\n",
       "\n"
      ],
      "text/plain": [
       "[1] 0.7296 0.2285 0.0367 0.0052"
      ]
     },
     "metadata": {},
     "output_type": "display_data"
    }
   ],
   "source": [
    "# E quanto desta variância é explciada por cada componente?\n",
    "\n",
    "var_explicada <- variancia/sum(variancia)\n",
    "\n",
    "round(var_explicada, 4)"
   ]
  },
  {
   "cell_type": "code",
   "execution_count": 17,
   "id": "cffc16ef",
   "metadata": {},
   "outputs": [
    {
     "data": {
      "image/png": "[encoded data removed]",
      "text/plain": [
       "Plot with title \"pca\""
      ]
     },
     "metadata": {
      "image/png": {
       "height": 420,
       "width": 420
      }
     },
     "output_type": "display_data"
    }
   ],
   "source": [
    "# Visualizando PCs por variância\n",
    "\n",
    "plot(pca, type =\"l\")"
   ]
  },
  {
   "cell_type": "code",
   "execution_count": 19,
   "id": "c0878cc1",
   "metadata": {},
   "outputs": [
    {
     "data": {
      "image/png": "[encoded data removed]",
      "text/plain": [
       "Plot with title \"Variância das PC\""
      ]
     },
     "metadata": {
      "image/png": {
       "height": 420,
       "width": 420
      }
     },
     "output_type": "display_data"
    }
   ],
   "source": [
    "plot(var_explicada*100\n",
    "    , xlab = \"Componente Principal\"\n",
    "    , ylab = \"Variância explicada em %\"\n",
    "    , type = \"b\"\n",
    "    , main = \"Variância das PC\")"
   ]
  },
  {
   "cell_type": "code",
   "execution_count": 21,
   "id": "4caf85b1",
   "metadata": {},
   "outputs": [
    {
     "data": {
      "image/png": "[encoded data removed]",
      "text/plain": [
       "Plot with title \"Segmentação com PCA\""
      ]
     },
     "metadata": {
      "image/png": {
       "height": 420,
       "width": 420
      }
     },
     "output_type": "display_data"
    },
    {
     "data": {
      "image/png": "[encoded data removed]",
      "text/plain": [
       "Plot with title \"Segmentação com PCA\""
      ]
     },
     "metadata": {
      "image/png": {
       "height": 420,
       "width": 420
      }
     },
     "output_type": "display_data"
    }
   ],
   "source": [
    "# Visualizando as componentes no gráfico\n",
    "\n",
    "plot(pca$x[,1], pca$x[,2]\n",
    "    , col = iris[,5]\n",
    "    , pch = 15\n",
    "    , xlab = \"PC1\"\n",
    "    , ylab = \"PC2\"\n",
    "    , main = \"Segmentação com PCA\")\n",
    "\n",
    "legend(2, 2.5\n",
    "      , unique(iris$Species)\n",
    "      , col = 1:length(iris$Species)\n",
    "      , pch = 15)\n",
    "\n",
    "plot(pca$x[,3], pca$x[,4]\n",
    "    , col = iris[,5]\n",
    "    , pch = 15\n",
    "    , xlab = \"PC3\"\n",
    "    , ylab = \"PC4\"\n",
    "    , main = \"Segmentação com PCA\")\n",
    "\n",
    "legend(2, 2.5\n",
    "      , unique(iris$Species)\n",
    "      , col = 1:length(iris$Species)\n",
    "      , pch = 15)"
   ]
  },
  {
   "cell_type": "code",
   "execution_count": null,
   "id": "f51607e4",
   "metadata": {},
   "outputs": [],
   "source": []
  }
 ],
 "metadata": {
  "kernelspec": {
   "display_name": "R",
   "language": "R",
   "name": "ir"
  },
  "language_info": {
   "codemirror_mode": "r",
   "file_extension": ".r",
   "mimetype": "text/x-r-source",
   "name": "R",
   "pygments_lexer": "r",
   "version": "3.6.1"
  }
 },
 "nbformat": 4,
 "nbformat_minor": 5
}
