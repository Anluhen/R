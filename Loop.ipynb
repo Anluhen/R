{
 "cells": [
  {
   "cell_type": "code",
   "execution_count": 5,
   "id": "774c1e45",
   "metadata": {},
   "outputs": [],
   "source": [
    "var <- c(\"Eu\", \"vou\", \"aprender\", \"a\", \"programar\")"
   ]
  },
  {
   "cell_type": "code",
   "execution_count": 6,
   "id": "674dfab5",
   "metadata": {},
   "outputs": [
    {
     "data": {
      "text/html": [
       "5"
      ],
      "text/latex": [
       "5"
      ],
      "text/markdown": [
       "5"
      ],
      "text/plain": [
       "[1] 5"
      ]
     },
     "metadata": {},
     "output_type": "display_data"
    }
   ],
   "source": [
    "length(var)"
   ]
  },
  {
   "cell_type": "code",
   "execution_count": 7,
   "id": "f0f0814c",
   "metadata": {},
   "outputs": [
    {
     "name": "stdout",
     "output_type": "stream",
     "text": [
      "[1] \"Eu\"        \"vou\"       \"aprender\"  \"a\"         \"programar\"\n"
     ]
    }
   ],
   "source": [
    "print(var)"
   ]
  },
  {
   "cell_type": "code",
   "execution_count": 8,
   "id": "5500a5fe",
   "metadata": {},
   "outputs": [
    {
     "name": "stdout",
     "output_type": "stream",
     "text": [
      "[1] \"Eu\"\n",
      "[1] \"vou\"\n",
      "[1] \"aprender\"\n",
      "[1] \"a\"\n",
      "[1] \"programar\"\n"
     ]
    }
   ],
   "source": [
    "for(i in 1:length(var)){\n",
    "    print(var[i])\n",
    "}"
   ]
  },
  {
   "cell_type": "code",
   "execution_count": 14,
   "id": "e5dfd1f6",
   "metadata": {},
   "outputs": [
    {
     "name": "stdout",
     "output_type": "stream",
     "text": [
      "[1] \"Eu\"\n",
      "[1] \"vou\"\n",
      "[1] \"aprender\"\n",
      "[1] \"a\"\n",
      "[1] \"programar\"\n",
      "[1] \"Acabou\"\n"
     ]
    }
   ],
   "source": [
    "for(i in 0:length(var)+1){\n",
    "    if (i > length(var)){\n",
    "        print(\"Acabou\")\n",
    "    } else{\n",
    "        print(var[i])\n",
    "    }\n",
    "}"
   ]
  },
  {
   "cell_type": "code",
   "execution_count": 15,
   "id": "87f50463",
   "metadata": {},
   "outputs": [
    {
     "data": {
      "text/html": [
       "<ol class=list-inline>\n",
       "\t<li>3</li>\n",
       "\t<li>3</li>\n",
       "</ol>\n"
      ],
      "text/latex": [
       "\\begin{enumerate*}\n",
       "\\item 3\n",
       "\\item 3\n",
       "\\end{enumerate*}\n"
      ],
      "text/markdown": [
       "1. 3\n",
       "2. 3\n",
       "\n",
       "\n"
      ],
      "text/plain": [
       "[1] 3 3"
      ]
     },
     "metadata": {},
     "output_type": "display_data"
    },
    {
     "data": {
      "text/html": [
       "<table>\n",
       "<tbody>\n",
       "\t<tr><td>2010</td><td>2013</td><td>2017</td></tr>\n",
       "\t<tr><td>2011</td><td>2014</td><td>2018</td></tr>\n",
       "\t<tr><td>2012</td><td>2015</td><td>2019</td></tr>\n",
       "</tbody>\n",
       "</table>\n"
      ],
      "text/latex": [
       "\\begin{tabular}{lll}\n",
       "\t 2010 & 2013 & 2017\\\\\n",
       "\t 2011 & 2014 & 2018\\\\\n",
       "\t 2012 & 2015 & 2019\\\\\n",
       "\\end{tabular}\n"
      ],
      "text/markdown": [
       "\n",
       "| 2010 | 2013 | 2017 |\n",
       "| 2011 | 2014 | 2018 |\n",
       "| 2012 | 2015 | 2019 |\n",
       "\n"
      ],
      "text/plain": [
       "     [,1] [,2] [,3]\n",
       "[1,] 2010 2013 2017\n",
       "[2,] 2011 2014 2018\n",
       "[3,] 2012 2015 2019"
      ]
     },
     "metadata": {},
     "output_type": "display_data"
    }
   ],
   "source": [
    "matrix_loop <- matrix(c(2010,2011,2012,2013,2014,2015,2017,2018,2019), nrow=3, ncol=3, byrow = F)\n",
    "\n",
    "dim(matrix_loop)\n",
    "\n",
    "matrix_loop"
   ]
  },
  {
   "cell_type": "code",
   "execution_count": 18,
   "id": "35cf3b69",
   "metadata": {},
   "outputs": [
    {
     "data": {
      "text/html": [
       "3"
      ],
      "text/latex": [
       "3"
      ],
      "text/markdown": [
       "3"
      ],
      "text/plain": [
       "[1] 3"
      ]
     },
     "metadata": {},
     "output_type": "display_data"
    }
   ],
   "source": [
    "dim(matrix_loop)[1]"
   ]
  },
  {
   "cell_type": "code",
   "execution_count": 19,
   "id": "46e7f4f0",
   "metadata": {},
   "outputs": [
    {
     "name": "stdout",
     "output_type": "stream",
     "text": [
      "[1] 2010\n",
      "[1] 2011\n",
      "[1] 2012\n",
      "[1] 2013\n",
      "[1] 2014\n",
      "[1] 2015\n",
      "[1] 2017\n",
      "[1] 2018\n",
      "[1] 2019\n"
     ]
    }
   ],
   "source": [
    "for(j in 1:dim(matrix_loop)[2]){\n",
    "    for(i in 1: dim(matrix_loop)[1]){\n",
    "        print(matrix_loop[i,j])\n",
    "    }\n",
    "}"
   ]
  },
  {
   "cell_type": "code",
   "execution_count": 22,
   "id": "58577c29",
   "metadata": {},
   "outputs": [
    {
     "data": {
      "text/html": [
       "<table>\n",
       "<tbody>\n",
       "\t<tr><td>0</td><td>0</td><td>0</td><td>0</td><td>0</td><td>0</td><td>0</td><td>0</td><td>0</td><td>0</td><td>0</td><td>0</td><td>0</td><td>0</td><td>0</td></tr>\n",
       "\t<tr><td>0</td><td>0</td><td>0</td><td>0</td><td>0</td><td>0</td><td>0</td><td>0</td><td>0</td><td>0</td><td>0</td><td>0</td><td>0</td><td>0</td><td>0</td></tr>\n",
       "\t<tr><td>0</td><td>0</td><td>0</td><td>0</td><td>0</td><td>0</td><td>0</td><td>0</td><td>0</td><td>0</td><td>0</td><td>0</td><td>0</td><td>0</td><td>0</td></tr>\n",
       "\t<tr><td>0</td><td>0</td><td>0</td><td>0</td><td>0</td><td>0</td><td>0</td><td>0</td><td>0</td><td>0</td><td>0</td><td>0</td><td>0</td><td>0</td><td>0</td></tr>\n",
       "\t<tr><td>0</td><td>0</td><td>0</td><td>0</td><td>0</td><td>0</td><td>0</td><td>0</td><td>0</td><td>0</td><td>0</td><td>0</td><td>0</td><td>0</td><td>0</td></tr>\n",
       "\t<tr><td>0</td><td>0</td><td>0</td><td>0</td><td>0</td><td>0</td><td>0</td><td>0</td><td>0</td><td>0</td><td>0</td><td>0</td><td>0</td><td>0</td><td>0</td></tr>\n",
       "\t<tr><td>0</td><td>0</td><td>0</td><td>0</td><td>0</td><td>0</td><td>0</td><td>0</td><td>0</td><td>0</td><td>0</td><td>0</td><td>0</td><td>0</td><td>0</td></tr>\n",
       "\t<tr><td>0</td><td>0</td><td>0</td><td>0</td><td>0</td><td>0</td><td>0</td><td>0</td><td>0</td><td>0</td><td>0</td><td>0</td><td>0</td><td>0</td><td>0</td></tr>\n",
       "\t<tr><td>0</td><td>0</td><td>0</td><td>0</td><td>0</td><td>0</td><td>0</td><td>0</td><td>0</td><td>0</td><td>0</td><td>0</td><td>0</td><td>0</td><td>0</td></tr>\n",
       "\t<tr><td>0</td><td>0</td><td>0</td><td>0</td><td>0</td><td>0</td><td>0</td><td>0</td><td>0</td><td>0</td><td>0</td><td>0</td><td>0</td><td>0</td><td>0</td></tr>\n",
       "</tbody>\n",
       "</table>\n"
      ],
      "text/latex": [
       "\\begin{tabular}{lllllllllllllll}\n",
       "\t 0 & 0 & 0 & 0 & 0 & 0 & 0 & 0 & 0 & 0 & 0 & 0 & 0 & 0 & 0\\\\\n",
       "\t 0 & 0 & 0 & 0 & 0 & 0 & 0 & 0 & 0 & 0 & 0 & 0 & 0 & 0 & 0\\\\\n",
       "\t 0 & 0 & 0 & 0 & 0 & 0 & 0 & 0 & 0 & 0 & 0 & 0 & 0 & 0 & 0\\\\\n",
       "\t 0 & 0 & 0 & 0 & 0 & 0 & 0 & 0 & 0 & 0 & 0 & 0 & 0 & 0 & 0\\\\\n",
       "\t 0 & 0 & 0 & 0 & 0 & 0 & 0 & 0 & 0 & 0 & 0 & 0 & 0 & 0 & 0\\\\\n",
       "\t 0 & 0 & 0 & 0 & 0 & 0 & 0 & 0 & 0 & 0 & 0 & 0 & 0 & 0 & 0\\\\\n",
       "\t 0 & 0 & 0 & 0 & 0 & 0 & 0 & 0 & 0 & 0 & 0 & 0 & 0 & 0 & 0\\\\\n",
       "\t 0 & 0 & 0 & 0 & 0 & 0 & 0 & 0 & 0 & 0 & 0 & 0 & 0 & 0 & 0\\\\\n",
       "\t 0 & 0 & 0 & 0 & 0 & 0 & 0 & 0 & 0 & 0 & 0 & 0 & 0 & 0 & 0\\\\\n",
       "\t 0 & 0 & 0 & 0 & 0 & 0 & 0 & 0 & 0 & 0 & 0 & 0 & 0 & 0 & 0\\\\\n",
       "\\end{tabular}\n"
      ],
      "text/markdown": [
       "\n",
       "| 0 | 0 | 0 | 0 | 0 | 0 | 0 | 0 | 0 | 0 | 0 | 0 | 0 | 0 | 0 |\n",
       "| 0 | 0 | 0 | 0 | 0 | 0 | 0 | 0 | 0 | 0 | 0 | 0 | 0 | 0 | 0 |\n",
       "| 0 | 0 | 0 | 0 | 0 | 0 | 0 | 0 | 0 | 0 | 0 | 0 | 0 | 0 | 0 |\n",
       "| 0 | 0 | 0 | 0 | 0 | 0 | 0 | 0 | 0 | 0 | 0 | 0 | 0 | 0 | 0 |\n",
       "| 0 | 0 | 0 | 0 | 0 | 0 | 0 | 0 | 0 | 0 | 0 | 0 | 0 | 0 | 0 |\n",
       "| 0 | 0 | 0 | 0 | 0 | 0 | 0 | 0 | 0 | 0 | 0 | 0 | 0 | 0 | 0 |\n",
       "| 0 | 0 | 0 | 0 | 0 | 0 | 0 | 0 | 0 | 0 | 0 | 0 | 0 | 0 | 0 |\n",
       "| 0 | 0 | 0 | 0 | 0 | 0 | 0 | 0 | 0 | 0 | 0 | 0 | 0 | 0 | 0 |\n",
       "| 0 | 0 | 0 | 0 | 0 | 0 | 0 | 0 | 0 | 0 | 0 | 0 | 0 | 0 | 0 |\n",
       "| 0 | 0 | 0 | 0 | 0 | 0 | 0 | 0 | 0 | 0 | 0 | 0 | 0 | 0 | 0 |\n",
       "\n"
      ],
      "text/plain": [
       "      [,1] [,2] [,3] [,4] [,5] [,6] [,7] [,8] [,9] [,10] [,11] [,12] [,13]\n",
       " [1,] 0    0    0    0    0    0    0    0    0    0     0     0     0    \n",
       " [2,] 0    0    0    0    0    0    0    0    0    0     0     0     0    \n",
       " [3,] 0    0    0    0    0    0    0    0    0    0     0     0     0    \n",
       " [4,] 0    0    0    0    0    0    0    0    0    0     0     0     0    \n",
       " [5,] 0    0    0    0    0    0    0    0    0    0     0     0     0    \n",
       " [6,] 0    0    0    0    0    0    0    0    0    0     0     0     0    \n",
       " [7,] 0    0    0    0    0    0    0    0    0    0     0     0     0    \n",
       " [8,] 0    0    0    0    0    0    0    0    0    0     0     0     0    \n",
       " [9,] 0    0    0    0    0    0    0    0    0    0     0     0     0    \n",
       "[10,] 0    0    0    0    0    0    0    0    0    0     0     0     0    \n",
       "      [,14] [,15]\n",
       " [1,] 0     0    \n",
       " [2,] 0     0    \n",
       " [3,] 0     0    \n",
       " [4,] 0     0    \n",
       " [5,] 0     0    \n",
       " [6,] 0     0    \n",
       " [7,] 0     0    \n",
       " [8,] 0     0    \n",
       " [9,] 0     0    \n",
       "[10,] 0     0    "
      ]
     },
     "metadata": {},
     "output_type": "display_data"
    }
   ],
   "source": [
    "anos <- matrix(0, 10, 15)\n",
    "              \n",
    "anos"
   ]
  },
  {
   "cell_type": "code",
   "execution_count": 31,
   "id": "40d6b46a",
   "metadata": {},
   "outputs": [],
   "source": [
    "inicio <- 2010"
   ]
  },
  {
   "cell_type": "code",
   "execution_count": 32,
   "id": "2b5fa0fa",
   "metadata": {},
   "outputs": [
    {
     "ename": "ERROR",
     "evalue": "Error in `[<-`(`*tmp*`, i, j, value = inicio): índice fora de limites\n",
     "output_type": "error",
     "traceback": [
      "Error in `[<-`(`*tmp*`, i, j, value = inicio): índice fora de limites\nTraceback:\n"
     ]
    }
   ],
   "source": [
    "for(i in 1:dim(anos)[2]){\n",
    "    for(j in 1:dim(anos)[1]){\n",
    "        anos[i,j] <- inicio\n",
    "        inicio <- inicio + 1\n",
    "    }\n",
    "}"
   ]
  },
  {
   "cell_type": "code",
   "execution_count": 33,
   "id": "2d5986b5",
   "metadata": {},
   "outputs": [
    {
     "data": {
      "text/html": [
       "<table>\n",
       "<tbody>\n",
       "\t<tr><td>2010</td><td>2011</td><td>2012</td><td>2013</td><td>2014</td><td>2015</td><td>2016</td><td>2017</td><td>2018</td><td>2019</td><td>2110</td><td>2120</td><td>2130</td><td>2140</td><td>2150</td></tr>\n",
       "\t<tr><td>2020</td><td>2021</td><td>2022</td><td>2023</td><td>2024</td><td>2025</td><td>2026</td><td>2027</td><td>2028</td><td>2029</td><td>2111</td><td>2121</td><td>2131</td><td>2141</td><td>2151</td></tr>\n",
       "\t<tr><td>2030</td><td>2031</td><td>2032</td><td>2033</td><td>2034</td><td>2035</td><td>2036</td><td>2037</td><td>2038</td><td>2039</td><td>2112</td><td>2122</td><td>2132</td><td>2142</td><td>2152</td></tr>\n",
       "\t<tr><td>2040</td><td>2041</td><td>2042</td><td>2043</td><td>2044</td><td>2045</td><td>2046</td><td>2047</td><td>2048</td><td>2049</td><td>2113</td><td>2123</td><td>2133</td><td>2143</td><td>2153</td></tr>\n",
       "\t<tr><td>2050</td><td>2051</td><td>2052</td><td>2053</td><td>2054</td><td>2055</td><td>2056</td><td>2057</td><td>2058</td><td>2059</td><td>2114</td><td>2124</td><td>2134</td><td>2144</td><td>2154</td></tr>\n",
       "\t<tr><td>2060</td><td>2061</td><td>2062</td><td>2063</td><td>2064</td><td>2065</td><td>2066</td><td>2067</td><td>2068</td><td>2069</td><td>2115</td><td>2125</td><td>2135</td><td>2145</td><td>2155</td></tr>\n",
       "\t<tr><td>2070</td><td>2071</td><td>2072</td><td>2073</td><td>2074</td><td>2075</td><td>2076</td><td>2077</td><td>2078</td><td>2079</td><td>2116</td><td>2126</td><td>2136</td><td>2146</td><td>2156</td></tr>\n",
       "\t<tr><td>2080</td><td>2081</td><td>2082</td><td>2083</td><td>2084</td><td>2085</td><td>2086</td><td>2087</td><td>2088</td><td>2089</td><td>2117</td><td>2127</td><td>2137</td><td>2147</td><td>2157</td></tr>\n",
       "\t<tr><td>2090</td><td>2091</td><td>2092</td><td>2093</td><td>2094</td><td>2095</td><td>2096</td><td>2097</td><td>2098</td><td>2099</td><td>2118</td><td>2128</td><td>2138</td><td>2148</td><td>2158</td></tr>\n",
       "\t<tr><td>2100</td><td>2101</td><td>2102</td><td>2103</td><td>2104</td><td>2105</td><td>2106</td><td>2107</td><td>2108</td><td>2109</td><td>2119</td><td>2129</td><td>2139</td><td>2149</td><td>2159</td></tr>\n",
       "</tbody>\n",
       "</table>\n"
      ],
      "text/latex": [
       "\\begin{tabular}{lllllllllllllll}\n",
       "\t 2010 & 2011 & 2012 & 2013 & 2014 & 2015 & 2016 & 2017 & 2018 & 2019 & 2110 & 2120 & 2130 & 2140 & 2150\\\\\n",
       "\t 2020 & 2021 & 2022 & 2023 & 2024 & 2025 & 2026 & 2027 & 2028 & 2029 & 2111 & 2121 & 2131 & 2141 & 2151\\\\\n",
       "\t 2030 & 2031 & 2032 & 2033 & 2034 & 2035 & 2036 & 2037 & 2038 & 2039 & 2112 & 2122 & 2132 & 2142 & 2152\\\\\n",
       "\t 2040 & 2041 & 2042 & 2043 & 2044 & 2045 & 2046 & 2047 & 2048 & 2049 & 2113 & 2123 & 2133 & 2143 & 2153\\\\\n",
       "\t 2050 & 2051 & 2052 & 2053 & 2054 & 2055 & 2056 & 2057 & 2058 & 2059 & 2114 & 2124 & 2134 & 2144 & 2154\\\\\n",
       "\t 2060 & 2061 & 2062 & 2063 & 2064 & 2065 & 2066 & 2067 & 2068 & 2069 & 2115 & 2125 & 2135 & 2145 & 2155\\\\\n",
       "\t 2070 & 2071 & 2072 & 2073 & 2074 & 2075 & 2076 & 2077 & 2078 & 2079 & 2116 & 2126 & 2136 & 2146 & 2156\\\\\n",
       "\t 2080 & 2081 & 2082 & 2083 & 2084 & 2085 & 2086 & 2087 & 2088 & 2089 & 2117 & 2127 & 2137 & 2147 & 2157\\\\\n",
       "\t 2090 & 2091 & 2092 & 2093 & 2094 & 2095 & 2096 & 2097 & 2098 & 2099 & 2118 & 2128 & 2138 & 2148 & 2158\\\\\n",
       "\t 2100 & 2101 & 2102 & 2103 & 2104 & 2105 & 2106 & 2107 & 2108 & 2109 & 2119 & 2129 & 2139 & 2149 & 2159\\\\\n",
       "\\end{tabular}\n"
      ],
      "text/markdown": [
       "\n",
       "| 2010 | 2011 | 2012 | 2013 | 2014 | 2015 | 2016 | 2017 | 2018 | 2019 | 2110 | 2120 | 2130 | 2140 | 2150 |\n",
       "| 2020 | 2021 | 2022 | 2023 | 2024 | 2025 | 2026 | 2027 | 2028 | 2029 | 2111 | 2121 | 2131 | 2141 | 2151 |\n",
       "| 2030 | 2031 | 2032 | 2033 | 2034 | 2035 | 2036 | 2037 | 2038 | 2039 | 2112 | 2122 | 2132 | 2142 | 2152 |\n",
       "| 2040 | 2041 | 2042 | 2043 | 2044 | 2045 | 2046 | 2047 | 2048 | 2049 | 2113 | 2123 | 2133 | 2143 | 2153 |\n",
       "| 2050 | 2051 | 2052 | 2053 | 2054 | 2055 | 2056 | 2057 | 2058 | 2059 | 2114 | 2124 | 2134 | 2144 | 2154 |\n",
       "| 2060 | 2061 | 2062 | 2063 | 2064 | 2065 | 2066 | 2067 | 2068 | 2069 | 2115 | 2125 | 2135 | 2145 | 2155 |\n",
       "| 2070 | 2071 | 2072 | 2073 | 2074 | 2075 | 2076 | 2077 | 2078 | 2079 | 2116 | 2126 | 2136 | 2146 | 2156 |\n",
       "| 2080 | 2081 | 2082 | 2083 | 2084 | 2085 | 2086 | 2087 | 2088 | 2089 | 2117 | 2127 | 2137 | 2147 | 2157 |\n",
       "| 2090 | 2091 | 2092 | 2093 | 2094 | 2095 | 2096 | 2097 | 2098 | 2099 | 2118 | 2128 | 2138 | 2148 | 2158 |\n",
       "| 2100 | 2101 | 2102 | 2103 | 2104 | 2105 | 2106 | 2107 | 2108 | 2109 | 2119 | 2129 | 2139 | 2149 | 2159 |\n",
       "\n"
      ],
      "text/plain": [
       "      [,1] [,2] [,3] [,4] [,5] [,6] [,7] [,8] [,9] [,10] [,11] [,12] [,13]\n",
       " [1,] 2010 2011 2012 2013 2014 2015 2016 2017 2018 2019  2110  2120  2130 \n",
       " [2,] 2020 2021 2022 2023 2024 2025 2026 2027 2028 2029  2111  2121  2131 \n",
       " [3,] 2030 2031 2032 2033 2034 2035 2036 2037 2038 2039  2112  2122  2132 \n",
       " [4,] 2040 2041 2042 2043 2044 2045 2046 2047 2048 2049  2113  2123  2133 \n",
       " [5,] 2050 2051 2052 2053 2054 2055 2056 2057 2058 2059  2114  2124  2134 \n",
       " [6,] 2060 2061 2062 2063 2064 2065 2066 2067 2068 2069  2115  2125  2135 \n",
       " [7,] 2070 2071 2072 2073 2074 2075 2076 2077 2078 2079  2116  2126  2136 \n",
       " [8,] 2080 2081 2082 2083 2084 2085 2086 2087 2088 2089  2117  2127  2137 \n",
       " [9,] 2090 2091 2092 2093 2094 2095 2096 2097 2098 2099  2118  2128  2138 \n",
       "[10,] 2100 2101 2102 2103 2104 2105 2106 2107 2108 2109  2119  2129  2139 \n",
       "      [,14] [,15]\n",
       " [1,] 2140  2150 \n",
       " [2,] 2141  2151 \n",
       " [3,] 2142  2152 \n",
       " [4,] 2143  2153 \n",
       " [5,] 2144  2154 \n",
       " [6,] 2145  2155 \n",
       " [7,] 2146  2156 \n",
       " [8,] 2147  2157 \n",
       " [9,] 2148  2158 \n",
       "[10,] 2149  2159 "
      ]
     },
     "metadata": {},
     "output_type": "display_data"
    }
   ],
   "source": [
    "anos"
   ]
  },
  {
   "cell_type": "code",
   "execution_count": 35,
   "id": "45dacde5",
   "metadata": {},
   "outputs": [
    {
     "name": "stdout",
     "output_type": "stream",
     "text": [
      "[1] \"Eu\"\n",
      "[1] \"vou\"\n",
      "[1] \"aprender\"\n",
      "[1] \"a\"\n",
      "[1] \"programar\"\n",
      "[1] \"Acabou\"\n"
     ]
    }
   ],
   "source": [
    "i <- 1\n",
    "\n",
    "while (i < length(var)+1){\n",
    "    print(var[i])\n",
    "    i <- i + 1\n",
    "    if (i > length(var)){\n",
    "        print(\"Acabou\")\n",
    "    }\n",
    "}"
   ]
  },
  {
   "cell_type": "code",
   "execution_count": 52,
   "id": "52ad42a5",
   "metadata": {},
   "outputs": [
    {
     "name": "stdout",
     "output_type": "stream",
     "text": [
      " [1]            0            1            1            2            3\n",
      " [6]            5            8           13           21           34\n",
      "[11]           55           89          144          233          377\n",
      "[16]          610          987         1597         2584         4181\n",
      "[21]         6765        10946        17711        28657        46368\n",
      "[26]        75025       121393       196418       317811       514229\n",
      "[31]       832040      1346269      2178309      3524578      5702887\n",
      "[36]      9227465     14930352     24157817     39088169     63245986\n",
      "[41]    102334155    165580141    267914296    433494437    701408733\n",
      "[46]   1134903170   1836311903   2971215073   4807526976   7778742049\n",
      "[51]  12586269025  20365011074  32951280099  53316291173  86267571272\n",
      "[56] 139583862445 225851433717 365435296162 591286729879 956722026041\n"
     ]
    }
   ],
   "source": [
    "n_elementos <- 60\n",
    "fibonacci <- numeric(n_elementos)\n",
    "fibonacci[1] <- 0\n",
    "fibonacci[2] <- 1\n",
    "for(i in 3:n_elementos){\n",
    "    fibonacci[i] <- fibonacci[i-1] + fibonacci[i-2]\n",
    "}\n",
    "\n",
    "print(fibonacci)"
   ]
  },
  {
   "cell_type": "code",
   "execution_count": null,
   "id": "2c60476c",
   "metadata": {},
   "outputs": [],
   "source": []
  }
 ],
 "metadata": {
  "kernelspec": {
   "display_name": "R",
   "language": "R",
   "name": "ir"
  },
  "language_info": {
   "codemirror_mode": "r",
   "file_extension": ".r",
   "mimetype": "text/x-r-source",
   "name": "R",
   "pygments_lexer": "r",
   "version": "3.6.1"
  }
 },
 "nbformat": 4,
 "nbformat_minor": 5
}
