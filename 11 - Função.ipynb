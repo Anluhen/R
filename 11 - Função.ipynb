{
 "cells": [
  {
   "cell_type": "code",
   "execution_count": 1,
   "id": "441b360d",
   "metadata": {},
   "outputs": [],
   "source": [
    "# Primeira função\n",
    "\n",
    "soma_quadrados <- function(a,b){\n",
    "    a^2 + b^2\n",
    "}"
   ]
  },
  {
   "cell_type": "code",
   "execution_count": 5,
   "id": "9fcafbee",
   "metadata": {},
   "outputs": [
    {
     "data": {
      "text/html": [
       "<pre class=language-r><code>function (a, b) \n",
       "{\n",
       "<span style=white-space:pre-wrap>    a^2 + b^2</span>\n",
       "}</code></pre>"
      ],
      "text/latex": [
       "\\begin{minted}{r}\n",
       "function (a, b) \n",
       "\\{\n",
       "    a\\textasciicircum{}2 + b\\textasciicircum{}2\n",
       "\\}\n",
       "\\end{minted}"
      ],
      "text/markdown": [
       "```r\n",
       "function (a, b) \n",
       "{\n",
       "    a^2 + b^2\n",
       "}\n",
       "```"
      ],
      "text/plain": [
       "function(a,b){\n",
       "    a^2 + b^2\n",
       "}\n",
       "<bytecode: 0x000000000c889ec8>"
      ]
     },
     "metadata": {},
     "output_type": "display_data"
    }
   ],
   "source": [
    "soma_quadrados"
   ]
  },
  {
   "cell_type": "code",
   "execution_count": 2,
   "id": "62d13024",
   "metadata": {},
   "outputs": [
    {
     "data": {
      "text/html": [
       "53"
      ],
      "text/latex": [
       "53"
      ],
      "text/markdown": [
       "53"
      ],
      "text/plain": [
       "[1] 53"
      ]
     },
     "metadata": {},
     "output_type": "display_data"
    }
   ],
   "source": [
    "#Chama função\n",
    "\n",
    "soma_quadrados(2,7)"
   ]
  },
  {
   "cell_type": "code",
   "execution_count": 4,
   "id": "6ee942d0",
   "metadata": {},
   "outputs": [
    {
     "data": {
      "text/html": [
       "25"
      ],
      "text/latex": [
       "25"
      ],
      "text/markdown": [
       "25"
      ],
      "text/plain": [
       "[1] 25"
      ]
     },
     "metadata": {},
     "output_type": "display_data"
    }
   ],
   "source": [
    "soma <- soma_quadrados(3,4)\n",
    "\n",
    "soma"
   ]
  },
  {
   "cell_type": "code",
   "execution_count": 6,
   "id": "70d9d443",
   "metadata": {},
   "outputs": [
    {
     "data": {
      "text/html": [
       "<pre class=language-r><code>function (data = NA, nrow = 1, ncol = 1, byrow = FALSE, dimnames = NULL) \n",
       "{\n",
       "<span style=white-space:pre-wrap>    if (is.object(data) || !is.atomic(data)) </span>\n",
       "<span style=white-space:pre-wrap>        data &lt;- as.vector(data)</span>\n",
       "<span style=white-space:pre-wrap>    .Internal(matrix(data, nrow, ncol, byrow, dimnames, missing(nrow), </span>\n",
       "<span style=white-space:pre-wrap>        missing(ncol)))</span>\n",
       "}</code></pre>"
      ],
      "text/latex": [
       "\\begin{minted}{r}\n",
       "function (data = NA, nrow = 1, ncol = 1, byrow = FALSE, dimnames = NULL) \n",
       "\\{\n",
       "    if (is.object(data) \\textbar{}\\textbar{} !is.atomic(data)) \n",
       "        data <- as.vector(data)\n",
       "    .Internal(matrix(data, nrow, ncol, byrow, dimnames, missing(nrow), \n",
       "        missing(ncol)))\n",
       "\\}\n",
       "\\end{minted}"
      ],
      "text/markdown": [
       "```r\n",
       "function (data = NA, nrow = 1, ncol = 1, byrow = FALSE, dimnames = NULL) \n",
       "{\n",
       "    if (is.object(data) || !is.atomic(data)) \n",
       "        data <- as.vector(data)\n",
       "    .Internal(matrix(data, nrow, ncol, byrow, dimnames, missing(nrow), \n",
       "        missing(ncol)))\n",
       "}\n",
       "```"
      ],
      "text/plain": [
       "function (data = NA, nrow = 1, ncol = 1, byrow = FALSE, dimnames = NULL) \n",
       "{\n",
       "    if (is.object(data) || !is.atomic(data)) \n",
       "        data <- as.vector(data)\n",
       "    .Internal(matrix(data, nrow, ncol, byrow, dimnames, missing(nrow), \n",
       "        missing(ncol)))\n",
       "}\n",
       "<bytecode: 0x0000000027e63470>\n",
       "<environment: namespace:base>"
      ]
     },
     "metadata": {},
     "output_type": "display_data"
    }
   ],
   "source": [
    "matrix"
   ]
  },
  {
   "cell_type": "code",
   "execution_count": 7,
   "id": "550b0629",
   "metadata": {},
   "outputs": [],
   "source": [
    "#Uma função não precisa de argumentos\n",
    "\n",
    "dia_de_hoje <- function(){\n",
    "    print(paste(\"Hoje é\", Sys.Date(), sep=\" \"))\n",
    "}"
   ]
  },
  {
   "cell_type": "code",
   "execution_count": 10,
   "id": "aa83fd4f",
   "metadata": {},
   "outputs": [
    {
     "name": "stdout",
     "output_type": "stream",
     "text": [
      "[1] \"Hoje é 2022-02-15\"\n"
     ]
    }
   ],
   "source": [
    "dia_de_hoje()"
   ]
  },
  {
   "cell_type": "code",
   "execution_count": 11,
   "id": "213f7e80",
   "metadata": {},
   "outputs": [],
   "source": [
    "dia_de_hoje <- function(texto = \"Hoje é\"){\n",
    "    print(paste(texto, Sys.Date(), sep=\" \"))\n",
    "}"
   ]
  },
  {
   "cell_type": "code",
   "execution_count": 12,
   "id": "5a17782a",
   "metadata": {},
   "outputs": [
    {
     "name": "stdout",
     "output_type": "stream",
     "text": [
      "[1] \"Hoje é 2022-02-15\"\n"
     ]
    }
   ],
   "source": [
    "dia_de_hoje()"
   ]
  },
  {
   "cell_type": "code",
   "execution_count": 13,
   "id": "f4298cf3",
   "metadata": {},
   "outputs": [
    {
     "name": "stdout",
     "output_type": "stream",
     "text": [
      "[1] \"No Brasil hoje é 2022-02-15\"\n"
     ]
    }
   ],
   "source": [
    "dia_de_hoje(\"No Brasil hoje é\")"
   ]
  },
  {
   "cell_type": "code",
   "execution_count": 17,
   "id": "715d7261",
   "metadata": {},
   "outputs": [],
   "source": [
    "mio_fibonacci <- function(elementos){\n",
    "    fibonacci <- numeric(elementos)\n",
    "    fibonacci[1] <- 0\n",
    "    fibonacci[2] <- 1\n",
    "    for(i in 3:elementos){\n",
    "        fibonacci[i] <- fibonacci[i-1] + fibonacci[i-2]\n",
    "    }\n",
    "\n",
    "    print(fibonacci)\n",
    "}"
   ]
  },
  {
   "cell_type": "code",
   "execution_count": 19,
   "id": "f8b4902d",
   "metadata": {
    "scrolled": true
   },
   "outputs": [
    {
     "name": "stdout",
     "output_type": "stream",
     "text": [
      " [1]   0   1   1   2   3   5   8  13  21  34  55  89 144 233 377\n"
     ]
    }
   ],
   "source": [
    "mio_fibonacci(15)"
   ]
  },
  {
   "cell_type": "code",
   "execution_count": 21,
   "id": "41d58006",
   "metadata": {},
   "outputs": [],
   "source": [
    "minha_rna <- function(input, output, interacoes){\n",
    "\n",
    "    w1 <- matrix(runif(n=2*dim(input)[1], min=-1, max=1), nrow=dim(input)[2])\n",
    "    w2 <- matrix(runif(n= dim(output)[1], -1, 1), nrow=dim(output)[1])\n",
    "\n",
    "    for (interação in 1:interacoes) {\n",
    "        camada1 = 1 / (1 + exp(-(input %*% w1)))\n",
    "        camada2 = 1 / (1+ exp(-(camada1 %*% w2)))\n",
    "        camada2_delta = (output-camada2)*(camada2*(1-camada2))\n",
    "        camada1_delta = (camada2_delta %*% t(w2)) * (camada1*(1-camada1))\n",
    "        w2 = w2 + t(camada1) %*% camada2_delta\n",
    "        w1 = w1 + t(input) %*% camada1_delta\n",
    "    }\n",
    "    \n",
    "    print(round(camada2))\n",
    "}"
   ]
  },
  {
   "cell_type": "code",
   "execution_count": 22,
   "id": "8e07f1b5",
   "metadata": {},
   "outputs": [
    {
     "name": "stdout",
     "output_type": "stream",
     "text": [
      "     [,1]\n",
      "[1,]    0\n",
      "[2,]    0\n",
      "[3,]    0\n",
      "[4,]    1\n"
     ]
    }
   ],
   "source": [
    "entradas <- matrix(c(0,0,0,1,1,0,1,1), nrow=4, byrow=T)\n",
    "saidas <- matrix(c(0,0,0,1), nrow=4)\n",
    "\n",
    "minha_rna(entradas,saidas,1000)"
   ]
  },
  {
   "cell_type": "code",
   "execution_count": 23,
   "id": "388dde18",
   "metadata": {},
   "outputs": [
    {
     "name": "stdout",
     "output_type": "stream",
     "text": [
      "     [,1]\n",
      "[1,]    0\n",
      "[2,]    1\n",
      "[3,]    1\n",
      "[4,]    1\n"
     ]
    }
   ],
   "source": [
    "entradas_or <- matrix(c(0,0,0,1,1,0,1,1), nrow=4, byrow=T)\n",
    "saidas_or <- matrix(c(0,1,1,1), nrow=4)\n",
    "\n",
    "minha_rna(entradas_or,saidas_or,1000)"
   ]
  },
  {
   "cell_type": "code",
   "execution_count": 27,
   "id": "d459d667",
   "metadata": {},
   "outputs": [
    {
     "name": "stdout",
     "output_type": "stream",
     "text": [
      "     [,1]\n",
      "[1,]    0\n",
      "[2,]    1\n",
      "[3,]    1\n",
      "[4,]    0\n"
     ]
    }
   ],
   "source": [
    "entradas_xor <- matrix(c(0,0,0,1,1,0,1,1), nrow=4, byrow=T)\n",
    "saidas_xor <- matrix(c(0,1,1,0), nrow=4)\n",
    "\n",
    "minha_rna(entradas_xor,saidas_xor,1000)"
   ]
  },
  {
   "cell_type": "code",
   "execution_count": null,
   "id": "e009c718",
   "metadata": {},
   "outputs": [],
   "source": []
  },
  {
   "cell_type": "code",
   "execution_count": null,
   "id": "7f41e983",
   "metadata": {},
   "outputs": [],
   "source": []
  }
 ],
 "metadata": {
  "kernelspec": {
   "display_name": "R",
   "language": "R",
   "name": "ir"
  },
  "language_info": {
   "codemirror_mode": "r",
   "file_extension": ".r",
   "mimetype": "text/x-r-source",
   "name": "R",
   "pygments_lexer": "r",
   "version": "3.6.1"
  }
 },
 "nbformat": 4,
 "nbformat_minor": 5
}
