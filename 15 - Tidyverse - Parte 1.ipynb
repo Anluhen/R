{
 "cells": [
  {
   "cell_type": "code",
   "execution_count": 2,
   "id": "9949045d",
   "metadata": {},
   "outputs": [
    {
     "name": "stderr",
     "output_type": "stream",
     "text": [
      "Registered S3 methods overwritten by 'ggplot2':\n",
      "  method         from \n",
      "  [.quosures     rlang\n",
      "  c.quosures     rlang\n",
      "  print.quosures rlang\n",
      "Registered S3 method overwritten by 'rvest':\n",
      "  method            from\n",
      "  read_xml.response xml2\n",
      "-- Attaching packages --------------------------------------- tidyverse 1.2.1 --\n",
      "v ggplot2 3.1.1       v purrr   0.3.2  \n",
      "v tibble  2.1.1       v dplyr   0.8.0.1\n",
      "v tidyr   0.8.3       v stringr 1.4.0  \n",
      "v readr   1.3.1       v forcats 0.4.0  \n",
      "-- Conflicts ------------------------------------------ tidyverse_conflicts() --\n",
      "x dplyr::filter() masks stats::filter()\n",
      "x dplyr::lag()    masks stats::lag()\n"
     ]
    }
   ],
   "source": [
    "library(tidyverse)"
   ]
  },
  {
   "cell_type": "code",
   "execution_count": 3,
   "id": "34de4509",
   "metadata": {},
   "outputs": [
    {
     "data": {
      "text/html": [
       "'C:/Users/andre/Google Drive/Work/OMNP/R'"
      ],
      "text/latex": [
       "'C:/Users/andre/Google Drive/Work/OMNP/R'"
      ],
      "text/markdown": [
       "'C:/Users/andre/Google Drive/Work/OMNP/R'"
      ],
      "text/plain": [
       "[1] \"C:/Users/andre/Google Drive/Work/OMNP/R\""
      ]
     },
     "metadata": {},
     "output_type": "display_data"
    }
   ],
   "source": [
    "getwd()"
   ]
  },
  {
   "cell_type": "code",
   "execution_count": 4,
   "id": "05f44a57",
   "metadata": {},
   "outputs": [],
   "source": [
    "setwd(\"Dados\")"
   ]
  },
  {
   "cell_type": "code",
   "execution_count": 5,
   "id": "be5ad2fe",
   "metadata": {},
   "outputs": [],
   "source": [
    "bank_data <- read.table(\"bank-full.csv\",\n",
    "                       header = TRUE, sep = \";\")"
   ]
  },
  {
   "cell_type": "code",
   "execution_count": 6,
   "id": "5ec1d0e7",
   "metadata": {},
   "outputs": [
    {
     "data": {
      "text/html": [
       "<table>\n",
       "<thead><tr><th scope=col>age</th><th scope=col>job</th><th scope=col>marital</th><th scope=col>education</th><th scope=col>default</th><th scope=col>balance</th><th scope=col>housing</th><th scope=col>loan</th><th scope=col>contact</th><th scope=col>day</th><th scope=col>month</th><th scope=col>duration</th><th scope=col>campaign</th><th scope=col>pdays</th><th scope=col>previous</th><th scope=col>poutcome</th><th scope=col>y</th></tr></thead>\n",
       "<tbody>\n",
       "\t<tr><td>58          </td><td>management  </td><td>married     </td><td>tertiary    </td><td>no          </td><td>2143        </td><td>yes         </td><td>no          </td><td>unknown     </td><td>5           </td><td>may         </td><td>261         </td><td>1           </td><td>-1          </td><td>0           </td><td>unknown     </td><td>no          </td></tr>\n",
       "\t<tr><td>44          </td><td>technician  </td><td>single      </td><td>secondary   </td><td>no          </td><td>  29        </td><td>yes         </td><td>no          </td><td>unknown     </td><td>5           </td><td>may         </td><td>151         </td><td>1           </td><td>-1          </td><td>0           </td><td>unknown     </td><td>no          </td></tr>\n",
       "\t<tr><td>33          </td><td>entrepreneur</td><td>married     </td><td>secondary   </td><td>no          </td><td>   2        </td><td>yes         </td><td>yes         </td><td>unknown     </td><td>5           </td><td>may         </td><td> 76         </td><td>1           </td><td>-1          </td><td>0           </td><td>unknown     </td><td>no          </td></tr>\n",
       "\t<tr><td>47          </td><td>blue-collar </td><td>married     </td><td>unknown     </td><td>no          </td><td>1506        </td><td>yes         </td><td>no          </td><td>unknown     </td><td>5           </td><td>may         </td><td> 92         </td><td>1           </td><td>-1          </td><td>0           </td><td>unknown     </td><td>no          </td></tr>\n",
       "\t<tr><td>33          </td><td>unknown     </td><td>single      </td><td>unknown     </td><td>no          </td><td>   1        </td><td>no          </td><td>no          </td><td>unknown     </td><td>5           </td><td>may         </td><td>198         </td><td>1           </td><td>-1          </td><td>0           </td><td>unknown     </td><td>no          </td></tr>\n",
       "\t<tr><td>35          </td><td>management  </td><td>married     </td><td>tertiary    </td><td>no          </td><td> 231        </td><td>yes         </td><td>no          </td><td>unknown     </td><td>5           </td><td>may         </td><td>139         </td><td>1           </td><td>-1          </td><td>0           </td><td>unknown     </td><td>no          </td></tr>\n",
       "</tbody>\n",
       "</table>\n"
      ],
      "text/latex": [
       "\\begin{tabular}{r|lllllllllllllllll}\n",
       " age & job & marital & education & default & balance & housing & loan & contact & day & month & duration & campaign & pdays & previous & poutcome & y\\\\\n",
       "\\hline\n",
       "\t 58           & management   & married      & tertiary     & no           & 2143         & yes          & no           & unknown      & 5            & may          & 261          & 1            & -1           & 0            & unknown      & no          \\\\\n",
       "\t 44           & technician   & single       & secondary    & no           &   29         & yes          & no           & unknown      & 5            & may          & 151          & 1            & -1           & 0            & unknown      & no          \\\\\n",
       "\t 33           & entrepreneur & married      & secondary    & no           &    2         & yes          & yes          & unknown      & 5            & may          &  76          & 1            & -1           & 0            & unknown      & no          \\\\\n",
       "\t 47           & blue-collar  & married      & unknown      & no           & 1506         & yes          & no           & unknown      & 5            & may          &  92          & 1            & -1           & 0            & unknown      & no          \\\\\n",
       "\t 33           & unknown      & single       & unknown      & no           &    1         & no           & no           & unknown      & 5            & may          & 198          & 1            & -1           & 0            & unknown      & no          \\\\\n",
       "\t 35           & management   & married      & tertiary     & no           &  231         & yes          & no           & unknown      & 5            & may          & 139          & 1            & -1           & 0            & unknown      & no          \\\\\n",
       "\\end{tabular}\n"
      ],
      "text/markdown": [
       "\n",
       "| age | job | marital | education | default | balance | housing | loan | contact | day | month | duration | campaign | pdays | previous | poutcome | y |\n",
       "|---|---|---|---|---|---|---|---|---|---|---|---|---|---|---|---|---|\n",
       "| 58           | management   | married      | tertiary     | no           | 2143         | yes          | no           | unknown      | 5            | may          | 261          | 1            | -1           | 0            | unknown      | no           |\n",
       "| 44           | technician   | single       | secondary    | no           |   29         | yes          | no           | unknown      | 5            | may          | 151          | 1            | -1           | 0            | unknown      | no           |\n",
       "| 33           | entrepreneur | married      | secondary    | no           |    2         | yes          | yes          | unknown      | 5            | may          |  76          | 1            | -1           | 0            | unknown      | no           |\n",
       "| 47           | blue-collar  | married      | unknown      | no           | 1506         | yes          | no           | unknown      | 5            | may          |  92          | 1            | -1           | 0            | unknown      | no           |\n",
       "| 33           | unknown      | single       | unknown      | no           |    1         | no           | no           | unknown      | 5            | may          | 198          | 1            | -1           | 0            | unknown      | no           |\n",
       "| 35           | management   | married      | tertiary     | no           |  231         | yes          | no           | unknown      | 5            | may          | 139          | 1            | -1           | 0            | unknown      | no           |\n",
       "\n"
      ],
      "text/plain": [
       "  age job          marital education default balance housing loan contact day\n",
       "1 58  management   married tertiary  no      2143    yes     no   unknown 5  \n",
       "2 44  technician   single  secondary no        29    yes     no   unknown 5  \n",
       "3 33  entrepreneur married secondary no         2    yes     yes  unknown 5  \n",
       "4 47  blue-collar  married unknown   no      1506    yes     no   unknown 5  \n",
       "5 33  unknown      single  unknown   no         1    no      no   unknown 5  \n",
       "6 35  management   married tertiary  no       231    yes     no   unknown 5  \n",
       "  month duration campaign pdays previous poutcome y \n",
       "1 may   261      1        -1    0        unknown  no\n",
       "2 may   151      1        -1    0        unknown  no\n",
       "3 may    76      1        -1    0        unknown  no\n",
       "4 may    92      1        -1    0        unknown  no\n",
       "5 may   198      1        -1    0        unknown  no\n",
       "6 may   139      1        -1    0        unknown  no"
      ]
     },
     "metadata": {},
     "output_type": "display_data"
    },
    {
     "data": {
      "text/html": [
       "<ol class=list-inline>\n",
       "\t<li>45211</li>\n",
       "\t<li>17</li>\n",
       "</ol>\n"
      ],
      "text/latex": [
       "\\begin{enumerate*}\n",
       "\\item 45211\n",
       "\\item 17\n",
       "\\end{enumerate*}\n"
      ],
      "text/markdown": [
       "1. 45211\n",
       "2. 17\n",
       "\n",
       "\n"
      ],
      "text/plain": [
       "[1] 45211    17"
      ]
     },
     "metadata": {},
     "output_type": "display_data"
    }
   ],
   "source": [
    "head(bank_data)\n",
    "\n",
    "dim(bank_data)"
   ]
  },
  {
   "cell_type": "code",
   "execution_count": 7,
   "id": "87877f6b",
   "metadata": {},
   "outputs": [],
   "source": [
    "#Salvando este head\n",
    "\n",
    "head <- head(bank_data)"
   ]
  },
  {
   "cell_type": "code",
   "execution_count": 8,
   "id": "c573ed44",
   "metadata": {},
   "outputs": [
    {
     "data": {
      "text/html": [
       "<table>\n",
       "<thead><tr><th scope=col>age</th><th scope=col>job</th><th scope=col>marital</th><th scope=col>education</th><th scope=col>default</th><th scope=col>balance</th><th scope=col>housing</th><th scope=col>loan</th><th scope=col>contact</th><th scope=col>day</th><th scope=col>month</th><th scope=col>duration</th><th scope=col>campaign</th><th scope=col>pdays</th><th scope=col>previous</th><th scope=col>poutcome</th><th scope=col>y</th></tr></thead>\n",
       "<tbody>\n",
       "\t<tr><td>58          </td><td>management  </td><td>married     </td><td>tertiary    </td><td>no          </td><td>2143        </td><td>yes         </td><td>no          </td><td>unknown     </td><td>5           </td><td>may         </td><td>261         </td><td>1           </td><td>-1          </td><td>0           </td><td>unknown     </td><td>no          </td></tr>\n",
       "\t<tr><td>44          </td><td>technician  </td><td>single      </td><td>secondary   </td><td>no          </td><td>  29        </td><td>yes         </td><td>no          </td><td>unknown     </td><td>5           </td><td>may         </td><td>151         </td><td>1           </td><td>-1          </td><td>0           </td><td>unknown     </td><td>no          </td></tr>\n",
       "\t<tr><td>33          </td><td>entrepreneur</td><td>married     </td><td>secondary   </td><td>no          </td><td>   2        </td><td>yes         </td><td>yes         </td><td>unknown     </td><td>5           </td><td>may         </td><td> 76         </td><td>1           </td><td>-1          </td><td>0           </td><td>unknown     </td><td>no          </td></tr>\n",
       "\t<tr><td>47          </td><td>blue-collar </td><td>married     </td><td>unknown     </td><td>no          </td><td>1506        </td><td>yes         </td><td>no          </td><td>unknown     </td><td>5           </td><td>may         </td><td> 92         </td><td>1           </td><td>-1          </td><td>0           </td><td>unknown     </td><td>no          </td></tr>\n",
       "\t<tr><td>33          </td><td>unknown     </td><td>single      </td><td>unknown     </td><td>no          </td><td>   1        </td><td>no          </td><td>no          </td><td>unknown     </td><td>5           </td><td>may         </td><td>198         </td><td>1           </td><td>-1          </td><td>0           </td><td>unknown     </td><td>no          </td></tr>\n",
       "\t<tr><td>35          </td><td>management  </td><td>married     </td><td>tertiary    </td><td>no          </td><td> 231        </td><td>yes         </td><td>no          </td><td>unknown     </td><td>5           </td><td>may         </td><td>139         </td><td>1           </td><td>-1          </td><td>0           </td><td>unknown     </td><td>no          </td></tr>\n",
       "</tbody>\n",
       "</table>\n"
      ],
      "text/latex": [
       "\\begin{tabular}{r|lllllllllllllllll}\n",
       " age & job & marital & education & default & balance & housing & loan & contact & day & month & duration & campaign & pdays & previous & poutcome & y\\\\\n",
       "\\hline\n",
       "\t 58           & management   & married      & tertiary     & no           & 2143         & yes          & no           & unknown      & 5            & may          & 261          & 1            & -1           & 0            & unknown      & no          \\\\\n",
       "\t 44           & technician   & single       & secondary    & no           &   29         & yes          & no           & unknown      & 5            & may          & 151          & 1            & -1           & 0            & unknown      & no          \\\\\n",
       "\t 33           & entrepreneur & married      & secondary    & no           &    2         & yes          & yes          & unknown      & 5            & may          &  76          & 1            & -1           & 0            & unknown      & no          \\\\\n",
       "\t 47           & blue-collar  & married      & unknown      & no           & 1506         & yes          & no           & unknown      & 5            & may          &  92          & 1            & -1           & 0            & unknown      & no          \\\\\n",
       "\t 33           & unknown      & single       & unknown      & no           &    1         & no           & no           & unknown      & 5            & may          & 198          & 1            & -1           & 0            & unknown      & no          \\\\\n",
       "\t 35           & management   & married      & tertiary     & no           &  231         & yes          & no           & unknown      & 5            & may          & 139          & 1            & -1           & 0            & unknown      & no          \\\\\n",
       "\\end{tabular}\n"
      ],
      "text/markdown": [
       "\n",
       "| age | job | marital | education | default | balance | housing | loan | contact | day | month | duration | campaign | pdays | previous | poutcome | y |\n",
       "|---|---|---|---|---|---|---|---|---|---|---|---|---|---|---|---|---|\n",
       "| 58           | management   | married      | tertiary     | no           | 2143         | yes          | no           | unknown      | 5            | may          | 261          | 1            | -1           | 0            | unknown      | no           |\n",
       "| 44           | technician   | single       | secondary    | no           |   29         | yes          | no           | unknown      | 5            | may          | 151          | 1            | -1           | 0            | unknown      | no           |\n",
       "| 33           | entrepreneur | married      | secondary    | no           |    2         | yes          | yes          | unknown      | 5            | may          |  76          | 1            | -1           | 0            | unknown      | no           |\n",
       "| 47           | blue-collar  | married      | unknown      | no           | 1506         | yes          | no           | unknown      | 5            | may          |  92          | 1            | -1           | 0            | unknown      | no           |\n",
       "| 33           | unknown      | single       | unknown      | no           |    1         | no           | no           | unknown      | 5            | may          | 198          | 1            | -1           | 0            | unknown      | no           |\n",
       "| 35           | management   | married      | tertiary     | no           |  231         | yes          | no           | unknown      | 5            | may          | 139          | 1            | -1           | 0            | unknown      | no           |\n",
       "\n"
      ],
      "text/plain": [
       "  age job          marital education default balance housing loan contact day\n",
       "1 58  management   married tertiary  no      2143    yes     no   unknown 5  \n",
       "2 44  technician   single  secondary no        29    yes     no   unknown 5  \n",
       "3 33  entrepreneur married secondary no         2    yes     yes  unknown 5  \n",
       "4 47  blue-collar  married unknown   no      1506    yes     no   unknown 5  \n",
       "5 33  unknown      single  unknown   no         1    no      no   unknown 5  \n",
       "6 35  management   married tertiary  no       231    yes     no   unknown 5  \n",
       "  month duration campaign pdays previous poutcome y \n",
       "1 may   261      1        -1    0        unknown  no\n",
       "2 may   151      1        -1    0        unknown  no\n",
       "3 may    76      1        -1    0        unknown  no\n",
       "4 may    92      1        -1    0        unknown  no\n",
       "5 may   198      1        -1    0        unknown  no\n",
       "6 may   139      1        -1    0        unknown  no"
      ]
     },
     "metadata": {},
     "output_type": "display_data"
    }
   ],
   "source": [
    "# Fazendo o mesmo passo anterior com tidyverse\n",
    "\n",
    "head <- read.table(\"bank-full.csv\", header = TRUE, sep = \";\") %>% head()\n",
    "\n",
    "head"
   ]
  },
  {
   "cell_type": "code",
   "execution_count": 10,
   "id": "d77f6840",
   "metadata": {},
   "outputs": [
    {
     "data": {
      "text/html": [
       "<table>\n",
       "<thead><tr><th scope=col>default</th><th scope=col>loan</th><th scope=col>y</th></tr></thead>\n",
       "<tbody>\n",
       "\t<tr><td>no </td><td>no </td><td>no </td></tr>\n",
       "\t<tr><td>no </td><td>no </td><td>no </td></tr>\n",
       "\t<tr><td>no </td><td>yes</td><td>no </td></tr>\n",
       "\t<tr><td>no </td><td>no </td><td>no </td></tr>\n",
       "\t<tr><td>no </td><td>no </td><td>no </td></tr>\n",
       "\t<tr><td>no </td><td>no </td><td>no </td></tr>\n",
       "</tbody>\n",
       "</table>\n"
      ],
      "text/latex": [
       "\\begin{tabular}{r|lll}\n",
       " default & loan & y\\\\\n",
       "\\hline\n",
       "\t no  & no  & no \\\\\n",
       "\t no  & no  & no \\\\\n",
       "\t no  & yes & no \\\\\n",
       "\t no  & no  & no \\\\\n",
       "\t no  & no  & no \\\\\n",
       "\t no  & no  & no \\\\\n",
       "\\end{tabular}\n"
      ],
      "text/markdown": [
       "\n",
       "| default | loan | y |\n",
       "|---|---|---|\n",
       "| no  | no  | no  |\n",
       "| no  | no  | no  |\n",
       "| no  | yes | no  |\n",
       "| no  | no  | no  |\n",
       "| no  | no  | no  |\n",
       "| no  | no  | no  |\n",
       "\n"
      ],
      "text/plain": [
       "  default loan y \n",
       "1 no      no   no\n",
       "2 no      no   no\n",
       "3 no      yes  no\n",
       "4 no      no   no\n",
       "5 no      no   no\n",
       "6 no      no   no"
      ]
     },
     "metadata": {},
     "output_type": "display_data"
    }
   ],
   "source": [
    "# Complicando\n",
    "\n",
    "# Selecionando apenas uma parte do dataset\n",
    "\n",
    "bank <- bank_data %>% select(default, loan, y)\n",
    "\n",
    "head(bank)"
   ]
  },
  {
   "cell_type": "code",
   "execution_count": 11,
   "id": "04cf31d0",
   "metadata": {},
   "outputs": [
    {
     "data": {
      "text/html": [
       "<table>\n",
       "<thead><tr><th scope=col>default</th><th scope=col>balance</th><th scope=col>housing</th><th scope=col>loan</th><th scope=col>contact</th></tr></thead>\n",
       "<tbody>\n",
       "\t<tr><td>no     </td><td>2143   </td><td>yes    </td><td>no     </td><td>unknown</td></tr>\n",
       "\t<tr><td>no     </td><td>  29   </td><td>yes    </td><td>no     </td><td>unknown</td></tr>\n",
       "\t<tr><td>no     </td><td>   2   </td><td>yes    </td><td>yes    </td><td>unknown</td></tr>\n",
       "\t<tr><td>no     </td><td>1506   </td><td>yes    </td><td>no     </td><td>unknown</td></tr>\n",
       "\t<tr><td>no     </td><td>   1   </td><td>no     </td><td>no     </td><td>unknown</td></tr>\n",
       "\t<tr><td>no     </td><td> 231   </td><td>yes    </td><td>no     </td><td>unknown</td></tr>\n",
       "</tbody>\n",
       "</table>\n"
      ],
      "text/latex": [
       "\\begin{tabular}{r|lllll}\n",
       " default & balance & housing & loan & contact\\\\\n",
       "\\hline\n",
       "\t no      & 2143    & yes     & no      & unknown\\\\\n",
       "\t no      &   29    & yes     & no      & unknown\\\\\n",
       "\t no      &    2    & yes     & yes     & unknown\\\\\n",
       "\t no      & 1506    & yes     & no      & unknown\\\\\n",
       "\t no      &    1    & no      & no      & unknown\\\\\n",
       "\t no      &  231    & yes     & no      & unknown\\\\\n",
       "\\end{tabular}\n"
      ],
      "text/markdown": [
       "\n",
       "| default | balance | housing | loan | contact |\n",
       "|---|---|---|---|---|\n",
       "| no      | 2143    | yes     | no      | unknown |\n",
       "| no      |   29    | yes     | no      | unknown |\n",
       "| no      |    2    | yes     | yes     | unknown |\n",
       "| no      | 1506    | yes     | no      | unknown |\n",
       "| no      |    1    | no      | no      | unknown |\n",
       "| no      |  231    | yes     | no      | unknown |\n",
       "\n"
      ],
      "text/plain": [
       "  default balance housing loan contact\n",
       "1 no      2143    yes     no   unknown\n",
       "2 no        29    yes     no   unknown\n",
       "3 no         2    yes     yes  unknown\n",
       "4 no      1506    yes     no   unknown\n",
       "5 no         1    no      no   unknown\n",
       "6 no       231    yes     no   unknown"
      ]
     },
     "metadata": {},
     "output_type": "display_data"
    }
   ],
   "source": [
    "# Selecionando colunas por intervalos\n",
    "\n",
    "bank <- bank_data %>% select(default:contact)\n",
    "\n",
    "head(bank)"
   ]
  },
  {
   "cell_type": "code",
   "execution_count": 12,
   "id": "b180e101",
   "metadata": {},
   "outputs": [
    {
     "data": {
      "text/html": [
       "<table>\n",
       "<thead><tr><th scope=col>default</th><th scope=col>balance</th><th scope=col>housing</th><th scope=col>loan</th></tr></thead>\n",
       "<tbody>\n",
       "\t<tr><td>no  </td><td>2143</td><td>yes </td><td>no  </td></tr>\n",
       "\t<tr><td>no  </td><td>  29</td><td>yes </td><td>no  </td></tr>\n",
       "\t<tr><td>no  </td><td>   2</td><td>yes </td><td>yes </td></tr>\n",
       "\t<tr><td>no  </td><td>1506</td><td>yes </td><td>no  </td></tr>\n",
       "\t<tr><td>no  </td><td>   1</td><td>no  </td><td>no  </td></tr>\n",
       "\t<tr><td>no  </td><td> 231</td><td>yes </td><td>no  </td></tr>\n",
       "</tbody>\n",
       "</table>\n"
      ],
      "text/latex": [
       "\\begin{tabular}{r|llll}\n",
       " default & balance & housing & loan\\\\\n",
       "\\hline\n",
       "\t no   & 2143 & yes  & no  \\\\\n",
       "\t no   &   29 & yes  & no  \\\\\n",
       "\t no   &    2 & yes  & yes \\\\\n",
       "\t no   & 1506 & yes  & no  \\\\\n",
       "\t no   &    1 & no   & no  \\\\\n",
       "\t no   &  231 & yes  & no  \\\\\n",
       "\\end{tabular}\n"
      ],
      "text/markdown": [
       "\n",
       "| default | balance | housing | loan |\n",
       "|---|---|---|---|\n",
       "| no   | 2143 | yes  | no   |\n",
       "| no   |   29 | yes  | no   |\n",
       "| no   |    2 | yes  | yes  |\n",
       "| no   | 1506 | yes  | no   |\n",
       "| no   |    1 | no   | no   |\n",
       "| no   |  231 | yes  | no   |\n",
       "\n"
      ],
      "text/plain": [
       "  default balance housing loan\n",
       "1 no      2143    yes     no  \n",
       "2 no        29    yes     no  \n",
       "3 no         2    yes     yes \n",
       "4 no      1506    yes     no  \n",
       "5 no         1    no      no  \n",
       "6 no       231    yes     no  "
      ]
     },
     "metadata": {},
     "output_type": "display_data"
    }
   ],
   "source": [
    "#Removendo colunas\n",
    "\n",
    "bank <- bank %>% select(-contact)\n",
    "\n",
    "head(bank)"
   ]
  },
  {
   "cell_type": "code",
   "execution_count": 13,
   "id": "49ab33b7",
   "metadata": {},
   "outputs": [
    {
     "data": {
      "text/html": [
       "<ol class=list-inline>\n",
       "\t<li>'age'</li>\n",
       "\t<li>'job'</li>\n",
       "\t<li>'marital'</li>\n",
       "\t<li>'education'</li>\n",
       "\t<li>'default'</li>\n",
       "\t<li>'balance'</li>\n",
       "\t<li>'housing'</li>\n",
       "\t<li>'loan'</li>\n",
       "\t<li>'contact'</li>\n",
       "\t<li>'day'</li>\n",
       "\t<li>'month'</li>\n",
       "\t<li>'duration'</li>\n",
       "\t<li>'campaign'</li>\n",
       "\t<li>'pdays'</li>\n",
       "\t<li>'previous'</li>\n",
       "\t<li>'poutcome'</li>\n",
       "\t<li>'y'</li>\n",
       "</ol>\n"
      ],
      "text/latex": [
       "\\begin{enumerate*}\n",
       "\\item 'age'\n",
       "\\item 'job'\n",
       "\\item 'marital'\n",
       "\\item 'education'\n",
       "\\item 'default'\n",
       "\\item 'balance'\n",
       "\\item 'housing'\n",
       "\\item 'loan'\n",
       "\\item 'contact'\n",
       "\\item 'day'\n",
       "\\item 'month'\n",
       "\\item 'duration'\n",
       "\\item 'campaign'\n",
       "\\item 'pdays'\n",
       "\\item 'previous'\n",
       "\\item 'poutcome'\n",
       "\\item 'y'\n",
       "\\end{enumerate*}\n"
      ],
      "text/markdown": [
       "1. 'age'\n",
       "2. 'job'\n",
       "3. 'marital'\n",
       "4. 'education'\n",
       "5. 'default'\n",
       "6. 'balance'\n",
       "7. 'housing'\n",
       "8. 'loan'\n",
       "9. 'contact'\n",
       "10. 'day'\n",
       "11. 'month'\n",
       "12. 'duration'\n",
       "13. 'campaign'\n",
       "14. 'pdays'\n",
       "15. 'previous'\n",
       "16. 'poutcome'\n",
       "17. 'y'\n",
       "\n",
       "\n"
      ],
      "text/plain": [
       " [1] \"age\"       \"job\"       \"marital\"   \"education\" \"default\"   \"balance\"  \n",
       " [7] \"housing\"   \"loan\"      \"contact\"   \"day\"       \"month\"     \"duration\" \n",
       "[13] \"campaign\"  \"pdays\"     \"previous\"  \"poutcome\"  \"y\"        "
      ]
     },
     "metadata": {},
     "output_type": "display_data"
    },
    {
     "data": {
      "text/html": [
       "<table>\n",
       "<thead><tr><th scope=col>loan</th><th scope=col>housing</th><th scope=col>default</th><th scope=col>previous</th><th scope=col>y</th></tr></thead>\n",
       "<tbody>\n",
       "\t<tr><td>no </td><td>yes</td><td>no </td><td>0  </td><td>no </td></tr>\n",
       "\t<tr><td>no </td><td>yes</td><td>no </td><td>0  </td><td>no </td></tr>\n",
       "\t<tr><td>yes</td><td>yes</td><td>no </td><td>0  </td><td>no </td></tr>\n",
       "\t<tr><td>no </td><td>yes</td><td>no </td><td>0  </td><td>no </td></tr>\n",
       "\t<tr><td>no </td><td>no </td><td>no </td><td>0  </td><td>no </td></tr>\n",
       "\t<tr><td>no </td><td>yes</td><td>no </td><td>0  </td><td>no </td></tr>\n",
       "</tbody>\n",
       "</table>\n"
      ],
      "text/latex": [
       "\\begin{tabular}{r|lllll}\n",
       " loan & housing & default & previous & y\\\\\n",
       "\\hline\n",
       "\t no  & yes & no  & 0   & no \\\\\n",
       "\t no  & yes & no  & 0   & no \\\\\n",
       "\t yes & yes & no  & 0   & no \\\\\n",
       "\t no  & yes & no  & 0   & no \\\\\n",
       "\t no  & no  & no  & 0   & no \\\\\n",
       "\t no  & yes & no  & 0   & no \\\\\n",
       "\\end{tabular}\n"
      ],
      "text/markdown": [
       "\n",
       "| loan | housing | default | previous | y |\n",
       "|---|---|---|---|---|\n",
       "| no  | yes | no  | 0   | no  |\n",
       "| no  | yes | no  | 0   | no  |\n",
       "| yes | yes | no  | 0   | no  |\n",
       "| no  | yes | no  | 0   | no  |\n",
       "| no  | no  | no  | 0   | no  |\n",
       "| no  | yes | no  | 0   | no  |\n",
       "\n"
      ],
      "text/plain": [
       "  loan housing default previous y \n",
       "1 no   yes     no      0        no\n",
       "2 no   yes     no      0        no\n",
       "3 yes  yes     no      0        no\n",
       "4 no   yes     no      0        no\n",
       "5 no   no      no      0        no\n",
       "6 no   yes     no      0        no"
      ]
     },
     "metadata": {},
     "output_type": "display_data"
    }
   ],
   "source": [
    "# Reordenando colunas - basta fazer o selct na ordem que voce quer\n",
    "\n",
    "names(bank_data)\n",
    "\n",
    "bank <- bank_data %>% select(loan, housing, default, previous, y)\n",
    "\n",
    "head(bank)"
   ]
  },
  {
   "cell_type": "code",
   "execution_count": 14,
   "id": "44efe0c1",
   "metadata": {},
   "outputs": [
    {
     "data": {
      "text/html": [
       "<table>\n",
       "<thead><tr><th scope=col>y</th><th scope=col>age</th><th scope=col>job</th><th scope=col>marital</th><th scope=col>education</th><th scope=col>default</th><th scope=col>balance</th><th scope=col>housing</th><th scope=col>loan</th><th scope=col>contact</th><th scope=col>day</th><th scope=col>month</th><th scope=col>duration</th><th scope=col>campaign</th><th scope=col>pdays</th><th scope=col>previous</th><th scope=col>poutcome</th></tr></thead>\n",
       "<tbody>\n",
       "\t<tr><td>no          </td><td>58          </td><td>management  </td><td>married     </td><td>tertiary    </td><td>no          </td><td>2143        </td><td>yes         </td><td>no          </td><td>unknown     </td><td>5           </td><td>may         </td><td>261         </td><td>1           </td><td>-1          </td><td>0           </td><td>unknown     </td></tr>\n",
       "\t<tr><td>no          </td><td>44          </td><td>technician  </td><td>single      </td><td>secondary   </td><td>no          </td><td>  29        </td><td>yes         </td><td>no          </td><td>unknown     </td><td>5           </td><td>may         </td><td>151         </td><td>1           </td><td>-1          </td><td>0           </td><td>unknown     </td></tr>\n",
       "\t<tr><td>no          </td><td>33          </td><td>entrepreneur</td><td>married     </td><td>secondary   </td><td>no          </td><td>   2        </td><td>yes         </td><td>yes         </td><td>unknown     </td><td>5           </td><td>may         </td><td> 76         </td><td>1           </td><td>-1          </td><td>0           </td><td>unknown     </td></tr>\n",
       "\t<tr><td>no          </td><td>47          </td><td>blue-collar </td><td>married     </td><td>unknown     </td><td>no          </td><td>1506        </td><td>yes         </td><td>no          </td><td>unknown     </td><td>5           </td><td>may         </td><td> 92         </td><td>1           </td><td>-1          </td><td>0           </td><td>unknown     </td></tr>\n",
       "\t<tr><td>no          </td><td>33          </td><td>unknown     </td><td>single      </td><td>unknown     </td><td>no          </td><td>   1        </td><td>no          </td><td>no          </td><td>unknown     </td><td>5           </td><td>may         </td><td>198         </td><td>1           </td><td>-1          </td><td>0           </td><td>unknown     </td></tr>\n",
       "\t<tr><td>no          </td><td>35          </td><td>management  </td><td>married     </td><td>tertiary    </td><td>no          </td><td> 231        </td><td>yes         </td><td>no          </td><td>unknown     </td><td>5           </td><td>may         </td><td>139         </td><td>1           </td><td>-1          </td><td>0           </td><td>unknown     </td></tr>\n",
       "</tbody>\n",
       "</table>\n"
      ],
      "text/latex": [
       "\\begin{tabular}{r|lllllllllllllllll}\n",
       " y & age & job & marital & education & default & balance & housing & loan & contact & day & month & duration & campaign & pdays & previous & poutcome\\\\\n",
       "\\hline\n",
       "\t no           & 58           & management   & married      & tertiary     & no           & 2143         & yes          & no           & unknown      & 5            & may          & 261          & 1            & -1           & 0            & unknown     \\\\\n",
       "\t no           & 44           & technician   & single       & secondary    & no           &   29         & yes          & no           & unknown      & 5            & may          & 151          & 1            & -1           & 0            & unknown     \\\\\n",
       "\t no           & 33           & entrepreneur & married      & secondary    & no           &    2         & yes          & yes          & unknown      & 5            & may          &  76          & 1            & -1           & 0            & unknown     \\\\\n",
       "\t no           & 47           & blue-collar  & married      & unknown      & no           & 1506         & yes          & no           & unknown      & 5            & may          &  92          & 1            & -1           & 0            & unknown     \\\\\n",
       "\t no           & 33           & unknown      & single       & unknown      & no           &    1         & no           & no           & unknown      & 5            & may          & 198          & 1            & -1           & 0            & unknown     \\\\\n",
       "\t no           & 35           & management   & married      & tertiary     & no           &  231         & yes          & no           & unknown      & 5            & may          & 139          & 1            & -1           & 0            & unknown     \\\\\n",
       "\\end{tabular}\n"
      ],
      "text/markdown": [
       "\n",
       "| y | age | job | marital | education | default | balance | housing | loan | contact | day | month | duration | campaign | pdays | previous | poutcome |\n",
       "|---|---|---|---|---|---|---|---|---|---|---|---|---|---|---|---|---|\n",
       "| no           | 58           | management   | married      | tertiary     | no           | 2143         | yes          | no           | unknown      | 5            | may          | 261          | 1            | -1           | 0            | unknown      |\n",
       "| no           | 44           | technician   | single       | secondary    | no           |   29         | yes          | no           | unknown      | 5            | may          | 151          | 1            | -1           | 0            | unknown      |\n",
       "| no           | 33           | entrepreneur | married      | secondary    | no           |    2         | yes          | yes          | unknown      | 5            | may          |  76          | 1            | -1           | 0            | unknown      |\n",
       "| no           | 47           | blue-collar  | married      | unknown      | no           | 1506         | yes          | no           | unknown      | 5            | may          |  92          | 1            | -1           | 0            | unknown      |\n",
       "| no           | 33           | unknown      | single       | unknown      | no           |    1         | no           | no           | unknown      | 5            | may          | 198          | 1            | -1           | 0            | unknown      |\n",
       "| no           | 35           | management   | married      | tertiary     | no           |  231         | yes          | no           | unknown      | 5            | may          | 139          | 1            | -1           | 0            | unknown      |\n",
       "\n"
      ],
      "text/plain": [
       "  y  age job          marital education default balance housing loan contact\n",
       "1 no 58  management   married tertiary  no      2143    yes     no   unknown\n",
       "2 no 44  technician   single  secondary no        29    yes     no   unknown\n",
       "3 no 33  entrepreneur married secondary no         2    yes     yes  unknown\n",
       "4 no 47  blue-collar  married unknown   no      1506    yes     no   unknown\n",
       "5 no 33  unknown      single  unknown   no         1    no      no   unknown\n",
       "6 no 35  management   married tertiary  no       231    yes     no   unknown\n",
       "  day month duration campaign pdays previous poutcome\n",
       "1 5   may   261      1        -1    0        unknown \n",
       "2 5   may   151      1        -1    0        unknown \n",
       "3 5   may    76      1        -1    0        unknown \n",
       "4 5   may    92      1        -1    0        unknown \n",
       "5 5   may   198      1        -1    0        unknown \n",
       "6 5   may   139      1        -1    0        unknown "
      ]
     },
     "metadata": {},
     "output_type": "display_data"
    }
   ],
   "source": [
    "# Se eu quiser escolhrer uma coluna para ser a primeira, e todo o resto vem depois - util na modelagem \n",
    "\n",
    "bank_data <- bank_data %>% select(y, everything())\n",
    "\n",
    "head(bank_data)"
   ]
  },
  {
   "cell_type": "code",
   "execution_count": 15,
   "id": "19f7a3c1",
   "metadata": {},
   "outputs": [
    {
     "data": {
      "text/html": [
       "<table>\n",
       "<thead><tr><th scope=col>y</th><th scope=col>age</th><th scope=col>job</th><th scope=col>marital</th><th scope=col>education</th><th scope=col>default</th><th scope=col>balance</th><th scope=col>housing</th><th scope=col>loan</th><th scope=col>contact</th><th scope=col>day</th><th scope=col>month</th><th scope=col>duration</th><th scope=col>campaign</th><th scope=col>pdays</th><th scope=col>previous</th><th scope=col>poutcome</th><th scope=col>Married_House</th></tr></thead>\n",
       "<tbody>\n",
       "\t<tr><td>no          </td><td>58          </td><td>management  </td><td>married     </td><td>tertiary    </td><td>no          </td><td>2143        </td><td>yes         </td><td>no          </td><td>unknown     </td><td>5           </td><td>may         </td><td>261         </td><td>1           </td><td>-1          </td><td>0           </td><td>unknown     </td><td>yes         </td></tr>\n",
       "\t<tr><td>no          </td><td>44          </td><td>technician  </td><td>single      </td><td>secondary   </td><td>no          </td><td>  29        </td><td>yes         </td><td>no          </td><td>unknown     </td><td>5           </td><td>may         </td><td>151         </td><td>1           </td><td>-1          </td><td>0           </td><td>unknown     </td><td>no          </td></tr>\n",
       "\t<tr><td>no          </td><td>33          </td><td>entrepreneur</td><td>married     </td><td>secondary   </td><td>no          </td><td>   2        </td><td>yes         </td><td>yes         </td><td>unknown     </td><td>5           </td><td>may         </td><td> 76         </td><td>1           </td><td>-1          </td><td>0           </td><td>unknown     </td><td>yes         </td></tr>\n",
       "\t<tr><td>no          </td><td>47          </td><td>blue-collar </td><td>married     </td><td>unknown     </td><td>no          </td><td>1506        </td><td>yes         </td><td>no          </td><td>unknown     </td><td>5           </td><td>may         </td><td> 92         </td><td>1           </td><td>-1          </td><td>0           </td><td>unknown     </td><td>yes         </td></tr>\n",
       "\t<tr><td>no          </td><td>33          </td><td>unknown     </td><td>single      </td><td>unknown     </td><td>no          </td><td>   1        </td><td>no          </td><td>no          </td><td>unknown     </td><td>5           </td><td>may         </td><td>198         </td><td>1           </td><td>-1          </td><td>0           </td><td>unknown     </td><td>no          </td></tr>\n",
       "\t<tr><td>no          </td><td>35          </td><td>management  </td><td>married     </td><td>tertiary    </td><td>no          </td><td> 231        </td><td>yes         </td><td>no          </td><td>unknown     </td><td>5           </td><td>may         </td><td>139         </td><td>1           </td><td>-1          </td><td>0           </td><td>unknown     </td><td>yes         </td></tr>\n",
       "</tbody>\n",
       "</table>\n"
      ],
      "text/latex": [
       "\\begin{tabular}{r|llllllllllllllllll}\n",
       " y & age & job & marital & education & default & balance & housing & loan & contact & day & month & duration & campaign & pdays & previous & poutcome & Married\\_House\\\\\n",
       "\\hline\n",
       "\t no           & 58           & management   & married      & tertiary     & no           & 2143         & yes          & no           & unknown      & 5            & may          & 261          & 1            & -1           & 0            & unknown      & yes         \\\\\n",
       "\t no           & 44           & technician   & single       & secondary    & no           &   29         & yes          & no           & unknown      & 5            & may          & 151          & 1            & -1           & 0            & unknown      & no          \\\\\n",
       "\t no           & 33           & entrepreneur & married      & secondary    & no           &    2         & yes          & yes          & unknown      & 5            & may          &  76          & 1            & -1           & 0            & unknown      & yes         \\\\\n",
       "\t no           & 47           & blue-collar  & married      & unknown      & no           & 1506         & yes          & no           & unknown      & 5            & may          &  92          & 1            & -1           & 0            & unknown      & yes         \\\\\n",
       "\t no           & 33           & unknown      & single       & unknown      & no           &    1         & no           & no           & unknown      & 5            & may          & 198          & 1            & -1           & 0            & unknown      & no          \\\\\n",
       "\t no           & 35           & management   & married      & tertiary     & no           &  231         & yes          & no           & unknown      & 5            & may          & 139          & 1            & -1           & 0            & unknown      & yes         \\\\\n",
       "\\end{tabular}\n"
      ],
      "text/markdown": [
       "\n",
       "| y | age | job | marital | education | default | balance | housing | loan | contact | day | month | duration | campaign | pdays | previous | poutcome | Married_House |\n",
       "|---|---|---|---|---|---|---|---|---|---|---|---|---|---|---|---|---|---|\n",
       "| no           | 58           | management   | married      | tertiary     | no           | 2143         | yes          | no           | unknown      | 5            | may          | 261          | 1            | -1           | 0            | unknown      | yes          |\n",
       "| no           | 44           | technician   | single       | secondary    | no           |   29         | yes          | no           | unknown      | 5            | may          | 151          | 1            | -1           | 0            | unknown      | no           |\n",
       "| no           | 33           | entrepreneur | married      | secondary    | no           |    2         | yes          | yes          | unknown      | 5            | may          |  76          | 1            | -1           | 0            | unknown      | yes          |\n",
       "| no           | 47           | blue-collar  | married      | unknown      | no           | 1506         | yes          | no           | unknown      | 5            | may          |  92          | 1            | -1           | 0            | unknown      | yes          |\n",
       "| no           | 33           | unknown      | single       | unknown      | no           |    1         | no           | no           | unknown      | 5            | may          | 198          | 1            | -1           | 0            | unknown      | no           |\n",
       "| no           | 35           | management   | married      | tertiary     | no           |  231         | yes          | no           | unknown      | 5            | may          | 139          | 1            | -1           | 0            | unknown      | yes          |\n",
       "\n"
      ],
      "text/plain": [
       "  y  age job          marital education default balance housing loan contact\n",
       "1 no 58  management   married tertiary  no      2143    yes     no   unknown\n",
       "2 no 44  technician   single  secondary no        29    yes     no   unknown\n",
       "3 no 33  entrepreneur married secondary no         2    yes     yes  unknown\n",
       "4 no 47  blue-collar  married unknown   no      1506    yes     no   unknown\n",
       "5 no 33  unknown      single  unknown   no         1    no      no   unknown\n",
       "6 no 35  management   married tertiary  no       231    yes     no   unknown\n",
       "  day month duration campaign pdays previous poutcome Married_House\n",
       "1 5   may   261      1        -1    0        unknown  yes          \n",
       "2 5   may   151      1        -1    0        unknown  no           \n",
       "3 5   may    76      1        -1    0        unknown  yes          \n",
       "4 5   may    92      1        -1    0        unknown  yes          \n",
       "5 5   may   198      1        -1    0        unknown  no           \n",
       "6 5   may   139      1        -1    0        unknown  yes          "
      ]
     },
     "metadata": {},
     "output_type": "display_data"
    }
   ],
   "source": [
    "# Para adiconar colunas - criar variáveis!\n",
    "\n",
    "bank_data <- bank_data %>% mutate(\n",
    "    Married_House = ifelse(\n",
    "    (marital == \"married\" & housing == \"yes\")\n",
    "    , \"yes\", \"no\")\n",
    ") %>% select(everything(), Married_House)\n",
    "\n",
    "head(bank_data)"
   ]
  },
  {
   "cell_type": "code",
   "execution_count": 16,
   "id": "6451eb25",
   "metadata": {},
   "outputs": [
    {
     "data": {
      "text/html": [
       "<table>\n",
       "<thead><tr><th scope=col>y</th><th scope=col>age</th><th scope=col>job</th><th scope=col>marital</th><th scope=col>education</th><th scope=col>default</th><th scope=col>balance</th><th scope=col>housing</th><th scope=col>loan</th><th scope=col>contact</th><th scope=col>day</th><th scope=col>month</th><th scope=col>duration</th><th scope=col>campaign</th><th scope=col>pdays</th><th scope=col>previous</th><th scope=col>poutcome</th><th scope=col>Married_House</th><th scope=col>balance_flag</th><th scope=col>default_n_loan</th></tr></thead>\n",
       "<tbody>\n",
       "\t<tr><td>no          </td><td>58          </td><td>management  </td><td>married     </td><td>tertiary    </td><td>no          </td><td>2143        </td><td>yes         </td><td>no          </td><td>unknown     </td><td>5           </td><td>may         </td><td>261         </td><td>1           </td><td>-1          </td><td>0           </td><td>unknown     </td><td>yes         </td><td>1           </td><td>no          </td></tr>\n",
       "\t<tr><td>no          </td><td>44          </td><td>technician  </td><td>single      </td><td>secondary   </td><td>no          </td><td>  29        </td><td>yes         </td><td>no          </td><td>unknown     </td><td>5           </td><td>may         </td><td>151         </td><td>1           </td><td>-1          </td><td>0           </td><td>unknown     </td><td>no          </td><td>0           </td><td>no          </td></tr>\n",
       "\t<tr><td>no          </td><td>33          </td><td>entrepreneur</td><td>married     </td><td>secondary   </td><td>no          </td><td>   2        </td><td>yes         </td><td>yes         </td><td>unknown     </td><td>5           </td><td>may         </td><td> 76         </td><td>1           </td><td>-1          </td><td>0           </td><td>unknown     </td><td>yes         </td><td>0           </td><td>no          </td></tr>\n",
       "\t<tr><td>no          </td><td>47          </td><td>blue-collar </td><td>married     </td><td>unknown     </td><td>no          </td><td>1506        </td><td>yes         </td><td>no          </td><td>unknown     </td><td>5           </td><td>may         </td><td> 92         </td><td>1           </td><td>-1          </td><td>0           </td><td>unknown     </td><td>yes         </td><td>1           </td><td>no          </td></tr>\n",
       "\t<tr><td>no          </td><td>33          </td><td>unknown     </td><td>single      </td><td>unknown     </td><td>no          </td><td>   1        </td><td>no          </td><td>no          </td><td>unknown     </td><td>5           </td><td>may         </td><td>198         </td><td>1           </td><td>-1          </td><td>0           </td><td>unknown     </td><td>no          </td><td>0           </td><td>no          </td></tr>\n",
       "\t<tr><td>no          </td><td>35          </td><td>management  </td><td>married     </td><td>tertiary    </td><td>no          </td><td> 231        </td><td>yes         </td><td>no          </td><td>unknown     </td><td>5           </td><td>may         </td><td>139         </td><td>1           </td><td>-1          </td><td>0           </td><td>unknown     </td><td>yes         </td><td>0           </td><td>no          </td></tr>\n",
       "</tbody>\n",
       "</table>\n"
      ],
      "text/latex": [
       "\\begin{tabular}{r|llllllllllllllllllll}\n",
       " y & age & job & marital & education & default & balance & housing & loan & contact & day & month & duration & campaign & pdays & previous & poutcome & Married\\_House & balance\\_flag & default\\_n\\_loan\\\\\n",
       "\\hline\n",
       "\t no           & 58           & management   & married      & tertiary     & no           & 2143         & yes          & no           & unknown      & 5            & may          & 261          & 1            & -1           & 0            & unknown      & yes          & 1            & no          \\\\\n",
       "\t no           & 44           & technician   & single       & secondary    & no           &   29         & yes          & no           & unknown      & 5            & may          & 151          & 1            & -1           & 0            & unknown      & no           & 0            & no          \\\\\n",
       "\t no           & 33           & entrepreneur & married      & secondary    & no           &    2         & yes          & yes          & unknown      & 5            & may          &  76          & 1            & -1           & 0            & unknown      & yes          & 0            & no          \\\\\n",
       "\t no           & 47           & blue-collar  & married      & unknown      & no           & 1506         & yes          & no           & unknown      & 5            & may          &  92          & 1            & -1           & 0            & unknown      & yes          & 1            & no          \\\\\n",
       "\t no           & 33           & unknown      & single       & unknown      & no           &    1         & no           & no           & unknown      & 5            & may          & 198          & 1            & -1           & 0            & unknown      & no           & 0            & no          \\\\\n",
       "\t no           & 35           & management   & married      & tertiary     & no           &  231         & yes          & no           & unknown      & 5            & may          & 139          & 1            & -1           & 0            & unknown      & yes          & 0            & no          \\\\\n",
       "\\end{tabular}\n"
      ],
      "text/markdown": [
       "\n",
       "| y | age | job | marital | education | default | balance | housing | loan | contact | day | month | duration | campaign | pdays | previous | poutcome | Married_House | balance_flag | default_n_loan |\n",
       "|---|---|---|---|---|---|---|---|---|---|---|---|---|---|---|---|---|---|---|---|\n",
       "| no           | 58           | management   | married      | tertiary     | no           | 2143         | yes          | no           | unknown      | 5            | may          | 261          | 1            | -1           | 0            | unknown      | yes          | 1            | no           |\n",
       "| no           | 44           | technician   | single       | secondary    | no           |   29         | yes          | no           | unknown      | 5            | may          | 151          | 1            | -1           | 0            | unknown      | no           | 0            | no           |\n",
       "| no           | 33           | entrepreneur | married      | secondary    | no           |    2         | yes          | yes          | unknown      | 5            | may          |  76          | 1            | -1           | 0            | unknown      | yes          | 0            | no           |\n",
       "| no           | 47           | blue-collar  | married      | unknown      | no           | 1506         | yes          | no           | unknown      | 5            | may          |  92          | 1            | -1           | 0            | unknown      | yes          | 1            | no           |\n",
       "| no           | 33           | unknown      | single       | unknown      | no           |    1         | no           | no           | unknown      | 5            | may          | 198          | 1            | -1           | 0            | unknown      | no           | 0            | no           |\n",
       "| no           | 35           | management   | married      | tertiary     | no           |  231         | yes          | no           | unknown      | 5            | may          | 139          | 1            | -1           | 0            | unknown      | yes          | 0            | no           |\n",
       "\n"
      ],
      "text/plain": [
       "  y  age job          marital education default balance housing loan contact\n",
       "1 no 58  management   married tertiary  no      2143    yes     no   unknown\n",
       "2 no 44  technician   single  secondary no        29    yes     no   unknown\n",
       "3 no 33  entrepreneur married secondary no         2    yes     yes  unknown\n",
       "4 no 47  blue-collar  married unknown   no      1506    yes     no   unknown\n",
       "5 no 33  unknown      single  unknown   no         1    no      no   unknown\n",
       "6 no 35  management   married tertiary  no       231    yes     no   unknown\n",
       "  day month duration campaign pdays previous poutcome Married_House\n",
       "1 5   may   261      1        -1    0        unknown  yes          \n",
       "2 5   may   151      1        -1    0        unknown  no           \n",
       "3 5   may    76      1        -1    0        unknown  yes          \n",
       "4 5   may    92      1        -1    0        unknown  yes          \n",
       "5 5   may   198      1        -1    0        unknown  no           \n",
       "6 5   may   139      1        -1    0        unknown  yes          \n",
       "  balance_flag default_n_loan\n",
       "1 1            no            \n",
       "2 0            no            \n",
       "3 0            no            \n",
       "4 1            no            \n",
       "5 0            no            \n",
       "6 0            no            "
      ]
     },
     "metadata": {},
     "output_type": "display_data"
    }
   ],
   "source": [
    "# Para adicionar muitas colunas ao emsmo tempo - útil para a criação de variáveis em modelos\n",
    "\n",
    "bank_data <- bank_data %>% mutate(\n",
    "    balance_flag = ifelse(balance >= 1000, \"1\", \"0\")\n",
    "    , default_n_loan = ifelse( (default == \"yes\" & loan == \"yes\") , \"yes\", \"no\"))\n",
    "\n",
    "head(bank_data)"
   ]
  },
  {
   "cell_type": "code",
   "execution_count": 18,
   "id": "ef6e010e",
   "metadata": {},
   "outputs": [
    {
     "data": {
      "text/plain": [
       "Length  Class   Mode \n",
       "     0   NULL   NULL "
      ]
     },
     "metadata": {},
     "output_type": "display_data"
    }
   ],
   "source": [
    "summary(bank$balance)"
   ]
  },
  {
   "cell_type": "code",
   "execution_count": 20,
   "id": "a63b2b83",
   "metadata": {},
   "outputs": [
    {
     "data": {
      "text/html": [
       "<table>\n",
       "<thead><tr><th scope=col>y</th><th scope=col>age</th><th scope=col>job</th><th scope=col>marital</th><th scope=col>education</th><th scope=col>default</th><th scope=col>balance</th><th scope=col>housing</th><th scope=col>loan</th><th scope=col>contact</th><th scope=col>...</th><th scope=col>month</th><th scope=col>duration</th><th scope=col>campaign</th><th scope=col>pdays</th><th scope=col>previous</th><th scope=col>poutcome</th><th scope=col>Married_House</th><th scope=col>balance_1k</th><th scope=col>default_loan</th><th scope=col>neg_balance</th></tr></thead>\n",
       "<tbody>\n",
       "\t<tr><td>no          </td><td>58          </td><td>management  </td><td>married     </td><td>tertiary    </td><td>no          </td><td>2143        </td><td>yes         </td><td>no          </td><td>unknown     </td><td>...         </td><td>may         </td><td>261         </td><td>1           </td><td>-1          </td><td>0           </td><td>unknown     </td><td>yes         </td><td>1           </td><td>no          </td><td>0           </td></tr>\n",
       "\t<tr><td>no          </td><td>44          </td><td>technician  </td><td>single      </td><td>secondary   </td><td>no          </td><td>  29        </td><td>yes         </td><td>no          </td><td>unknown     </td><td>...         </td><td>may         </td><td>151         </td><td>1           </td><td>-1          </td><td>0           </td><td>unknown     </td><td>no          </td><td>0           </td><td>no          </td><td>0           </td></tr>\n",
       "\t<tr><td>no          </td><td>33          </td><td>entrepreneur</td><td>married     </td><td>secondary   </td><td>no          </td><td>   2        </td><td>yes         </td><td>yes         </td><td>unknown     </td><td>...         </td><td>may         </td><td> 76         </td><td>1           </td><td>-1          </td><td>0           </td><td>unknown     </td><td>yes         </td><td>0           </td><td>no          </td><td>0           </td></tr>\n",
       "\t<tr><td>no          </td><td>47          </td><td>blue-collar </td><td>married     </td><td>unknown     </td><td>no          </td><td>1506        </td><td>yes         </td><td>no          </td><td>unknown     </td><td>...         </td><td>may         </td><td> 92         </td><td>1           </td><td>-1          </td><td>0           </td><td>unknown     </td><td>yes         </td><td>1           </td><td>no          </td><td>0           </td></tr>\n",
       "\t<tr><td>no          </td><td>33          </td><td>unknown     </td><td>single      </td><td>unknown     </td><td>no          </td><td>   1        </td><td>no          </td><td>no          </td><td>unknown     </td><td>...         </td><td>may         </td><td>198         </td><td>1           </td><td>-1          </td><td>0           </td><td>unknown     </td><td>no          </td><td>0           </td><td>no          </td><td>0           </td></tr>\n",
       "\t<tr><td>no          </td><td>35          </td><td>management  </td><td>married     </td><td>tertiary    </td><td>no          </td><td> 231        </td><td>yes         </td><td>no          </td><td>unknown     </td><td>...         </td><td>may         </td><td>139         </td><td>1           </td><td>-1          </td><td>0           </td><td>unknown     </td><td>yes         </td><td>0           </td><td>no          </td><td>0           </td></tr>\n",
       "</tbody>\n",
       "</table>\n"
      ],
      "text/latex": [
       "\\begin{tabular}{r|lllllllllllllllllllll}\n",
       " y & age & job & marital & education & default & balance & housing & loan & contact & ... & month & duration & campaign & pdays & previous & poutcome & Married\\_House & balance\\_1k & default\\_loan & neg\\_balance\\\\\n",
       "\\hline\n",
       "\t no           & 58           & management   & married      & tertiary     & no           & 2143         & yes          & no           & unknown      & ...          & may          & 261          & 1            & -1           & 0            & unknown      & yes          & 1            & no           & 0           \\\\\n",
       "\t no           & 44           & technician   & single       & secondary    & no           &   29         & yes          & no           & unknown      & ...          & may          & 151          & 1            & -1           & 0            & unknown      & no           & 0            & no           & 0           \\\\\n",
       "\t no           & 33           & entrepreneur & married      & secondary    & no           &    2         & yes          & yes          & unknown      & ...          & may          &  76          & 1            & -1           & 0            & unknown      & yes          & 0            & no           & 0           \\\\\n",
       "\t no           & 47           & blue-collar  & married      & unknown      & no           & 1506         & yes          & no           & unknown      & ...          & may          &  92          & 1            & -1           & 0            & unknown      & yes          & 1            & no           & 0           \\\\\n",
       "\t no           & 33           & unknown      & single       & unknown      & no           &    1         & no           & no           & unknown      & ...          & may          & 198          & 1            & -1           & 0            & unknown      & no           & 0            & no           & 0           \\\\\n",
       "\t no           & 35           & management   & married      & tertiary     & no           &  231         & yes          & no           & unknown      & ...          & may          & 139          & 1            & -1           & 0            & unknown      & yes          & 0            & no           & 0           \\\\\n",
       "\\end{tabular}\n"
      ],
      "text/markdown": [
       "\n",
       "| y | age | job | marital | education | default | balance | housing | loan | contact | ... | month | duration | campaign | pdays | previous | poutcome | Married_House | balance_1k | default_loan | neg_balance |\n",
       "|---|---|---|---|---|---|---|---|---|---|---|---|---|---|---|---|---|---|---|---|---|\n",
       "| no           | 58           | management   | married      | tertiary     | no           | 2143         | yes          | no           | unknown      | ...          | may          | 261          | 1            | -1           | 0            | unknown      | yes          | 1            | no           | 0            |\n",
       "| no           | 44           | technician   | single       | secondary    | no           |   29         | yes          | no           | unknown      | ...          | may          | 151          | 1            | -1           | 0            | unknown      | no           | 0            | no           | 0            |\n",
       "| no           | 33           | entrepreneur | married      | secondary    | no           |    2         | yes          | yes          | unknown      | ...          | may          |  76          | 1            | -1           | 0            | unknown      | yes          | 0            | no           | 0            |\n",
       "| no           | 47           | blue-collar  | married      | unknown      | no           | 1506         | yes          | no           | unknown      | ...          | may          |  92          | 1            | -1           | 0            | unknown      | yes          | 1            | no           | 0            |\n",
       "| no           | 33           | unknown      | single       | unknown      | no           |    1         | no           | no           | unknown      | ...          | may          | 198          | 1            | -1           | 0            | unknown      | no           | 0            | no           | 0            |\n",
       "| no           | 35           | management   | married      | tertiary     | no           |  231         | yes          | no           | unknown      | ...          | may          | 139          | 1            | -1           | 0            | unknown      | yes          | 0            | no           | 0            |\n",
       "\n"
      ],
      "text/plain": [
       "  y  age job          marital education default balance housing loan contact\n",
       "1 no 58  management   married tertiary  no      2143    yes     no   unknown\n",
       "2 no 44  technician   single  secondary no        29    yes     no   unknown\n",
       "3 no 33  entrepreneur married secondary no         2    yes     yes  unknown\n",
       "4 no 47  blue-collar  married unknown   no      1506    yes     no   unknown\n",
       "5 no 33  unknown      single  unknown   no         1    no      no   unknown\n",
       "6 no 35  management   married tertiary  no       231    yes     no   unknown\n",
       "  ... month duration campaign pdays previous poutcome Married_House balance_1k\n",
       "1 ... may   261      1        -1    0        unknown  yes           1         \n",
       "2 ... may   151      1        -1    0        unknown  no            0         \n",
       "3 ... may    76      1        -1    0        unknown  yes           0         \n",
       "4 ... may    92      1        -1    0        unknown  yes           1         \n",
       "5 ... may   198      1        -1    0        unknown  no            0         \n",
       "6 ... may   139      1        -1    0        unknown  yes           0         \n",
       "  default_loan neg_balance\n",
       "1 no           0          \n",
       "2 no           0          \n",
       "3 no           0          \n",
       "4 no           0          \n",
       "5 no           0          \n",
       "6 no           0          "
      ]
     },
     "metadata": {},
     "output_type": "display_data"
    }
   ],
   "source": [
    "# Multiplas alteracoes de uma vez\n",
    "\n",
    "bank_data <- bank_data %>% mutate(\n",
    "    neg_balance = ifelse(balance < 0, 1, 0)\n",
    "    ) %>% rename(\n",
    "    balance_1k = \"balance_flag\"\n",
    "    , default_loan = \"default_n_loan\"\n",
    "    )\n",
    "\n",
    "head(bank_data)"
   ]
  },
  {
   "cell_type": "code",
   "execution_count": 21,
   "id": "27b1d474",
   "metadata": {},
   "outputs": [
    {
     "data": {
      "text/html": [
       "<table>\n",
       "<thead><tr><th scope=col>y</th><th scope=col>age</th><th scope=col>job</th><th scope=col>education</th><th scope=col>default</th><th scope=col>balance</th><th scope=col>loan</th><th scope=col>contact</th><th scope=col>day</th><th scope=col>month</th><th scope=col>duration</th><th scope=col>campaign</th><th scope=col>pdays</th><th scope=col>previous</th><th scope=col>poutcome</th><th scope=col>balance_1k</th><th scope=col>default_loan</th><th scope=col>neg_balance</th></tr></thead>\n",
       "<tbody>\n",
       "\t<tr><td>no          </td><td>58          </td><td>management  </td><td>tertiary    </td><td>no          </td><td>2143        </td><td>no          </td><td>unknown     </td><td>5           </td><td>may         </td><td>261         </td><td>1           </td><td>-1          </td><td>0           </td><td>unknown     </td><td>1           </td><td>no          </td><td>0           </td></tr>\n",
       "\t<tr><td>no          </td><td>33          </td><td>entrepreneur</td><td>secondary   </td><td>no          </td><td>   2        </td><td>yes         </td><td>unknown     </td><td>5           </td><td>may         </td><td> 76         </td><td>1           </td><td>-1          </td><td>0           </td><td>unknown     </td><td>0           </td><td>no          </td><td>0           </td></tr>\n",
       "\t<tr><td>no          </td><td>47          </td><td>blue-collar </td><td>unknown     </td><td>no          </td><td>1506        </td><td>no          </td><td>unknown     </td><td>5           </td><td>may         </td><td> 92         </td><td>1           </td><td>-1          </td><td>0           </td><td>unknown     </td><td>1           </td><td>no          </td><td>0           </td></tr>\n",
       "\t<tr><td>no          </td><td>35          </td><td>management  </td><td>tertiary    </td><td>no          </td><td> 231        </td><td>no          </td><td>unknown     </td><td>5           </td><td>may         </td><td>139         </td><td>1           </td><td>-1          </td><td>0           </td><td>unknown     </td><td>0           </td><td>no          </td><td>0           </td></tr>\n",
       "\t<tr><td>no          </td><td>58          </td><td>retired     </td><td>primary     </td><td>no          </td><td> 121        </td><td>no          </td><td>unknown     </td><td>5           </td><td>may         </td><td> 50         </td><td>1           </td><td>-1          </td><td>0           </td><td>unknown     </td><td>0           </td><td>no          </td><td>0           </td></tr>\n",
       "\t<tr><td>no          </td><td>53          </td><td>technician  </td><td>secondary   </td><td>no          </td><td>   6        </td><td>no          </td><td>unknown     </td><td>5           </td><td>may         </td><td>517         </td><td>1           </td><td>-1          </td><td>0           </td><td>unknown     </td><td>0           </td><td>no          </td><td>0           </td></tr>\n",
       "</tbody>\n",
       "</table>\n"
      ],
      "text/latex": [
       "\\begin{tabular}{r|llllllllllllllllll}\n",
       " y & age & job & education & default & balance & loan & contact & day & month & duration & campaign & pdays & previous & poutcome & balance\\_1k & default\\_loan & neg\\_balance\\\\\n",
       "\\hline\n",
       "\t no           & 58           & management   & tertiary     & no           & 2143         & no           & unknown      & 5            & may          & 261          & 1            & -1           & 0            & unknown      & 1            & no           & 0           \\\\\n",
       "\t no           & 33           & entrepreneur & secondary    & no           &    2         & yes          & unknown      & 5            & may          &  76          & 1            & -1           & 0            & unknown      & 0            & no           & 0           \\\\\n",
       "\t no           & 47           & blue-collar  & unknown      & no           & 1506         & no           & unknown      & 5            & may          &  92          & 1            & -1           & 0            & unknown      & 1            & no           & 0           \\\\\n",
       "\t no           & 35           & management   & tertiary     & no           &  231         & no           & unknown      & 5            & may          & 139          & 1            & -1           & 0            & unknown      & 0            & no           & 0           \\\\\n",
       "\t no           & 58           & retired      & primary      & no           &  121         & no           & unknown      & 5            & may          &  50          & 1            & -1           & 0            & unknown      & 0            & no           & 0           \\\\\n",
       "\t no           & 53           & technician   & secondary    & no           &    6         & no           & unknown      & 5            & may          & 517          & 1            & -1           & 0            & unknown      & 0            & no           & 0           \\\\\n",
       "\\end{tabular}\n"
      ],
      "text/markdown": [
       "\n",
       "| y | age | job | education | default | balance | loan | contact | day | month | duration | campaign | pdays | previous | poutcome | balance_1k | default_loan | neg_balance |\n",
       "|---|---|---|---|---|---|---|---|---|---|---|---|---|---|---|---|---|---|\n",
       "| no           | 58           | management   | tertiary     | no           | 2143         | no           | unknown      | 5            | may          | 261          | 1            | -1           | 0            | unknown      | 1            | no           | 0            |\n",
       "| no           | 33           | entrepreneur | secondary    | no           |    2         | yes          | unknown      | 5            | may          |  76          | 1            | -1           | 0            | unknown      | 0            | no           | 0            |\n",
       "| no           | 47           | blue-collar  | unknown      | no           | 1506         | no           | unknown      | 5            | may          |  92          | 1            | -1           | 0            | unknown      | 1            | no           | 0            |\n",
       "| no           | 35           | management   | tertiary     | no           |  231         | no           | unknown      | 5            | may          | 139          | 1            | -1           | 0            | unknown      | 0            | no           | 0            |\n",
       "| no           | 58           | retired      | primary      | no           |  121         | no           | unknown      | 5            | may          |  50          | 1            | -1           | 0            | unknown      | 0            | no           | 0            |\n",
       "| no           | 53           | technician   | secondary    | no           |    6         | no           | unknown      | 5            | may          | 517          | 1            | -1           | 0            | unknown      | 0            | no           | 0            |\n",
       "\n"
      ],
      "text/plain": [
       "  y  age job          education default balance loan contact day month duration\n",
       "1 no 58  management   tertiary  no      2143    no   unknown 5   may   261     \n",
       "2 no 33  entrepreneur secondary no         2    yes  unknown 5   may    76     \n",
       "3 no 47  blue-collar  unknown   no      1506    no   unknown 5   may    92     \n",
       "4 no 35  management   tertiary  no       231    no   unknown 5   may   139     \n",
       "5 no 58  retired      primary   no       121    no   unknown 5   may    50     \n",
       "6 no 53  technician   secondary no         6    no   unknown 5   may   517     \n",
       "  campaign pdays previous poutcome balance_1k default_loan neg_balance\n",
       "1 1        -1    0        unknown  1          no           0          \n",
       "2 1        -1    0        unknown  0          no           0          \n",
       "3 1        -1    0        unknown  1          no           0          \n",
       "4 1        -1    0        unknown  0          no           0          \n",
       "5 1        -1    0        unknown  0          no           0          \n",
       "6 1        -1    0        unknown  0          no           0          "
      ]
     },
     "metadata": {},
     "output_type": "display_data"
    }
   ],
   "source": [
    " # Filtrando dados - selecionando apenas os clientes em casados e com casa\n",
    "\n",
    "bank2 <- bank_data %>% filter(Married_House == \"yes\") %>% select(-marital, -housing, -Married_House)\n",
    "\n",
    "head(bank2)"
   ]
  },
  {
   "cell_type": "code",
   "execution_count": null,
   "id": "d87d22b3",
   "metadata": {},
   "outputs": [],
   "source": []
  }
 ],
 "metadata": {
  "kernelspec": {
   "display_name": "R",
   "language": "R",
   "name": "ir"
  },
  "language_info": {
   "codemirror_mode": "r",
   "file_extension": ".r",
   "mimetype": "text/x-r-source",
   "name": "R",
   "pygments_lexer": "r",
   "version": "3.6.1"
  }
 },
 "nbformat": 4,
 "nbformat_minor": 5
}
