{
 "cells": [
  {
   "cell_type": "markdown",
   "id": "d880e8c2",
   "metadata": {},
   "source": [
    "# Manipulando datas no R\n",
    "\n",
    "## Motivação\n",
    "- Biblioteca lubridate\n",
    "- Convertendo string para data\n",
    "- Operações com datas\n",
    "- Trabalhando com periodos\n",
    "- Estudo de caso de um problema "
   ]
  },
  {
   "cell_type": "code",
   "execution_count": 1,
   "id": "bf1aedad",
   "metadata": {},
   "outputs": [
    {
     "name": "stderr",
     "output_type": "stream",
     "text": [
      "-- \u001b[1mAttaching packages\u001b[22m --------------------------------------- tidyverse 1.2.1 --\n",
      "\n",
      "\u001b[32mv\u001b[39m \u001b[34mggplot2\u001b[39m 3.3.3     \u001b[32mv\u001b[39m \u001b[34mpurrr  \u001b[39m 0.3.2\n",
      "\u001b[32mv\u001b[39m \u001b[34mtibble \u001b[39m 3.1.1     \u001b[32mv\u001b[39m \u001b[34mdplyr  \u001b[39m 1.0.6\n",
      "\u001b[32mv\u001b[39m \u001b[34mtidyr  \u001b[39m 1.1.3     \u001b[32mv\u001b[39m \u001b[34mstringr\u001b[39m 1.4.0\n",
      "\u001b[32mv\u001b[39m \u001b[34mreadr  \u001b[39m 1.3.1     \u001b[32mv\u001b[39m \u001b[34mforcats\u001b[39m 0.5.1\n",
      "\n",
      "Warning message:\n",
      "\"package 'ggplot2' was built under R version 3.6.3\"\n",
      "Warning message:\n",
      "\"package 'tibble' was built under R version 3.6.3\"\n",
      "Warning message:\n",
      "\"package 'tidyr' was built under R version 3.6.3\"\n",
      "Warning message:\n",
      "\"package 'dplyr' was built under R version 3.6.3\"\n",
      "Warning message:\n",
      "\"package 'forcats' was built under R version 3.6.3\"\n",
      "-- \u001b[1mConflicts\u001b[22m ------------------------------------------ tidyverse_conflicts() --\n",
      "\u001b[31mx\u001b[39m \u001b[34mdplyr\u001b[39m::\u001b[32mfilter()\u001b[39m masks \u001b[34mstats\u001b[39m::filter()\n",
      "\u001b[31mx\u001b[39m \u001b[34mdplyr\u001b[39m::\u001b[32mlag()\u001b[39m    masks \u001b[34mstats\u001b[39m::lag()\n",
      "\n",
      "\n",
      "Attaching package: 'lubridate'\n",
      "\n",
      "\n",
      "The following object is masked from 'package:base':\n",
      "\n",
      "    date\n",
      "\n",
      "\n"
     ]
    }
   ],
   "source": [
    "# Carregando as bibliotecas\n",
    "\n",
    "library(tidyverse)\n",
    "library(lubridate)"
   ]
  },
  {
   "cell_type": "markdown",
   "id": "ba96d30e",
   "metadata": {},
   "source": [
    "## Datas\n",
    "Datas são representadas pelas classes POSIXct, POSIXLt ou Date.<br>\n",
    "Alguns comandos elementares do sistema:\n",
    "- Sys.timezone()\n",
    "- Sys.Date()\n",
    "- Sys.time()\n",
    "\n",
    "Alguns comandos elementares do pacote lubridate:\n",
    "- today()\n",
    "- now()"
   ]
  },
  {
   "cell_type": "code",
   "execution_count": 2,
   "id": "58a7bb01",
   "metadata": {},
   "outputs": [
    {
     "data": {
      "text/html": [
       "'America/Sao_Paulo'"
      ],
      "text/latex": [
       "'America/Sao\\_Paulo'"
      ],
      "text/markdown": [
       "'America/Sao_Paulo'"
      ],
      "text/plain": [
       "[1] \"America/Sao_Paulo\""
      ]
     },
     "metadata": {},
     "output_type": "display_data"
    },
    {
     "data": {
      "text/html": [
       "<time datetime=\"2022-03-12\">2022-03-12</time>"
      ],
      "text/latex": [
       "2022-03-12"
      ],
      "text/markdown": [
       "2022-03-12"
      ],
      "text/plain": [
       "[1] \"2022-03-12\""
      ]
     },
     "metadata": {},
     "output_type": "display_data"
    },
    {
     "data": {
      "text/plain": [
       "[1] \"2022-03-12 19:58:29 -03\""
      ]
     },
     "metadata": {},
     "output_type": "display_data"
    },
    {
     "data": {
      "text/html": [
       "<time datetime=\"2022-03-12\">2022-03-12</time>"
      ],
      "text/latex": [
       "2022-03-12"
      ],
      "text/markdown": [
       "2022-03-12"
      ],
      "text/plain": [
       "[1] \"2022-03-12\""
      ]
     },
     "metadata": {},
     "output_type": "display_data"
    },
    {
     "data": {
      "text/plain": [
       "[1] \"2022-03-12 19:58:29 -03\""
      ]
     },
     "metadata": {},
     "output_type": "display_data"
    }
   ],
   "source": [
    "Sys.timezone()\n",
    "Sys.Date()\n",
    "Sys.time()\n",
    "today()\n",
    "now()"
   ]
  },
  {
   "cell_type": "code",
   "execution_count": 3,
   "id": "6f4fe3d5",
   "metadata": {},
   "outputs": [
    {
     "data": {
      "text/html": [
       "'character'"
      ],
      "text/latex": [
       "'character'"
      ],
      "text/markdown": [
       "'character'"
      ],
      "text/plain": [
       "[1] \"character\""
      ]
     },
     "metadata": {},
     "output_type": "display_data"
    },
    {
     "data": {
      "text/html": [
       "'Date'"
      ],
      "text/latex": [
       "'Date'"
      ],
      "text/markdown": [
       "'Date'"
      ],
      "text/plain": [
       "[1] \"Date\""
      ]
     },
     "metadata": {},
     "output_type": "display_data"
    },
    {
     "data": {
      "text/html": [
       "<ol class=list-inline>\n",
       "\t<li><time datetime=\"2010-07-01\">2010-07-01</time></li>\n",
       "\t<li><time datetime=\"2019-01-01\">2019-01-01</time></li>\n",
       "\t<li><time datetime=\"2020-01-01\">2020-01-01</time></li>\n",
       "</ol>\n"
      ],
      "text/latex": [
       "\\begin{enumerate*}\n",
       "\\item 2010-07-01\n",
       "\\item 2019-01-01\n",
       "\\item 2020-01-01\n",
       "\\end{enumerate*}\n"
      ],
      "text/markdown": [
       "1. 2010-07-01\n",
       "2. 2019-01-01\n",
       "3. 2020-01-01\n",
       "\n",
       "\n"
      ],
      "text/plain": [
       "[1] \"2010-07-01\" \"2019-01-01\" \"2020-01-01\""
      ]
     },
     "metadata": {},
     "output_type": "display_data"
    }
   ],
   "source": [
    "# Convertendo strings para datas\n",
    "\n",
    "datas <- c(\"2010-07-01\", \"2019-01-01\", \"2020-01-01\")\n",
    "\n",
    "class(datas)\n",
    "\n",
    "datas <- as.Date(datas)\n",
    "\n",
    "class(datas)\n",
    "\n",
    "datas"
   ]
  },
  {
   "cell_type": "code",
   "execution_count": 4,
   "id": "16f3fbd0",
   "metadata": {},
   "outputs": [
    {
     "data": {
      "text/html": [
       "<ol class=list-inline>\n",
       "\t<li>'01/31/2010'</li>\n",
       "\t<li>'01/31/2015'</li>\n",
       "\t<li>'01/31/2020'</li>\n",
       "</ol>\n"
      ],
      "text/latex": [
       "\\begin{enumerate*}\n",
       "\\item '01/31/2010'\n",
       "\\item '01/31/2015'\n",
       "\\item '01/31/2020'\n",
       "\\end{enumerate*}\n"
      ],
      "text/markdown": [
       "1. '01/31/2010'\n",
       "2. '01/31/2015'\n",
       "3. '01/31/2020'\n",
       "\n",
       "\n"
      ],
      "text/plain": [
       "[1] \"01/31/2010\" \"01/31/2015\" \"01/31/2020\""
      ]
     },
     "metadata": {},
     "output_type": "display_data"
    },
    {
     "data": {
      "text/html": [
       "<ol class=list-inline>\n",
       "\t<li><time datetime=\"2010-01-31\">2010-01-31</time></li>\n",
       "\t<li><time datetime=\"2015-01-31\">2015-01-31</time></li>\n",
       "\t<li><time datetime=\"2020-01-31\">2020-01-31</time></li>\n",
       "</ol>\n"
      ],
      "text/latex": [
       "\\begin{enumerate*}\n",
       "\\item 2010-01-31\n",
       "\\item 2015-01-31\n",
       "\\item 2020-01-31\n",
       "\\end{enumerate*}\n"
      ],
      "text/markdown": [
       "1. 2010-01-31\n",
       "2. 2015-01-31\n",
       "3. 2020-01-31\n",
       "\n",
       "\n"
      ],
      "text/plain": [
       "[1] \"2010-01-31\" \"2015-01-31\" \"2020-01-31\""
      ]
     },
     "metadata": {},
     "output_type": "display_data"
    }
   ],
   "source": [
    "datas2 <- c(\"01/31/2010\", \"01/31/2015\", \"01/31/2020\")\n",
    "\n",
    "datas2\n",
    "\n",
    "as.Date(datas2, format = \"%m/%d/%Y\")"
   ]
  },
  {
   "cell_type": "code",
   "execution_count": 5,
   "id": "59606813",
   "metadata": {},
   "outputs": [
    {
     "data": {
      "text/html": [
       "<ol class=list-inline>\n",
       "\t<li><time datetime=\"2010-07-01\">2010-07-01</time></li>\n",
       "\t<li><time datetime=\"2019-01-01\">2019-01-01</time></li>\n",
       "\t<li><time datetime=\"2020-01-01\">2020-01-01</time></li>\n",
       "</ol>\n"
      ],
      "text/latex": [
       "\\begin{enumerate*}\n",
       "\\item 2010-07-01\n",
       "\\item 2019-01-01\n",
       "\\item 2020-01-01\n",
       "\\end{enumerate*}\n"
      ],
      "text/markdown": [
       "1. 2010-07-01\n",
       "2. 2019-01-01\n",
       "3. 2020-01-01\n",
       "\n",
       "\n"
      ],
      "text/plain": [
       "[1] \"2010-07-01\" \"2019-01-01\" \"2020-01-01\""
      ]
     },
     "metadata": {},
     "output_type": "display_data"
    },
    {
     "data": {
      "text/html": [
       "<ol class=list-inline>\n",
       "\t<li><time datetime=\"2010-01-31\">2010-01-31</time></li>\n",
       "\t<li><time datetime=\"2015-01-31\">2015-01-31</time></li>\n",
       "\t<li><time datetime=\"2020-01-31\">2020-01-31</time></li>\n",
       "</ol>\n"
      ],
      "text/latex": [
       "\\begin{enumerate*}\n",
       "\\item 2010-01-31\n",
       "\\item 2015-01-31\n",
       "\\item 2020-01-31\n",
       "\\end{enumerate*}\n"
      ],
      "text/markdown": [
       "1. 2010-01-31\n",
       "2. 2015-01-31\n",
       "3. 2020-01-31\n",
       "\n",
       "\n"
      ],
      "text/plain": [
       "[1] \"2010-01-31\" \"2015-01-31\" \"2020-01-31\""
      ]
     },
     "metadata": {},
     "output_type": "display_data"
    },
    {
     "data": {
      "text/html": [
       "<time datetime=\"1985-01-31\">1985-01-31</time>"
      ],
      "text/latex": [
       "1985-01-31"
      ],
      "text/markdown": [
       "1985-01-31"
      ],
      "text/plain": [
       "[1] \"1985-01-31\""
      ]
     },
     "metadata": {},
     "output_type": "display_data"
    },
    {
     "data": {
      "text/html": [
       "<time datetime=\"2012-04-01\">2012-04-01</time>"
      ],
      "text/latex": [
       "2012-04-01"
      ],
      "text/markdown": [
       "2012-04-01"
      ],
      "text/plain": [
       "[1] \"2012-04-01\""
      ]
     },
     "metadata": {},
     "output_type": "display_data"
    },
    {
     "data": {
      "text/html": [
       "<time datetime=\"2019-12-31\">2019-12-31</time>"
      ],
      "text/latex": [
       "2019-12-31"
      ],
      "text/markdown": [
       "2019-12-31"
      ],
      "text/plain": [
       "[1] \"2019-12-31\""
      ]
     },
     "metadata": {},
     "output_type": "display_data"
    },
    {
     "data": {
      "text/html": [
       "<time datetime=\"1945-01-31\">1945-01-31</time>"
      ],
      "text/latex": [
       "1945-01-31"
      ],
      "text/markdown": [
       "1945-01-31"
      ],
      "text/plain": [
       "[1] \"1945-01-31\""
      ]
     },
     "metadata": {},
     "output_type": "display_data"
    },
    {
     "data": {
      "text/plain": [
       "[1] \"2017-01-31 CET\""
      ]
     },
     "metadata": {},
     "output_type": "display_data"
    },
    {
     "data": {
      "text/plain": [
       "[1] \"2003-01-31 20:11:42 UTC\""
      ]
     },
     "metadata": {},
     "output_type": "display_data"
    },
    {
     "data": {
      "text/plain": [
       "[1] \"2011-01-31 18:18:00 UTC\""
      ]
     },
     "metadata": {},
     "output_type": "display_data"
    }
   ],
   "source": [
    "# Usando lubridate\n",
    "\n",
    "ymd(datas)\n",
    "\n",
    "mdy(datas2)\n",
    "\n",
    "# De strings - mais comuns, principalmente vindas de arquivos externos\n",
    "\n",
    "ymd(\"1985-01-31\")\n",
    "\n",
    "mdy(\"April 1st, 2012\")\n",
    "\n",
    "dmy(\"31-Dec-2019\")\n",
    "\n",
    "ymd(19450131)\n",
    "\n",
    "ymd(20170131, tz = \"CET\")\n",
    "\n",
    "ymd_hms(\"2003-01-31 20:11:42\")\n",
    "\n",
    "mdy_hm(\"01/31/2011 18:18\")"
   ]
  },
  {
   "cell_type": "code",
   "execution_count": 6,
   "id": "a164df68",
   "metadata": {},
   "outputs": [
    {
     "data": {
      "text/html": [
       "'Date'"
      ],
      "text/latex": [
       "'Date'"
      ],
      "text/markdown": [
       "'Date'"
      ],
      "text/plain": [
       "[1] \"Date\""
      ]
     },
     "metadata": {},
     "output_type": "display_data"
    },
    {
     "data": {
      "text/html": [
       "<ol class=list-inline>\n",
       "\t<li>'POSIXct'</li>\n",
       "\t<li>'POSIXt'</li>\n",
       "</ol>\n"
      ],
      "text/latex": [
       "\\begin{enumerate*}\n",
       "\\item 'POSIXct'\n",
       "\\item 'POSIXt'\n",
       "\\end{enumerate*}\n"
      ],
      "text/markdown": [
       "1. 'POSIXct'\n",
       "2. 'POSIXt'\n",
       "\n",
       "\n"
      ],
      "text/plain": [
       "[1] \"POSIXct\" \"POSIXt\" "
      ]
     },
     "metadata": {},
     "output_type": "display_data"
    }
   ],
   "source": [
    "class(ymd(19450131))\n",
    "\n",
    "class(ymd(20170131, tz = \"CET\"))"
   ]
  },
  {
   "cell_type": "markdown",
   "id": "ee9405b9",
   "metadata": {},
   "source": [
    "## Diferença entre as classes\n",
    "POSIXct é apenas um número inteiro muito grande. Eke pe uma classe útil quando você deseja armazenar horários em dataframes. O POSIXLt é uma lista e armazena outras informações como o dia da semana, dia do ano, mês, dia do mês."
   ]
  },
  {
   "cell_type": "code",
   "execution_count": 7,
   "id": "00d97d11",
   "metadata": {},
   "outputs": [
    {
     "data": {
      "text/html": [
       "<ol class=list-inline>\n",
       "\t<li><time datetime=\"2010-07-01\">2010-07-01</time></li>\n",
       "\t<li><time datetime=\"2019-01-01\">2019-01-01</time></li>\n",
       "\t<li><time datetime=\"2020-01-01\">2020-01-01</time></li>\n",
       "</ol>\n"
      ],
      "text/latex": [
       "\\begin{enumerate*}\n",
       "\\item 2010-07-01\n",
       "\\item 2019-01-01\n",
       "\\item 2020-01-01\n",
       "\\end{enumerate*}\n"
      ],
      "text/markdown": [
       "1. 2010-07-01\n",
       "2. 2019-01-01\n",
       "3. 2020-01-01\n",
       "\n",
       "\n"
      ],
      "text/plain": [
       "[1] \"2010-07-01\" \"2019-01-01\" \"2020-01-01\""
      ]
     },
     "metadata": {},
     "output_type": "display_data"
    },
    {
     "data": {
      "text/html": [
       "<ol class=list-inline>\n",
       "\t<li>2010</li>\n",
       "\t<li>2019</li>\n",
       "\t<li>2020</li>\n",
       "</ol>\n"
      ],
      "text/latex": [
       "\\begin{enumerate*}\n",
       "\\item 2010\n",
       "\\item 2019\n",
       "\\item 2020\n",
       "\\end{enumerate*}\n"
      ],
      "text/markdown": [
       "1. 2010\n",
       "2. 2019\n",
       "3. 2020\n",
       "\n",
       "\n"
      ],
      "text/plain": [
       "[1] 2010 2019 2020"
      ]
     },
     "metadata": {},
     "output_type": "display_data"
    },
    {
     "data": {
      "text/html": [
       "<ol class=list-inline>\n",
       "\t<li>7</li>\n",
       "\t<li>1</li>\n",
       "\t<li>1</li>\n",
       "</ol>\n"
      ],
      "text/latex": [
       "\\begin{enumerate*}\n",
       "\\item 7\n",
       "\\item 1\n",
       "\\item 1\n",
       "\\end{enumerate*}\n"
      ],
      "text/markdown": [
       "1. 7\n",
       "2. 1\n",
       "3. 1\n",
       "\n",
       "\n"
      ],
      "text/plain": [
       "[1] 7 1 1"
      ]
     },
     "metadata": {},
     "output_type": "display_data"
    },
    {
     "data": {
      "text/html": [
       "<ol class=list-inline>\n",
       "\t<li>5</li>\n",
       "\t<li>3</li>\n",
       "\t<li>4</li>\n",
       "</ol>\n"
      ],
      "text/latex": [
       "\\begin{enumerate*}\n",
       "\\item 5\n",
       "\\item 3\n",
       "\\item 4\n",
       "\\end{enumerate*}\n"
      ],
      "text/markdown": [
       "1. 5\n",
       "2. 3\n",
       "3. 4\n",
       "\n",
       "\n"
      ],
      "text/plain": [
       "[1] 5 3 4"
      ]
     },
     "metadata": {},
     "output_type": "display_data"
    }
   ],
   "source": [
    "# Estraindo componentes das datas - lubridate\n",
    "\n",
    "datas\n",
    "\n",
    "year(datas)\n",
    "\n",
    "month(datas)\n",
    "\n",
    "wday(datas)"
   ]
  },
  {
   "cell_type": "code",
   "execution_count": 8,
   "id": "937211c0",
   "metadata": {},
   "outputs": [
    {
     "data": {
      "text/plain": [
       "[1] \"2022-03-12 19:58:31 -03\""
      ]
     },
     "metadata": {},
     "output_type": "display_data"
    },
    {
     "data": {
      "text/plain": [
       "[1] \"2022-03-12 19:58:30 -03\""
      ]
     },
     "metadata": {},
     "output_type": "display_data"
    }
   ],
   "source": [
    "# Operações com datas\n",
    "\n",
    "hoje <- Sys.time()\n",
    "hoje\n",
    "\n",
    "ontem <- hoje - 1\n",
    "\n",
    "ontem"
   ]
  },
  {
   "cell_type": "code",
   "execution_count": 9,
   "id": "bc02c1cf",
   "metadata": {},
   "outputs": [
    {
     "data": {
      "text/plain": [
       "[1] \"2022-03-11 19:58:31 -03\""
      ]
     },
     "metadata": {},
     "output_type": "display_data"
    }
   ],
   "source": [
    "ontem <- hoje - 1*60*60*24\n",
    "\n",
    "ontem"
   ]
  },
  {
   "cell_type": "code",
   "execution_count": 10,
   "id": "dc54322f",
   "metadata": {},
   "outputs": [
    {
     "data": {
      "text/plain": [
       "[1] \"2022-03-11 19:58:31 -03\""
      ]
     },
     "metadata": {},
     "output_type": "display_data"
    },
    {
     "data": {
      "text/plain": [
       "[1] \"2022-03-12 15:58:31 -03\""
      ]
     },
     "metadata": {},
     "output_type": "display_data"
    }
   ],
   "source": [
    "# Com lubridate\n",
    "\n",
    "hoje - days(1)\n",
    "\n",
    "hoje - hours(4)"
   ]
  },
  {
   "cell_type": "code",
   "execution_count": 11,
   "id": "b7a83e95",
   "metadata": {},
   "outputs": [
    {
     "data": {
      "text/html": [
       "30S"
      ],
      "text/latex": [
       "30S"
      ],
      "text/markdown": [
       "30S"
      ],
      "text/plain": [
       "[1] \"30S\""
      ]
     },
     "metadata": {},
     "output_type": "display_data"
    },
    {
     "data": {
      "text/html": [
       "5M 0S"
      ],
      "text/latex": [
       "5M 0S"
      ],
      "text/markdown": [
       "5M 0S"
      ],
      "text/plain": [
       "[1] \"5M 0S\""
      ]
     },
     "metadata": {},
     "output_type": "display_data"
    },
    {
     "data": {
      "text/html": [
       "3H 0M 0S"
      ],
      "text/latex": [
       "3H 0M 0S"
      ],
      "text/markdown": [
       "3H 0M 0S"
      ],
      "text/plain": [
       "[1] \"3H 0M 0S\""
      ]
     },
     "metadata": {},
     "output_type": "display_data"
    },
    {
     "data": {
      "text/html": [
       "<ol class=list-inline>\n",
       "\t<li>6H 0M 0S</li>\n",
       "\t<li>12H 0M 0S</li>\n",
       "</ol>\n"
      ],
      "text/latex": [
       "\\begin{enumerate*}\n",
       "\\item 6H 0M 0S\n",
       "\\item 12H 0M 0S\n",
       "\\end{enumerate*}\n"
      ],
      "text/markdown": [
       "1. 6H 0M 0S\n",
       "2. 12H 0M 0S\n",
       "\n",
       "\n"
      ],
      "text/plain": [
       "[1] \"6H 0M 0S\"  \"12H 0M 0S\""
      ]
     },
     "metadata": {},
     "output_type": "display_data"
    },
    {
     "data": {
      "text/html": [
       "7d 0H 0M 0S"
      ],
      "text/latex": [
       "7d 0H 0M 0S"
      ],
      "text/markdown": [
       "7d 0H 0M 0S"
      ],
      "text/plain": [
       "[1] \"7d 0H 0M 0S\""
      ]
     },
     "metadata": {},
     "output_type": "display_data"
    },
    {
     "data": {
      "text/html": [
       "<ol class=list-inline>\n",
       "\t<li>1m 0d 0H 0M 0S</li>\n",
       "\t<li>2m 0d 0H 0M 0S</li>\n",
       "\t<li>3m 0d 0H 0M 0S</li>\n",
       "</ol>\n"
      ],
      "text/latex": [
       "\\begin{enumerate*}\n",
       "\\item 1m 0d 0H 0M 0S\n",
       "\\item 2m 0d 0H 0M 0S\n",
       "\\item 3m 0d 0H 0M 0S\n",
       "\\end{enumerate*}\n"
      ],
      "text/markdown": [
       "1. 1m 0d 0H 0M 0S\n",
       "2. 2m 0d 0H 0M 0S\n",
       "3. 3m 0d 0H 0M 0S\n",
       "\n",
       "\n"
      ],
      "text/plain": [
       "[1] \"1m 0d 0H 0M 0S\" \"2m 0d 0H 0M 0S\" \"3m 0d 0H 0M 0S\""
      ]
     },
     "metadata": {},
     "output_type": "display_data"
    },
    {
     "data": {
      "text/html": [
       "28d 0H 0M 0S"
      ],
      "text/latex": [
       "28d 0H 0M 0S"
      ],
      "text/markdown": [
       "28d 0H 0M 0S"
      ],
      "text/plain": [
       "[1] \"28d 0H 0M 0S\""
      ]
     },
     "metadata": {},
     "output_type": "display_data"
    },
    {
     "data": {
      "text/html": [
       "1y 0m 0d 0H 0M 0S"
      ],
      "text/latex": [
       "1y 0m 0d 0H 0M 0S"
      ],
      "text/markdown": [
       "1y 0m 0d 0H 0M 0S"
      ],
      "text/plain": [
       "[1] \"1y 0m 0d 0H 0M 0S\""
      ]
     },
     "metadata": {},
     "output_type": "display_data"
    }
   ],
   "source": [
    "# Trabalhando com períodos - voce pode criar variaveir com os timestamps desejados para entao realizar as operações acima\n",
    "\n",
    "seconds(30)\n",
    "\n",
    "minutes(5)\n",
    "\n",
    "hours(3)\n",
    "\n",
    "hours(c(6, 12))\n",
    "\n",
    "days(7)\n",
    "\n",
    "months(1:3)\n",
    "\n",
    "weeks(4)\n",
    "\n",
    "years(1)"
   ]
  },
  {
   "cell_type": "code",
   "execution_count": 12,
   "id": "be70b998",
   "metadata": {},
   "outputs": [
    {
     "name": "stderr",
     "output_type": "stream",
     "text": [
      "Warning message:\n",
      "\"package 'data.table' was built under R version 3.6.3\"\n",
      "\n",
      "Attaching package: 'data.table'\n",
      "\n",
      "\n",
      "The following objects are masked from 'package:lubridate':\n",
      "\n",
      "    hour, isoweek, mday, minute, month, quarter, second, wday, week,\n",
      "    yday, year\n",
      "\n",
      "\n",
      "The following objects are masked from 'package:dplyr':\n",
      "\n",
      "    between, first, last\n",
      "\n",
      "\n",
      "The following object is masked from 'package:purrr':\n",
      "\n",
      "    transpose\n",
      "\n",
      "\n"
     ]
    }
   ],
   "source": [
    "setwd(\"Dados\")\n",
    "\n",
    "library(data.table)"
   ]
  },
  {
   "cell_type": "code",
   "execution_count": 13,
   "id": "ecab9f1d",
   "metadata": {},
   "outputs": [
    {
     "data": {
      "text/html": [
       "<table>\n",
       "<thead><tr><th scope=col>DateSAT</th><th scope=col>Satélite.Altimetry</th><th scope=col>Date.IN.LOCO</th><th scope=col>Altimetry.in.loco</th></tr></thead>\n",
       "<tbody>\n",
       "\t<tr><td>09/07/2008 11:49</td><td>218.88          </td><td>01/06/2008 00:00</td><td>215.12          </td></tr>\n",
       "\t<tr><td>19/07/2008 09:47</td><td>220.43          </td><td>01/06/2008 01:00</td><td>215.11          </td></tr>\n",
       "\t<tr><td>29/07/2008 07:46</td><td>220.62          </td><td>01/06/2008 02:00</td><td>215.12          </td></tr>\n",
       "\t<tr><td>08/08/2008 05:45</td><td>219.08          </td><td>01/06/2008 03:00</td><td>215.13          </td></tr>\n",
       "\t<tr><td>18/08/2008 03:43</td><td>218.13          </td><td>01/06/2008 04:00</td><td>215.14          </td></tr>\n",
       "\t<tr><td>06/09/2008 23:40</td><td>216.77          </td><td>01/06/2008 05:00</td><td>215.14          </td></tr>\n",
       "</tbody>\n",
       "</table>\n"
      ],
      "text/latex": [
       "\\begin{tabular}{r|llll}\n",
       " DateSAT & Satélite.Altimetry & Date.IN.LOCO & Altimetry.in.loco\\\\\n",
       "\\hline\n",
       "\t 09/07/2008 11:49 & 218.88           & 01/06/2008 00:00 & 215.12          \\\\\n",
       "\t 19/07/2008 09:47 & 220.43           & 01/06/2008 01:00 & 215.11          \\\\\n",
       "\t 29/07/2008 07:46 & 220.62           & 01/06/2008 02:00 & 215.12          \\\\\n",
       "\t 08/08/2008 05:45 & 219.08           & 01/06/2008 03:00 & 215.13          \\\\\n",
       "\t 18/08/2008 03:43 & 218.13           & 01/06/2008 04:00 & 215.14          \\\\\n",
       "\t 06/09/2008 23:40 & 216.77           & 01/06/2008 05:00 & 215.14          \\\\\n",
       "\\end{tabular}\n"
      ],
      "text/markdown": [
       "\n",
       "| DateSAT | Satélite.Altimetry | Date.IN.LOCO | Altimetry.in.loco |\n",
       "|---|---|---|---|\n",
       "| 09/07/2008 11:49 | 218.88           | 01/06/2008 00:00 | 215.12           |\n",
       "| 19/07/2008 09:47 | 220.43           | 01/06/2008 01:00 | 215.11           |\n",
       "| 29/07/2008 07:46 | 220.62           | 01/06/2008 02:00 | 215.12           |\n",
       "| 08/08/2008 05:45 | 219.08           | 01/06/2008 03:00 | 215.13           |\n",
       "| 18/08/2008 03:43 | 218.13           | 01/06/2008 04:00 | 215.14           |\n",
       "| 06/09/2008 23:40 | 216.77           | 01/06/2008 05:00 | 215.14           |\n",
       "\n"
      ],
      "text/plain": [
       "  DateSAT          Satélite.Altimetry Date.IN.LOCO     Altimetry.in.loco\n",
       "1 09/07/2008 11:49 218.88             01/06/2008 00:00 215.12           \n",
       "2 19/07/2008 09:47 220.43             01/06/2008 01:00 215.11           \n",
       "3 29/07/2008 07:46 220.62             01/06/2008 02:00 215.12           \n",
       "4 08/08/2008 05:45 219.08             01/06/2008 03:00 215.13           \n",
       "5 18/08/2008 03:43 218.13             01/06/2008 04:00 215.14           \n",
       "6 06/09/2008 23:40 216.77             01/06/2008 05:00 215.14           "
      ]
     },
     "metadata": {},
     "output_type": "display_data"
    },
    {
     "name": "stdout",
     "output_type": "stream",
     "text": [
      "'data.frame':\t72086 obs. of  4 variables:\n",
      " $ DateSAT           : chr  \"09/07/2008 11:49\" \"19/07/2008 09:47\" \"29/07/2008 07:46\" \"08/08/2008 05:45\" ...\n",
      " $ Satélite.Altimetry: num  219 220 221 219 218 ...\n",
      " $ Date.IN.LOCO      : chr  \"01/06/2008 00:00\" \"01/06/2008 01:00\" \"01/06/2008 02:00\" \"01/06/2008 03:00\" ...\n",
      " $ Altimetry.in.loco : num  215 215 215 215 215 ...\n"
     ]
    }
   ],
   "source": [
    "alt_data <- data.frame(fread(\"alt_data.csv\", header = TRUE, sep=\";\"))\n",
    "\n",
    "head(alt_data)\n",
    "\n",
    "str(alt_data)"
   ]
  },
  {
   "cell_type": "code",
   "execution_count": 14,
   "id": "be39e0d7",
   "metadata": {},
   "outputs": [],
   "source": [
    "# Convertendo as datas para POSIXct em novas variaveis, para trabalhar com os dias e horas\n",
    "\n",
    "alt_data$DIAMES_SAT <- as.POSIXct(strptime(alt_data$DateSAT, format = \"%d/%m/%Y\"))\n",
    "alt_data$DIAMES_LOCO <- as.POSIXct(strptime(alt_data$Date.IN.LOCO, format = \"%d/%m/%Y\"))\n",
    "\n",
    "# Deixando uma parte em string para fazer a comparação lógica\n",
    "\n",
    "alt_data$DIAMES_SAT <- as.character(alt_data$DIAMES_SAT)\n",
    "alt_data$DIAMES_LOCO <- as.character(alt_data$DIAMES_LOCO)\n",
    "\n",
    "# Convertendo os valores iniciais\n",
    "\n",
    "alt_data$DateSAT <- as.POSIXct(strptime(alt_data$DateSAT, format= \"%d/%m/%Y %H:%M\"))\n",
    "alt_data$Date.IN.LOCO <- as.POSIXct(strptime(alt_data$Date.IN.LOCO, format = \"%d/%m/%Y %H:%M\"))"
   ]
  },
  {
   "cell_type": "code",
   "execution_count": 15,
   "id": "c8bcc36c",
   "metadata": {},
   "outputs": [
    {
     "data": {
      "text/html": [
       "<table>\n",
       "<thead><tr><th scope=col>DateSAT</th><th scope=col>Satélite.Altimetry</th><th scope=col>Date.IN.LOCO</th><th scope=col>Altimetry.in.loco</th><th scope=col>DIAMES_SAT</th><th scope=col>DIAMES_LOCO</th></tr></thead>\n",
       "<tbody>\n",
       "\t<tr><td>2008-07-09 11:49:00</td><td>218.88             </td><td>2008-06-01 00:00:00</td><td>215.12             </td><td>2008-07-09         </td><td>2008-06-01         </td></tr>\n",
       "\t<tr><td>2008-07-19 09:47:00</td><td>220.43             </td><td>2008-06-01 01:00:00</td><td>215.11             </td><td>2008-07-19         </td><td>2008-06-01         </td></tr>\n",
       "\t<tr><td>2008-07-29 07:46:00</td><td>220.62             </td><td>2008-06-01 02:00:00</td><td>215.12             </td><td>2008-07-29         </td><td>2008-06-01         </td></tr>\n",
       "\t<tr><td>2008-08-08 05:45:00</td><td>219.08             </td><td>2008-06-01 03:00:00</td><td>215.13             </td><td>2008-08-08         </td><td>2008-06-01         </td></tr>\n",
       "\t<tr><td>2008-08-18 03:43:00</td><td>218.13             </td><td>2008-06-01 04:00:00</td><td>215.14             </td><td>2008-08-18         </td><td>2008-06-01         </td></tr>\n",
       "\t<tr><td>2008-09-06 23:40:00</td><td>216.77             </td><td>2008-06-01 05:00:00</td><td>215.14             </td><td>2008-09-06         </td><td>2008-06-01         </td></tr>\n",
       "</tbody>\n",
       "</table>\n"
      ],
      "text/latex": [
       "\\begin{tabular}{r|llllll}\n",
       " DateSAT & Satélite.Altimetry & Date.IN.LOCO & Altimetry.in.loco & DIAMES\\_SAT & DIAMES\\_LOCO\\\\\n",
       "\\hline\n",
       "\t 2008-07-09 11:49:00 & 218.88              & 2008-06-01 00:00:00 & 215.12              & 2008-07-09          & 2008-06-01         \\\\\n",
       "\t 2008-07-19 09:47:00 & 220.43              & 2008-06-01 01:00:00 & 215.11              & 2008-07-19          & 2008-06-01         \\\\\n",
       "\t 2008-07-29 07:46:00 & 220.62              & 2008-06-01 02:00:00 & 215.12              & 2008-07-29          & 2008-06-01         \\\\\n",
       "\t 2008-08-08 05:45:00 & 219.08              & 2008-06-01 03:00:00 & 215.13              & 2008-08-08          & 2008-06-01         \\\\\n",
       "\t 2008-08-18 03:43:00 & 218.13              & 2008-06-01 04:00:00 & 215.14              & 2008-08-18          & 2008-06-01         \\\\\n",
       "\t 2008-09-06 23:40:00 & 216.77              & 2008-06-01 05:00:00 & 215.14              & 2008-09-06          & 2008-06-01         \\\\\n",
       "\\end{tabular}\n"
      ],
      "text/markdown": [
       "\n",
       "| DateSAT | Satélite.Altimetry | Date.IN.LOCO | Altimetry.in.loco | DIAMES_SAT | DIAMES_LOCO |\n",
       "|---|---|---|---|---|---|\n",
       "| 2008-07-09 11:49:00 | 218.88              | 2008-06-01 00:00:00 | 215.12              | 2008-07-09          | 2008-06-01          |\n",
       "| 2008-07-19 09:47:00 | 220.43              | 2008-06-01 01:00:00 | 215.11              | 2008-07-19          | 2008-06-01          |\n",
       "| 2008-07-29 07:46:00 | 220.62              | 2008-06-01 02:00:00 | 215.12              | 2008-07-29          | 2008-06-01          |\n",
       "| 2008-08-08 05:45:00 | 219.08              | 2008-06-01 03:00:00 | 215.13              | 2008-08-08          | 2008-06-01          |\n",
       "| 2008-08-18 03:43:00 | 218.13              | 2008-06-01 04:00:00 | 215.14              | 2008-08-18          | 2008-06-01          |\n",
       "| 2008-09-06 23:40:00 | 216.77              | 2008-06-01 05:00:00 | 215.14              | 2008-09-06          | 2008-06-01          |\n",
       "\n"
      ],
      "text/plain": [
       "  DateSAT             Satélite.Altimetry Date.IN.LOCO        Altimetry.in.loco\n",
       "1 2008-07-09 11:49:00 218.88             2008-06-01 00:00:00 215.12           \n",
       "2 2008-07-19 09:47:00 220.43             2008-06-01 01:00:00 215.11           \n",
       "3 2008-07-29 07:46:00 220.62             2008-06-01 02:00:00 215.12           \n",
       "4 2008-08-08 05:45:00 219.08             2008-06-01 03:00:00 215.13           \n",
       "5 2008-08-18 03:43:00 218.13             2008-06-01 04:00:00 215.14           \n",
       "6 2008-09-06 23:40:00 216.77             2008-06-01 05:00:00 215.14           \n",
       "  DIAMES_SAT DIAMES_LOCO\n",
       "1 2008-07-09 2008-06-01 \n",
       "2 2008-07-19 2008-06-01 \n",
       "3 2008-07-29 2008-06-01 \n",
       "4 2008-08-08 2008-06-01 \n",
       "5 2008-08-18 2008-06-01 \n",
       "6 2008-09-06 2008-06-01 "
      ]
     },
     "metadata": {},
     "output_type": "display_data"
    }
   ],
   "source": [
    "head(alt_data)"
   ]
  },
  {
   "cell_type": "code",
   "execution_count": 16,
   "id": "27d78c34",
   "metadata": {},
   "outputs": [
    {
     "data": {
      "text/plain": [
       "    DateSAT                    Satélite.Altimetry  Date.IN.LOCO                \n",
       " Min.   :2008-07-09 11:49:00   Min.   :214.4      Min.   :2008-06-01 00:00:00  \n",
       " 1st Qu.:2010-10-30 08:14:00   1st Qu.:217.9      1st Qu.:2010-07-10 15:15:00  \n",
       " Median :2013-04-09 17:31:00   Median :219.3      Median :2012-08-05 14:30:00  \n",
       " Mean   :2012-12-04 14:33:04   Mean   :219.0      Mean   :2012-08-06 14:09:42  \n",
       " 3rd Qu.:2015-01-29 02:53:00   3rd Qu.:220.1      3rd Qu.:2014-09-07 14:45:00  \n",
       " Max.   :2016-09-29 22:22:00   Max.   :221.1      Max.   :2016-10-01 23:00:00  \n",
       " NA's   :71895                 NA's   :71895      NA's   :8                    \n",
       " Altimetry.in.loco  DIAMES_SAT        DIAMES_LOCO       \n",
       " Min.   :212.7     Length:72086       Length:72086      \n",
       " 1st Qu.:218.3     Class :character   Class :character  \n",
       " Median :219.7     Mode  :character   Mode  :character  \n",
       " Mean   :219.8                                          \n",
       " 3rd Qu.:220.2                                          \n",
       " Max.   :250.6                                          \n",
       "                                                        "
      ]
     },
     "metadata": {},
     "output_type": "display_data"
    }
   ],
   "source": [
    "summary(alt_data)"
   ]
  },
  {
   "cell_type": "code",
   "execution_count": 17,
   "id": "c59a3a2b",
   "metadata": {},
   "outputs": [],
   "source": [
    "# Criando novas variáveis\n",
    "\n",
    "# Variável que vai guardar o dado de nível fornecido pelo satélite\n",
    "alt_data[\"satedit\"] <- c(NA)\n",
    "\n",
    "# Variável para guardar a data e hora origial do saelite\n",
    "alt_data[\"DATA_SAT_MATCH\"] <- c(NA)"
   ]
  },
  {
   "cell_type": "code",
   "execution_count": 18,
   "id": "4562811b",
   "metadata": {},
   "outputs": [],
   "source": [
    "# Agora vamos separar a base em 2, porque as dimensoes dos registros sao diferentes, assim como sua natureza\n",
    "\n",
    "dados_sat <- alt_data[1:191, c(\"DateSAT\", \"Satélite.Altimetry\", \"DIAMES_SAT\")]\n",
    "\n",
    "dados_loco <- alt_data[, c(\"Date.IN.LOCO\", \"Altimetry.in.loco\", \"DIAMES_LOCO\", \"satedit\", \"DATA_SAT_MATCH\")]"
   ]
  },
  {
   "cell_type": "code",
   "execution_count": 19,
   "id": "daf9e845",
   "metadata": {},
   "outputs": [],
   "source": [
    "# Adicionar as horas arredondadas em novas variáveis\n",
    "\n",
    "dados_sat$SAT_Hour <- format(round(dados_sat$DateSAT, units = \"hours\"), format = \"%H:%M\")\n",
    "dados_loco$LOCO_Hour <- format(round(dados_loco$Date.IN.LOCO, units = \"hours\"), format = \"%H:%M\")"
   ]
  },
  {
   "cell_type": "markdown",
   "id": "ca03d5e4",
   "metadata": {},
   "source": [
    "Boa prática trabalhando com datas: manter a informação original."
   ]
  },
  {
   "cell_type": "code",
   "execution_count": 20,
   "id": "37a7c793",
   "metadata": {},
   "outputs": [
    {
     "data": {
      "text/html": [
       "<table>\n",
       "<thead><tr><th scope=col>Date.IN.LOCO</th><th scope=col>Altimetry.in.loco</th><th scope=col>DIAMES_LOCO</th><th scope=col>satedit</th><th scope=col>DATA_SAT_MATCH</th><th scope=col>LOCO_Hour</th></tr></thead>\n",
       "<tbody>\n",
       "\t<tr><td>2008-06-01 00:00:00</td><td>215.12             </td><td>2008-06-01         </td><td>NA                 </td><td>NA                 </td><td>00:00              </td></tr>\n",
       "\t<tr><td>2008-06-01 01:00:00</td><td>215.11             </td><td>2008-06-01         </td><td>NA                 </td><td>NA                 </td><td>01:00              </td></tr>\n",
       "\t<tr><td>2008-06-01 02:00:00</td><td>215.12             </td><td>2008-06-01         </td><td>NA                 </td><td>NA                 </td><td>02:00              </td></tr>\n",
       "\t<tr><td>2008-06-01 03:00:00</td><td>215.13             </td><td>2008-06-01         </td><td>NA                 </td><td>NA                 </td><td>03:00              </td></tr>\n",
       "\t<tr><td>2008-06-01 04:00:00</td><td>215.14             </td><td>2008-06-01         </td><td>NA                 </td><td>NA                 </td><td>04:00              </td></tr>\n",
       "\t<tr><td>2008-06-01 05:00:00</td><td>215.14             </td><td>2008-06-01         </td><td>NA                 </td><td>NA                 </td><td>05:00              </td></tr>\n",
       "</tbody>\n",
       "</table>\n"
      ],
      "text/latex": [
       "\\begin{tabular}{r|llllll}\n",
       " Date.IN.LOCO & Altimetry.in.loco & DIAMES\\_LOCO & satedit & DATA\\_SAT\\_MATCH & LOCO\\_Hour\\\\\n",
       "\\hline\n",
       "\t 2008-06-01 00:00:00 & 215.12              & 2008-06-01          & NA                  & NA                  & 00:00              \\\\\n",
       "\t 2008-06-01 01:00:00 & 215.11              & 2008-06-01          & NA                  & NA                  & 01:00              \\\\\n",
       "\t 2008-06-01 02:00:00 & 215.12              & 2008-06-01          & NA                  & NA                  & 02:00              \\\\\n",
       "\t 2008-06-01 03:00:00 & 215.13              & 2008-06-01          & NA                  & NA                  & 03:00              \\\\\n",
       "\t 2008-06-01 04:00:00 & 215.14              & 2008-06-01          & NA                  & NA                  & 04:00              \\\\\n",
       "\t 2008-06-01 05:00:00 & 215.14              & 2008-06-01          & NA                  & NA                  & 05:00              \\\\\n",
       "\\end{tabular}\n"
      ],
      "text/markdown": [
       "\n",
       "| Date.IN.LOCO | Altimetry.in.loco | DIAMES_LOCO | satedit | DATA_SAT_MATCH | LOCO_Hour |\n",
       "|---|---|---|---|---|---|\n",
       "| 2008-06-01 00:00:00 | 215.12              | 2008-06-01          | NA                  | NA                  | 00:00               |\n",
       "| 2008-06-01 01:00:00 | 215.11              | 2008-06-01          | NA                  | NA                  | 01:00               |\n",
       "| 2008-06-01 02:00:00 | 215.12              | 2008-06-01          | NA                  | NA                  | 02:00               |\n",
       "| 2008-06-01 03:00:00 | 215.13              | 2008-06-01          | NA                  | NA                  | 03:00               |\n",
       "| 2008-06-01 04:00:00 | 215.14              | 2008-06-01          | NA                  | NA                  | 04:00               |\n",
       "| 2008-06-01 05:00:00 | 215.14              | 2008-06-01          | NA                  | NA                  | 05:00               |\n",
       "\n"
      ],
      "text/plain": [
       "  Date.IN.LOCO        Altimetry.in.loco DIAMES_LOCO satedit DATA_SAT_MATCH\n",
       "1 2008-06-01 00:00:00 215.12            2008-06-01  NA      NA            \n",
       "2 2008-06-01 01:00:00 215.11            2008-06-01  NA      NA            \n",
       "3 2008-06-01 02:00:00 215.12            2008-06-01  NA      NA            \n",
       "4 2008-06-01 03:00:00 215.13            2008-06-01  NA      NA            \n",
       "5 2008-06-01 04:00:00 215.14            2008-06-01  NA      NA            \n",
       "6 2008-06-01 05:00:00 215.14            2008-06-01  NA      NA            \n",
       "  LOCO_Hour\n",
       "1 00:00    \n",
       "2 01:00    \n",
       "3 02:00    \n",
       "4 03:00    \n",
       "5 04:00    \n",
       "6 05:00    "
      ]
     },
     "metadata": {},
     "output_type": "display_data"
    }
   ],
   "source": [
    "head(dados_loco)"
   ]
  },
  {
   "cell_type": "code",
   "execution_count": 61,
   "id": "70925c40",
   "metadata": {},
   "outputs": [],
   "source": [
    "dados_loco$DIAMES_LOCO[is.na(dados_loco$DIAMES_LOCO)] <- 0\n",
    "dados_sat$DIAMES_SAT[is.na(dados_sat$DIAMES_SAT)] <- 0\n",
    "dados_sat$SAT_Hour[is.na(dados_sat$SAT_Hour)] <- 0\n",
    "dados_loco$LOCO_Hour[is.na(dados_loco$LOCO_Hour)] <- 0"
   ]
  },
  {
   "cell_type": "code",
   "execution_count": 62,
   "id": "1480aed2",
   "metadata": {},
   "outputs": [],
   "source": [
    "# Agora o uso de dois laços for, aninhados, para fazer a comparação das datas e horas\n",
    "\n",
    "for(i in 1:nrow(dados_loco)){\n",
    "    for(j in 1:nrow(dados_sat)){\n",
    "        if((dados_loco$DIAMES_LOCO[i] == dados_sat$DIAMES_SAT[j]) & (dados_loco$LOCO_Hour[i] == dados_sat$SAT_Hour[j])){\n",
    "            dados_loco$satedit[i] = dados_sat$Satélite.Altimetry[j]\n",
    "            dados_loco$DATA_SAT_MATCH[i] = dados_sat$DateSAT[j]\n",
    "        }\n",
    "    }\n",
    "}"
   ]
  },
  {
   "cell_type": "code",
   "execution_count": 63,
   "id": "89062211",
   "metadata": {},
   "outputs": [
    {
     "name": "stdout",
     "output_type": "stream",
     "text": [
      "'data.frame':\t72086 obs. of  6 variables:\n",
      " $ Date.IN.LOCO     : POSIXct, format: \"2008-06-01 00:00:00\" \"2008-06-01 01:00:00\" ...\n",
      " $ Altimetry.in.loco: num  215 215 215 215 215 ...\n",
      " $ DIAMES_LOCO      : chr  \"2008-06-01\" \"2008-06-01\" \"2008-06-01\" \"2008-06-01\" ...\n",
      " $ satedit          : num  NA NA NA NA NA NA NA NA NA NA ...\n",
      " $ DATA_SAT_MATCH   : num  NA NA NA NA NA NA NA NA NA NA ...\n",
      " $ LOCO_Hour        : chr  \"00:00\" \"01:00\" \"02:00\" \"03:00\" ...\n"
     ]
    },
    {
     "data": {
      "text/plain": [
       "  Date.IN.LOCO                 Altimetry.in.loco DIAMES_LOCO       \n",
       " Min.   :2008-06-01 00:00:00   Min.   :212.7     Length:72086      \n",
       " 1st Qu.:2010-07-10 15:15:00   1st Qu.:218.3     Class :character  \n",
       " Median :2012-08-05 14:30:00   Median :219.7     Mode  :character  \n",
       " Mean   :2012-08-06 14:09:42   Mean   :219.8                       \n",
       " 3rd Qu.:2014-09-07 14:45:00   3rd Qu.:220.2                       \n",
       " Max.   :2016-10-01 23:00:00   Max.   :250.6                       \n",
       " NA's   :8                                                         \n",
       "    satedit      DATA_SAT_MATCH       LOCO_Hour        \n",
       " Min.   :214.4   Min.   :1.216e+09   Length:72086      \n",
       " 1st Qu.:217.9   1st Qu.:1.285e+09   Class :character  \n",
       " Median :219.3   Median :1.365e+09   Mode  :character  \n",
       " Mean   :219.0   Mean   :1.354e+09                     \n",
       " 3rd Qu.:220.1   3rd Qu.:1.422e+09                     \n",
       " Max.   :221.1   Max.   :1.475e+09                     \n",
       " NA's   :71897   NA's   :71897                         "
      ]
     },
     "metadata": {},
     "output_type": "display_data"
    }
   ],
   "source": [
    "str(dados_loco)\n",
    "summary(dados_loco)"
   ]
  },
  {
   "cell_type": "code",
   "execution_count": 64,
   "id": "21eab097",
   "metadata": {},
   "outputs": [
    {
     "data": {
      "text/plain": [
       "  Date.IN.LOCO                 Altimetry.in.loco DIAMES_LOCO       \n",
       " Min.   :2008-07-09 12:00:00   Min.   :213.4     Length:189        \n",
       " 1st Qu.:2010-09-20 16:00:00   1st Qu.:218.0     Class :character  \n",
       " Median :2013-03-30 20:00:00   Median :219.6     Mode  :character  \n",
       " Mean   :2012-11-28 10:09:50   Mean   :220.1                       \n",
       " 3rd Qu.:2015-01-24 04:00:00   3rd Qu.:220.2                       \n",
       " Max.   :2016-09-29 22:00:00   Max.   :250.3                       \n",
       "    satedit      DATA_SAT_MATCH       LOCO_Hour        \n",
       " Min.   :214.4   Min.   :1.216e+09   Length:189        \n",
       " 1st Qu.:217.9   1st Qu.:1.285e+09   Class :character  \n",
       " Median :219.3   Median :1.365e+09   Mode  :character  \n",
       " Mean   :219.0   Mean   :1.354e+09                     \n",
       " 3rd Qu.:220.1   3rd Qu.:1.422e+09                     \n",
       " Max.   :221.1   Max.   :1.475e+09                     "
      ]
     },
     "metadata": {},
     "output_type": "display_data"
    }
   ],
   "source": [
    "dados_loco2 <- na.omit(dados_loco)\n",
    "\n",
    "summary(dados_loco2)"
   ]
  },
  {
   "cell_type": "code",
   "execution_count": 67,
   "id": "d5cf783b",
   "metadata": {},
   "outputs": [
    {
     "data": {
      "image/png": "[encoded data removed]",
      "text/plain": [
       "Plot with title \"Comparação altimetria\""
      ]
     },
     "metadata": {
      "image/png": {
       "height": 420,
       "width": 420
      }
     },
     "output_type": "display_data"
    }
   ],
   "source": [
    "# Visualizando os dados\n",
    "\n",
    "with(dados_loco2,\n",
    "    plot(Date.IN.LOCO, satedit,\n",
    "         pch = 15,\n",
    "         axes = F,\n",
    "         xlab = \"Periodo\",\n",
    "         ylab = \"Altimetria (m)\",\n",
    "         cex = 1,\n",
    "        ylim = c(210,230),\n",
    "        main = \"Comparação altimetria\"\n",
    "        )\n",
    "    )\n",
    "\n",
    "legend(\"topright\",\n",
    "      legend = c(\"In Loco\", \"Satelite\"),\n",
    "      pch = c(15,15), col = c(\"red\", \"black\"))\n",
    "\n",
    "par(new = T)\n",
    "\n",
    "with(dados_loco2,\n",
    "    plot(Date.IN.LOCO, Altimetry.in.loco,\n",
    "         pch = 15,\n",
    "         col = \"red\",\n",
    "         axes = F,\n",
    "         xlab = NA,\n",
    "         ylab = NA,\n",
    "         )\n",
    "    )"
   ]
  }
 ],
 "metadata": {
  "kernelspec": {
   "display_name": "R",
   "language": "R",
   "name": "ir"
  },
  "language_info": {
   "codemirror_mode": "r",
   "file_extension": ".r",
   "mimetype": "text/x-r-source",
   "name": "R",
   "pygments_lexer": "r",
   "version": "3.6.1"
  }
 },
 "nbformat": 4,
 "nbformat_minor": 5
}
