{
 "cells": [
  {
   "cell_type": "markdown",
   "id": "cfbc50ca",
   "metadata": {},
   "source": [
    "# Tidyverse - Parte 2\n",
    "## Base de dados:\n",
    "- Auto MPG Data Set\n",
    "- archive.ics.uci.edu/ml/datasets/auto+mpg\n",
    "- This dataset was taken from the StatLib library which is maintained at Carnegie Mellon University. The dataset was used in the 1983 American Statistical Association Exposition."
   ]
  },
  {
   "cell_type": "code",
   "execution_count": 1,
   "id": "63bfa937",
   "metadata": {},
   "outputs": [
    {
     "name": "stderr",
     "output_type": "stream",
     "text": [
      "-- \u001b[1mAttaching packages\u001b[22m --------------------------------------- tidyverse 1.2.1 --\n",
      "\n",
      "\u001b[32mv\u001b[39m \u001b[34mggplot2\u001b[39m 3.3.3     \u001b[32mv\u001b[39m \u001b[34mpurrr  \u001b[39m 0.3.2\n",
      "\u001b[32mv\u001b[39m \u001b[34mtibble \u001b[39m 3.1.1     \u001b[32mv\u001b[39m \u001b[34mdplyr  \u001b[39m 1.0.6\n",
      "\u001b[32mv\u001b[39m \u001b[34mtidyr  \u001b[39m 1.1.3     \u001b[32mv\u001b[39m \u001b[34mstringr\u001b[39m 1.4.0\n",
      "\u001b[32mv\u001b[39m \u001b[34mreadr  \u001b[39m 1.3.1     \u001b[32mv\u001b[39m \u001b[34mforcats\u001b[39m 0.5.1\n",
      "\n",
      "Warning message:\n",
      "\"package 'ggplot2' was built under R version 3.6.3\"\n",
      "Warning message:\n",
      "\"package 'tibble' was built under R version 3.6.3\"\n",
      "Warning message:\n",
      "\"package 'tidyr' was built under R version 3.6.3\"\n",
      "Warning message:\n",
      "\"package 'dplyr' was built under R version 3.6.3\"\n",
      "Warning message:\n",
      "\"package 'forcats' was built under R version 3.6.3\"\n",
      "-- \u001b[1mConflicts\u001b[22m ------------------------------------------ tidyverse_conflicts() --\n",
      "\u001b[31mx\u001b[39m \u001b[34mdplyr\u001b[39m::\u001b[32mfilter()\u001b[39m masks \u001b[34mstats\u001b[39m::filter()\n",
      "\u001b[31mx\u001b[39m \u001b[34mdplyr\u001b[39m::\u001b[32mlag()\u001b[39m    masks \u001b[34mstats\u001b[39m::lag()\n",
      "\n"
     ]
    }
   ],
   "source": [
    "library(tidyverse)"
   ]
  },
  {
   "cell_type": "code",
   "execution_count": 2,
   "id": "324f0625",
   "metadata": {},
   "outputs": [],
   "source": [
    "setwd(\"Dados\")"
   ]
  },
  {
   "cell_type": "code",
   "execution_count": 3,
   "id": "5e45dec8",
   "metadata": {},
   "outputs": [],
   "source": [
    "mpg_data <- read.table(\"auto_mpg.csv\",\n",
    "                      header = TRUE, sep = \",\")"
   ]
  },
  {
   "cell_type": "code",
   "execution_count": 4,
   "id": "bec5101b",
   "metadata": {},
   "outputs": [
    {
     "data": {
      "text/html": [
       "<table>\n",
       "<thead><tr><th scope=col>mpg</th><th scope=col>cyl</th><th scope=col>displ</th><th scope=col>hp</th><th scope=col>weight</th><th scope=col>accel</th><th scope=col>year</th><th scope=col>origin</th><th scope=col>car_name</th></tr></thead>\n",
       "<tbody>\n",
       "\t<tr><td>18                        </td><td>8                         </td><td>307                       </td><td>130                       </td><td>3504                      </td><td>12.0                      </td><td>70                        </td><td>1                         </td><td>\tchevrolet chevelle malibu</td></tr>\n",
       "\t<tr><td>15                        </td><td>8                         </td><td>350                       </td><td>165                       </td><td>3693                      </td><td>11.5                      </td><td>70                        </td><td>1                         </td><td>\tbuick skylark 320        </td></tr>\n",
       "\t<tr><td>18                        </td><td>8                         </td><td>318                       </td><td>150                       </td><td>3436                      </td><td>11.0                      </td><td>70                        </td><td>1                         </td><td>\tplymouth satellite       </td></tr>\n",
       "\t<tr><td>16                        </td><td>8                         </td><td>304                       </td><td>150                       </td><td>3433                      </td><td>12.0                      </td><td>70                        </td><td>1                         </td><td>\tamc rebel sst            </td></tr>\n",
       "\t<tr><td>17                        </td><td>8                         </td><td>302                       </td><td>140                       </td><td>3449                      </td><td>10.5                      </td><td>70                        </td><td>1                         </td><td>\tford torino              </td></tr>\n",
       "\t<tr><td>15                        </td><td>8                         </td><td>429                       </td><td>198                       </td><td>4341                      </td><td>10.0                      </td><td>70                        </td><td>1                         </td><td>\tford galaxie 500         </td></tr>\n",
       "</tbody>\n",
       "</table>\n"
      ],
      "text/latex": [
       "\\begin{tabular}{r|lllllllll}\n",
       " mpg & cyl & displ & hp & weight & accel & year & origin & car\\_name\\\\\n",
       "\\hline\n",
       "\t 18                         & 8                          & 307                        & 130                        & 3504                       & 12.0                       & 70                         & 1                          & \tchevrolet chevelle malibu\\\\\n",
       "\t 15                         & 8                          & 350                        & 165                        & 3693                       & 11.5                       & 70                         & 1                          & \tbuick skylark 320        \\\\\n",
       "\t 18                         & 8                          & 318                        & 150                        & 3436                       & 11.0                       & 70                         & 1                          & \tplymouth satellite       \\\\\n",
       "\t 16                         & 8                          & 304                        & 150                        & 3433                       & 12.0                       & 70                         & 1                          & \tamc rebel sst            \\\\\n",
       "\t 17                         & 8                          & 302                        & 140                        & 3449                       & 10.5                       & 70                         & 1                          & \tford torino              \\\\\n",
       "\t 15                         & 8                          & 429                        & 198                        & 4341                       & 10.0                       & 70                         & 1                          & \tford galaxie 500         \\\\\n",
       "\\end{tabular}\n"
      ],
      "text/markdown": [
       "\n",
       "| mpg | cyl | displ | hp | weight | accel | year | origin | car_name |\n",
       "|---|---|---|---|---|---|---|---|---|\n",
       "| 18                         | 8                          | 307                        | 130                        | 3504                       | 12.0                       | 70                         | 1                          | \tchevrolet chevelle malibu |\n",
       "| 15                         | 8                          | 350                        | 165                        | 3693                       | 11.5                       | 70                         | 1                          | \tbuick skylark 320         |\n",
       "| 18                         | 8                          | 318                        | 150                        | 3436                       | 11.0                       | 70                         | 1                          | \tplymouth satellite        |\n",
       "| 16                         | 8                          | 304                        | 150                        | 3433                       | 12.0                       | 70                         | 1                          | \tamc rebel sst             |\n",
       "| 17                         | 8                          | 302                        | 140                        | 3449                       | 10.5                       | 70                         | 1                          | \tford torino               |\n",
       "| 15                         | 8                          | 429                        | 198                        | 4341                       | 10.0                       | 70                         | 1                          | \tford galaxie 500          |\n",
       "\n"
      ],
      "text/plain": [
       "  mpg cyl displ hp  weight accel year origin car_name                  \n",
       "1 18  8   307   130 3504   12.0  70   1      \\tchevrolet chevelle malibu\n",
       "2 15  8   350   165 3693   11.5  70   1      \\tbuick skylark 320        \n",
       "3 18  8   318   150 3436   11.0  70   1      \\tplymouth satellite       \n",
       "4 16  8   304   150 3433   12.0  70   1      \\tamc rebel sst            \n",
       "5 17  8   302   140 3449   10.5  70   1      \\tford torino              \n",
       "6 15  8   429   198 4341   10.0  70   1      \\tford galaxie 500         "
      ]
     },
     "metadata": {},
     "output_type": "display_data"
    },
    {
     "name": "stdout",
     "output_type": "stream",
     "text": [
      "'data.frame':\t406 obs. of  9 variables:\n",
      " $ mpg     : num  18 15 18 16 17 15 14 14 14 15 ...\n",
      " $ cyl     : int  8 8 8 8 8 8 8 8 8 8 ...\n",
      " $ displ   : num  307 350 318 304 302 429 454 440 455 390 ...\n",
      " $ hp      : int  130 165 150 150 140 198 220 215 225 190 ...\n",
      " $ weight  : int  3504 3693 3436 3433 3449 4341 4354 4312 4425 3850 ...\n",
      " $ accel   : num  12 11.5 11 12 10.5 10 9 8.5 10 8.5 ...\n",
      " $ year    : int  70 70 70 70 70 70 70 70 70 70 ...\n",
      " $ origin  : int  1 1 1 1 1 1 1 1 1 1 ...\n",
      " $ car_name: Factor w/ 312 levels \"\\tamc ambassador brougham\",..: 51 38 236 15 165 144 56 228 247 2 ...\n"
     ]
    }
   ],
   "source": [
    "head(mpg_data)\n",
    "str(mpg_data)"
   ]
  },
  {
   "cell_type": "code",
   "execution_count": 5,
   "id": "907764d2",
   "metadata": {},
   "outputs": [
    {
     "name": "stdout",
     "output_type": "stream",
     "text": [
      "Rows: 406\n",
      "Columns: 9\n",
      "$ mpg      \u001b[3m\u001b[90m<dbl>\u001b[39m\u001b[23m 18, 15, 18, 16, 17, 15, 14, 14, 14, 15, NA, NA, NA, NA, NA, 1~\n",
      "$ cyl      \u001b[3m\u001b[90m<int>\u001b[39m\u001b[23m 8, 8, 8, 8, 8, 8, 8, 8, 8, 8, 4, 8, 8, 8, 8, 8, 8, 8, 8, 8, 4~\n",
      "$ displ    \u001b[3m\u001b[90m<dbl>\u001b[39m\u001b[23m 307, 350, 318, 304, 302, 429, 454, 440, 455, 390, 133, 350, 3~\n",
      "$ hp       \u001b[3m\u001b[90m<int>\u001b[39m\u001b[23m 130, 165, 150, 150, 140, 198, 220, 215, 225, 190, 115, 165, 1~\n",
      "$ weight   \u001b[3m\u001b[90m<int>\u001b[39m\u001b[23m 3504, 3693, 3436, 3433, 3449, 4341, 4354, 4312, 4425, 3850, 3~\n",
      "$ accel    \u001b[3m\u001b[90m<dbl>\u001b[39m\u001b[23m 12.0, 11.5, 11.0, 12.0, 10.5, 10.0, 9.0, 8.5, 10.0, 8.5, 17.5~\n",
      "$ year     \u001b[3m\u001b[90m<int>\u001b[39m\u001b[23m 70, 70, 70, 70, 70, 70, 70, 70, 70, 70, 70, 70, 70, 70, 70, 7~\n",
      "$ origin   \u001b[3m\u001b[90m<int>\u001b[39m\u001b[23m 1, 1, 1, 1, 1, 1, 1, 1, 1, 1, 2, 1, 1, 1, 1, 1, 1, 1, 1, 1, 3~\n",
      "$ car_name \u001b[3m\u001b[90m<fct>\u001b[39m\u001b[23m \tchevrolet chevelle malibu, \tbuick skylark 320, \tplymouth satellite, \tamc rebel sst, \tford torino, \tford galaxie 500, \tchevrolet impala, \tplymouth fury iii, \tpontiac catalina, \tamc ambassador dpl, \tcitroen ds-21 pallas, \tchevrolet chevelle concours (sw), \tford torino (sw), \tplymouth satellite (sw), \tamc rebel sst (sw), \tdodge challenger se, \tplymouth 'cuda 340, \tford mustang boss 302, \tchevrolet monte carlo, \tbuick estate wagon (sw), \ttoyota corona mark ii, \tplymouth duster, \tamc hornet, \tford maverick, \tdatsun pl510, \tvolkswagen 1131 deluxe sedan\n"
     ]
    }
   ],
   "source": [
    "# Alternativamente, temos a função glimpse()\n",
    "# O mesmo que a str(), porém um pouco mais bem estruturada\n",
    "\n",
    "glimpse(mpg_data)"
   ]
  },
  {
   "cell_type": "code",
   "execution_count": 6,
   "id": "69af16c9",
   "metadata": {},
   "outputs": [],
   "source": [
    "# Função gather() para agrupar colunas em atributos\n",
    "\n",
    "big_iris <- iris %>% gather(key = \"attribute\", value = \"measurement\",\n",
    "                           Sepal.Length, Sepal.Width, Petal.Length, Petal.Width)"
   ]
  },
  {
   "cell_type": "code",
   "execution_count": 7,
   "id": "f306e5a1",
   "metadata": {},
   "outputs": [
    {
     "data": {
      "text/html": [
       "<table>\n",
       "<thead><tr><th scope=col>Sepal.Length</th><th scope=col>Sepal.Width</th><th scope=col>Petal.Length</th><th scope=col>Petal.Width</th><th scope=col>Species</th></tr></thead>\n",
       "<tbody>\n",
       "\t<tr><td>5.1   </td><td>3.5   </td><td>1.4   </td><td>0.2   </td><td>setosa</td></tr>\n",
       "\t<tr><td>4.9   </td><td>3.0   </td><td>1.4   </td><td>0.2   </td><td>setosa</td></tr>\n",
       "\t<tr><td>4.7   </td><td>3.2   </td><td>1.3   </td><td>0.2   </td><td>setosa</td></tr>\n",
       "\t<tr><td>4.6   </td><td>3.1   </td><td>1.5   </td><td>0.2   </td><td>setosa</td></tr>\n",
       "\t<tr><td>5.0   </td><td>3.6   </td><td>1.4   </td><td>0.2   </td><td>setosa</td></tr>\n",
       "\t<tr><td>5.4   </td><td>3.9   </td><td>1.7   </td><td>0.4   </td><td>setosa</td></tr>\n",
       "</tbody>\n",
       "</table>\n"
      ],
      "text/latex": [
       "\\begin{tabular}{r|lllll}\n",
       " Sepal.Length & Sepal.Width & Petal.Length & Petal.Width & Species\\\\\n",
       "\\hline\n",
       "\t 5.1    & 3.5    & 1.4    & 0.2    & setosa\\\\\n",
       "\t 4.9    & 3.0    & 1.4    & 0.2    & setosa\\\\\n",
       "\t 4.7    & 3.2    & 1.3    & 0.2    & setosa\\\\\n",
       "\t 4.6    & 3.1    & 1.5    & 0.2    & setosa\\\\\n",
       "\t 5.0    & 3.6    & 1.4    & 0.2    & setosa\\\\\n",
       "\t 5.4    & 3.9    & 1.7    & 0.4    & setosa\\\\\n",
       "\\end{tabular}\n"
      ],
      "text/markdown": [
       "\n",
       "| Sepal.Length | Sepal.Width | Petal.Length | Petal.Width | Species |\n",
       "|---|---|---|---|---|\n",
       "| 5.1    | 3.5    | 1.4    | 0.2    | setosa |\n",
       "| 4.9    | 3.0    | 1.4    | 0.2    | setosa |\n",
       "| 4.7    | 3.2    | 1.3    | 0.2    | setosa |\n",
       "| 4.6    | 3.1    | 1.5    | 0.2    | setosa |\n",
       "| 5.0    | 3.6    | 1.4    | 0.2    | setosa |\n",
       "| 5.4    | 3.9    | 1.7    | 0.4    | setosa |\n",
       "\n"
      ],
      "text/plain": [
       "  Sepal.Length Sepal.Width Petal.Length Petal.Width Species\n",
       "1 5.1          3.5         1.4          0.2         setosa \n",
       "2 4.9          3.0         1.4          0.2         setosa \n",
       "3 4.7          3.2         1.3          0.2         setosa \n",
       "4 4.6          3.1         1.5          0.2         setosa \n",
       "5 5.0          3.6         1.4          0.2         setosa \n",
       "6 5.4          3.9         1.7          0.4         setosa "
      ]
     },
     "metadata": {},
     "output_type": "display_data"
    },
    {
     "data": {
      "text/html": [
       "<table>\n",
       "<thead><tr><th scope=col>Species</th><th scope=col>attribute</th><th scope=col>measurement</th></tr></thead>\n",
       "<tbody>\n",
       "\t<tr><td>setosa      </td><td>Sepal.Length</td><td>5.1         </td></tr>\n",
       "\t<tr><td>setosa      </td><td>Sepal.Length</td><td>4.9         </td></tr>\n",
       "\t<tr><td>setosa      </td><td>Sepal.Length</td><td>4.7         </td></tr>\n",
       "\t<tr><td>setosa      </td><td>Sepal.Length</td><td>4.6         </td></tr>\n",
       "\t<tr><td>setosa      </td><td>Sepal.Length</td><td>5.0         </td></tr>\n",
       "\t<tr><td>setosa      </td><td>Sepal.Length</td><td>5.4         </td></tr>\n",
       "</tbody>\n",
       "</table>\n"
      ],
      "text/latex": [
       "\\begin{tabular}{r|lll}\n",
       " Species & attribute & measurement\\\\\n",
       "\\hline\n",
       "\t setosa       & Sepal.Length & 5.1         \\\\\n",
       "\t setosa       & Sepal.Length & 4.9         \\\\\n",
       "\t setosa       & Sepal.Length & 4.7         \\\\\n",
       "\t setosa       & Sepal.Length & 4.6         \\\\\n",
       "\t setosa       & Sepal.Length & 5.0         \\\\\n",
       "\t setosa       & Sepal.Length & 5.4         \\\\\n",
       "\\end{tabular}\n"
      ],
      "text/markdown": [
       "\n",
       "| Species | attribute | measurement |\n",
       "|---|---|---|\n",
       "| setosa       | Sepal.Length | 5.1          |\n",
       "| setosa       | Sepal.Length | 4.9          |\n",
       "| setosa       | Sepal.Length | 4.7          |\n",
       "| setosa       | Sepal.Length | 4.6          |\n",
       "| setosa       | Sepal.Length | 5.0          |\n",
       "| setosa       | Sepal.Length | 5.4          |\n",
       "\n"
      ],
      "text/plain": [
       "  Species attribute    measurement\n",
       "1 setosa  Sepal.Length 5.1        \n",
       "2 setosa  Sepal.Length 4.9        \n",
       "3 setosa  Sepal.Length 4.7        \n",
       "4 setosa  Sepal.Length 4.6        \n",
       "5 setosa  Sepal.Length 5.0        \n",
       "6 setosa  Sepal.Length 5.4        "
      ]
     },
     "metadata": {},
     "output_type": "display_data"
    },
    {
     "data": {
      "text/html": [
       "<ol class=list-inline>\n",
       "\t<li>150</li>\n",
       "\t<li>5</li>\n",
       "</ol>\n"
      ],
      "text/latex": [
       "\\begin{enumerate*}\n",
       "\\item 150\n",
       "\\item 5\n",
       "\\end{enumerate*}\n"
      ],
      "text/markdown": [
       "1. 150\n",
       "2. 5\n",
       "\n",
       "\n"
      ],
      "text/plain": [
       "[1] 150   5"
      ]
     },
     "metadata": {},
     "output_type": "display_data"
    },
    {
     "data": {
      "text/html": [
       "<ol class=list-inline>\n",
       "\t<li>600</li>\n",
       "\t<li>3</li>\n",
       "</ol>\n"
      ],
      "text/latex": [
       "\\begin{enumerate*}\n",
       "\\item 600\n",
       "\\item 3\n",
       "\\end{enumerate*}\n"
      ],
      "text/markdown": [
       "1. 600\n",
       "2. 3\n",
       "\n",
       "\n"
      ],
      "text/plain": [
       "[1] 600   3"
      ]
     },
     "metadata": {},
     "output_type": "display_data"
    }
   ],
   "source": [
    "head(iris)\n",
    "head(big_iris)\n",
    "dim(iris)\n",
    "dim(big_iris)"
   ]
  },
  {
   "cell_type": "code",
   "execution_count": 8,
   "id": "41542fea",
   "metadata": {},
   "outputs": [
    {
     "data": {
      "text/html": [
       "<table>\n",
       "<thead><tr><th scope=col>Fuel_Efficiency</th><th scope=col>displ</th><th scope=col>hp</th><th scope=col>weight</th><th scope=col>accel</th><th scope=col>year</th><th scope=col>origin</th><th scope=col>car_name</th></tr></thead>\n",
       "<tbody>\n",
       "\t<tr><td>18_8                      </td><td>307                       </td><td>130                       </td><td>3504                      </td><td>12.0                      </td><td>70                        </td><td>1                         </td><td>\tchevrolet chevelle malibu</td></tr>\n",
       "\t<tr><td>15_8                      </td><td>350                       </td><td>165                       </td><td>3693                      </td><td>11.5                      </td><td>70                        </td><td>1                         </td><td>\tbuick skylark 320        </td></tr>\n",
       "\t<tr><td>18_8                      </td><td>318                       </td><td>150                       </td><td>3436                      </td><td>11.0                      </td><td>70                        </td><td>1                         </td><td>\tplymouth satellite       </td></tr>\n",
       "\t<tr><td>16_8                      </td><td>304                       </td><td>150                       </td><td>3433                      </td><td>12.0                      </td><td>70                        </td><td>1                         </td><td>\tamc rebel sst            </td></tr>\n",
       "\t<tr><td>17_8                      </td><td>302                       </td><td>140                       </td><td>3449                      </td><td>10.5                      </td><td>70                        </td><td>1                         </td><td>\tford torino              </td></tr>\n",
       "\t<tr><td>15_8                      </td><td>429                       </td><td>198                       </td><td>4341                      </td><td>10.0                      </td><td>70                        </td><td>1                         </td><td>\tford galaxie 500         </td></tr>\n",
       "\t<tr><td>14_8                      </td><td>454                       </td><td>220                       </td><td>4354                      </td><td> 9.0                      </td><td>70                        </td><td>1                         </td><td>\tchevrolet impala         </td></tr>\n",
       "\t<tr><td>14_8                      </td><td>440                       </td><td>215                       </td><td>4312                      </td><td> 8.5                      </td><td>70                        </td><td>1                         </td><td>\tplymouth fury iii        </td></tr>\n",
       "\t<tr><td>14_8                      </td><td>455                       </td><td>225                       </td><td>4425                      </td><td>10.0                      </td><td>70                        </td><td>1                         </td><td>\tpontiac catalina         </td></tr>\n",
       "\t<tr><td>15_8                      </td><td>390                       </td><td>190                       </td><td>3850                      </td><td> 8.5                      </td><td>70                        </td><td>1                         </td><td>\tamc ambassador dpl       </td></tr>\n",
       "</tbody>\n",
       "</table>\n"
      ],
      "text/latex": [
       "\\begin{tabular}{r|llllllll}\n",
       " Fuel\\_Efficiency & displ & hp & weight & accel & year & origin & car\\_name\\\\\n",
       "\\hline\n",
       "\t 18\\_8                     & 307                        & 130                        & 3504                       & 12.0                       & 70                         & 1                          & \tchevrolet chevelle malibu\\\\\n",
       "\t 15\\_8                     & 350                        & 165                        & 3693                       & 11.5                       & 70                         & 1                          & \tbuick skylark 320        \\\\\n",
       "\t 18\\_8                     & 318                        & 150                        & 3436                       & 11.0                       & 70                         & 1                          & \tplymouth satellite       \\\\\n",
       "\t 16\\_8                     & 304                        & 150                        & 3433                       & 12.0                       & 70                         & 1                          & \tamc rebel sst            \\\\\n",
       "\t 17\\_8                     & 302                        & 140                        & 3449                       & 10.5                       & 70                         & 1                          & \tford torino              \\\\\n",
       "\t 15\\_8                     & 429                        & 198                        & 4341                       & 10.0                       & 70                         & 1                          & \tford galaxie 500         \\\\\n",
       "\t 14\\_8                     & 454                        & 220                        & 4354                       &  9.0                       & 70                         & 1                          & \tchevrolet impala         \\\\\n",
       "\t 14\\_8                     & 440                        & 215                        & 4312                       &  8.5                       & 70                         & 1                          & \tplymouth fury iii        \\\\\n",
       "\t 14\\_8                     & 455                        & 225                        & 4425                       & 10.0                       & 70                         & 1                          & \tpontiac catalina         \\\\\n",
       "\t 15\\_8                     & 390                        & 190                        & 3850                       &  8.5                       & 70                         & 1                          & \tamc ambassador dpl       \\\\\n",
       "\\end{tabular}\n"
      ],
      "text/markdown": [
       "\n",
       "| Fuel_Efficiency | displ | hp | weight | accel | year | origin | car_name |\n",
       "|---|---|---|---|---|---|---|---|\n",
       "| 18_8                       | 307                        | 130                        | 3504                       | 12.0                       | 70                         | 1                          | \tchevrolet chevelle malibu |\n",
       "| 15_8                       | 350                        | 165                        | 3693                       | 11.5                       | 70                         | 1                          | \tbuick skylark 320         |\n",
       "| 18_8                       | 318                        | 150                        | 3436                       | 11.0                       | 70                         | 1                          | \tplymouth satellite        |\n",
       "| 16_8                       | 304                        | 150                        | 3433                       | 12.0                       | 70                         | 1                          | \tamc rebel sst             |\n",
       "| 17_8                       | 302                        | 140                        | 3449                       | 10.5                       | 70                         | 1                          | \tford torino               |\n",
       "| 15_8                       | 429                        | 198                        | 4341                       | 10.0                       | 70                         | 1                          | \tford galaxie 500          |\n",
       "| 14_8                       | 454                        | 220                        | 4354                       |  9.0                       | 70                         | 1                          | \tchevrolet impala          |\n",
       "| 14_8                       | 440                        | 215                        | 4312                       |  8.5                       | 70                         | 1                          | \tplymouth fury iii         |\n",
       "| 14_8                       | 455                        | 225                        | 4425                       | 10.0                       | 70                         | 1                          | \tpontiac catalina          |\n",
       "| 15_8                       | 390                        | 190                        | 3850                       |  8.5                       | 70                         | 1                          | \tamc ambassador dpl        |\n",
       "\n"
      ],
      "text/plain": [
       "   Fuel_Efficiency displ hp  weight accel year origin\n",
       "1  18_8            307   130 3504   12.0  70   1     \n",
       "2  15_8            350   165 3693   11.5  70   1     \n",
       "3  18_8            318   150 3436   11.0  70   1     \n",
       "4  16_8            304   150 3433   12.0  70   1     \n",
       "5  17_8            302   140 3449   10.5  70   1     \n",
       "6  15_8            429   198 4341   10.0  70   1     \n",
       "7  14_8            454   220 4354    9.0  70   1     \n",
       "8  14_8            440   215 4312    8.5  70   1     \n",
       "9  14_8            455   225 4425   10.0  70   1     \n",
       "10 15_8            390   190 3850    8.5  70   1     \n",
       "   car_name                  \n",
       "1  \\tchevrolet chevelle malibu\n",
       "2  \\tbuick skylark 320        \n",
       "3  \\tplymouth satellite       \n",
       "4  \\tamc rebel sst            \n",
       "5  \\tford torino              \n",
       "6  \\tford galaxie 500         \n",
       "7  \\tchevrolet impala         \n",
       "8  \\tplymouth fury iii        \n",
       "9  \\tpontiac catalina         \n",
       "10 \\tamc ambassador dpl       "
      ]
     },
     "metadata": {},
     "output_type": "display_data"
    }
   ],
   "source": [
    "# Função unite() - unir colunas em um mesmo atributo\n",
    "\n",
    "mpg_data3 <- unite_(mpg_data, \"Fuel_Efficiency\", c(\"mpg\",\"cyl\"))\n",
    "head(mpg_data3, 10)"
   ]
  },
  {
   "cell_type": "code",
   "execution_count": 9,
   "id": "288b9103",
   "metadata": {},
   "outputs": [
    {
     "name": "stderr",
     "output_type": "stream",
     "text": [
      "Warning message:\n",
      "\"Expected 2 pieces. Additional pieces discarded in 139 rows [195, 197, 198, 202, 204, 209, 210, 211, 214, 219, 220, 224, 227, 228, 229, 231, 233, 234, 236, 238, ...].\"\n"
     ]
    },
    {
     "data": {
      "text/html": [
       "<table>\n",
       "<thead><tr><th scope=col>mpg</th><th scope=col>cyl</th><th scope=col>displ</th><th scope=col>hp</th><th scope=col>weight</th><th scope=col>accel</th><th scope=col>year</th><th scope=col>origin</th><th scope=col>car_name</th></tr></thead>\n",
       "<tbody>\n",
       "\t<tr><td>18                        </td><td>8                         </td><td>307                       </td><td>130                       </td><td>3504                      </td><td>12.0                      </td><td>70                        </td><td>1                         </td><td>\tchevrolet chevelle malibu</td></tr>\n",
       "\t<tr><td>15                        </td><td>8                         </td><td>350                       </td><td>165                       </td><td>3693                      </td><td>11.5                      </td><td>70                        </td><td>1                         </td><td>\tbuick skylark 320        </td></tr>\n",
       "\t<tr><td>18                        </td><td>8                         </td><td>318                       </td><td>150                       </td><td>3436                      </td><td>11.0                      </td><td>70                        </td><td>1                         </td><td>\tplymouth satellite       </td></tr>\n",
       "\t<tr><td>16                        </td><td>8                         </td><td>304                       </td><td>150                       </td><td>3433                      </td><td>12.0                      </td><td>70                        </td><td>1                         </td><td>\tamc rebel sst            </td></tr>\n",
       "\t<tr><td>17                        </td><td>8                         </td><td>302                       </td><td>140                       </td><td>3449                      </td><td>10.5                      </td><td>70                        </td><td>1                         </td><td>\tford torino              </td></tr>\n",
       "\t<tr><td>15                        </td><td>8                         </td><td>429                       </td><td>198                       </td><td>4341                      </td><td>10.0                      </td><td>70                        </td><td>1                         </td><td>\tford galaxie 500         </td></tr>\n",
       "\t<tr><td>14                        </td><td>8                         </td><td>454                       </td><td>220                       </td><td>4354                      </td><td> 9.0                      </td><td>70                        </td><td>1                         </td><td>\tchevrolet impala         </td></tr>\n",
       "\t<tr><td>14                        </td><td>8                         </td><td>440                       </td><td>215                       </td><td>4312                      </td><td> 8.5                      </td><td>70                        </td><td>1                         </td><td>\tplymouth fury iii        </td></tr>\n",
       "\t<tr><td>14                        </td><td>8                         </td><td>455                       </td><td>225                       </td><td>4425                      </td><td>10.0                      </td><td>70                        </td><td>1                         </td><td>\tpontiac catalina         </td></tr>\n",
       "\t<tr><td>15                        </td><td>8                         </td><td>390                       </td><td>190                       </td><td>3850                      </td><td> 8.5                      </td><td>70                        </td><td>1                         </td><td>\tamc ambassador dpl       </td></tr>\n",
       "</tbody>\n",
       "</table>\n"
      ],
      "text/latex": [
       "\\begin{tabular}{r|lllllllll}\n",
       " mpg & cyl & displ & hp & weight & accel & year & origin & car\\_name\\\\\n",
       "\\hline\n",
       "\t 18                         & 8                          & 307                        & 130                        & 3504                       & 12.0                       & 70                         & 1                          & \tchevrolet chevelle malibu\\\\\n",
       "\t 15                         & 8                          & 350                        & 165                        & 3693                       & 11.5                       & 70                         & 1                          & \tbuick skylark 320        \\\\\n",
       "\t 18                         & 8                          & 318                        & 150                        & 3436                       & 11.0                       & 70                         & 1                          & \tplymouth satellite       \\\\\n",
       "\t 16                         & 8                          & 304                        & 150                        & 3433                       & 12.0                       & 70                         & 1                          & \tamc rebel sst            \\\\\n",
       "\t 17                         & 8                          & 302                        & 140                        & 3449                       & 10.5                       & 70                         & 1                          & \tford torino              \\\\\n",
       "\t 15                         & 8                          & 429                        & 198                        & 4341                       & 10.0                       & 70                         & 1                          & \tford galaxie 500         \\\\\n",
       "\t 14                         & 8                          & 454                        & 220                        & 4354                       &  9.0                       & 70                         & 1                          & \tchevrolet impala         \\\\\n",
       "\t 14                         & 8                          & 440                        & 215                        & 4312                       &  8.5                       & 70                         & 1                          & \tplymouth fury iii        \\\\\n",
       "\t 14                         & 8                          & 455                        & 225                        & 4425                       & 10.0                       & 70                         & 1                          & \tpontiac catalina         \\\\\n",
       "\t 15                         & 8                          & 390                        & 190                        & 3850                       &  8.5                       & 70                         & 1                          & \tamc ambassador dpl       \\\\\n",
       "\\end{tabular}\n"
      ],
      "text/markdown": [
       "\n",
       "| mpg | cyl | displ | hp | weight | accel | year | origin | car_name |\n",
       "|---|---|---|---|---|---|---|---|---|\n",
       "| 18                         | 8                          | 307                        | 130                        | 3504                       | 12.0                       | 70                         | 1                          | \tchevrolet chevelle malibu |\n",
       "| 15                         | 8                          | 350                        | 165                        | 3693                       | 11.5                       | 70                         | 1                          | \tbuick skylark 320         |\n",
       "| 18                         | 8                          | 318                        | 150                        | 3436                       | 11.0                       | 70                         | 1                          | \tplymouth satellite        |\n",
       "| 16                         | 8                          | 304                        | 150                        | 3433                       | 12.0                       | 70                         | 1                          | \tamc rebel sst             |\n",
       "| 17                         | 8                          | 302                        | 140                        | 3449                       | 10.5                       | 70                         | 1                          | \tford torino               |\n",
       "| 15                         | 8                          | 429                        | 198                        | 4341                       | 10.0                       | 70                         | 1                          | \tford galaxie 500          |\n",
       "| 14                         | 8                          | 454                        | 220                        | 4354                       |  9.0                       | 70                         | 1                          | \tchevrolet impala          |\n",
       "| 14                         | 8                          | 440                        | 215                        | 4312                       |  8.5                       | 70                         | 1                          | \tplymouth fury iii         |\n",
       "| 14                         | 8                          | 455                        | 225                        | 4425                       | 10.0                       | 70                         | 1                          | \tpontiac catalina          |\n",
       "| 15                         | 8                          | 390                        | 190                        | 3850                       |  8.5                       | 70                         | 1                          | \tamc ambassador dpl        |\n",
       "\n"
      ],
      "text/plain": [
       "   mpg cyl displ hp  weight accel year origin car_name                  \n",
       "1  18  8   307   130 3504   12.0  70   1      \\tchevrolet chevelle malibu\n",
       "2  15  8   350   165 3693   11.5  70   1      \\tbuick skylark 320        \n",
       "3  18  8   318   150 3436   11.0  70   1      \\tplymouth satellite       \n",
       "4  16  8   304   150 3433   12.0  70   1      \\tamc rebel sst            \n",
       "5  17  8   302   140 3449   10.5  70   1      \\tford torino              \n",
       "6  15  8   429   198 4341   10.0  70   1      \\tford galaxie 500         \n",
       "7  14  8   454   220 4354    9.0  70   1      \\tchevrolet impala         \n",
       "8  14  8   440   215 4312    8.5  70   1      \\tplymouth fury iii        \n",
       "9  14  8   455   225 4425   10.0  70   1      \\tpontiac catalina         \n",
       "10 15  8   390   190 3850    8.5  70   1      \\tamc ambassador dpl       "
      ]
     },
     "metadata": {},
     "output_type": "display_data"
    }
   ],
   "source": [
    "# Função separate() - faz o inverso da unite()\n",
    "\n",
    "mpg_data4 <- mpg_data3 %>% separate(Fuel_Efficiency, c(\"mpg\",\"cyl\"));\n",
    "head(mpg_data4, 10)"
   ]
  },
  {
   "cell_type": "code",
   "execution_count": 17,
   "id": "2ab8ed0b",
   "metadata": {},
   "outputs": [
    {
     "data": {
      "text/html": [
       "<table>\n",
       "<thead><tr><th scope=col>year</th><th scope=col>avg_displ</th></tr></thead>\n",
       "<tbody>\n",
       "\t<tr><td>70      </td><td>286.8571</td></tr>\n",
       "\t<tr><td>71      </td><td>205.8621</td></tr>\n",
       "\t<tr><td>72      </td><td>218.3750</td></tr>\n",
       "\t<tr><td>73      </td><td>256.8750</td></tr>\n",
       "\t<tr><td>74      </td><td>171.7407</td></tr>\n",
       "\t<tr><td>75      </td><td>205.5333</td></tr>\n",
       "\t<tr><td>76      </td><td>197.7941</td></tr>\n",
       "\t<tr><td>77      </td><td>191.3929</td></tr>\n",
       "\t<tr><td>78      </td><td>177.8056</td></tr>\n",
       "\t<tr><td>79      </td><td>206.6897</td></tr>\n",
       "</tbody>\n",
       "</table>\n"
      ],
      "text/latex": [
       "\\begin{tabular}{r|ll}\n",
       " year & avg\\_displ\\\\\n",
       "\\hline\n",
       "\t 70       & 286.8571\\\\\n",
       "\t 71       & 205.8621\\\\\n",
       "\t 72       & 218.3750\\\\\n",
       "\t 73       & 256.8750\\\\\n",
       "\t 74       & 171.7407\\\\\n",
       "\t 75       & 205.5333\\\\\n",
       "\t 76       & 197.7941\\\\\n",
       "\t 77       & 191.3929\\\\\n",
       "\t 78       & 177.8056\\\\\n",
       "\t 79       & 206.6897\\\\\n",
       "\\end{tabular}\n"
      ],
      "text/markdown": [
       "\n",
       "| year | avg_displ |\n",
       "|---|---|\n",
       "| 70       | 286.8571 |\n",
       "| 71       | 205.8621 |\n",
       "| 72       | 218.3750 |\n",
       "| 73       | 256.8750 |\n",
       "| 74       | 171.7407 |\n",
       "| 75       | 205.5333 |\n",
       "| 76       | 197.7941 |\n",
       "| 77       | 191.3929 |\n",
       "| 78       | 177.8056 |\n",
       "| 79       | 206.6897 |\n",
       "\n"
      ],
      "text/plain": [
       "   year avg_displ\n",
       "1  70   286.8571 \n",
       "2  71   205.8621 \n",
       "3  72   218.3750 \n",
       "4  73   256.8750 \n",
       "5  74   171.7407 \n",
       "6  75   205.5333 \n",
       "7  76   197.7941 \n",
       "8  77   191.3929 \n",
       "9  78   177.8056 \n",
       "10 79   206.6897 "
      ]
     },
     "metadata": {},
     "output_type": "display_data"
    }
   ],
   "source": [
    "# Funções group_by() e summarize()\n",
    "\n",
    "mpg_group <-  mpg_data %>% group_by(year) %>% summarize(avg_displ = mean(displ))\n",
    "\n",
    "head(mpg_group, 10)"
   ]
  },
  {
   "cell_type": "code",
   "execution_count": 18,
   "id": "e4e20d75",
   "metadata": {},
   "outputs": [
    {
     "data": {
      "text/html": [
       "<table>\n",
       "<thead><tr><th scope=col>year</th><th scope=col>avg_displ</th></tr></thead>\n",
       "<tbody>\n",
       "\t<tr><td>70       </td><td>148.85714</td></tr>\n",
       "\t<tr><td>71       </td><td>104.92857</td></tr>\n",
       "\t<tr><td>72       </td><td>120.17857</td></tr>\n",
       "\t<tr><td>73       </td><td>130.47500</td></tr>\n",
       "\t<tr><td>74       </td><td> 94.23077</td></tr>\n",
       "\t<tr><td>75       </td><td>101.06667</td></tr>\n",
       "\t<tr><td>76       </td><td>101.11765</td></tr>\n",
       "\t<tr><td>77       </td><td>105.07143</td></tr>\n",
       "\t<tr><td>78       </td><td> 99.69444</td></tr>\n",
       "\t<tr><td>79       </td><td>101.20690</td></tr>\n",
       "</tbody>\n",
       "</table>\n"
      ],
      "text/latex": [
       "\\begin{tabular}{r|ll}\n",
       " year & avg\\_displ\\\\\n",
       "\\hline\n",
       "\t 70        & 148.85714\\\\\n",
       "\t 71        & 104.92857\\\\\n",
       "\t 72        & 120.17857\\\\\n",
       "\t 73        & 130.47500\\\\\n",
       "\t 74        &  94.23077\\\\\n",
       "\t 75        & 101.06667\\\\\n",
       "\t 76        & 101.11765\\\\\n",
       "\t 77        & 105.07143\\\\\n",
       "\t 78        &  99.69444\\\\\n",
       "\t 79        & 101.20690\\\\\n",
       "\\end{tabular}\n"
      ],
      "text/markdown": [
       "\n",
       "| year | avg_displ |\n",
       "|---|---|\n",
       "| 70        | 148.85714 |\n",
       "| 71        | 104.92857 |\n",
       "| 72        | 120.17857 |\n",
       "| 73        | 130.47500 |\n",
       "| 74        |  94.23077 |\n",
       "| 75        | 101.06667 |\n",
       "| 76        | 101.11765 |\n",
       "| 77        | 105.07143 |\n",
       "| 78        |  99.69444 |\n",
       "| 79        | 101.20690 |\n",
       "\n"
      ],
      "text/plain": [
       "   year avg_displ\n",
       "1  70   148.85714\n",
       "2  71   104.92857\n",
       "3  72   120.17857\n",
       "4  73   130.47500\n",
       "5  74    94.23077\n",
       "6  75   101.06667\n",
       "7  76   101.11765\n",
       "8  77   105.07143\n",
       "9  78    99.69444\n",
       "10 79   101.20690"
      ]
     },
     "metadata": {},
     "output_type": "display_data"
    }
   ],
   "source": [
    "mpg_group2 <- mpg_data %>% group_by(year) %>% summarize(avg_displ = mean(hp, na.rm = TRUE))\n",
    "\n",
    "head(mpg_group2, 10)"
   ]
  },
  {
   "cell_type": "code",
   "execution_count": 19,
   "id": "806a9bf9",
   "metadata": {},
   "outputs": [
    {
     "name": "stderr",
     "output_type": "stream",
     "text": [
      "`summarise()` has grouped output by 'year'. You can override using the `.groups` argument.\n",
      "\n"
     ]
    },
    {
     "data": {
      "text/html": [
       "<table>\n",
       "<thead><tr><th scope=col>year</th><th scope=col>origin</th><th scope=col>avg_displ</th></tr></thead>\n",
       "<tbody>\n",
       "\t<tr><td>70      </td><td>1       </td><td>339.1852</td></tr>\n",
       "\t<tr><td>70      </td><td>2       </td><td>112.0000</td></tr>\n",
       "\t<tr><td>70      </td><td>3       </td><td>105.0000</td></tr>\n",
       "\t<tr><td>71      </td><td>1       </td><td>257.0000</td></tr>\n",
       "\t<tr><td>71      </td><td>2       </td><td> 95.4000</td></tr>\n",
       "\t<tr><td>71      </td><td>3       </td><td> 88.2500</td></tr>\n",
       "\t<tr><td>72      </td><td>1       </td><td>281.2500</td></tr>\n",
       "\t<tr><td>72      </td><td>2       </td><td>111.0000</td></tr>\n",
       "\t<tr><td>72      </td><td>3       </td><td> 99.4000</td></tr>\n",
       "\t<tr><td>73      </td><td>1       </td><td>314.1034</td></tr>\n",
       "</tbody>\n",
       "</table>\n"
      ],
      "text/latex": [
       "\\begin{tabular}{r|lll}\n",
       " year & origin & avg\\_displ\\\\\n",
       "\\hline\n",
       "\t 70       & 1        & 339.1852\\\\\n",
       "\t 70       & 2        & 112.0000\\\\\n",
       "\t 70       & 3        & 105.0000\\\\\n",
       "\t 71       & 1        & 257.0000\\\\\n",
       "\t 71       & 2        &  95.4000\\\\\n",
       "\t 71       & 3        &  88.2500\\\\\n",
       "\t 72       & 1        & 281.2500\\\\\n",
       "\t 72       & 2        & 111.0000\\\\\n",
       "\t 72       & 3        &  99.4000\\\\\n",
       "\t 73       & 1        & 314.1034\\\\\n",
       "\\end{tabular}\n"
      ],
      "text/markdown": [
       "\n",
       "| year | origin | avg_displ |\n",
       "|---|---|---|\n",
       "| 70       | 1        | 339.1852 |\n",
       "| 70       | 2        | 112.0000 |\n",
       "| 70       | 3        | 105.0000 |\n",
       "| 71       | 1        | 257.0000 |\n",
       "| 71       | 2        |  95.4000 |\n",
       "| 71       | 3        |  88.2500 |\n",
       "| 72       | 1        | 281.2500 |\n",
       "| 72       | 2        | 111.0000 |\n",
       "| 72       | 3        |  99.4000 |\n",
       "| 73       | 1        | 314.1034 |\n",
       "\n"
      ],
      "text/plain": [
       "   year origin avg_displ\n",
       "1  70   1      339.1852 \n",
       "2  70   2      112.0000 \n",
       "3  70   3      105.0000 \n",
       "4  71   1      257.0000 \n",
       "5  71   2       95.4000 \n",
       "6  71   3       88.2500 \n",
       "7  72   1      281.2500 \n",
       "8  72   2      111.0000 \n",
       "9  72   3       99.4000 \n",
       "10 73   1      314.1034 "
      ]
     },
     "metadata": {},
     "output_type": "display_data"
    }
   ],
   "source": [
    "#Agrupando por ano e origem e calculando a média\n",
    "\n",
    "mpg_group3 <- mpg_data %>% group_by(year, origin) %>% summarize(avg_displ = mean(displ))\n",
    "\n",
    "head(mpg_group3, 10)"
   ]
  },
  {
   "cell_type": "code",
   "execution_count": 20,
   "id": "66844b9f",
   "metadata": {},
   "outputs": [
    {
     "data": {
      "text/html": [
       "<table>\n",
       "<thead><tr><th scope=col>year</th><th scope=col>origin</th><th scope=col>cyl_fn1</th><th scope=col>displ_fn1</th><th scope=col>cyl_fn2</th><th scope=col>displ_fn2</th></tr></thead>\n",
       "<tbody>\n",
       "\t<tr><td>70       </td><td>1        </td><td>7.703704 </td><td>339.1852 </td><td>0.7240280</td><td> 77.56389</td></tr>\n",
       "\t<tr><td>70       </td><td>2        </td><td>4.000000 </td><td>112.0000 </td><td>0.0000000</td><td> 12.96148</td></tr>\n",
       "\t<tr><td>70       </td><td>3        </td><td>4.000000 </td><td>105.0000 </td><td>0.0000000</td><td> 11.31371</td></tr>\n",
       "\t<tr><td>71       </td><td>1        </td><td>6.200000 </td><td>257.0000 </td><td>1.5761379</td><td>102.42841</td></tr>\n",
       "\t<tr><td>71       </td><td>2        </td><td>4.000000 </td><td> 95.4000 </td><td>0.0000000</td><td> 13.72224</td></tr>\n",
       "\t<tr><td>71       </td><td>3        </td><td>4.000000 </td><td> 88.2500 </td><td>0.0000000</td><td> 20.41854</td></tr>\n",
       "\t<tr><td>72       </td><td>1        </td><td>6.888889 </td><td>281.2500 </td><td>1.8435544</td><td>111.65207</td></tr>\n",
       "\t<tr><td>72       </td><td>2        </td><td>4.000000 </td><td>111.0000 </td><td>0.0000000</td><td> 13.24764</td></tr>\n",
       "\t<tr><td>72       </td><td>3        </td><td>3.800000 </td><td> 99.4000 </td><td>0.4472136</td><td> 19.26915</td></tr>\n",
       "\t<tr><td>73       </td><td>1        </td><td>7.241379 </td><td>314.1034 </td><td>1.2437034</td><td> 89.91597</td></tr>\n",
       "</tbody>\n",
       "</table>\n"
      ],
      "text/latex": [
       "\\begin{tabular}{r|llllll}\n",
       " year & origin & cyl\\_fn1 & displ\\_fn1 & cyl\\_fn2 & displ\\_fn2\\\\\n",
       "\\hline\n",
       "\t 70        & 1         & 7.703704  & 339.1852  & 0.7240280 &  77.56389\\\\\n",
       "\t 70        & 2         & 4.000000  & 112.0000  & 0.0000000 &  12.96148\\\\\n",
       "\t 70        & 3         & 4.000000  & 105.0000  & 0.0000000 &  11.31371\\\\\n",
       "\t 71        & 1         & 6.200000  & 257.0000  & 1.5761379 & 102.42841\\\\\n",
       "\t 71        & 2         & 4.000000  &  95.4000  & 0.0000000 &  13.72224\\\\\n",
       "\t 71        & 3         & 4.000000  &  88.2500  & 0.0000000 &  20.41854\\\\\n",
       "\t 72        & 1         & 6.888889  & 281.2500  & 1.8435544 & 111.65207\\\\\n",
       "\t 72        & 2         & 4.000000  & 111.0000  & 0.0000000 &  13.24764\\\\\n",
       "\t 72        & 3         & 3.800000  &  99.4000  & 0.4472136 &  19.26915\\\\\n",
       "\t 73        & 1         & 7.241379  & 314.1034  & 1.2437034 &  89.91597\\\\\n",
       "\\end{tabular}\n"
      ],
      "text/markdown": [
       "\n",
       "| year | origin | cyl_fn1 | displ_fn1 | cyl_fn2 | displ_fn2 |\n",
       "|---|---|---|---|---|---|\n",
       "| 70        | 1         | 7.703704  | 339.1852  | 0.7240280 |  77.56389 |\n",
       "| 70        | 2         | 4.000000  | 112.0000  | 0.0000000 |  12.96148 |\n",
       "| 70        | 3         | 4.000000  | 105.0000  | 0.0000000 |  11.31371 |\n",
       "| 71        | 1         | 6.200000  | 257.0000  | 1.5761379 | 102.42841 |\n",
       "| 71        | 2         | 4.000000  |  95.4000  | 0.0000000 |  13.72224 |\n",
       "| 71        | 3         | 4.000000  |  88.2500  | 0.0000000 |  20.41854 |\n",
       "| 72        | 1         | 6.888889  | 281.2500  | 1.8435544 | 111.65207 |\n",
       "| 72        | 2         | 4.000000  | 111.0000  | 0.0000000 |  13.24764 |\n",
       "| 72        | 3         | 3.800000  |  99.4000  | 0.4472136 |  19.26915 |\n",
       "| 73        | 1         | 7.241379  | 314.1034  | 1.2437034 |  89.91597 |\n",
       "\n"
      ],
      "text/plain": [
       "   year origin cyl_fn1  displ_fn1 cyl_fn2   displ_fn2\n",
       "1  70   1      7.703704 339.1852  0.7240280  77.56389\n",
       "2  70   2      4.000000 112.0000  0.0000000  12.96148\n",
       "3  70   3      4.000000 105.0000  0.0000000  11.31371\n",
       "4  71   1      6.200000 257.0000  1.5761379 102.42841\n",
       "5  71   2      4.000000  95.4000  0.0000000  13.72224\n",
       "6  71   3      4.000000  88.2500  0.0000000  20.41854\n",
       "7  72   1      6.888889 281.2500  1.8435544 111.65207\n",
       "8  72   2      4.000000 111.0000  0.0000000  13.24764\n",
       "9  72   3      3.800000  99.4000  0.4472136  19.26915\n",
       "10 73   1      7.241379 314.1034  1.2437034  89.91597"
      ]
     },
     "metadata": {},
     "output_type": "display_data"
    }
   ],
   "source": [
    "# Fazendo o summarize de mais de um atributo\n",
    "\n",
    "mpg_group4 <- mpg_data %>% group_by(year, origin) %>% summarize_at(vars(cyl, displ), list(mean, sd))\n",
    "\n",
    "head(mpg_group4, 10)"
   ]
  },
  {
   "cell_type": "code",
   "execution_count": 21,
   "id": "6b4cedd3",
   "metadata": {},
   "outputs": [
    {
     "name": "stderr",
     "output_type": "stream",
     "text": [
      "`summarise()` has grouped output by 'year'. You can override using the `.groups` argument.\n",
      "\n"
     ]
    },
    {
     "data": {
      "text/html": [
       "<table>\n",
       "<thead><tr><th scope=col>year</th><th scope=col>origin</th><th scope=col>mean_cyl</th><th scope=col>sd_displ</th></tr></thead>\n",
       "<tbody>\n",
       "\t<tr><td>70       </td><td>1        </td><td>7.703704 </td><td> 77.56389</td></tr>\n",
       "\t<tr><td>70       </td><td>2        </td><td>4.000000 </td><td> 12.96148</td></tr>\n",
       "\t<tr><td>70       </td><td>3        </td><td>4.000000 </td><td> 11.31371</td></tr>\n",
       "\t<tr><td>71       </td><td>1        </td><td>6.200000 </td><td>102.42841</td></tr>\n",
       "\t<tr><td>71       </td><td>2        </td><td>4.000000 </td><td> 13.72224</td></tr>\n",
       "\t<tr><td>71       </td><td>3        </td><td>4.000000 </td><td> 20.41854</td></tr>\n",
       "\t<tr><td>72       </td><td>1        </td><td>6.888889 </td><td>111.65207</td></tr>\n",
       "\t<tr><td>72       </td><td>2        </td><td>4.000000 </td><td> 13.24764</td></tr>\n",
       "\t<tr><td>72       </td><td>3        </td><td>3.800000 </td><td> 19.26915</td></tr>\n",
       "\t<tr><td>73       </td><td>1        </td><td>7.241379 </td><td> 89.91597</td></tr>\n",
       "</tbody>\n",
       "</table>\n"
      ],
      "text/latex": [
       "\\begin{tabular}{r|llll}\n",
       " year & origin & mean\\_cyl & sd\\_displ\\\\\n",
       "\\hline\n",
       "\t 70        & 1         & 7.703704  &  77.56389\\\\\n",
       "\t 70        & 2         & 4.000000  &  12.96148\\\\\n",
       "\t 70        & 3         & 4.000000  &  11.31371\\\\\n",
       "\t 71        & 1         & 6.200000  & 102.42841\\\\\n",
       "\t 71        & 2         & 4.000000  &  13.72224\\\\\n",
       "\t 71        & 3         & 4.000000  &  20.41854\\\\\n",
       "\t 72        & 1         & 6.888889  & 111.65207\\\\\n",
       "\t 72        & 2         & 4.000000  &  13.24764\\\\\n",
       "\t 72        & 3         & 3.800000  &  19.26915\\\\\n",
       "\t 73        & 1         & 7.241379  &  89.91597\\\\\n",
       "\\end{tabular}\n"
      ],
      "text/markdown": [
       "\n",
       "| year | origin | mean_cyl | sd_displ |\n",
       "|---|---|---|---|\n",
       "| 70        | 1         | 7.703704  |  77.56389 |\n",
       "| 70        | 2         | 4.000000  |  12.96148 |\n",
       "| 70        | 3         | 4.000000  |  11.31371 |\n",
       "| 71        | 1         | 6.200000  | 102.42841 |\n",
       "| 71        | 2         | 4.000000  |  13.72224 |\n",
       "| 71        | 3         | 4.000000  |  20.41854 |\n",
       "| 72        | 1         | 6.888889  | 111.65207 |\n",
       "| 72        | 2         | 4.000000  |  13.24764 |\n",
       "| 72        | 3         | 3.800000  |  19.26915 |\n",
       "| 73        | 1         | 7.241379  |  89.91597 |\n",
       "\n"
      ],
      "text/plain": [
       "   year origin mean_cyl sd_displ \n",
       "1  70   1      7.703704  77.56389\n",
       "2  70   2      4.000000  12.96148\n",
       "3  70   3      4.000000  11.31371\n",
       "4  71   1      6.200000 102.42841\n",
       "5  71   2      4.000000  13.72224\n",
       "6  71   3      4.000000  20.41854\n",
       "7  72   1      6.888889 111.65207\n",
       "8  72   2      4.000000  13.24764\n",
       "9  72   3      3.800000  19.26915\n",
       "10 73   1      7.241379  89.91597"
      ]
     },
     "metadata": {},
     "output_type": "display_data"
    }
   ],
   "source": [
    "# Função arrange()\n",
    "# Escolhendo diferentes estatisticas de mais de um atributo e ordenando por multiplas variáveis\n",
    "\n",
    "mpg_group5 <- mpg_data %>% group_by(year, origin) %>%\n",
    "                summarize(mean_cyl = mean(cyl), sd_displ = sd(displ)) %>% \n",
    "                arrange(year, origin, mean_cyl)\n",
    "\n",
    "head(mpg_group5, 10)"
   ]
  },
  {
   "cell_type": "code",
   "execution_count": 27,
   "id": "3e115138",
   "metadata": {},
   "outputs": [
    {
     "data": {
      "text/html": [
       "<table>\n",
       "<thead><tr><th scope=col>year</th><th scope=col>mpg_avg</th><th scope=col>hp_avg</th><th scope=col>accel_avg</th><th scope=col>mpg_desvio</th><th scope=col>hp_desvio</th><th scope=col>accel_desvio</th></tr></thead>\n",
       "<tbody>\n",
       "\t<tr><td>70       </td><td>17.68966 </td><td>148.85714</td><td>12.71429 </td><td>5.339231 </td><td>49.63048 </td><td>3.297249 </td></tr>\n",
       "\t<tr><td>71       </td><td>21.25000 </td><td>104.92857</td><td>15.31034 </td><td>6.591942 </td><td>39.45549 </td><td>2.769134 </td></tr>\n",
       "\t<tr><td>72       </td><td>18.71429 </td><td>120.17857</td><td>15.12500 </td><td>5.435529 </td><td>41.12137 </td><td>2.850032 </td></tr>\n",
       "\t<tr><td>73       </td><td>17.10000 </td><td>130.47500</td><td>14.31250 </td><td>4.700245 </td><td>46.41230 </td><td>2.754222 </td></tr>\n",
       "\t<tr><td>74       </td><td>22.70370 </td><td> 94.23077</td><td>16.20370 </td><td>6.420010 </td><td>29.68678 </td><td>1.688532 </td></tr>\n",
       "\t<tr><td>75       </td><td>20.26667 </td><td>101.06667</td><td>16.05000 </td><td>4.940566 </td><td>26.57706 </td><td>2.471737 </td></tr>\n",
       "\t<tr><td>76       </td><td>21.57353 </td><td>101.11765</td><td>15.94118 </td><td>5.889297 </td><td>32.43059 </td><td>2.801419 </td></tr>\n",
       "\t<tr><td>77       </td><td>23.37500 </td><td>105.07143</td><td>15.43571 </td><td>6.675862 </td><td>36.09548 </td><td>2.273391 </td></tr>\n",
       "\t<tr><td>78       </td><td>24.06111 </td><td> 99.69444</td><td>15.80556 </td><td>6.898044 </td><td>28.43621 </td><td>2.129915 </td></tr>\n",
       "\t<tr><td>79       </td><td>25.09310 </td><td>101.20690</td><td>15.81379 </td><td>6.794217 </td><td>28.45596 </td><td>2.952931 </td></tr>\n",
       "</tbody>\n",
       "</table>\n"
      ],
      "text/latex": [
       "\\begin{tabular}{r|lllllll}\n",
       " year & mpg\\_avg & hp\\_avg & accel\\_avg & mpg\\_desvio & hp\\_desvio & accel\\_desvio\\\\\n",
       "\\hline\n",
       "\t 70        & 17.68966  & 148.85714 & 12.71429  & 5.339231  & 49.63048  & 3.297249 \\\\\n",
       "\t 71        & 21.25000  & 104.92857 & 15.31034  & 6.591942  & 39.45549  & 2.769134 \\\\\n",
       "\t 72        & 18.71429  & 120.17857 & 15.12500  & 5.435529  & 41.12137  & 2.850032 \\\\\n",
       "\t 73        & 17.10000  & 130.47500 & 14.31250  & 4.700245  & 46.41230  & 2.754222 \\\\\n",
       "\t 74        & 22.70370  &  94.23077 & 16.20370  & 6.420010  & 29.68678  & 1.688532 \\\\\n",
       "\t 75        & 20.26667  & 101.06667 & 16.05000  & 4.940566  & 26.57706  & 2.471737 \\\\\n",
       "\t 76        & 21.57353  & 101.11765 & 15.94118  & 5.889297  & 32.43059  & 2.801419 \\\\\n",
       "\t 77        & 23.37500  & 105.07143 & 15.43571  & 6.675862  & 36.09548  & 2.273391 \\\\\n",
       "\t 78        & 24.06111  &  99.69444 & 15.80556  & 6.898044  & 28.43621  & 2.129915 \\\\\n",
       "\t 79        & 25.09310  & 101.20690 & 15.81379  & 6.794217  & 28.45596  & 2.952931 \\\\\n",
       "\\end{tabular}\n"
      ],
      "text/markdown": [
       "\n",
       "| year | mpg_avg | hp_avg | accel_avg | mpg_desvio | hp_desvio | accel_desvio |\n",
       "|---|---|---|---|---|---|---|\n",
       "| 70        | 17.68966  | 148.85714 | 12.71429  | 5.339231  | 49.63048  | 3.297249  |\n",
       "| 71        | 21.25000  | 104.92857 | 15.31034  | 6.591942  | 39.45549  | 2.769134  |\n",
       "| 72        | 18.71429  | 120.17857 | 15.12500  | 5.435529  | 41.12137  | 2.850032  |\n",
       "| 73        | 17.10000  | 130.47500 | 14.31250  | 4.700245  | 46.41230  | 2.754222  |\n",
       "| 74        | 22.70370  |  94.23077 | 16.20370  | 6.420010  | 29.68678  | 1.688532  |\n",
       "| 75        | 20.26667  | 101.06667 | 16.05000  | 4.940566  | 26.57706  | 2.471737  |\n",
       "| 76        | 21.57353  | 101.11765 | 15.94118  | 5.889297  | 32.43059  | 2.801419  |\n",
       "| 77        | 23.37500  | 105.07143 | 15.43571  | 6.675862  | 36.09548  | 2.273391  |\n",
       "| 78        | 24.06111  |  99.69444 | 15.80556  | 6.898044  | 28.43621  | 2.129915  |\n",
       "| 79        | 25.09310  | 101.20690 | 15.81379  | 6.794217  | 28.45596  | 2.952931  |\n",
       "\n"
      ],
      "text/plain": [
       "   year mpg_avg  hp_avg    accel_avg mpg_desvio hp_desvio accel_desvio\n",
       "1  70   17.68966 148.85714 12.71429  5.339231   49.63048  3.297249    \n",
       "2  71   21.25000 104.92857 15.31034  6.591942   39.45549  2.769134    \n",
       "3  72   18.71429 120.17857 15.12500  5.435529   41.12137  2.850032    \n",
       "4  73   17.10000 130.47500 14.31250  4.700245   46.41230  2.754222    \n",
       "5  74   22.70370  94.23077 16.20370  6.420010   29.68678  1.688532    \n",
       "6  75   20.26667 101.06667 16.05000  4.940566   26.57706  2.471737    \n",
       "7  76   21.57353 101.11765 15.94118  5.889297   32.43059  2.801419    \n",
       "8  77   23.37500 105.07143 15.43571  6.675862   36.09548  2.273391    \n",
       "9  78   24.06111  99.69444 15.80556  6.898044   28.43621  2.129915    \n",
       "10 79   25.09310 101.20690 15.81379  6.794217   28.45596  2.952931    "
      ]
     },
     "metadata": {},
     "output_type": "display_data"
    }
   ],
   "source": [
    "# summarize_at te permite excluir os atributos não numéricos e aplicar as funções a todo o resto\n",
    "# Caso seu dataframe contenha apenas dados numéricos, basta usar sumarize_all()\n",
    "\n",
    "mpg_group6 <- mpg_data %>% group_by(year) %>%\n",
    "                summarize_at(vars(mpg, hp, accel), funs(avg = mean(., na.rm = TRUE), desvio = sd(., na.rm = TRUE))) %>%\n",
    "                arrange(year, hp_avg)\n",
    "\n",
    "head(mpg_group6, 10)"
   ]
  },
  {
   "cell_type": "code",
   "execution_count": 28,
   "id": "c83b4fe5",
   "metadata": {},
   "outputs": [
    {
     "data": {
      "text/html": [
       "<table>\n",
       "<thead><tr><th scope=col>mpg</th><th scope=col>cyl</th><th scope=col>displ</th><th scope=col>hp</th><th scope=col>weight</th><th scope=col>accel</th><th scope=col>year</th><th scope=col>origin</th><th scope=col>car_name</th></tr></thead>\n",
       "<tbody>\n",
       "\t<tr><td>18                        </td><td>8                         </td><td>307                       </td><td>130                       </td><td>3504                      </td><td>12.0                      </td><td>70                        </td><td>1                         </td><td>\tchevrolet chevelle malibu</td></tr>\n",
       "\t<tr><td>15                        </td><td>8                         </td><td>350                       </td><td>165                       </td><td>3693                      </td><td>11.5                      </td><td>70                        </td><td>1                         </td><td>\tbuick skylark 320        </td></tr>\n",
       "\t<tr><td>18                        </td><td>8                         </td><td>318                       </td><td>150                       </td><td>3436                      </td><td>11.0                      </td><td>70                        </td><td>1                         </td><td>\tplymouth satellite       </td></tr>\n",
       "\t<tr><td>16                        </td><td>8                         </td><td>304                       </td><td>150                       </td><td>3433                      </td><td>12.0                      </td><td>70                        </td><td>1                         </td><td>\tamc rebel sst            </td></tr>\n",
       "\t<tr><td>17                        </td><td>8                         </td><td>302                       </td><td>140                       </td><td>3449                      </td><td>10.5                      </td><td>70                        </td><td>1                         </td><td>\tford torino              </td></tr>\n",
       "\t<tr><td>15                        </td><td>8                         </td><td>429                       </td><td>198                       </td><td>4341                      </td><td>10.0                      </td><td>70                        </td><td>1                         </td><td>\tford galaxie 500         </td></tr>\n",
       "\t<tr><td>14                        </td><td>8                         </td><td>454                       </td><td>220                       </td><td>4354                      </td><td> 9.0                      </td><td>70                        </td><td>1                         </td><td>\tchevrolet impala         </td></tr>\n",
       "\t<tr><td>14                        </td><td>8                         </td><td>440                       </td><td>215                       </td><td>4312                      </td><td> 8.5                      </td><td>70                        </td><td>1                         </td><td>\tplymouth fury iii        </td></tr>\n",
       "\t<tr><td>14                        </td><td>8                         </td><td>455                       </td><td>225                       </td><td>4425                      </td><td>10.0                      </td><td>70                        </td><td>1                         </td><td>\tpontiac catalina         </td></tr>\n",
       "\t<tr><td>15                        </td><td>8                         </td><td>390                       </td><td>190                       </td><td>3850                      </td><td> 8.5                      </td><td>70                        </td><td>1                         </td><td>\tamc ambassador dpl       </td></tr>\n",
       "</tbody>\n",
       "</table>\n"
      ],
      "text/latex": [
       "\\begin{tabular}{r|lllllllll}\n",
       " mpg & cyl & displ & hp & weight & accel & year & origin & car\\_name\\\\\n",
       "\\hline\n",
       "\t 18                         & 8                          & 307                        & 130                        & 3504                       & 12.0                       & 70                         & 1                          & \tchevrolet chevelle malibu\\\\\n",
       "\t 15                         & 8                          & 350                        & 165                        & 3693                       & 11.5                       & 70                         & 1                          & \tbuick skylark 320        \\\\\n",
       "\t 18                         & 8                          & 318                        & 150                        & 3436                       & 11.0                       & 70                         & 1                          & \tplymouth satellite       \\\\\n",
       "\t 16                         & 8                          & 304                        & 150                        & 3433                       & 12.0                       & 70                         & 1                          & \tamc rebel sst            \\\\\n",
       "\t 17                         & 8                          & 302                        & 140                        & 3449                       & 10.5                       & 70                         & 1                          & \tford torino              \\\\\n",
       "\t 15                         & 8                          & 429                        & 198                        & 4341                       & 10.0                       & 70                         & 1                          & \tford galaxie 500         \\\\\n",
       "\t 14                         & 8                          & 454                        & 220                        & 4354                       &  9.0                       & 70                         & 1                          & \tchevrolet impala         \\\\\n",
       "\t 14                         & 8                          & 440                        & 215                        & 4312                       &  8.5                       & 70                         & 1                          & \tplymouth fury iii        \\\\\n",
       "\t 14                         & 8                          & 455                        & 225                        & 4425                       & 10.0                       & 70                         & 1                          & \tpontiac catalina         \\\\\n",
       "\t 15                         & 8                          & 390                        & 190                        & 3850                       &  8.5                       & 70                         & 1                          & \tamc ambassador dpl       \\\\\n",
       "\\end{tabular}\n"
      ],
      "text/markdown": [
       "\n",
       "| mpg | cyl | displ | hp | weight | accel | year | origin | car_name |\n",
       "|---|---|---|---|---|---|---|---|---|\n",
       "| 18                         | 8                          | 307                        | 130                        | 3504                       | 12.0                       | 70                         | 1                          | \tchevrolet chevelle malibu |\n",
       "| 15                         | 8                          | 350                        | 165                        | 3693                       | 11.5                       | 70                         | 1                          | \tbuick skylark 320         |\n",
       "| 18                         | 8                          | 318                        | 150                        | 3436                       | 11.0                       | 70                         | 1                          | \tplymouth satellite        |\n",
       "| 16                         | 8                          | 304                        | 150                        | 3433                       | 12.0                       | 70                         | 1                          | \tamc rebel sst             |\n",
       "| 17                         | 8                          | 302                        | 140                        | 3449                       | 10.5                       | 70                         | 1                          | \tford torino               |\n",
       "| 15                         | 8                          | 429                        | 198                        | 4341                       | 10.0                       | 70                         | 1                          | \tford galaxie 500          |\n",
       "| 14                         | 8                          | 454                        | 220                        | 4354                       |  9.0                       | 70                         | 1                          | \tchevrolet impala          |\n",
       "| 14                         | 8                          | 440                        | 215                        | 4312                       |  8.5                       | 70                         | 1                          | \tplymouth fury iii         |\n",
       "| 14                         | 8                          | 455                        | 225                        | 4425                       | 10.0                       | 70                         | 1                          | \tpontiac catalina          |\n",
       "| 15                         | 8                          | 390                        | 190                        | 3850                       |  8.5                       | 70                         | 1                          | \tamc ambassador dpl        |\n",
       "\n"
      ],
      "text/plain": [
       "   mpg cyl displ hp  weight accel year origin car_name                  \n",
       "1  18  8   307   130 3504   12.0  70   1      \\tchevrolet chevelle malibu\n",
       "2  15  8   350   165 3693   11.5  70   1      \\tbuick skylark 320        \n",
       "3  18  8   318   150 3436   11.0  70   1      \\tplymouth satellite       \n",
       "4  16  8   304   150 3433   12.0  70   1      \\tamc rebel sst            \n",
       "5  17  8   302   140 3449   10.5  70   1      \\tford torino              \n",
       "6  15  8   429   198 4341   10.0  70   1      \\tford galaxie 500         \n",
       "7  14  8   454   220 4354    9.0  70   1      \\tchevrolet impala         \n",
       "8  14  8   440   215 4312    8.5  70   1      \\tplymouth fury iii        \n",
       "9  14  8   455   225 4425   10.0  70   1      \\tpontiac catalina         \n",
       "10 15  8   390   190 3850    8.5  70   1      \\tamc ambassador dpl       "
      ]
     },
     "metadata": {},
     "output_type": "display_data"
    }
   ],
   "source": [
    "# Lembrando que o group_by pode ser atribuido em uma variável\n",
    "\n",
    "mpg_group7 <- group_by(mpg_data, year)\n",
    "\n",
    "head(mpg_group7,10)"
   ]
  },
  {
   "cell_type": "code",
   "execution_count": 29,
   "id": "865c7667",
   "metadata": {},
   "outputs": [
    {
     "data": {
      "text/html": [
       "<ol class=list-inline>\n",
       "\t<li>'grouped_df'</li>\n",
       "\t<li>'tbl_df'</li>\n",
       "\t<li>'tbl'</li>\n",
       "\t<li>'data.frame'</li>\n",
       "</ol>\n"
      ],
      "text/latex": [
       "\\begin{enumerate*}\n",
       "\\item 'grouped\\_df'\n",
       "\\item 'tbl\\_df'\n",
       "\\item 'tbl'\n",
       "\\item 'data.frame'\n",
       "\\end{enumerate*}\n"
      ],
      "text/markdown": [
       "1. 'grouped_df'\n",
       "2. 'tbl_df'\n",
       "3. 'tbl'\n",
       "4. 'data.frame'\n",
       "\n",
       "\n"
      ],
      "text/plain": [
       "[1] \"grouped_df\" \"tbl_df\"     \"tbl\"        \"data.frame\""
      ]
     },
     "metadata": {},
     "output_type": "display_data"
    }
   ],
   "source": [
    "class(mpg_group7)"
   ]
  },
  {
   "cell_type": "code",
   "execution_count": 30,
   "id": "0858fcbc",
   "metadata": {},
   "outputs": [
    {
     "data": {
      "text/html": [
       "<table>\n",
       "<thead><tr><th scope=col>year</th><th scope=col>n</th></tr></thead>\n",
       "<tbody>\n",
       "\t<tr><td>70</td><td>35</td></tr>\n",
       "\t<tr><td>71</td><td>29</td></tr>\n",
       "\t<tr><td>72</td><td>28</td></tr>\n",
       "\t<tr><td>73</td><td>40</td></tr>\n",
       "\t<tr><td>74</td><td>27</td></tr>\n",
       "\t<tr><td>75</td><td>30</td></tr>\n",
       "\t<tr><td>76</td><td>34</td></tr>\n",
       "\t<tr><td>77</td><td>28</td></tr>\n",
       "\t<tr><td>78</td><td>36</td></tr>\n",
       "\t<tr><td>79</td><td>29</td></tr>\n",
       "\t<tr><td>80</td><td>29</td></tr>\n",
       "\t<tr><td>81</td><td>30</td></tr>\n",
       "\t<tr><td>82</td><td>31</td></tr>\n",
       "</tbody>\n",
       "</table>\n"
      ],
      "text/latex": [
       "\\begin{tabular}{r|ll}\n",
       " year & n\\\\\n",
       "\\hline\n",
       "\t 70 & 35\\\\\n",
       "\t 71 & 29\\\\\n",
       "\t 72 & 28\\\\\n",
       "\t 73 & 40\\\\\n",
       "\t 74 & 27\\\\\n",
       "\t 75 & 30\\\\\n",
       "\t 76 & 34\\\\\n",
       "\t 77 & 28\\\\\n",
       "\t 78 & 36\\\\\n",
       "\t 79 & 29\\\\\n",
       "\t 80 & 29\\\\\n",
       "\t 81 & 30\\\\\n",
       "\t 82 & 31\\\\\n",
       "\\end{tabular}\n"
      ],
      "text/markdown": [
       "\n",
       "| year | n |\n",
       "|---|---|\n",
       "| 70 | 35 |\n",
       "| 71 | 29 |\n",
       "| 72 | 28 |\n",
       "| 73 | 40 |\n",
       "| 74 | 27 |\n",
       "| 75 | 30 |\n",
       "| 76 | 34 |\n",
       "| 77 | 28 |\n",
       "| 78 | 36 |\n",
       "| 79 | 29 |\n",
       "| 80 | 29 |\n",
       "| 81 | 30 |\n",
       "| 82 | 31 |\n",
       "\n"
      ],
      "text/plain": [
       "   year n \n",
       "1  70   35\n",
       "2  71   29\n",
       "3  72   28\n",
       "4  73   40\n",
       "5  74   27\n",
       "6  75   30\n",
       "7  76   34\n",
       "8  77   28\n",
       "9  78   36\n",
       "10 79   29\n",
       "11 80   29\n",
       "12 81   30\n",
       "13 82   31"
      ]
     },
     "metadata": {},
     "output_type": "display_data"
    }
   ],
   "source": [
    "# Esse objeto agrupado pode ser usado para calcular rapidamente as estatisticas\n",
    "# resumidas por grupo, que, no nosso caso, é o ano\n",
    "\n",
    "# Calculando o número de registros por ano\n",
    "\n",
    "tally(mpg_group7)"
   ]
  },
  {
   "cell_type": "code",
   "execution_count": 31,
   "id": "aea71a60",
   "metadata": {},
   "outputs": [
    {
     "data": {
      "text/html": [
       "<table>\n",
       "<thead><tr><th scope=col>year</th><th scope=col>n</th></tr></thead>\n",
       "<tbody>\n",
       "\t<tr><td>70</td><td>35</td></tr>\n",
       "\t<tr><td>71</td><td>29</td></tr>\n",
       "\t<tr><td>72</td><td>28</td></tr>\n",
       "\t<tr><td>73</td><td>40</td></tr>\n",
       "\t<tr><td>74</td><td>27</td></tr>\n",
       "\t<tr><td>75</td><td>30</td></tr>\n",
       "\t<tr><td>76</td><td>34</td></tr>\n",
       "\t<tr><td>77</td><td>28</td></tr>\n",
       "\t<tr><td>78</td><td>36</td></tr>\n",
       "\t<tr><td>79</td><td>29</td></tr>\n",
       "\t<tr><td>80</td><td>29</td></tr>\n",
       "\t<tr><td>81</td><td>30</td></tr>\n",
       "\t<tr><td>82</td><td>31</td></tr>\n",
       "</tbody>\n",
       "</table>\n"
      ],
      "text/latex": [
       "\\begin{tabular}{r|ll}\n",
       " year & n\\\\\n",
       "\\hline\n",
       "\t 70 & 35\\\\\n",
       "\t 71 & 29\\\\\n",
       "\t 72 & 28\\\\\n",
       "\t 73 & 40\\\\\n",
       "\t 74 & 27\\\\\n",
       "\t 75 & 30\\\\\n",
       "\t 76 & 34\\\\\n",
       "\t 77 & 28\\\\\n",
       "\t 78 & 36\\\\\n",
       "\t 79 & 29\\\\\n",
       "\t 80 & 29\\\\\n",
       "\t 81 & 30\\\\\n",
       "\t 82 & 31\\\\\n",
       "\\end{tabular}\n"
      ],
      "text/markdown": [
       "\n",
       "| year | n |\n",
       "|---|---|\n",
       "| 70 | 35 |\n",
       "| 71 | 29 |\n",
       "| 72 | 28 |\n",
       "| 73 | 40 |\n",
       "| 74 | 27 |\n",
       "| 75 | 30 |\n",
       "| 76 | 34 |\n",
       "| 77 | 28 |\n",
       "| 78 | 36 |\n",
       "| 79 | 29 |\n",
       "| 80 | 29 |\n",
       "| 81 | 30 |\n",
       "| 82 | 31 |\n",
       "\n"
      ],
      "text/plain": [
       "   year n \n",
       "1  70   35\n",
       "2  71   29\n",
       "3  72   28\n",
       "4  73   40\n",
       "5  74   27\n",
       "6  75   30\n",
       "7  76   34\n",
       "8  77   28\n",
       "9  78   36\n",
       "10 79   29\n",
       "11 80   29\n",
       "12 81   30\n",
       "13 82   31"
      ]
     },
     "metadata": {},
     "output_type": "display_data"
    }
   ],
   "source": [
    "# Ou, alternativamente:\n",
    "\n",
    "mpg_group8 <- mpg_data %>% group_by(year) %>% tally\n",
    "\n",
    "mpg_group8"
   ]
  },
  {
   "cell_type": "code",
   "execution_count": 32,
   "id": "ee7506ef",
   "metadata": {},
   "outputs": [
    {
     "data": {
      "text/html": [
       "<table>\n",
       "<thead><tr><th scope=col>year</th><th scope=col>average</th></tr></thead>\n",
       "<tbody>\n",
       "\t<tr><td>70       </td><td>148.85714</td></tr>\n",
       "\t<tr><td>71       </td><td>104.92857</td></tr>\n",
       "\t<tr><td>72       </td><td>120.17857</td></tr>\n",
       "\t<tr><td>73       </td><td>130.47500</td></tr>\n",
       "\t<tr><td>74       </td><td> 94.23077</td></tr>\n",
       "\t<tr><td>75       </td><td>101.06667</td></tr>\n",
       "\t<tr><td>76       </td><td>101.11765</td></tr>\n",
       "\t<tr><td>77       </td><td>105.07143</td></tr>\n",
       "\t<tr><td>78       </td><td> 99.69444</td></tr>\n",
       "\t<tr><td>79       </td><td>101.20690</td></tr>\n",
       "\t<tr><td>80       </td><td> 77.48148</td></tr>\n",
       "\t<tr><td>81       </td><td> 82.03448</td></tr>\n",
       "\t<tr><td>82       </td><td> 81.46667</td></tr>\n",
       "</tbody>\n",
       "</table>\n"
      ],
      "text/latex": [
       "\\begin{tabular}{r|ll}\n",
       " year & average\\\\\n",
       "\\hline\n",
       "\t 70        & 148.85714\\\\\n",
       "\t 71        & 104.92857\\\\\n",
       "\t 72        & 120.17857\\\\\n",
       "\t 73        & 130.47500\\\\\n",
       "\t 74        &  94.23077\\\\\n",
       "\t 75        & 101.06667\\\\\n",
       "\t 76        & 101.11765\\\\\n",
       "\t 77        & 105.07143\\\\\n",
       "\t 78        &  99.69444\\\\\n",
       "\t 79        & 101.20690\\\\\n",
       "\t 80        &  77.48148\\\\\n",
       "\t 81        &  82.03448\\\\\n",
       "\t 82        &  81.46667\\\\\n",
       "\\end{tabular}\n"
      ],
      "text/markdown": [
       "\n",
       "| year | average |\n",
       "|---|---|\n",
       "| 70        | 148.85714 |\n",
       "| 71        | 104.92857 |\n",
       "| 72        | 120.17857 |\n",
       "| 73        | 130.47500 |\n",
       "| 74        |  94.23077 |\n",
       "| 75        | 101.06667 |\n",
       "| 76        | 101.11765 |\n",
       "| 77        | 105.07143 |\n",
       "| 78        |  99.69444 |\n",
       "| 79        | 101.20690 |\n",
       "| 80        |  77.48148 |\n",
       "| 81        |  82.03448 |\n",
       "| 82        |  81.46667 |\n",
       "\n"
      ],
      "text/plain": [
       "   year average  \n",
       "1  70   148.85714\n",
       "2  71   104.92857\n",
       "3  72   120.17857\n",
       "4  73   130.47500\n",
       "5  74    94.23077\n",
       "6  75   101.06667\n",
       "7  76   101.11765\n",
       "8  77   105.07143\n",
       "9  78    99.69444\n",
       "10 79   101.20690\n",
       "11 80    77.48148\n",
       "12 81    82.03448\n",
       "13 82    81.46667"
      ]
     },
     "metadata": {},
     "output_type": "display_data"
    }
   ],
   "source": [
    "# Ou a média - no caso da linha abaixo, fazer esta atribuição do group_by a uma ariável\n",
    "# seria como um atalho para os códigos que rodamos acima\n",
    "\n",
    "summarize(mpg_group7, average = mean(hp, na.rm = TRUE))"
   ]
  },
  {
   "cell_type": "code",
   "execution_count": 33,
   "id": "38882db1",
   "metadata": {},
   "outputs": [
    {
     "data": {
      "image/png": "[encoded data removed]",
      "text/plain": [
       "plot without title"
      ]
     },
     "metadata": {
      "image/png": {
       "height": 420,
       "width": 420
      }
     },
     "output_type": "display_data"
    }
   ],
   "source": [
    " # Visualização dos dados com qplot (quick plot)\n",
    "\n",
    "qplot(mpg_group7$displ\n",
    "     , mpg_group7$cyl\n",
    "     , xlab = \"Displ\"\n",
    "     , ylab = \"Cilindros\"\n",
    "     , main = \"Cilindros vs Displ\")"
   ]
  },
  {
   "cell_type": "code",
   "execution_count": 36,
   "id": "3406f807",
   "metadata": {},
   "outputs": [
    {
     "name": "stderr",
     "output_type": "stream",
     "text": [
      "Warning message:\n",
      "\"Removed 6 rows containing non-finite values (stat_boxplot).\"\n"
     ]
    },
    {
     "data": {
      "image/png": "[encoded data removed]",
      "text/plain": [
       "plot without title"
      ]
     },
     "metadata": {
      "image/png": {
       "height": 420,
       "width": 420
      }
     },
     "output_type": "display_data"
    }
   ],
   "source": [
    "# Ou com ggplot - método tradicional\n",
    "\n",
    "ggplot(mpg_group7, aes(x = year, y = hp, group = year)) +\n",
    "    geom_boxplot()"
   ]
  },
  {
   "cell_type": "code",
   "execution_count": 38,
   "id": "fcf0465e",
   "metadata": {},
   "outputs": [],
   "source": [
    "# Fazendo todo o plot com o pipe %>%\n",
    "\n",
    "chart1 <- mpg_data %>%\n",
    "            group_by(year) %>%\n",
    "            filter(grepl(\"chevrolet\", car_name)) %>%\n",
    "            ggplot(aes(x = cyl, y = mpg, group = cyl)) + geom_boxplot() + ggtitle(\"Chevrolet\")\n",
    "\n",
    "chart2 <- mpg_data %>%\n",
    "            group_by(year) %>%\n",
    "            filter(grepl(\"ford\", car_name)) %>%\n",
    "            ggplot(aes(x = cyl, y = mpg, group = cyl)) + geom_boxplot() + ggtitle(\"Ford\")"
   ]
  },
  {
   "cell_type": "code",
   "execution_count": null,
   "id": "c3e9bf31",
   "metadata": {},
   "outputs": [],
   "source": [
    "library(ggpubr)"
   ]
  },
  {
   "cell_type": "code",
   "execution_count": 39,
   "id": "d066bec8",
   "metadata": {},
   "outputs": [
    {
     "name": "stderr",
     "output_type": "stream",
     "text": [
      "Warning message:\n",
      "\"package 'ggpubr' was built under R version 3.6.3\"\n",
      "Warning message:\n",
      "\"Removed 1 rows containing non-finite values (stat_boxplot).\"\n",
      "Warning message:\n",
      "\"Removed 2 rows containing non-finite values (stat_boxplot).\"\n"
     ]
    },
    {
     "data": {
      "image/png": "[encoded data removed]",
      "text/plain": [
       "plot without title"
      ]
     },
     "metadata": {
      "image/png": {
       "height": 420,
       "width": 420
      }
     },
     "output_type": "display_data"
    }
   ],
   "source": [
    "# E organizando multiplos plots com ggarrange()\n",
    "\n",
    "ggarrange(chart1, chart2\n",
    "         , ncol = 2, nrow = 1)"
   ]
  },
  {
   "cell_type": "code",
   "execution_count": 42,
   "id": "f0574dff",
   "metadata": {},
   "outputs": [
    {
     "name": "stderr",
     "output_type": "stream",
     "text": [
      "Warning message:\n",
      "\"Removed 6 rows containing missing values (geom_point).\"\n"
     ]
    },
    {
     "data": {
      "image/png": "[encoded data removed]",
      "text/plain": [
       "plot without title"
      ]
     },
     "metadata": {
      "image/png": {
       "height": 420,
       "width": 420
      }
     },
     "output_type": "display_data"
    }
   ],
   "source": [
    "mpg_data %>%\n",
    "    filter(grepl(\"chevrolet|ford\", car_name)) %>% \n",
    "    ggplot(aes(year, mpg, size = hp, colour = displ)) + geom_point() +\n",
    "    labs(title = \"Consumo de combustível por ano de lançamento\", x= \"Year\", y = \"MPG\")"
   ]
  },
  {
   "cell_type": "code",
   "execution_count": 44,
   "id": "50da59d2",
   "metadata": {},
   "outputs": [
    {
     "name": "stderr",
     "output_type": "stream",
     "text": [
      "`geom_smooth()` using formula 'y ~ x'\n",
      "\n",
      "Warning message:\n",
      "\"Removed 3 rows containing non-finite values (stat_smooth).\"\n",
      "Warning message:\n",
      "\"Removed 6 rows containing missing values (geom_point).\"\n"
     ]
    },
    {
     "data": {
      "image/png": "[encoded data removed]",
      "text/plain": [
       "plot without title"
      ]
     },
     "metadata": {
      "image/png": {
       "height": 420,
       "width": 420
      }
     },
     "output_type": "display_data"
    }
   ],
   "source": [
    "# Se quiser adicionar uma linha de regresão use geom_smooth()\n",
    "\n",
    "mpg_data %>%\n",
    "    filter(grepl(\"chevrolet|ford\", car_name)) %>% \n",
    "    ggplot(aes(year, mpg, size = hp, colour = displ)) + geom_point() +\n",
    "    labs(title = \"Consumo de combustível por ano de lançamento\", x= \"Year\", y = \"MPG\") +\n",
    "    geom_smooth(method = lm)"
   ]
  },
  {
   "cell_type": "code",
   "execution_count": 45,
   "id": "2a03fd9f",
   "metadata": {},
   "outputs": [
    {
     "name": "stderr",
     "output_type": "stream",
     "text": [
      "`geom_smooth()` using method = 'loess' and formula 'y ~ x'\n",
      "\n",
      "Warning message:\n",
      "\"Removed 1 rows containing non-finite values (stat_smooth).\"\n",
      "Warning message:\n",
      "\"Removed 1 rows containing missing values (geom_point).\"\n"
     ]
    },
    {
     "data": {
      "image/png": "[encoded data removed]",
      "text/plain": [
       "plot without title"
      ]
     },
     "metadata": {
      "image/png": {
       "height": 420,
       "width": 420
      }
     },
     "output_type": "display_data"
    }
   ],
   "source": [
    "# Se quiser adicionar uma linha de regresão use geom_smooth()\n",
    "\n",
    "mpg_data %>%\n",
    "    filter(grepl(\"chevrolet\", car_name)) %>% \n",
    "    ggplot(aes(year, mpg, size = hp, colour = year)) + geom_point() +\n",
    "    labs(title = \"Consumo de combustível por ano de lançamento\", x= \"Year\", y = \"MPG\") +\n",
    "    geom_smooth(linetype = \"dashed\",\n",
    "                color = \"red\", fill = \"green\")"
   ]
  },
  {
   "cell_type": "code",
   "execution_count": null,
   "id": "f2a4e4fd",
   "metadata": {},
   "outputs": [],
   "source": []
  }
 ],
 "metadata": {
  "kernelspec": {
   "display_name": "R",
   "language": "R",
   "name": "ir"
  },
  "language_info": {
   "codemirror_mode": "r",
   "file_extension": ".r",
   "mimetype": "text/x-r-source",
   "name": "R",
   "pygments_lexer": "r",
   "version": "3.6.1"
  }
 },
 "nbformat": 4,
 "nbformat_minor": 5
}
