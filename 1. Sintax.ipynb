{
 "cells": [
  {
   "cell_type": "markdown",
   "id": "f2b7c443",
   "metadata": {},
   "source": [
    "<h1><b>Sintax</b></h1>\n",
    "In this file there is the basic elements to start using the R language "
   ]
  },
  {
   "cell_type": "code",
   "execution_count": 2,
   "id": "81fa7c72",
   "metadata": {},
   "outputs": [],
   "source": [
    "# This is a comment.\n",
    "# It will not be executed and it is usefull to organize the code\n",
    "# e.g. describing what a certain block of commands do."
   ]
  },
  {
   "cell_type": "code",
   "execution_count": 3,
   "id": "fe0181db",
   "metadata": {},
   "outputs": [
    {
     "data": {
      "text/html": [
       "4"
      ],
      "text/latex": [
       "4"
      ],
      "text/markdown": [
       "4"
      ],
      "text/plain": [
       "[1] 4"
      ]
     },
     "metadata": {},
     "output_type": "display_data"
    }
   ],
   "source": [
    "# The Notebook will automatically display the outputs when using R\n",
    "\n",
    "4"
   ]
  },
  {
   "cell_type": "code",
   "execution_count": 4,
   "id": "f9123cb7",
   "metadata": {},
   "outputs": [],
   "source": [
    "# This is a atribution of a value to a variable\n",
    "# Variables are used to store stuff like values or functions that can be called back at any time  \n",
    "# An attribution does not have an output\n",
    "var1 <- 55"
   ]
  },
  {
   "cell_type": "code",
   "execution_count": 6,
   "id": "8065557c",
   "metadata": {},
   "outputs": [
    {
     "data": {
      "text/html": [
       "55"
      ],
      "text/latex": [
       "55"
      ],
      "text/markdown": [
       "55"
      ],
      "text/plain": [
       "[1] 55"
      ]
     },
     "metadata": {},
     "output_type": "display_data"
    }
   ],
   "source": [
    "# This output the stored value\n",
    "\n",
    "var1"
   ]
  },
  {
   "cell_type": "code",
   "execution_count": 8,
   "id": "910f6d1c",
   "metadata": {},
   "outputs": [
    {
     "data": {
      "text/html": [
       "4"
      ],
      "text/latex": [
       "4"
      ],
      "text/markdown": [
       "4"
      ],
      "text/plain": [
       "[1] 4"
      ]
     },
     "metadata": {},
     "output_type": "display_data"
    }
   ],
   "source": [
    "# Calculatios can be performed\n",
    "\n",
    "2 + 2"
   ]
  },
  {
   "cell_type": "code",
   "execution_count": 1,
   "id": "7a6259f6",
   "metadata": {},
   "outputs": [
    {
     "data": {
      "text/html": [
       "256"
      ],
      "text/latex": [
       "256"
      ],
      "text/markdown": [
       "256"
      ],
      "text/plain": [
       "[1] 256"
      ]
     },
     "metadata": {},
     "output_type": "display_data"
    }
   ],
   "source": [
    "# This is equivalent to ^\n",
    "\n",
    "2**8"
   ]
  },
  {
   "cell_type": "code",
   "execution_count": 10,
   "id": "d3e094e0",
   "metadata": {},
   "outputs": [
    {
     "data": {
      "text/html": [
       "256"
      ],
      "text/latex": [
       "256"
      ],
      "text/markdown": [
       "256"
      ],
      "text/plain": [
       "[1] 256"
      ]
     },
     "metadata": {},
     "output_type": "display_data"
    }
   ],
   "source": [
    "2^8"
   ]
  },
  {
   "cell_type": "code",
   "execution_count": 11,
   "id": "fe38335f",
   "metadata": {},
   "outputs": [
    {
     "data": {
      "text/html": [
       "110"
      ],
      "text/latex": [
       "110"
      ],
      "text/markdown": [
       "110"
      ],
      "text/plain": [
       "[1] 110"
      ]
     },
     "metadata": {},
     "output_type": "display_data"
    }
   ],
   "source": [
    "# Calculations can be performed with the values assigned to a variable\n",
    "\n",
    "var1*2"
   ]
  },
  {
   "cell_type": "code",
   "execution_count": 12,
   "id": "7a78910f",
   "metadata": {},
   "outputs": [],
   "source": [
    "# Creating a second variable\n",
    "\n",
    "var2 <- 10"
   ]
  },
  {
   "cell_type": "code",
   "execution_count": 13,
   "id": "dabb0d7d",
   "metadata": {},
   "outputs": [
    {
     "data": {
      "text/html": [
       "550"
      ],
      "text/latex": [
       "550"
      ],
      "text/markdown": [
       "550"
      ],
      "text/plain": [
       "[1] 550"
      ]
     },
     "metadata": {},
     "output_type": "display_data"
    }
   ],
   "source": [
    "var2 * var1"
   ]
  },
  {
   "cell_type": "code",
   "execution_count": 14,
   "id": "d603ba28",
   "metadata": {},
   "outputs": [],
   "source": [
    "var3 <- var2 * var1"
   ]
  },
  {
   "cell_type": "code",
   "execution_count": 15,
   "id": "46864041",
   "metadata": {},
   "outputs": [
    {
     "data": {
      "text/html": [
       "550"
      ],
      "text/latex": [
       "550"
      ],
      "text/markdown": [
       "550"
      ],
      "text/plain": [
       "[1] 550"
      ]
     },
     "metadata": {},
     "output_type": "display_data"
    }
   ],
   "source": [
    "var3"
   ]
  },
  {
   "cell_type": "code",
   "execution_count": 17,
   "id": "ec7aead3",
   "metadata": {},
   "outputs": [
    {
     "name": "stdout",
     "output_type": "stream",
     "text": [
      "[1] 550\n"
     ]
    }
   ],
   "source": [
    "# This display the result as a text on the screen\n",
    "\n",
    "print(var3)"
   ]
  },
  {
   "cell_type": "code",
   "execution_count": 18,
   "id": "f980556b",
   "metadata": {},
   "outputs": [],
   "source": [
    "# This is a string\n",
    "\n",
    "redacao <- \"Olá mundo\""
   ]
  },
  {
   "cell_type": "code",
   "execution_count": 19,
   "id": "83a8f2cb",
   "metadata": {},
   "outputs": [
    {
     "name": "stdout",
     "output_type": "stream",
     "text": [
      "[1] \"Olá mundo\"\n"
     ]
    }
   ],
   "source": [
    "print(redacao)"
   ]
  },
  {
   "cell_type": "code",
   "execution_count": 20,
   "id": "c8a204a7",
   "metadata": {},
   "outputs": [
    {
     "ename": "ERROR",
     "evalue": "Error in eval(expr, envir, enclos): objeto 'var4' não encontrado\n",
     "output_type": "error",
     "traceback": [
      "Error in eval(expr, envir, enclos): objeto 'var4' não encontrado\nTraceback:\n"
     ]
    }
   ],
   "source": [
    "# This is what heppens if you call a variable that does not exist\n",
    "\n",
    "var4"
   ]
  },
  {
   "cell_type": "code",
   "execution_count": 25,
   "id": "e97f5850",
   "metadata": {},
   "outputs": [],
   "source": [
    "i <- 17"
   ]
  },
  {
   "cell_type": "code",
   "execution_count": 26,
   "id": "694e2dbd",
   "metadata": {},
   "outputs": [
    {
     "name": "stdout",
     "output_type": "stream",
     "text": [
      "[1] \"Menor de idade\"\n"
     ]
    }
   ],
   "source": [
    "# A conditional function if\n",
    "\n",
    "if(i<18){\n",
    "    print(\"Menor de idade\")\n",
    "}else{\n",
    "    print(\"Maior de idade\")\n",
    "}"
   ]
  },
  {
   "cell_type": "code",
   "execution_count": 4,
   "id": "7039417a",
   "metadata": {},
   "outputs": [],
   "source": [
    "#Imposto de renda\n",
    "s <- 15000"
   ]
  },
  {
   "cell_type": "code",
   "execution_count": 5,
   "id": "61190d53",
   "metadata": {},
   "outputs": [],
   "source": [
    "# A more elaborate conditional function with more than one condition\n",
    "# Note that for the funciton bellow the order of the conditions matters\n",
    "\n",
    "if(s<10000){\n",
    "    ir<-0\n",
    "}else if(s<30000){\n",
    "    ir<-.3\n",
    "}else{\n",
    "    ir<-.4\n",
    "}"
   ]
  },
  {
   "cell_type": "code",
   "execution_count": 6,
   "id": "eec512ee",
   "metadata": {},
   "outputs": [
    {
     "name": "stdout",
     "output_type": "stream",
     "text": [
      "[1] 0.3\n"
     ]
    }
   ],
   "source": [
    "print(ir)"
   ]
  },
  {
   "cell_type": "code",
   "execution_count": 7,
   "id": "4ced7028",
   "metadata": {},
   "outputs": [],
   "source": [
    "# The line ir<-.3 will never be executed because the function stop checking the condtions after the first true condition\n",
    "\n",
    "if(s<30000){\n",
    "    ir<-0\n",
    "}else if(s<10000){\n",
    "    ir<-.3\n",
    "}else{\n",
    "    ir<-.4\n",
    "}"
   ]
  },
  {
   "cell_type": "code",
   "execution_count": 8,
   "id": "32450c3e",
   "metadata": {},
   "outputs": [
    {
     "name": "stdout",
     "output_type": "stream",
     "text": [
      "[1] \"Meu imposto é: 0\"\n"
     ]
    }
   ],
   "source": [
    "# This gives a string as output with the complete computation of the value\n",
    "\n",
    "print(paste(\"Meu imposto é:\", s*ir))"
   ]
  },
  {
   "cell_type": "code",
   "execution_count": 1,
   "id": "1636f9f7",
   "metadata": {},
   "outputs": [],
   "source": [
    "# Vectors can store multiple variables\n",
    "\n",
    "vetor1 <- c(1,2,\"tres\")"
   ]
  },
  {
   "cell_type": "code",
   "execution_count": 2,
   "id": "9e5d8170",
   "metadata": {},
   "outputs": [
    {
     "data": {
      "text/html": [
       "<ol class=list-inline>\n",
       "\t<li>'1'</li>\n",
       "\t<li>'2'</li>\n",
       "\t<li>'tres'</li>\n",
       "</ol>\n"
      ],
      "text/latex": [
       "\\begin{enumerate*}\n",
       "\\item '1'\n",
       "\\item '2'\n",
       "\\item 'tres'\n",
       "\\end{enumerate*}\n"
      ],
      "text/markdown": [
       "1. '1'\n",
       "2. '2'\n",
       "3. 'tres'\n",
       "\n",
       "\n"
      ],
      "text/plain": [
       "[1] \"1\"    \"2\"    \"tres\""
      ]
     },
     "metadata": {},
     "output_type": "display_data"
    }
   ],
   "source": [
    "vetor1"
   ]
  },
  {
   "cell_type": "code",
   "execution_count": 3,
   "id": "69038e3e",
   "metadata": {},
   "outputs": [
    {
     "data": {
      "text/html": [
       "'character'"
      ],
      "text/latex": [
       "'character'"
      ],
      "text/markdown": [
       "'character'"
      ],
      "text/plain": [
       "[1] \"character\""
      ]
     },
     "metadata": {},
     "output_type": "display_data"
    }
   ],
   "source": [
    "# This show the type of variable\n",
    "# The numbers where converted to character because a vector cannot contain more than one type of variable\n",
    "\n",
    "class(vetor1)"
   ]
  },
  {
   "cell_type": "code",
   "execution_count": 4,
   "id": "e8f91016",
   "metadata": {},
   "outputs": [
    {
     "name": "stdout",
     "output_type": "stream",
     "text": [
      " chr [1:3] \"1\" \"2\" \"tres\"\n"
     ]
    }
   ],
   "source": [
    "# This gives the type of variable, the size and the content\n",
    "\n",
    "str(vetor1)"
   ]
  },
  {
   "cell_type": "code",
   "execution_count": 5,
   "id": "56204ffd",
   "metadata": {},
   "outputs": [],
   "source": [
    "vet_num <- c(1,2,3,4,10)"
   ]
  },
  {
   "cell_type": "code",
   "execution_count": 6,
   "id": "2672d8e2",
   "metadata": {},
   "outputs": [
    {
     "data": {
      "text/html": [
       "<ol class=list-inline>\n",
       "\t<li>1</li>\n",
       "\t<li>2</li>\n",
       "\t<li>3</li>\n",
       "\t<li>4</li>\n",
       "\t<li>10</li>\n",
       "</ol>\n"
      ],
      "text/latex": [
       "\\begin{enumerate*}\n",
       "\\item 1\n",
       "\\item 2\n",
       "\\item 3\n",
       "\\item 4\n",
       "\\item 10\n",
       "\\end{enumerate*}\n"
      ],
      "text/markdown": [
       "1. 1\n",
       "2. 2\n",
       "3. 3\n",
       "4. 4\n",
       "5. 10\n",
       "\n",
       "\n"
      ],
      "text/plain": [
       "[1]  1  2  3  4 10"
      ]
     },
     "metadata": {},
     "output_type": "display_data"
    }
   ],
   "source": [
    "vet_num"
   ]
  },
  {
   "cell_type": "code",
   "execution_count": 7,
   "id": "70cbcff2",
   "metadata": {},
   "outputs": [
    {
     "name": "stdout",
     "output_type": "stream",
     "text": [
      " num [1:5] 1 2 3 4 10\n"
     ]
    }
   ],
   "source": [
    "str(vet_num)"
   ]
  },
  {
   "cell_type": "code",
   "execution_count": 8,
   "id": "e46193f3",
   "metadata": {},
   "outputs": [
    {
     "data": {
      "text/html": [
       "10"
      ],
      "text/latex": [
       "10"
      ],
      "text/markdown": [
       "10"
      ],
      "text/plain": [
       "[1] 10"
      ]
     },
     "metadata": {},
     "output_type": "display_data"
    }
   ],
   "source": [
    "# A single value of the vector can be called\n",
    "\n",
    "vet_num[5]"
   ]
  },
  {
   "cell_type": "code",
   "execution_count": 9,
   "id": "ccbcc88a",
   "metadata": {},
   "outputs": [
    {
     "data": {
      "text/html": [
       "&lt;NA&gt;"
      ],
      "text/latex": [
       "<NA>"
      ],
      "text/markdown": [
       "&lt;NA&gt;"
      ],
      "text/plain": [
       "[1] NA"
      ]
     },
     "metadata": {},
     "output_type": "display_data"
    }
   ],
   "source": [
    "# This is a inexistent index \n",
    "\n",
    "vet_num[6]"
   ]
  },
  {
   "cell_type": "code",
   "execution_count": 10,
   "id": "6b69b274",
   "metadata": {},
   "outputs": [],
   "source": [
    "# Changing the value of a element of the vector\n",
    "\n",
    "vet_num[1]<-100"
   ]
  },
  {
   "cell_type": "code",
   "execution_count": 11,
   "id": "f2198c8f",
   "metadata": {},
   "outputs": [
    {
     "data": {
      "text/html": [
       "<ol class=list-inline>\n",
       "\t<li>100</li>\n",
       "\t<li>2</li>\n",
       "\t<li>3</li>\n",
       "\t<li>4</li>\n",
       "\t<li>10</li>\n",
       "</ol>\n"
      ],
      "text/latex": [
       "\\begin{enumerate*}\n",
       "\\item 100\n",
       "\\item 2\n",
       "\\item 3\n",
       "\\item 4\n",
       "\\item 10\n",
       "\\end{enumerate*}\n"
      ],
      "text/markdown": [
       "1. 100\n",
       "2. 2\n",
       "3. 3\n",
       "4. 4\n",
       "5. 10\n",
       "\n",
       "\n"
      ],
      "text/plain": [
       "[1] 100   2   3   4  10"
      ]
     },
     "metadata": {},
     "output_type": "display_data"
    }
   ],
   "source": [
    "vet_num"
   ]
  },
  {
   "cell_type": "code",
   "execution_count": 13,
   "id": "593e0967",
   "metadata": {},
   "outputs": [
    {
     "data": {
      "text/html": [
       "<ol class=list-inline>\n",
       "\t<li>100</li>\n",
       "\t<li>2</li>\n",
       "\t<li>3</li>\n",
       "\t<li>4</li>\n",
       "\t<li>10</li>\n",
       "\t<li>1000</li>\n",
       "</ol>\n"
      ],
      "text/latex": [
       "\\begin{enumerate*}\n",
       "\\item 100\n",
       "\\item 2\n",
       "\\item 3\n",
       "\\item 4\n",
       "\\item 10\n",
       "\\item 1000\n",
       "\\end{enumerate*}\n"
      ],
      "text/markdown": [
       "1. 100\n",
       "2. 2\n",
       "3. 3\n",
       "4. 4\n",
       "5. 10\n",
       "6. 1000\n",
       "\n",
       "\n"
      ],
      "text/plain": [
       "[1]  100    2    3    4   10 1000"
      ]
     },
     "metadata": {},
     "output_type": "display_data"
    }
   ],
   "source": [
    "# Adding a element to the vector\n",
    "\n",
    "vet_num[6]<-1000\n",
    "vet_num"
   ]
  },
  {
   "cell_type": "code",
   "execution_count": 15,
   "id": "9b4c6f14",
   "metadata": {},
   "outputs": [
    {
     "data": {
      "text/html": [
       "<ol class=list-inline>\n",
       "\t<li>100</li>\n",
       "\t<li>2</li>\n",
       "\t<li>3</li>\n",
       "\t<li>4</li>\n",
       "\t<li>10</li>\n",
       "\t<li>1000</li>\n",
       "\t<li>&lt;NA&gt;</li>\n",
       "\t<li>&lt;NA&gt;</li>\n",
       "\t<li>&lt;NA&gt;</li>\n",
       "\t<li>&lt;NA&gt;</li>\n",
       "\t<li>&lt;NA&gt;</li>\n",
       "\t<li>&lt;NA&gt;</li>\n",
       "\t<li>&lt;NA&gt;</li>\n",
       "\t<li>&lt;NA&gt;</li>\n",
       "\t<li>&lt;NA&gt;</li>\n",
       "\t<li>&lt;NA&gt;</li>\n",
       "\t<li>&lt;NA&gt;</li>\n",
       "\t<li>&lt;NA&gt;</li>\n",
       "\t<li>&lt;NA&gt;</li>\n",
       "\t<li>500</li>\n",
       "</ol>\n"
      ],
      "text/latex": [
       "\\begin{enumerate*}\n",
       "\\item 100\n",
       "\\item 2\n",
       "\\item 3\n",
       "\\item 4\n",
       "\\item 10\n",
       "\\item 1000\n",
       "\\item <NA>\n",
       "\\item <NA>\n",
       "\\item <NA>\n",
       "\\item <NA>\n",
       "\\item <NA>\n",
       "\\item <NA>\n",
       "\\item <NA>\n",
       "\\item <NA>\n",
       "\\item <NA>\n",
       "\\item <NA>\n",
       "\\item <NA>\n",
       "\\item <NA>\n",
       "\\item <NA>\n",
       "\\item 500\n",
       "\\end{enumerate*}\n"
      ],
      "text/markdown": [
       "1. 100\n",
       "2. 2\n",
       "3. 3\n",
       "4. 4\n",
       "5. 10\n",
       "6. 1000\n",
       "7. &lt;NA&gt;\n",
       "8. &lt;NA&gt;\n",
       "9. &lt;NA&gt;\n",
       "10. &lt;NA&gt;\n",
       "11. &lt;NA&gt;\n",
       "12. &lt;NA&gt;\n",
       "13. &lt;NA&gt;\n",
       "14. &lt;NA&gt;\n",
       "15. &lt;NA&gt;\n",
       "16. &lt;NA&gt;\n",
       "17. &lt;NA&gt;\n",
       "18. &lt;NA&gt;\n",
       "19. &lt;NA&gt;\n",
       "20. 500\n",
       "\n",
       "\n"
      ],
      "text/plain": [
       " [1]  100    2    3    4   10 1000   NA   NA   NA   NA   NA   NA   NA   NA   NA\n",
       "[16]   NA   NA   NA   NA  500"
      ]
     },
     "metadata": {},
     "output_type": "display_data"
    }
   ],
   "source": [
    "vet_num[20]<-500\n",
    "vet_num"
   ]
  },
  {
   "cell_type": "code",
   "execution_count": 17,
   "id": "15c2d694",
   "metadata": {},
   "outputs": [
    {
     "data": {
      "text/plain": [
       "NULL"
      ]
     },
     "metadata": {},
     "output_type": "display_data"
    },
    {
     "data": {
      "text/html": [
       "'NULL'"
      ],
      "text/latex": [
       "'NULL'"
      ],
      "text/markdown": [
       "'NULL'"
      ],
      "text/plain": [
       "[1] \"NULL\""
      ]
     },
     "metadata": {},
     "output_type": "display_data"
    },
    {
     "name": "stdout",
     "output_type": "stream",
     "text": [
      " NULL\n"
     ]
    }
   ],
   "source": [
    "# A empty variable\n",
    "\n",
    "vetor3<-c()\n",
    "vetor3\n",
    "class(vetor3)\n",
    "str(vetor3)"
   ]
  },
  {
   "cell_type": "code",
   "execution_count": 18,
   "id": "12c4f45a",
   "metadata": {},
   "outputs": [
    {
     "data": {
      "text/html": [
       "<ol>\n",
       "\t<li><ol class=list-inline>\n",
       "\t<li>'1'</li>\n",
       "\t<li>'2'</li>\n",
       "\t<li>'tres'</li>\n",
       "</ol>\n",
       "</li>\n",
       "\t<li><ol class=list-inline>\n",
       "\t<li>100</li>\n",
       "\t<li>2</li>\n",
       "\t<li>3</li>\n",
       "\t<li>4</li>\n",
       "\t<li>10</li>\n",
       "\t<li>1000</li>\n",
       "\t<li>&lt;NA&gt;</li>\n",
       "\t<li>&lt;NA&gt;</li>\n",
       "\t<li>&lt;NA&gt;</li>\n",
       "\t<li>&lt;NA&gt;</li>\n",
       "\t<li>&lt;NA&gt;</li>\n",
       "\t<li>&lt;NA&gt;</li>\n",
       "\t<li>&lt;NA&gt;</li>\n",
       "\t<li>&lt;NA&gt;</li>\n",
       "\t<li>&lt;NA&gt;</li>\n",
       "\t<li>&lt;NA&gt;</li>\n",
       "\t<li>&lt;NA&gt;</li>\n",
       "\t<li>&lt;NA&gt;</li>\n",
       "\t<li>&lt;NA&gt;</li>\n",
       "\t<li>500</li>\n",
       "</ol>\n",
       "</li>\n",
       "</ol>\n"
      ],
      "text/latex": [
       "\\begin{enumerate}\n",
       "\\item \\begin{enumerate*}\n",
       "\\item '1'\n",
       "\\item '2'\n",
       "\\item 'tres'\n",
       "\\end{enumerate*}\n",
       "\n",
       "\\item \\begin{enumerate*}\n",
       "\\item 100\n",
       "\\item 2\n",
       "\\item 3\n",
       "\\item 4\n",
       "\\item 10\n",
       "\\item 1000\n",
       "\\item <NA>\n",
       "\\item <NA>\n",
       "\\item <NA>\n",
       "\\item <NA>\n",
       "\\item <NA>\n",
       "\\item <NA>\n",
       "\\item <NA>\n",
       "\\item <NA>\n",
       "\\item <NA>\n",
       "\\item <NA>\n",
       "\\item <NA>\n",
       "\\item <NA>\n",
       "\\item <NA>\n",
       "\\item 500\n",
       "\\end{enumerate*}\n",
       "\n",
       "\\end{enumerate}\n"
      ],
      "text/markdown": [
       "1. 1. '1'\n",
       "2. '2'\n",
       "3. 'tres'\n",
       "\n",
       "\n",
       "\n",
       "2. 1. 100\n",
       "2. 2\n",
       "3. 3\n",
       "4. 4\n",
       "5. 10\n",
       "6. 1000\n",
       "7. &lt;NA&gt;\n",
       "8. &lt;NA&gt;\n",
       "9. &lt;NA&gt;\n",
       "10. &lt;NA&gt;\n",
       "11. &lt;NA&gt;\n",
       "12. &lt;NA&gt;\n",
       "13. &lt;NA&gt;\n",
       "14. &lt;NA&gt;\n",
       "15. &lt;NA&gt;\n",
       "16. &lt;NA&gt;\n",
       "17. &lt;NA&gt;\n",
       "18. &lt;NA&gt;\n",
       "19. &lt;NA&gt;\n",
       "20. 500\n",
       "\n",
       "\n",
       "\n",
       "\n",
       "\n"
      ],
      "text/plain": [
       "[[1]]\n",
       "[1] \"1\"    \"2\"    \"tres\"\n",
       "\n",
       "[[2]]\n",
       " [1]  100    2    3    4   10 1000   NA   NA   NA   NA   NA   NA   NA   NA   NA\n",
       "[16]   NA   NA   NA   NA  500\n"
      ]
     },
     "metadata": {},
     "output_type": "display_data"
    }
   ],
   "source": [
    "# Creating a list\n",
    "# A list can contain more than one variable and one variable type in each element \n",
    "\n",
    "lista1<-list(vetor1,vet_num)\n",
    "lista1"
   ]
  },
  {
   "cell_type": "code",
   "execution_count": 19,
   "id": "b7565aa7",
   "metadata": {},
   "outputs": [
    {
     "data": {
      "text/html": [
       "'list'"
      ],
      "text/latex": [
       "'list'"
      ],
      "text/markdown": [
       "'list'"
      ],
      "text/plain": [
       "[1] \"list\""
      ]
     },
     "metadata": {},
     "output_type": "display_data"
    },
    {
     "name": "stdout",
     "output_type": "stream",
     "text": [
      "List of 2\n",
      " $ : chr [1:3] \"1\" \"2\" \"tres\"\n",
      " $ : num [1:20] 100 2 3 4 10 1000 NA NA NA NA ...\n"
     ]
    }
   ],
   "source": [
    "class(lista1)\n",
    "str(lista1)"
   ]
  },
  {
   "cell_type": "code",
   "execution_count": 21,
   "id": "6f54c712",
   "metadata": {},
   "outputs": [
    {
     "data": {
      "text/html": [
       "<ol>\n",
       "\t<li><ol class=list-inline>\n",
       "\t<li>'1'</li>\n",
       "\t<li>'2'</li>\n",
       "\t<li>'tres'</li>\n",
       "</ol>\n",
       "</li>\n",
       "</ol>\n"
      ],
      "text/latex": [
       "\\begin{enumerate}\n",
       "\\item \\begin{enumerate*}\n",
       "\\item '1'\n",
       "\\item '2'\n",
       "\\item 'tres'\n",
       "\\end{enumerate*}\n",
       "\n",
       "\\end{enumerate}\n"
      ],
      "text/markdown": [
       "1. 1. '1'\n",
       "2. '2'\n",
       "3. 'tres'\n",
       "\n",
       "\n",
       "\n",
       "\n",
       "\n"
      ],
      "text/plain": [
       "[[1]]\n",
       "[1] \"1\"    \"2\"    \"tres\"\n"
      ]
     },
     "metadata": {},
     "output_type": "display_data"
    },
    {
     "data": {
      "text/html": [
       "<ol class=list-inline>\n",
       "\t<li>'1'</li>\n",
       "\t<li>'2'</li>\n",
       "\t<li>'tres'</li>\n",
       "</ol>\n"
      ],
      "text/latex": [
       "\\begin{enumerate*}\n",
       "\\item '1'\n",
       "\\item '2'\n",
       "\\item 'tres'\n",
       "\\end{enumerate*}\n"
      ],
      "text/markdown": [
       "1. '1'\n",
       "2. '2'\n",
       "3. 'tres'\n",
       "\n",
       "\n"
      ],
      "text/plain": [
       "[1] \"1\"    \"2\"    \"tres\""
      ]
     },
     "metadata": {},
     "output_type": "display_data"
    },
    {
     "data": {
      "text/html": [
       "'tres'"
      ],
      "text/latex": [
       "'tres'"
      ],
      "text/markdown": [
       "'tres'"
      ],
      "text/plain": [
       "[1] \"tres\""
      ]
     },
     "metadata": {},
     "output_type": "display_data"
    }
   ],
   "source": [
    "# Displaying the elements of a list\n",
    "\n",
    "lista1[1] #Displays the line\n",
    "lista1[[1]] #Displays the variable of the line\n",
    "lista1[[1]][3] #Display one element of the line"
   ]
  },
  {
   "cell_type": "code",
   "execution_count": 23,
   "id": "95eaf990",
   "metadata": {},
   "outputs": [
    {
     "data": {
      "text/html": [
       "<ol class=list-inline>\n",
       "\t<li>'1'</li>\n",
       "\t<li>'2'</li>\n",
       "\t<li>'tres'</li>\n",
       "\t<li>'Dez'</li>\n",
       "</ol>\n"
      ],
      "text/latex": [
       "\\begin{enumerate*}\n",
       "\\item '1'\n",
       "\\item '2'\n",
       "\\item 'tres'\n",
       "\\item 'Dez'\n",
       "\\end{enumerate*}\n"
      ],
      "text/markdown": [
       "1. '1'\n",
       "2. '2'\n",
       "3. 'tres'\n",
       "4. 'Dez'\n",
       "\n",
       "\n"
      ],
      "text/plain": [
       "[1] \"1\"    \"2\"    \"tres\" \"Dez\" "
      ]
     },
     "metadata": {},
     "output_type": "display_data"
    }
   ],
   "source": [
    "# Adding a new element to the list\n",
    "\n",
    "lista1[[1]][4]<-\"Dez\"\n",
    "lista1[[1]]"
   ]
  }
 ],
 "metadata": {
  "kernelspec": {
   "display_name": "R",
   "language": "R",
   "name": "ir"
  },
  "language_info": {
   "codemirror_mode": "r",
   "file_extension": ".r",
   "mimetype": "text/x-r-source",
   "name": "R",
   "pygments_lexer": "r",
   "version": "3.6.1"
  }
 },
 "nbformat": 4,
 "nbformat_minor": 5
}
